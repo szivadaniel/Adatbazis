{
    "metadata": {
        "kernelspec": {
            "name": "SQL",
            "display_name": "SQL",
            "language": "sql"
        },
        "language_info": {
            "name": "sql",
            "version": ""
        }
    },
    "nbformat_minor": 2,
    "nbformat": 4,
    "cells": [
        {
            "cell_type": "markdown",
            "source": [
                "1. <span style=\"background-color: rgb(255, 255, 255); color: rgb(0, 0, 0); font-family: &quot;Open Sans&quot;, sans-serif; font-size: 14.44px;\">Készítsünk sorszámozott listát a szálláshelyek adatairól!&nbsp;</span> \n",
                "\n",
                "a. A lista legyen a szálláshely típusa szerint, azon belül hely szerint, majd a neve szerint növekvően rendezve! \n",
                "\n",
                "b. A számozás típusonként kezdődjön újra!"
            ],
            "metadata": {
                "azdata_cell_guid": "363cd270-6577-449b-9c89-d4b7c7972d52"
            },
            "attachments": {}
        },
        {
            "cell_type": "code",
            "source": [
                ""
            ],
            "metadata": {
                "azdata_cell_guid": "6ab9f633-a3b5-48c9-a1dc-4fb8235ae85b",
                "language": "sql"
            },
            "outputs": [],
            "execution_count": null
        },
        {
            "cell_type": "markdown",
            "source": [
                "2. <span style=\"background-color: rgb(255, 255, 255); color: rgb(0, 0, 0); font-family: &quot;Open Sans&quot;, sans-serif; font-size: 14.44px;\">Készítsünk lekérdezést, amely a foglalások adatait jeleníti meg!&nbsp;</span> \n",
                "\n",
                "a. A lista tartalmazzon két új oszlopot, amelyek az adott ügyfél legrövidebb, illetve leghosszabb foglalásának hosszát (a foglalt napok számát) mutatják meg! \n",
                "\n",
                "b. Az oszlopokat nevezzük el értelemszerűen!"
            ],
            "metadata": {
                "azdata_cell_guid": "ea75c103-911f-41a3-a32c-3d40fb3e4e4a"
            },
            "attachments": {}
        },
        {
            "cell_type": "code",
            "source": [
                ""
            ],
            "metadata": {
                "azdata_cell_guid": "222b9618-a8e8-42b4-a8e8-d002257122b7",
                "language": "sql"
            },
            "outputs": [],
            "execution_count": null
        },
        {
            "cell_type": "markdown",
            "source": [
                "```\n",
                "3. Készítsük listát, amely megjeleníti az ügyfelek azonosítóját, nevét és a foglalásainak kezdő- és befejező dátumát, valamint azt, hogy a foglalás összesen hány főre történt! \n",
                "```\n",
                "\n",
                "a. Egy új oszlopban jelenítsük meg azt is, hogy az ügyfél előző három foglalása összesen hány főre történt!\n",
                "\n",
                "![](https://moodle.uni-corvinus.hu/theme/image.php/adaptable/atto_h5p/1709548862/icon)"
            ],
            "metadata": {
                "azdata_cell_guid": "d7876bb9-76d0-4d07-baed-3cb17b2f96c3"
            },
            "attachments": {}
        },
        {
            "cell_type": "code",
            "source": [
                "SELECT v.USERNEV,\r\n",
                "       v.nev,\r\n",
                "       f.mettol,\r\n",
                "       f.meddig,\r\n",
                "       f.FELNOTT_SZAM + f.GYERMEK_SZAM As 'Fő',\r\n",
                "       SUM(f.FELNOTT_SZAM + f.GYERMEK_SZAM) OVER(\r\n",
                "             PARTITION BY f.UGYFEL_FK\r\n",
                "             ORDER BY f.foglalas_pk\r\n",
                "             ROWS BETWEEN 3 PRECEDING AND 1 PRECEDING\r\n",
                "       )\r\n",
                "FROM Foglalas f JOIN Vendeg v ON f.UGYFEL_FK = v.USERNEV\r\n",
                ""
            ],
            "metadata": {
                "azdata_cell_guid": "56ec19ce-e249-4551-b2a8-f17569765acc",
                "language": "sql"
            },
            "outputs": [
                {
                    "output_type": "display_data",
                    "data": {
                        "text/html": "(1027 rows affected)"
                    },
                    "metadata": {}
                },
                {
                    "output_type": "display_data",
                    "data": {
                        "text/html": "Total execution time: 00:00:00.046"
                    },
                    "metadata": {}
                },
                {
                    "output_type": "execute_result",
                    "metadata": {},
                    "execution_count": 4,
                    "data": {
                        "application/vnd.dataresource+json": {
                            "schema": {
                                "fields": [
                                    {
                                        "name": "USERNEV"
                                    },
                                    {
                                        "name": "nev"
                                    },
                                    {
                                        "name": "mettol"
                                    },
                                    {
                                        "name": "meddig"
                                    },
                                    {
                                        "name": "Fő"
                                    },
                                    {
                                        "name": "(No column name)"
                                    }
                                ]
                            },
                            "data": [
                                {
                                    "USERNEV": "adam1",
                                    "nev": "Kiss Ádám",
                                    "mettol": "2016-08-20",
                                    "meddig": "2016-08-24",
                                    "Fő": "1",
                                    "(No column name)": "NULL"
                                },
                                {
                                    "USERNEV": "adam1",
                                    "nev": "Kiss Ádám",
                                    "mettol": "2016-05-28",
                                    "meddig": "2016-06-03",
                                    "Fő": "3",
                                    "(No column name)": "1"
                                },
                                {
                                    "USERNEV": "adam1",
                                    "nev": "Kiss Ádám",
                                    "mettol": "2016-10-19",
                                    "meddig": "2016-10-24",
                                    "Fő": "2",
                                    "(No column name)": "4"
                                },
                                {
                                    "USERNEV": "adam3",
                                    "nev": "Barkóci Ádám",
                                    "mettol": "2016-09-12",
                                    "meddig": "2016-09-16",
                                    "Fő": "2",
                                    "(No column name)": "NULL"
                                },
                                {
                                    "USERNEV": "adam3",
                                    "nev": "Barkóci Ádám",
                                    "mettol": "2017-02-06",
                                    "meddig": "2017-02-10",
                                    "Fő": "1",
                                    "(No column name)": "2"
                                },
                                {
                                    "USERNEV": "adam4",
                                    "nev": "Bieniek Ádám",
                                    "mettol": "2016-08-28",
                                    "meddig": "2016-08-30",
                                    "Fő": "3",
                                    "(No column name)": "NULL"
                                },
                                {
                                    "USERNEV": "adam4",
                                    "nev": "Bieniek Ádám",
                                    "mettol": "2016-10-27",
                                    "meddig": "2016-11-02",
                                    "Fő": "3",
                                    "(No column name)": "3"
                                },
                                {
                                    "USERNEV": "adam4",
                                    "nev": "Bieniek Ádám",
                                    "mettol": "2016-11-15",
                                    "meddig": "2016-11-18",
                                    "Fő": "2",
                                    "(No column name)": "6"
                                },
                                {
                                    "USERNEV": "adam4",
                                    "nev": "Bieniek Ádám",
                                    "mettol": "2016-12-06",
                                    "meddig": "2016-12-09",
                                    "Fő": "3",
                                    "(No column name)": "8"
                                },
                                {
                                    "USERNEV": "adam4",
                                    "nev": "Bieniek Ádám",
                                    "mettol": "2017-01-12",
                                    "meddig": "2017-01-19",
                                    "Fő": "2",
                                    "(No column name)": "8"
                                },
                                {
                                    "USERNEV": "adam4",
                                    "nev": "Bieniek Ádám",
                                    "mettol": "2017-02-23",
                                    "meddig": "2017-02-27",
                                    "Fő": "3",
                                    "(No column name)": "7"
                                },
                                {
                                    "USERNEV": "agnes",
                                    "nev": "Lengyel Ágnes",
                                    "mettol": "2016-05-09",
                                    "meddig": "2016-05-11",
                                    "Fő": "3",
                                    "(No column name)": "NULL"
                                },
                                {
                                    "USERNEV": "agnes",
                                    "nev": "Lengyel Ágnes",
                                    "mettol": "2016-07-13",
                                    "meddig": "2016-07-19",
                                    "Fő": "3",
                                    "(No column name)": "3"
                                },
                                {
                                    "USERNEV": "agnes",
                                    "nev": "Lengyel Ágnes",
                                    "mettol": "2016-07-30",
                                    "meddig": "2016-08-06",
                                    "Fő": "3",
                                    "(No column name)": "6"
                                },
                                {
                                    "USERNEV": "agnes",
                                    "nev": "Lengyel Ágnes",
                                    "mettol": "2016-05-25",
                                    "meddig": "2016-05-30",
                                    "Fő": "1",
                                    "(No column name)": "9"
                                },
                                {
                                    "USERNEV": "agnes",
                                    "nev": "Lengyel Ágnes",
                                    "mettol": "2016-11-07",
                                    "meddig": "2016-11-13",
                                    "Fő": "2",
                                    "(No column name)": "7"
                                },
                                {
                                    "USERNEV": "agnes3",
                                    "nev": "Hartyánszky Ágnes",
                                    "mettol": "2016-08-04",
                                    "meddig": "2016-08-10",
                                    "Fő": "1",
                                    "(No column name)": "NULL"
                                },
                                {
                                    "USERNEV": "agnes3",
                                    "nev": "Hartyánszky Ágnes",
                                    "mettol": "2016-10-22",
                                    "meddig": "2016-10-23",
                                    "Fő": "3",
                                    "(No column name)": "1"
                                },
                                {
                                    "USERNEV": "agnes3",
                                    "nev": "Hartyánszky Ágnes",
                                    "mettol": "2017-02-16",
                                    "meddig": "2017-02-21",
                                    "Fő": "3",
                                    "(No column name)": "4"
                                },
                                {
                                    "USERNEV": "AGNESH",
                                    "nev": "Horváth Ágnes",
                                    "mettol": "2016-04-10",
                                    "meddig": "2016-04-12",
                                    "Fő": "2",
                                    "(No column name)": "NULL"
                                },
                                {
                                    "USERNEV": "AGNESH",
                                    "nev": "Horváth Ágnes",
                                    "mettol": "2016-04-27",
                                    "meddig": "2016-04-28",
                                    "Fő": "4",
                                    "(No column name)": "2"
                                },
                                {
                                    "USERNEV": "AGNESH",
                                    "nev": "Horváth Ágnes",
                                    "mettol": "2016-06-23",
                                    "meddig": "2016-06-26",
                                    "Fő": "1",
                                    "(No column name)": "6"
                                },
                                {
                                    "USERNEV": "AGNESH",
                                    "nev": "Horváth Ágnes",
                                    "mettol": "2016-10-30",
                                    "meddig": "2016-11-04",
                                    "Fő": "1",
                                    "(No column name)": "7"
                                },
                                {
                                    "USERNEV": "AGNESH",
                                    "nev": "Horváth Ágnes",
                                    "mettol": "2017-01-03",
                                    "meddig": "2017-01-10",
                                    "Fő": "2",
                                    "(No column name)": "6"
                                },
                                {
                                    "USERNEV": "AGNESH",
                                    "nev": "Horváth Ágnes",
                                    "mettol": "2017-01-16",
                                    "meddig": "2017-01-23",
                                    "Fő": "3",
                                    "(No column name)": "4"
                                },
                                {
                                    "USERNEV": "AGNESK",
                                    "nev": "Kovács Ágnes",
                                    "mettol": "2016-07-29",
                                    "meddig": "2016-08-01",
                                    "Fő": "3",
                                    "(No column name)": "NULL"
                                },
                                {
                                    "USERNEV": "AGNESK",
                                    "nev": "Kovács Ágnes",
                                    "mettol": "2016-10-17",
                                    "meddig": "2016-10-19",
                                    "Fő": "2",
                                    "(No column name)": "3"
                                },
                                {
                                    "USERNEV": "AGNESK",
                                    "nev": "Kovács Ágnes",
                                    "mettol": "2016-12-17",
                                    "meddig": "2016-12-18",
                                    "Fő": "2",
                                    "(No column name)": "5"
                                },
                                {
                                    "USERNEV": "akos",
                                    "nev": "Bíró Ákos",
                                    "mettol": "2016-05-18",
                                    "meddig": "2016-05-19",
                                    "Fő": "2",
                                    "(No column name)": "NULL"
                                },
                                {
                                    "USERNEV": "akos",
                                    "nev": "Bíró Ákos",
                                    "mettol": "2016-07-14",
                                    "meddig": "2016-07-19",
                                    "Fő": "2",
                                    "(No column name)": "2"
                                },
                                {
                                    "USERNEV": "akos",
                                    "nev": "Bíró Ákos",
                                    "mettol": "2016-07-16",
                                    "meddig": "2016-07-18",
                                    "Fő": "2",
                                    "(No column name)": "4"
                                },
                                {
                                    "USERNEV": "akos",
                                    "nev": "Bíró Ákos",
                                    "mettol": "2016-07-22",
                                    "meddig": "2016-07-26",
                                    "Fő": "1",
                                    "(No column name)": "6"
                                },
                                {
                                    "USERNEV": "akos",
                                    "nev": "Bíró Ákos",
                                    "mettol": "2016-09-06",
                                    "meddig": "2016-09-12",
                                    "Fő": "1",
                                    "(No column name)": "5"
                                },
                                {
                                    "USERNEV": "akos",
                                    "nev": "Bíró Ákos",
                                    "mettol": "2016-10-05",
                                    "meddig": "2016-10-09",
                                    "Fő": "2",
                                    "(No column name)": "4"
                                },
                                {
                                    "USERNEV": "akos",
                                    "nev": "Bíró Ákos",
                                    "mettol": "2016-10-18",
                                    "meddig": "2016-10-23",
                                    "Fő": "2",
                                    "(No column name)": "4"
                                },
                                {
                                    "USERNEV": "akos",
                                    "nev": "Bíró Ákos",
                                    "mettol": "2016-11-21",
                                    "meddig": "2016-11-27",
                                    "Fő": "2",
                                    "(No column name)": "5"
                                },
                                {
                                    "USERNEV": "akos",
                                    "nev": "Bíró Ákos",
                                    "mettol": "2016-12-15",
                                    "meddig": "2016-12-21",
                                    "Fő": "2",
                                    "(No column name)": "6"
                                },
                                {
                                    "USERNEV": "akos",
                                    "nev": "Bíró Ákos",
                                    "mettol": "2016-12-29",
                                    "meddig": "2016-12-30",
                                    "Fő": "3",
                                    "(No column name)": "6"
                                },
                                {
                                    "USERNEV": "aladar",
                                    "nev": "Dunai Aladár",
                                    "mettol": "2016-05-17",
                                    "meddig": "2016-05-24",
                                    "Fő": "1",
                                    "(No column name)": "NULL"
                                },
                                {
                                    "USERNEV": "aladar",
                                    "nev": "Dunai Aladár",
                                    "mettol": "2016-09-24",
                                    "meddig": "2016-09-28",
                                    "Fő": "1",
                                    "(No column name)": "1"
                                },
                                {
                                    "USERNEV": "aladar",
                                    "nev": "Dunai Aladár",
                                    "mettol": "2016-11-22",
                                    "meddig": "2016-11-23",
                                    "Fő": "2",
                                    "(No column name)": "2"
                                },
                                {
                                    "USERNEV": "alexandra",
                                    "nev": "Bagóczki Alexandra",
                                    "mettol": "2016-05-21",
                                    "meddig": "2016-05-27",
                                    "Fő": "3",
                                    "(No column name)": "NULL"
                                },
                                {
                                    "USERNEV": "alexandra",
                                    "nev": "Bagóczki Alexandra",
                                    "mettol": "2016-07-27",
                                    "meddig": "2016-07-30",
                                    "Fő": "2",
                                    "(No column name)": "3"
                                },
                                {
                                    "USERNEV": "alexandra",
                                    "nev": "Bagóczki Alexandra",
                                    "mettol": "2016-06-08",
                                    "meddig": "2016-06-11",
                                    "Fő": "3",
                                    "(No column name)": "5"
                                },
                                {
                                    "USERNEV": "alexandra",
                                    "nev": "Bagóczki Alexandra",
                                    "mettol": "2016-10-21",
                                    "meddig": "2016-10-25",
                                    "Fő": "2",
                                    "(No column name)": "8"
                                },
                                {
                                    "USERNEV": "alexandra",
                                    "nev": "Bagóczki Alexandra",
                                    "mettol": "2016-11-29",
                                    "meddig": "2016-12-05",
                                    "Fő": "2",
                                    "(No column name)": "7"
                                },
                                {
                                    "USERNEV": "alexandra",
                                    "nev": "Bagóczki Alexandra",
                                    "mettol": "2017-01-13",
                                    "meddig": "2017-01-14",
                                    "Fő": "1",
                                    "(No column name)": "7"
                                },
                                {
                                    "USERNEV": "alexandra",
                                    "nev": "Bagóczki Alexandra",
                                    "mettol": "2017-01-19",
                                    "meddig": "2017-01-26",
                                    "Fő": "2",
                                    "(No column name)": "5"
                                },
                                {
                                    "USERNEV": "andi",
                                    "nev": "Maródi Andrea",
                                    "mettol": "2016-05-08",
                                    "meddig": "2016-05-14",
                                    "Fő": "4",
                                    "(No column name)": "NULL"
                                },
                                {
                                    "USERNEV": "andi",
                                    "nev": "Maródi Andrea",
                                    "mettol": "2016-06-13",
                                    "meddig": "2016-06-14",
                                    "Fő": "1",
                                    "(No column name)": "4"
                                },
                                {
                                    "USERNEV": "andi",
                                    "nev": "Maródi Andrea",
                                    "mettol": "2016-09-13",
                                    "meddig": "2016-09-16",
                                    "Fő": "2",
                                    "(No column name)": "5"
                                },
                                {
                                    "USERNEV": "andi",
                                    "nev": "Maródi Andrea",
                                    "mettol": "2016-11-16",
                                    "meddig": "2016-11-17",
                                    "Fő": "3",
                                    "(No column name)": "7"
                                },
                                {
                                    "USERNEV": "andi",
                                    "nev": "Maródi Andrea",
                                    "mettol": "2017-01-13",
                                    "meddig": "2017-01-17",
                                    "Fő": "3",
                                    "(No column name)": "6"
                                },
                                {
                                    "USERNEV": "andras2",
                                    "nev": "Tóth András",
                                    "mettol": "2016-07-20",
                                    "meddig": "2016-07-22",
                                    "Fő": "2",
                                    "(No column name)": "NULL"
                                },
                                {
                                    "USERNEV": "andras2",
                                    "nev": "Tóth András",
                                    "mettol": "2016-05-30",
                                    "meddig": "2016-06-04",
                                    "Fő": "1",
                                    "(No column name)": "2"
                                },
                                {
                                    "USERNEV": "andras2",
                                    "nev": "Tóth András",
                                    "mettol": "2016-09-30",
                                    "meddig": "2016-10-03",
                                    "Fő": "2",
                                    "(No column name)": "3"
                                },
                                {
                                    "USERNEV": "andras2",
                                    "nev": "Tóth András",
                                    "mettol": "2016-10-07",
                                    "meddig": "2016-10-10",
                                    "Fő": "3",
                                    "(No column name)": "5"
                                },
                                {
                                    "USERNEV": "andras2",
                                    "nev": "Tóth András",
                                    "mettol": "2017-02-08",
                                    "meddig": "2017-02-10",
                                    "Fő": "4",
                                    "(No column name)": "6"
                                },
                                {
                                    "USERNEV": "andras21",
                                    "nev": "Molnár András",
                                    "mettol": "2016-07-20",
                                    "meddig": "2016-07-22",
                                    "Fő": "1",
                                    "(No column name)": "NULL"
                                },
                                {
                                    "USERNEV": "andras21",
                                    "nev": "Molnár András",
                                    "mettol": "2016-06-21",
                                    "meddig": "2016-06-26",
                                    "Fő": "2",
                                    "(No column name)": "1"
                                },
                                {
                                    "USERNEV": "andras21",
                                    "nev": "Molnár András",
                                    "mettol": "2016-07-04",
                                    "meddig": "2016-07-05",
                                    "Fő": "3",
                                    "(No column name)": "3"
                                },
                                {
                                    "USERNEV": "andras21",
                                    "nev": "Molnár András",
                                    "mettol": "2016-10-01",
                                    "meddig": "2016-10-06",
                                    "Fő": "3",
                                    "(No column name)": "6"
                                },
                                {
                                    "USERNEV": "andras21",
                                    "nev": "Molnár András",
                                    "mettol": "2016-10-04",
                                    "meddig": "2016-10-11",
                                    "Fő": "3",
                                    "(No column name)": "8"
                                },
                                {
                                    "USERNEV": "andras21",
                                    "nev": "Molnár András",
                                    "mettol": "2016-11-23",
                                    "meddig": "2016-11-24",
                                    "Fő": "4",
                                    "(No column name)": "9"
                                },
                                {
                                    "USERNEV": "andras21",
                                    "nev": "Molnár András",
                                    "mettol": "2017-01-28",
                                    "meddig": "2017-02-01",
                                    "Fő": "2",
                                    "(No column name)": "10"
                                },
                                {
                                    "USERNEV": "andras3",
                                    "nev": "Vígh András",
                                    "mettol": "2016-05-01",
                                    "meddig": "2016-05-06",
                                    "Fő": "2",
                                    "(No column name)": "NULL"
                                },
                                {
                                    "USERNEV": "andras3",
                                    "nev": "Vígh András",
                                    "mettol": "2016-07-15",
                                    "meddig": "2016-07-19",
                                    "Fő": "3",
                                    "(No column name)": "2"
                                },
                                {
                                    "USERNEV": "andras3",
                                    "nev": "Vígh András",
                                    "mettol": "2016-07-21",
                                    "meddig": "2016-07-23",
                                    "Fő": "2",
                                    "(No column name)": "5"
                                },
                                {
                                    "USERNEV": "andras3",
                                    "nev": "Vígh András",
                                    "mettol": "2016-08-29",
                                    "meddig": "2016-09-02",
                                    "Fő": "3",
                                    "(No column name)": "7"
                                },
                                {
                                    "USERNEV": "andras3",
                                    "nev": "Vígh András",
                                    "mettol": "2016-05-30",
                                    "meddig": "2016-06-03",
                                    "Fő": "1",
                                    "(No column name)": "8"
                                },
                                {
                                    "USERNEV": "andras3",
                                    "nev": "Vígh András",
                                    "mettol": "2016-06-10",
                                    "meddig": "2016-06-11",
                                    "Fő": "1",
                                    "(No column name)": "6"
                                },
                                {
                                    "USERNEV": "andras3",
                                    "nev": "Vígh András",
                                    "mettol": "2016-11-28",
                                    "meddig": "2016-12-02",
                                    "Fő": "2",
                                    "(No column name)": "5"
                                },
                                {
                                    "USERNEV": "andras3",
                                    "nev": "Vígh András",
                                    "mettol": "2017-02-02",
                                    "meddig": "2017-02-08",
                                    "Fő": "2",
                                    "(No column name)": "4"
                                },
                                {
                                    "USERNEV": "andras4",
                                    "nev": "Back András",
                                    "mettol": "2016-09-17",
                                    "meddig": "2016-09-20",
                                    "Fő": "2",
                                    "(No column name)": "NULL"
                                },
                                {
                                    "USERNEV": "andras4",
                                    "nev": "Back András",
                                    "mettol": "2016-11-25",
                                    "meddig": "2016-11-28",
                                    "Fő": "2",
                                    "(No column name)": "2"
                                },
                                {
                                    "USERNEV": "andras4",
                                    "nev": "Back András",
                                    "mettol": "2017-01-09",
                                    "meddig": "2017-01-10",
                                    "Fő": "2",
                                    "(No column name)": "4"
                                },
                                {
                                    "USERNEV": "andras41",
                                    "nev": "Komjáti András",
                                    "mettol": "2016-05-14",
                                    "meddig": "2016-05-16",
                                    "Fő": "2",
                                    "(No column name)": "NULL"
                                },
                                {
                                    "USERNEV": "andras41",
                                    "nev": "Komjáti András",
                                    "mettol": "2016-05-21",
                                    "meddig": "2016-05-23",
                                    "Fő": "4",
                                    "(No column name)": "2"
                                },
                                {
                                    "USERNEV": "andras41",
                                    "nev": "Komjáti András",
                                    "mettol": "2016-07-28",
                                    "meddig": "2016-08-03",
                                    "Fő": "3",
                                    "(No column name)": "6"
                                },
                                {
                                    "USERNEV": "andras41",
                                    "nev": "Komjáti András",
                                    "mettol": "2016-08-17",
                                    "meddig": "2016-08-21",
                                    "Fő": "3",
                                    "(No column name)": "9"
                                },
                                {
                                    "USERNEV": "andras41",
                                    "nev": "Komjáti András",
                                    "mettol": "2016-08-19",
                                    "meddig": "2016-08-23",
                                    "Fő": "1",
                                    "(No column name)": "10"
                                },
                                {
                                    "USERNEV": "andras41",
                                    "nev": "Komjáti András",
                                    "mettol": "2016-06-07",
                                    "meddig": "2016-06-11",
                                    "Fő": "3",
                                    "(No column name)": "7"
                                },
                                {
                                    "USERNEV": "andras41",
                                    "nev": "Komjáti András",
                                    "mettol": "2016-06-23",
                                    "meddig": "2016-06-29",
                                    "Fő": "2",
                                    "(No column name)": "7"
                                },
                                {
                                    "USERNEV": "andras41",
                                    "nev": "Komjáti András",
                                    "mettol": "2016-09-22",
                                    "meddig": "2016-09-29",
                                    "Fő": "1",
                                    "(No column name)": "6"
                                },
                                {
                                    "USERNEV": "andras41",
                                    "nev": "Komjáti András",
                                    "mettol": "2016-09-30",
                                    "meddig": "2016-10-05",
                                    "Fő": "2",
                                    "(No column name)": "6"
                                },
                                {
                                    "USERNEV": "andras41",
                                    "nev": "Komjáti András",
                                    "mettol": "2016-10-09",
                                    "meddig": "2016-10-13",
                                    "Fő": "2",
                                    "(No column name)": "5"
                                },
                                {
                                    "USERNEV": "andras41",
                                    "nev": "Komjáti András",
                                    "mettol": "2016-10-15",
                                    "meddig": "2016-10-18",
                                    "Fő": "3",
                                    "(No column name)": "5"
                                },
                                {
                                    "USERNEV": "andras41",
                                    "nev": "Komjáti András",
                                    "mettol": "2016-11-20",
                                    "meddig": "2016-11-24",
                                    "Fő": "3",
                                    "(No column name)": "7"
                                },
                                {
                                    "USERNEV": "andras41",
                                    "nev": "Komjáti András",
                                    "mettol": "2016-11-23",
                                    "meddig": "2016-11-24",
                                    "Fő": "1",
                                    "(No column name)": "8"
                                },
                                {
                                    "USERNEV": "ANDRASE",
                                    "nev": "Erdei András",
                                    "mettol": "2016-04-24",
                                    "meddig": "2016-05-01",
                                    "Fő": "1",
                                    "(No column name)": "NULL"
                                },
                                {
                                    "USERNEV": "ANDRASE",
                                    "nev": "Erdei András",
                                    "mettol": "2016-08-16",
                                    "meddig": "2016-08-20",
                                    "Fő": "2",
                                    "(No column name)": "1"
                                },
                                {
                                    "USERNEV": "ANDRASE",
                                    "nev": "Erdei András",
                                    "mettol": "2016-07-06",
                                    "meddig": "2016-07-07",
                                    "Fő": "2",
                                    "(No column name)": "3"
                                },
                                {
                                    "USERNEV": "ANDRASE",
                                    "nev": "Erdei András",
                                    "mettol": "2016-11-19",
                                    "meddig": "2016-11-20",
                                    "Fő": "4",
                                    "(No column name)": "5"
                                },
                                {
                                    "USERNEV": "ANDRASE",
                                    "nev": "Erdei András",
                                    "mettol": "2016-11-29",
                                    "meddig": "2016-12-06",
                                    "Fő": "3",
                                    "(No column name)": "8"
                                },
                                {
                                    "USERNEV": "ANDRASN",
                                    "nev": "Nagy András",
                                    "mettol": "2016-11-25",
                                    "meddig": "2016-12-01",
                                    "Fő": "2",
                                    "(No column name)": "NULL"
                                },
                                {
                                    "USERNEV": "andrea",
                                    "nev": "Kiss Andrea",
                                    "mettol": "2016-07-27",
                                    "meddig": "2016-07-28",
                                    "Fő": "2",
                                    "(No column name)": "NULL"
                                },
                                {
                                    "USERNEV": "andrea",
                                    "nev": "Kiss Andrea",
                                    "mettol": "2016-08-01",
                                    "meddig": "2016-08-02",
                                    "Fő": "2",
                                    "(No column name)": "2"
                                },
                                {
                                    "USERNEV": "andrea",
                                    "nev": "Kiss Andrea",
                                    "mettol": "2016-08-23",
                                    "meddig": "2016-08-26",
                                    "Fő": "3",
                                    "(No column name)": "4"
                                },
                                {
                                    "USERNEV": "andrea",
                                    "nev": "Kiss Andrea",
                                    "mettol": "2016-08-26",
                                    "meddig": "2016-08-30",
                                    "Fő": "2",
                                    "(No column name)": "7"
                                },
                                {
                                    "USERNEV": "andrea",
                                    "nev": "Kiss Andrea",
                                    "mettol": "2016-10-21",
                                    "meddig": "2016-10-27",
                                    "Fő": "4",
                                    "(No column name)": "7"
                                },
                                {
                                    "USERNEV": "andrea",
                                    "nev": "Kiss Andrea",
                                    "mettol": "2017-02-09",
                                    "meddig": "2017-02-14",
                                    "Fő": "2",
                                    "(No column name)": "9"
                                },
                                {
                                    "USERNEV": "andrea3",
                                    "nev": "Szomor Andrea",
                                    "mettol": "2016-11-19",
                                    "meddig": "2016-11-21",
                                    "Fő": "3",
                                    "(No column name)": "NULL"
                                },
                                {
                                    "USERNEV": "andrea4",
                                    "nev": "Neizer Andrea",
                                    "mettol": "2016-05-27",
                                    "meddig": "2016-05-29",
                                    "Fő": "1",
                                    "(No column name)": "NULL"
                                },
                                {
                                    "USERNEV": "andrea4",
                                    "nev": "Neizer Andrea",
                                    "mettol": "2016-09-13",
                                    "meddig": "2016-09-17",
                                    "Fő": "2",
                                    "(No column name)": "1"
                                },
                                {
                                    "USERNEV": "andrea4",
                                    "nev": "Neizer Andrea",
                                    "mettol": "2016-10-30",
                                    "meddig": "2016-11-06",
                                    "Fő": "3",
                                    "(No column name)": "3"
                                },
                                {
                                    "USERNEV": "andrea4",
                                    "nev": "Neizer Andrea",
                                    "mettol": "2017-01-22",
                                    "meddig": "2017-01-29",
                                    "Fő": "2",
                                    "(No column name)": "6"
                                },
                                {
                                    "USERNEV": "ANDREAT",
                                    "nev": "Tornyos Andrea",
                                    "mettol": "2016-07-27",
                                    "meddig": "2016-08-01",
                                    "Fő": "2",
                                    "(No column name)": "NULL"
                                },
                                {
                                    "USERNEV": "ANDREAT",
                                    "nev": "Tornyos Andrea",
                                    "mettol": "2016-09-15",
                                    "meddig": "2016-09-16",
                                    "Fő": "2",
                                    "(No column name)": "2"
                                },
                                {
                                    "USERNEV": "ANDREAT",
                                    "nev": "Tornyos Andrea",
                                    "mettol": "2016-10-08",
                                    "meddig": "2016-10-12",
                                    "Fő": "3",
                                    "(No column name)": "4"
                                },
                                {
                                    "USERNEV": "anett3",
                                    "nev": "Pivarcsi Anett",
                                    "mettol": "2016-04-10",
                                    "meddig": "2016-04-17",
                                    "Fő": "1",
                                    "(No column name)": "NULL"
                                },
                                {
                                    "USERNEV": "anett3",
                                    "nev": "Pivarcsi Anett",
                                    "mettol": "2016-04-13",
                                    "meddig": "2016-04-19",
                                    "Fő": "3",
                                    "(No column name)": "1"
                                },
                                {
                                    "USERNEV": "anett3",
                                    "nev": "Pivarcsi Anett",
                                    "mettol": "2016-04-15",
                                    "meddig": "2016-04-19",
                                    "Fő": "3",
                                    "(No column name)": "4"
                                },
                                {
                                    "USERNEV": "anett3",
                                    "nev": "Pivarcsi Anett",
                                    "mettol": "2016-04-28",
                                    "meddig": "2016-05-02",
                                    "Fő": "3",
                                    "(No column name)": "7"
                                },
                                {
                                    "USERNEV": "anett3",
                                    "nev": "Pivarcsi Anett",
                                    "mettol": "2016-08-15",
                                    "meddig": "2016-08-16",
                                    "Fő": "2",
                                    "(No column name)": "9"
                                },
                                {
                                    "USERNEV": "anett3",
                                    "nev": "Pivarcsi Anett",
                                    "mettol": "2016-08-17",
                                    "meddig": "2016-08-23",
                                    "Fő": "3",
                                    "(No column name)": "8"
                                },
                                {
                                    "USERNEV": "anett3",
                                    "nev": "Pivarcsi Anett",
                                    "mettol": "2016-10-12",
                                    "meddig": "2016-10-19",
                                    "Fő": "3",
                                    "(No column name)": "8"
                                },
                                {
                                    "USERNEV": "anett3",
                                    "nev": "Pivarcsi Anett",
                                    "mettol": "2016-10-16",
                                    "meddig": "2016-10-21",
                                    "Fő": "1",
                                    "(No column name)": "8"
                                },
                                {
                                    "USERNEV": "aniko",
                                    "nev": "Tóth Anikó",
                                    "mettol": "2016-06-25",
                                    "meddig": "2016-06-30",
                                    "Fő": "3",
                                    "(No column name)": "NULL"
                                },
                                {
                                    "USERNEV": "aniko",
                                    "nev": "Tóth Anikó",
                                    "mettol": "2017-02-12",
                                    "meddig": "2017-02-14",
                                    "Fő": "3",
                                    "(No column name)": "3"
                                },
                                {
                                    "USERNEV": "aniko",
                                    "nev": "Tóth Anikó",
                                    "mettol": "2017-02-23",
                                    "meddig": "2017-02-24",
                                    "Fő": "2",
                                    "(No column name)": "6"
                                },
                                {
                                    "USERNEV": "aniko4",
                                    "nev": "Böröcz Anikó",
                                    "mettol": "2016-07-22",
                                    "meddig": "2016-07-25",
                                    "Fő": "3",
                                    "(No column name)": "NULL"
                                },
                                {
                                    "USERNEV": "aniko4",
                                    "nev": "Böröcz Anikó",
                                    "mettol": "2016-07-02",
                                    "meddig": "2016-07-09",
                                    "Fő": "1",
                                    "(No column name)": "3"
                                },
                                {
                                    "USERNEV": "aniko4",
                                    "nev": "Böröcz Anikó",
                                    "mettol": "2016-09-05",
                                    "meddig": "2016-09-07",
                                    "Fő": "4",
                                    "(No column name)": "4"
                                },
                                {
                                    "USERNEV": "aniko4",
                                    "nev": "Böröcz Anikó",
                                    "mettol": "2016-10-16",
                                    "meddig": "2016-10-18",
                                    "Fő": "3",
                                    "(No column name)": "8"
                                },
                                {
                                    "USERNEV": "ANIKOS",
                                    "nev": "Simon Anikó",
                                    "mettol": "2016-04-19",
                                    "meddig": "2016-04-24",
                                    "Fő": "2",
                                    "(No column name)": "NULL"
                                },
                                {
                                    "USERNEV": "ANIKOS",
                                    "nev": "Simon Anikó",
                                    "mettol": "2016-07-17",
                                    "meddig": "2016-07-22",
                                    "Fő": "3",
                                    "(No column name)": "2"
                                },
                                {
                                    "USERNEV": "ANIKOS",
                                    "nev": "Simon Anikó",
                                    "mettol": "2016-08-26",
                                    "meddig": "2016-09-02",
                                    "Fő": "2",
                                    "(No column name)": "5"
                                },
                                {
                                    "USERNEV": "ANIKOS",
                                    "nev": "Simon Anikó",
                                    "mettol": "2016-05-24",
                                    "meddig": "2016-05-25",
                                    "Fő": "3",
                                    "(No column name)": "7"
                                },
                                {
                                    "USERNEV": "ANIKOS",
                                    "nev": "Simon Anikó",
                                    "mettol": "2016-06-16",
                                    "meddig": "2016-06-23",
                                    "Fő": "1",
                                    "(No column name)": "8"
                                },
                                {
                                    "USERNEV": "ANIKOS",
                                    "nev": "Simon Anikó",
                                    "mettol": "2016-06-27",
                                    "meddig": "2016-06-30",
                                    "Fő": "2",
                                    "(No column name)": "6"
                                },
                                {
                                    "USERNEV": "ANIKOS",
                                    "nev": "Simon Anikó",
                                    "mettol": "2016-10-08",
                                    "meddig": "2016-10-14",
                                    "Fő": "2",
                                    "(No column name)": "6"
                                },
                                {
                                    "USERNEV": "ANIKOS",
                                    "nev": "Simon Anikó",
                                    "mettol": "2016-10-29",
                                    "meddig": "2016-11-05",
                                    "Fő": "3",
                                    "(No column name)": "5"
                                },
                                {
                                    "USERNEV": "ANIKOS",
                                    "nev": "Simon Anikó",
                                    "mettol": "2016-11-10",
                                    "meddig": "2016-11-15",
                                    "Fő": "2",
                                    "(No column name)": "7"
                                },
                                {
                                    "USERNEV": "anita",
                                    "nev": "Hamvay-Kovács Anita",
                                    "mettol": "2016-09-28",
                                    "meddig": "2016-10-02",
                                    "Fő": "4",
                                    "(No column name)": "NULL"
                                },
                                {
                                    "USERNEV": "anita",
                                    "nev": "Hamvay-Kovács Anita",
                                    "mettol": "2016-10-01",
                                    "meddig": "2016-10-04",
                                    "Fő": "2",
                                    "(No column name)": "4"
                                },
                                {
                                    "USERNEV": "anita",
                                    "nev": "Hamvay-Kovács Anita",
                                    "mettol": "2017-02-19",
                                    "meddig": "2017-02-22",
                                    "Fő": "2",
                                    "(No column name)": "6"
                                },
                                {
                                    "USERNEV": "anita",
                                    "nev": "Hamvay-Kovács Anita",
                                    "mettol": "2017-02-20",
                                    "meddig": "2017-02-25",
                                    "Fő": "2",
                                    "(No column name)": "8"
                                },
                                {
                                    "USERNEV": "annamaria1",
                                    "nev": "Szűcs Annamária",
                                    "mettol": "2016-06-06",
                                    "meddig": "2016-06-07",
                                    "Fő": "3",
                                    "(No column name)": "NULL"
                                },
                                {
                                    "USERNEV": "annamaria1",
                                    "nev": "Szűcs Annamária",
                                    "mettol": "2017-01-30",
                                    "meddig": "2017-01-31",
                                    "Fő": "4",
                                    "(No column name)": "3"
                                },
                                {
                                    "USERNEV": "ANNAMARIAR",
                                    "nev": "Regős Annamária",
                                    "mettol": "2016-07-18",
                                    "meddig": "2016-07-21",
                                    "Fő": "1",
                                    "(No column name)": "NULL"
                                },
                                {
                                    "USERNEV": "ANNAMARIAR",
                                    "nev": "Regős Annamária",
                                    "mettol": "2016-06-08",
                                    "meddig": "2016-06-11",
                                    "Fő": "2",
                                    "(No column name)": "1"
                                },
                                {
                                    "USERNEV": "ANNAMARIAR",
                                    "nev": "Regős Annamária",
                                    "mettol": "2016-09-23",
                                    "meddig": "2016-09-27",
                                    "Fő": "2",
                                    "(No column name)": "3"
                                },
                                {
                                    "USERNEV": "ANNAMARIAR",
                                    "nev": "Regős Annamária",
                                    "mettol": "2016-11-11",
                                    "meddig": "2016-11-12",
                                    "Fő": "3",
                                    "(No column name)": "5"
                                },
                                {
                                    "USERNEV": "ANNAMARIAR",
                                    "nev": "Regős Annamária",
                                    "mettol": "2017-01-10",
                                    "meddig": "2017-01-13",
                                    "Fő": "2",
                                    "(No column name)": "7"
                                },
                                {
                                    "USERNEV": "ANNAMARIAR",
                                    "nev": "Regős Annamária",
                                    "mettol": "2017-02-16",
                                    "meddig": "2017-02-18",
                                    "Fő": "2",
                                    "(No column name)": "7"
                                },
                                {
                                    "USERNEV": "aron2",
                                    "nev": "Jakab Áron",
                                    "mettol": "2016-04-11",
                                    "meddig": "2016-04-12",
                                    "Fő": "3",
                                    "(No column name)": "NULL"
                                },
                                {
                                    "USERNEV": "aron2",
                                    "nev": "Jakab Áron",
                                    "mettol": "2016-07-04",
                                    "meddig": "2016-07-06",
                                    "Fő": "3",
                                    "(No column name)": "3"
                                },
                                {
                                    "USERNEV": "aron2",
                                    "nev": "Jakab Áron",
                                    "mettol": "2016-10-23",
                                    "meddig": "2016-10-27",
                                    "Fő": "2",
                                    "(No column name)": "6"
                                },
                                {
                                    "USERNEV": "aron2",
                                    "nev": "Jakab Áron",
                                    "mettol": "2016-11-05",
                                    "meddig": "2016-11-09",
                                    "Fő": "2",
                                    "(No column name)": "8"
                                },
                                {
                                    "USERNEV": "aron2",
                                    "nev": "Jakab Áron",
                                    "mettol": "2017-01-17",
                                    "meddig": "2017-01-18",
                                    "Fő": "3",
                                    "(No column name)": "7"
                                },
                                {
                                    "USERNEV": "aron2",
                                    "nev": "Jakab Áron",
                                    "mettol": "2017-02-26",
                                    "meddig": "2017-02-27",
                                    "Fő": "3",
                                    "(No column name)": "7"
                                },
                                {
                                    "USERNEV": "ARONK",
                                    "nev": "Kelemen Áron",
                                    "mettol": "2016-04-06",
                                    "meddig": "2016-04-08",
                                    "Fő": "2",
                                    "(No column name)": "NULL"
                                },
                                {
                                    "USERNEV": "ARONK",
                                    "nev": "Kelemen Áron",
                                    "mettol": "2016-05-14",
                                    "meddig": "2016-05-20",
                                    "Fő": "4",
                                    "(No column name)": "2"
                                },
                                {
                                    "USERNEV": "ARONK",
                                    "nev": "Kelemen Áron",
                                    "mettol": "2016-08-05",
                                    "meddig": "2016-08-08",
                                    "Fő": "4",
                                    "(No column name)": "6"
                                },
                                {
                                    "USERNEV": "ARONK",
                                    "nev": "Kelemen Áron",
                                    "mettol": "2016-06-04",
                                    "meddig": "2016-06-09",
                                    "Fő": "2",
                                    "(No column name)": "10"
                                },
                                {
                                    "USERNEV": "ARONK",
                                    "nev": "Kelemen Áron",
                                    "mettol": "2016-06-07",
                                    "meddig": "2016-06-13",
                                    "Fő": "3",
                                    "(No column name)": "10"
                                },
                                {
                                    "USERNEV": "ARONK",
                                    "nev": "Kelemen Áron",
                                    "mettol": "2016-07-03",
                                    "meddig": "2016-07-07",
                                    "Fő": "2",
                                    "(No column name)": "9"
                                },
                                {
                                    "USERNEV": "ARONK",
                                    "nev": "Kelemen Áron",
                                    "mettol": "2016-09-08",
                                    "meddig": "2016-09-15",
                                    "Fő": "2",
                                    "(No column name)": "7"
                                },
                                {
                                    "USERNEV": "ARONK",
                                    "nev": "Kelemen Áron",
                                    "mettol": "2016-11-03",
                                    "meddig": "2016-11-10",
                                    "Fő": "2",
                                    "(No column name)": "7"
                                },
                                {
                                    "USERNEV": "ARONK",
                                    "nev": "Kelemen Áron",
                                    "mettol": "2016-11-05",
                                    "meddig": "2016-11-07",
                                    "Fő": "2",
                                    "(No column name)": "6"
                                },
                                {
                                    "USERNEV": "ARONK",
                                    "nev": "Kelemen Áron",
                                    "mettol": "2016-12-07",
                                    "meddig": "2016-12-12",
                                    "Fő": "3",
                                    "(No column name)": "6"
                                },
                                {
                                    "USERNEV": "ARONK",
                                    "nev": "Kelemen Áron",
                                    "mettol": "2017-01-01",
                                    "meddig": "2017-01-03",
                                    "Fő": "2",
                                    "(No column name)": "7"
                                },
                                {
                                    "USERNEV": "ARONK",
                                    "nev": "Kelemen Áron",
                                    "mettol": "2017-01-30",
                                    "meddig": "2017-02-03",
                                    "Fő": "2",
                                    "(No column name)": "7"
                                },
                                {
                                    "USERNEV": "ARONK",
                                    "nev": "Kelemen Áron",
                                    "mettol": "2017-02-21",
                                    "meddig": "2017-02-23",
                                    "Fő": "2",
                                    "(No column name)": "7"
                                },
                                {
                                    "USERNEV": "arpad2",
                                    "nev": "Ötvös Árpád",
                                    "mettol": "2016-08-23",
                                    "meddig": "2016-08-25",
                                    "Fő": "2",
                                    "(No column name)": "NULL"
                                },
                                {
                                    "USERNEV": "arpad2",
                                    "nev": "Ötvös Árpád",
                                    "mettol": "2016-06-05",
                                    "meddig": "2016-06-07",
                                    "Fő": "2",
                                    "(No column name)": "2"
                                },
                                {
                                    "USERNEV": "arpad2",
                                    "nev": "Ötvös Árpád",
                                    "mettol": "2016-09-28",
                                    "meddig": "2016-09-30",
                                    "Fő": "2",
                                    "(No column name)": "4"
                                },
                                {
                                    "USERNEV": "arpad2",
                                    "nev": "Ötvös Árpád",
                                    "mettol": "2016-10-13",
                                    "meddig": "2016-10-19",
                                    "Fő": "3",
                                    "(No column name)": "6"
                                },
                                {
                                    "USERNEV": "arpad2",
                                    "nev": "Ötvös Árpád",
                                    "mettol": "2016-11-06",
                                    "meddig": "2016-11-10",
                                    "Fő": "2",
                                    "(No column name)": "7"
                                },
                                {
                                    "USERNEV": "arpad2",
                                    "nev": "Ötvös Árpád",
                                    "mettol": "2016-12-24",
                                    "meddig": "2016-12-27",
                                    "Fő": "3",
                                    "(No column name)": "7"
                                },
                                {
                                    "USERNEV": "arpad2",
                                    "nev": "Ötvös Árpád",
                                    "mettol": "2017-02-18",
                                    "meddig": "2017-02-19",
                                    "Fő": "4",
                                    "(No column name)": "8"
                                },
                                {
                                    "USERNEV": "ARPADH",
                                    "nev": "Horváth Árpád",
                                    "mettol": "2016-07-14",
                                    "meddig": "2016-07-18",
                                    "Fő": "2",
                                    "(No column name)": "NULL"
                                },
                                {
                                    "USERNEV": "ARPADH",
                                    "nev": "Horváth Árpád",
                                    "mettol": "2016-06-06",
                                    "meddig": "2016-06-07",
                                    "Fő": "3",
                                    "(No column name)": "2"
                                },
                                {
                                    "USERNEV": "ARPADH",
                                    "nev": "Horváth Árpád",
                                    "mettol": "2016-09-16",
                                    "meddig": "2016-09-23",
                                    "Fő": "1",
                                    "(No column name)": "5"
                                },
                                {
                                    "USERNEV": "ARPADH",
                                    "nev": "Horváth Árpád",
                                    "mettol": "2016-09-18",
                                    "meddig": "2016-09-25",
                                    "Fő": "1",
                                    "(No column name)": "6"
                                },
                                {
                                    "USERNEV": "ARPADH",
                                    "nev": "Horváth Árpád",
                                    "mettol": "2016-12-04",
                                    "meddig": "2016-12-10",
                                    "Fő": "1",
                                    "(No column name)": "5"
                                },
                                {
                                    "USERNEV": "ARPADH",
                                    "nev": "Horváth Árpád",
                                    "mettol": "2016-12-18",
                                    "meddig": "2016-12-19",
                                    "Fő": "3",
                                    "(No column name)": "3"
                                },
                                {
                                    "USERNEV": "ARPADH",
                                    "nev": "Horváth Árpád",
                                    "mettol": "2017-02-16",
                                    "meddig": "2017-02-18",
                                    "Fő": "2",
                                    "(No column name)": "5"
                                },
                                {
                                    "USERNEV": "ARPADM",
                                    "nev": "Móricz Árpád",
                                    "mettol": "2016-08-12",
                                    "meddig": "2016-08-16",
                                    "Fő": "2",
                                    "(No column name)": "NULL"
                                },
                                {
                                    "USERNEV": "ARPADM",
                                    "nev": "Móricz Árpád",
                                    "mettol": "2016-05-29",
                                    "meddig": "2016-06-01",
                                    "Fő": "2",
                                    "(No column name)": "2"
                                },
                                {
                                    "USERNEV": "ARPADM",
                                    "nev": "Móricz Árpád",
                                    "mettol": "2016-11-09",
                                    "meddig": "2016-11-11",
                                    "Fő": "2",
                                    "(No column name)": "4"
                                },
                                {
                                    "USERNEV": "ARPADM",
                                    "nev": "Móricz Árpád",
                                    "mettol": "2016-12-14",
                                    "meddig": "2016-12-17",
                                    "Fő": "3",
                                    "(No column name)": "6"
                                },
                                {
                                    "USERNEV": "ARPADM",
                                    "nev": "Móricz Árpád",
                                    "mettol": "2017-01-05",
                                    "meddig": "2017-01-10",
                                    "Fő": "1",
                                    "(No column name)": "7"
                                },
                                {
                                    "USERNEV": "ARPADM",
                                    "nev": "Móricz Árpád",
                                    "mettol": "2017-02-12",
                                    "meddig": "2017-02-14",
                                    "Fő": "3",
                                    "(No column name)": "6"
                                },
                                {
                                    "USERNEV": "attila",
                                    "nev": "Csóti Attila",
                                    "mettol": "2016-09-30",
                                    "meddig": "2016-10-07",
                                    "Fő": "3",
                                    "(No column name)": "NULL"
                                },
                                {
                                    "USERNEV": "attila",
                                    "nev": "Csóti Attila",
                                    "mettol": "2016-10-15",
                                    "meddig": "2016-10-19",
                                    "Fő": "1",
                                    "(No column name)": "3"
                                },
                                {
                                    "USERNEV": "attila",
                                    "nev": "Csóti Attila",
                                    "mettol": "2016-12-22",
                                    "meddig": "2016-12-26",
                                    "Fő": "2",
                                    "(No column name)": "4"
                                },
                                {
                                    "USERNEV": "attila1",
                                    "nev": "Gulyás Attila",
                                    "mettol": "2016-05-20",
                                    "meddig": "2016-05-26",
                                    "Fő": "1",
                                    "(No column name)": "NULL"
                                },
                                {
                                    "USERNEV": "attila1",
                                    "nev": "Gulyás Attila",
                                    "mettol": "2016-10-09",
                                    "meddig": "2016-10-12",
                                    "Fő": "2",
                                    "(No column name)": "1"
                                },
                                {
                                    "USERNEV": "attila1",
                                    "nev": "Gulyás Attila",
                                    "mettol": "2016-10-15",
                                    "meddig": "2016-10-16",
                                    "Fő": "3",
                                    "(No column name)": "3"
                                },
                                {
                                    "USERNEV": "attila1",
                                    "nev": "Gulyás Attila",
                                    "mettol": "2016-10-30",
                                    "meddig": "2016-11-05",
                                    "Fő": "2",
                                    "(No column name)": "6"
                                },
                                {
                                    "USERNEV": "attila1",
                                    "nev": "Gulyás Attila",
                                    "mettol": "2016-11-10",
                                    "meddig": "2016-11-14",
                                    "Fő": "2",
                                    "(No column name)": "7"
                                },
                                {
                                    "USERNEV": "attila1",
                                    "nev": "Gulyás Attila",
                                    "mettol": "2017-01-23",
                                    "meddig": "2017-01-30",
                                    "Fő": "4",
                                    "(No column name)": "7"
                                },
                                {
                                    "USERNEV": "attila4",
                                    "nev": "Baróti Attila",
                                    "mettol": "2016-08-18",
                                    "meddig": "2016-08-23",
                                    "Fő": "4",
                                    "(No column name)": "NULL"
                                },
                                {
                                    "USERNEV": "attila4",
                                    "nev": "Baróti Attila",
                                    "mettol": "2016-12-31",
                                    "meddig": "2017-01-01",
                                    "Fő": "2",
                                    "(No column name)": "4"
                                },
                                {
                                    "USERNEV": "attila4",
                                    "nev": "Baróti Attila",
                                    "mettol": "2017-02-15",
                                    "meddig": "2017-02-22",
                                    "Fő": "2",
                                    "(No column name)": "6"
                                },
                                {
                                    "USERNEV": "ATTILAO",
                                    "nev": "Opra Attila",
                                    "mettol": "2016-05-21",
                                    "meddig": "2016-05-26",
                                    "Fő": "3",
                                    "(No column name)": "NULL"
                                },
                                {
                                    "USERNEV": "ATTILAO",
                                    "nev": "Opra Attila",
                                    "mettol": "2016-06-04",
                                    "meddig": "2016-06-11",
                                    "Fő": "3",
                                    "(No column name)": "3"
                                },
                                {
                                    "USERNEV": "ATTILAO",
                                    "nev": "Opra Attila",
                                    "mettol": "2016-10-30",
                                    "meddig": "2016-11-03",
                                    "Fő": "2",
                                    "(No column name)": "6"
                                },
                                {
                                    "USERNEV": "ATTILAO",
                                    "nev": "Opra Attila",
                                    "mettol": "2017-02-22",
                                    "meddig": "2017-02-25",
                                    "Fő": "3",
                                    "(No column name)": "8"
                                },
                                {
                                    "USERNEV": "balazs1",
                                    "nev": "Bozsik Balázs",
                                    "mettol": "2016-05-07",
                                    "meddig": "2016-05-14",
                                    "Fő": "2",
                                    "(No column name)": "NULL"
                                },
                                {
                                    "USERNEV": "balazs1",
                                    "nev": "Bozsik Balázs",
                                    "mettol": "2016-07-22",
                                    "meddig": "2016-07-26",
                                    "Fő": "4",
                                    "(No column name)": "2"
                                },
                                {
                                    "USERNEV": "balazs1",
                                    "nev": "Bozsik Balázs",
                                    "mettol": "2016-12-26",
                                    "meddig": "2016-12-28",
                                    "Fő": "3",
                                    "(No column name)": "6"
                                },
                                {
                                    "USERNEV": "balazs1",
                                    "nev": "Bozsik Balázs",
                                    "mettol": "2017-01-01",
                                    "meddig": "2017-01-05",
                                    "Fő": "2",
                                    "(No column name)": "9"
                                },
                                {
                                    "USERNEV": "balazs1",
                                    "nev": "Bozsik Balázs",
                                    "mettol": "2017-02-10",
                                    "meddig": "2017-02-14",
                                    "Fő": "3",
                                    "(No column name)": "9"
                                },
                                {
                                    "USERNEV": "balazs1",
                                    "nev": "Bozsik Balázs",
                                    "mettol": "2017-02-12",
                                    "meddig": "2017-02-14",
                                    "Fő": "2",
                                    "(No column name)": "8"
                                },
                                {
                                    "USERNEV": "balazs2",
                                    "nev": "Szűcs Balázs",
                                    "mettol": "2016-04-16",
                                    "meddig": "2016-04-19",
                                    "Fő": "2",
                                    "(No column name)": "NULL"
                                },
                                {
                                    "USERNEV": "balazs2",
                                    "nev": "Szűcs Balázs",
                                    "mettol": "2016-07-20",
                                    "meddig": "2016-07-25",
                                    "Fő": "2",
                                    "(No column name)": "2"
                                },
                                {
                                    "USERNEV": "balazs2",
                                    "nev": "Szűcs Balázs",
                                    "mettol": "2016-08-21",
                                    "meddig": "2016-08-22",
                                    "Fő": "3",
                                    "(No column name)": "4"
                                },
                                {
                                    "USERNEV": "balazs2",
                                    "nev": "Szűcs Balázs",
                                    "mettol": "2016-05-22",
                                    "meddig": "2016-05-29",
                                    "Fő": "3",
                                    "(No column name)": "7"
                                },
                                {
                                    "USERNEV": "balazs2",
                                    "nev": "Szűcs Balázs",
                                    "mettol": "2016-05-28",
                                    "meddig": "2016-06-01",
                                    "Fő": "3",
                                    "(No column name)": "8"
                                },
                                {
                                    "USERNEV": "balazs2",
                                    "nev": "Szűcs Balázs",
                                    "mettol": "2016-07-08",
                                    "meddig": "2016-07-12",
                                    "Fő": "3",
                                    "(No column name)": "9"
                                },
                                {
                                    "USERNEV": "balazs2",
                                    "nev": "Szűcs Balázs",
                                    "mettol": "2016-07-10",
                                    "meddig": "2016-07-17",
                                    "Fő": "3",
                                    "(No column name)": "9"
                                },
                                {
                                    "USERNEV": "balazs2",
                                    "nev": "Szűcs Balázs",
                                    "mettol": "2016-09-12",
                                    "meddig": "2016-09-14",
                                    "Fő": "3",
                                    "(No column name)": "9"
                                },
                                {
                                    "USERNEV": "balazs2",
                                    "nev": "Szűcs Balázs",
                                    "mettol": "2016-11-03",
                                    "meddig": "2016-11-05",
                                    "Fő": "3",
                                    "(No column name)": "9"
                                },
                                {
                                    "USERNEV": "balazs2",
                                    "nev": "Szűcs Balázs",
                                    "mettol": "2017-02-27",
                                    "meddig": "2017-03-06",
                                    "Fő": "1",
                                    "(No column name)": "9"
                                },
                                {
                                    "USERNEV": "balazs3",
                                    "nev": "Bakódy Balázs",
                                    "mettol": "2016-07-17",
                                    "meddig": "2016-07-21",
                                    "Fő": "2",
                                    "(No column name)": "NULL"
                                },
                                {
                                    "USERNEV": "balazs3",
                                    "nev": "Bakódy Balázs",
                                    "mettol": "2016-07-27",
                                    "meddig": "2016-07-31",
                                    "Fő": "4",
                                    "(No column name)": "2"
                                },
                                {
                                    "USERNEV": "balazs3",
                                    "nev": "Bakódy Balázs",
                                    "mettol": "2016-08-24",
                                    "meddig": "2016-08-28",
                                    "Fő": "3",
                                    "(No column name)": "6"
                                },
                                {
                                    "USERNEV": "balazs3",
                                    "nev": "Bakódy Balázs",
                                    "mettol": "2016-09-15",
                                    "meddig": "2016-09-16",
                                    "Fő": "3",
                                    "(No column name)": "9"
                                },
                                {
                                    "USERNEV": "balazs3",
                                    "nev": "Bakódy Balázs",
                                    "mettol": "2016-12-05",
                                    "meddig": "2016-12-11",
                                    "Fő": "3",
                                    "(No column name)": "10"
                                },
                                {
                                    "USERNEV": "balazs3",
                                    "nev": "Bakódy Balázs",
                                    "mettol": "2017-01-20",
                                    "meddig": "2017-01-22",
                                    "Fő": "2",
                                    "(No column name)": "9"
                                },
                                {
                                    "USERNEV": "balint",
                                    "nev": "Horváth Bálint",
                                    "mettol": "2016-04-22",
                                    "meddig": "2016-04-29",
                                    "Fő": "2",
                                    "(No column name)": "NULL"
                                },
                                {
                                    "USERNEV": "balint",
                                    "nev": "Horváth Bálint",
                                    "mettol": "2016-10-09",
                                    "meddig": "2016-10-11",
                                    "Fő": "2",
                                    "(No column name)": "2"
                                },
                                {
                                    "USERNEV": "balint",
                                    "nev": "Horváth Bálint",
                                    "mettol": "2016-11-24",
                                    "meddig": "2016-11-29",
                                    "Fő": "3",
                                    "(No column name)": "4"
                                },
                                {
                                    "USERNEV": "balint1",
                                    "nev": "Molnár Bálint",
                                    "mettol": "2016-07-26",
                                    "meddig": "2016-07-28",
                                    "Fő": "2",
                                    "(No column name)": "NULL"
                                },
                                {
                                    "USERNEV": "balint1",
                                    "nev": "Molnár Bálint",
                                    "mettol": "2016-08-03",
                                    "meddig": "2016-08-08",
                                    "Fő": "2",
                                    "(No column name)": "2"
                                },
                                {
                                    "USERNEV": "balint1",
                                    "nev": "Molnár Bálint",
                                    "mettol": "2016-06-07",
                                    "meddig": "2016-06-12",
                                    "Fő": "3",
                                    "(No column name)": "4"
                                },
                                {
                                    "USERNEV": "balint1",
                                    "nev": "Molnár Bálint",
                                    "mettol": "2016-06-07",
                                    "meddig": "2016-06-11",
                                    "Fő": "3",
                                    "(No column name)": "7"
                                },
                                {
                                    "USERNEV": "balint1",
                                    "nev": "Molnár Bálint",
                                    "mettol": "2016-06-10",
                                    "meddig": "2016-06-12",
                                    "Fő": "1",
                                    "(No column name)": "8"
                                },
                                {
                                    "USERNEV": "balint1",
                                    "nev": "Molnár Bálint",
                                    "mettol": "2016-09-16",
                                    "meddig": "2016-09-21",
                                    "Fő": "1",
                                    "(No column name)": "7"
                                },
                                {
                                    "USERNEV": "balint1",
                                    "nev": "Molnár Bálint",
                                    "mettol": "2016-11-07",
                                    "meddig": "2016-11-10",
                                    "Fő": "2",
                                    "(No column name)": "5"
                                },
                                {
                                    "USERNEV": "balint1",
                                    "nev": "Molnár Bálint",
                                    "mettol": "2016-12-17",
                                    "meddig": "2016-12-22",
                                    "Fő": "3",
                                    "(No column name)": "4"
                                },
                                {
                                    "USERNEV": "balint1",
                                    "nev": "Molnár Bálint",
                                    "mettol": "2016-12-29",
                                    "meddig": "2016-12-31",
                                    "Fő": "3",
                                    "(No column name)": "6"
                                },
                                {
                                    "USERNEV": "balint1",
                                    "nev": "Molnár Bálint",
                                    "mettol": "2017-01-03",
                                    "meddig": "2017-01-08",
                                    "Fő": "2",
                                    "(No column name)": "8"
                                },
                                {
                                    "USERNEV": "balint2",
                                    "nev": "Vukasinovity Bálint",
                                    "mettol": "2016-07-21",
                                    "meddig": "2016-07-26",
                                    "Fő": "1",
                                    "(No column name)": "NULL"
                                },
                                {
                                    "USERNEV": "balint2",
                                    "nev": "Vukasinovity Bálint",
                                    "mettol": "2016-12-04",
                                    "meddig": "2016-12-06",
                                    "Fő": "3",
                                    "(No column name)": "1"
                                },
                                {
                                    "USERNEV": "balu",
                                    "nev": "Endresz Bálint",
                                    "mettol": "2016-08-06",
                                    "meddig": "2016-08-10",
                                    "Fő": "2",
                                    "(No column name)": "NULL"
                                },
                                {
                                    "USERNEV": "balu",
                                    "nev": "Endresz Bálint",
                                    "mettol": "2016-12-22",
                                    "meddig": "2016-12-23",
                                    "Fő": "2",
                                    "(No column name)": "2"
                                },
                                {
                                    "USERNEV": "beata4",
                                    "nev": "Bagi Beáta",
                                    "mettol": "2016-04-20",
                                    "meddig": "2016-04-21",
                                    "Fő": "2",
                                    "(No column name)": "NULL"
                                },
                                {
                                    "USERNEV": "beata4",
                                    "nev": "Bagi Beáta",
                                    "mettol": "2016-08-25",
                                    "meddig": "2016-08-27",
                                    "Fő": "3",
                                    "(No column name)": "2"
                                },
                                {
                                    "USERNEV": "beata4",
                                    "nev": "Bagi Beáta",
                                    "mettol": "2016-06-03",
                                    "meddig": "2016-06-04",
                                    "Fő": "2",
                                    "(No column name)": "5"
                                },
                                {
                                    "USERNEV": "beata4",
                                    "nev": "Bagi Beáta",
                                    "mettol": "2016-07-03",
                                    "meddig": "2016-07-06",
                                    "Fő": "1",
                                    "(No column name)": "7"
                                },
                                {
                                    "USERNEV": "beata4",
                                    "nev": "Bagi Beáta",
                                    "mettol": "2016-10-01",
                                    "meddig": "2016-10-05",
                                    "Fő": "1",
                                    "(No column name)": "6"
                                },
                                {
                                    "USERNEV": "beata4",
                                    "nev": "Bagi Beáta",
                                    "mettol": "2016-10-03",
                                    "meddig": "2016-10-06",
                                    "Fő": "3",
                                    "(No column name)": "4"
                                },
                                {
                                    "USERNEV": "BEATRIXK",
                                    "nev": "Kerényi Beatrix",
                                    "mettol": "2016-08-12",
                                    "meddig": "2016-08-18",
                                    "Fő": "4",
                                    "(No column name)": "NULL"
                                },
                                {
                                    "USERNEV": "BEATRIXK",
                                    "nev": "Kerényi Beatrix",
                                    "mettol": "2016-06-10",
                                    "meddig": "2016-06-11",
                                    "Fő": "2",
                                    "(No column name)": "4"
                                },
                                {
                                    "USERNEV": "BEATRIXK",
                                    "nev": "Kerényi Beatrix",
                                    "mettol": "2016-06-10",
                                    "meddig": "2016-06-14",
                                    "Fő": "2",
                                    "(No column name)": "6"
                                },
                                {
                                    "USERNEV": "BEATRIXK",
                                    "nev": "Kerényi Beatrix",
                                    "mettol": "2016-06-19",
                                    "meddig": "2016-06-21",
                                    "Fő": "3",
                                    "(No column name)": "8"
                                },
                                {
                                    "USERNEV": "BEATRIXK",
                                    "nev": "Kerényi Beatrix",
                                    "mettol": "2016-10-23",
                                    "meddig": "2016-10-28",
                                    "Fő": "2",
                                    "(No column name)": "7"
                                },
                                {
                                    "USERNEV": "BEATRIXK",
                                    "nev": "Kerényi Beatrix",
                                    "mettol": "2016-11-14",
                                    "meddig": "2016-11-19",
                                    "Fő": "2",
                                    "(No column name)": "7"
                                },
                                {
                                    "USERNEV": "BEATRIXK",
                                    "nev": "Kerényi Beatrix",
                                    "mettol": "2016-12-12",
                                    "meddig": "2016-12-14",
                                    "Fő": "3",
                                    "(No column name)": "7"
                                },
                                {
                                    "USERNEV": "BEATRIXK",
                                    "nev": "Kerényi Beatrix",
                                    "mettol": "2016-12-17",
                                    "meddig": "2016-12-22",
                                    "Fő": "4",
                                    "(No column name)": "7"
                                },
                                {
                                    "USERNEV": "BEATRIXK",
                                    "nev": "Kerényi Beatrix",
                                    "mettol": "2017-02-08",
                                    "meddig": "2017-02-09",
                                    "Fő": "3",
                                    "(No column name)": "9"
                                },
                                {
                                    "USERNEV": "BEATRIXS",
                                    "nev": "Szekendi Beatrix",
                                    "mettol": "2016-04-18",
                                    "meddig": "2016-04-24",
                                    "Fő": "1",
                                    "(No column name)": "NULL"
                                },
                                {
                                    "USERNEV": "BEATRIXS",
                                    "nev": "Szekendi Beatrix",
                                    "mettol": "2016-06-11",
                                    "meddig": "2016-06-14",
                                    "Fő": "3",
                                    "(No column name)": "1"
                                },
                                {
                                    "USERNEV": "BEATRIXS",
                                    "nev": "Szekendi Beatrix",
                                    "mettol": "2016-10-01",
                                    "meddig": "2016-10-03",
                                    "Fő": "3",
                                    "(No column name)": "4"
                                },
                                {
                                    "USERNEV": "BEATRIXS",
                                    "nev": "Szekendi Beatrix",
                                    "mettol": "2016-10-01",
                                    "meddig": "2016-10-05",
                                    "Fő": "3",
                                    "(No column name)": "7"
                                },
                                {
                                    "USERNEV": "BEATRIXS",
                                    "nev": "Szekendi Beatrix",
                                    "mettol": "2016-12-21",
                                    "meddig": "2016-12-27",
                                    "Fő": "2",
                                    "(No column name)": "9"
                                },
                                {
                                    "USERNEV": "BEATRIXS",
                                    "nev": "Szekendi Beatrix",
                                    "mettol": "2017-02-03",
                                    "meddig": "2017-02-04",
                                    "Fő": "2",
                                    "(No column name)": "8"
                                },
                                {
                                    "USERNEV": "BELAF",
                                    "nev": "Farkas Béla",
                                    "mettol": "2016-07-27",
                                    "meddig": "2016-07-30",
                                    "Fő": "3",
                                    "(No column name)": "NULL"
                                },
                                {
                                    "USERNEV": "BELAF",
                                    "nev": "Farkas Béla",
                                    "mettol": "2016-07-29",
                                    "meddig": "2016-07-31",
                                    "Fő": "2",
                                    "(No column name)": "3"
                                },
                                {
                                    "USERNEV": "BELAF",
                                    "nev": "Farkas Béla",
                                    "mettol": "2016-08-29",
                                    "meddig": "2016-08-31",
                                    "Fő": "2",
                                    "(No column name)": "5"
                                },
                                {
                                    "USERNEV": "BELAF",
                                    "nev": "Farkas Béla",
                                    "mettol": "2016-11-03",
                                    "meddig": "2016-11-09",
                                    "Fő": "4",
                                    "(No column name)": "7"
                                },
                                {
                                    "USERNEV": "BELAF",
                                    "nev": "Farkas Béla",
                                    "mettol": "2016-12-02",
                                    "meddig": "2016-12-04",
                                    "Fő": "3",
                                    "(No column name)": "8"
                                },
                                {
                                    "USERNEV": "BELAF",
                                    "nev": "Farkas Béla",
                                    "mettol": "2016-12-06",
                                    "meddig": "2016-12-09",
                                    "Fő": "1",
                                    "(No column name)": "9"
                                },
                                {
                                    "USERNEV": "bence",
                                    "nev": "Győrffy Bence",
                                    "mettol": "2016-05-08",
                                    "meddig": "2016-05-11",
                                    "Fő": "2",
                                    "(No column name)": "NULL"
                                },
                                {
                                    "USERNEV": "bence",
                                    "nev": "Győrffy Bence",
                                    "mettol": "2016-07-24",
                                    "meddig": "2016-07-30",
                                    "Fő": "2",
                                    "(No column name)": "2"
                                },
                                {
                                    "USERNEV": "bence",
                                    "nev": "Győrffy Bence",
                                    "mettol": "2016-07-25",
                                    "meddig": "2016-08-01",
                                    "Fő": "3",
                                    "(No column name)": "4"
                                },
                                {
                                    "USERNEV": "bence",
                                    "nev": "Győrffy Bence",
                                    "mettol": "2016-09-03",
                                    "meddig": "2016-09-06",
                                    "Fő": "3",
                                    "(No column name)": "7"
                                },
                                {
                                    "USERNEV": "bence",
                                    "nev": "Győrffy Bence",
                                    "mettol": "2016-05-29",
                                    "meddig": "2016-06-03",
                                    "Fő": "1",
                                    "(No column name)": "8"
                                },
                                {
                                    "USERNEV": "bence",
                                    "nev": "Győrffy Bence",
                                    "mettol": "2016-10-30",
                                    "meddig": "2016-11-02",
                                    "Fő": "4",
                                    "(No column name)": "7"
                                },
                                {
                                    "USERNEV": "bence",
                                    "nev": "Győrffy Bence",
                                    "mettol": "2016-12-17",
                                    "meddig": "2016-12-18",
                                    "Fő": "2",
                                    "(No column name)": "8"
                                },
                                {
                                    "USERNEV": "bence",
                                    "nev": "Győrffy Bence",
                                    "mettol": "2016-12-26",
                                    "meddig": "2016-12-27",
                                    "Fő": "2",
                                    "(No column name)": "7"
                                },
                                {
                                    "USERNEV": "bence",
                                    "nev": "Győrffy Bence",
                                    "mettol": "2017-02-05",
                                    "meddig": "2017-02-09",
                                    "Fő": "3",
                                    "(No column name)": "8"
                                },
                                {
                                    "USERNEV": "BENCEB",
                                    "nev": "Bajusz Bence",
                                    "mettol": "2016-05-14",
                                    "meddig": "2016-05-17",
                                    "Fő": "3",
                                    "(No column name)": "NULL"
                                },
                                {
                                    "USERNEV": "BENCEB",
                                    "nev": "Bajusz Bence",
                                    "mettol": "2016-08-01",
                                    "meddig": "2016-08-02",
                                    "Fő": "2",
                                    "(No column name)": "3"
                                },
                                {
                                    "USERNEV": "BENCEB",
                                    "nev": "Bajusz Bence",
                                    "mettol": "2016-06-03",
                                    "meddig": "2016-06-09",
                                    "Fő": "2",
                                    "(No column name)": "5"
                                },
                                {
                                    "USERNEV": "BENCEB",
                                    "nev": "Bajusz Bence",
                                    "mettol": "2016-10-22",
                                    "meddig": "2016-10-29",
                                    "Fő": "3",
                                    "(No column name)": "7"
                                },
                                {
                                    "USERNEV": "BENCEB",
                                    "nev": "Bajusz Bence",
                                    "mettol": "2016-11-28",
                                    "meddig": "2016-12-02",
                                    "Fő": "2",
                                    "(No column name)": "7"
                                },
                                {
                                    "USERNEV": "BENCEB",
                                    "nev": "Bajusz Bence",
                                    "mettol": "2017-02-12",
                                    "meddig": "2017-02-19",
                                    "Fő": "3",
                                    "(No column name)": "7"
                                },
                                {
                                    "USERNEV": "bernadett1",
                                    "nev": "Simon Bernadett",
                                    "mettol": "2016-06-12",
                                    "meddig": "2016-06-17",
                                    "Fő": "3",
                                    "(No column name)": "NULL"
                                },
                                {
                                    "USERNEV": "bernadett1",
                                    "nev": "Simon Bernadett",
                                    "mettol": "2016-10-08",
                                    "meddig": "2016-10-09",
                                    "Fő": "4",
                                    "(No column name)": "3"
                                },
                                {
                                    "USERNEV": "bernadett1",
                                    "nev": "Simon Bernadett",
                                    "mettol": "2016-10-15",
                                    "meddig": "2016-10-22",
                                    "Fő": "3",
                                    "(No column name)": "7"
                                },
                                {
                                    "USERNEV": "bernadett1",
                                    "nev": "Simon Bernadett",
                                    "mettol": "2016-10-26",
                                    "meddig": "2016-11-02",
                                    "Fő": "3",
                                    "(No column name)": "10"
                                },
                                {
                                    "USERNEV": "bernadett1",
                                    "nev": "Simon Bernadett",
                                    "mettol": "2016-10-28",
                                    "meddig": "2016-11-01",
                                    "Fő": "3",
                                    "(No column name)": "10"
                                },
                                {
                                    "USERNEV": "bernadett1",
                                    "nev": "Simon Bernadett",
                                    "mettol": "2017-02-14",
                                    "meddig": "2017-02-15",
                                    "Fő": "3",
                                    "(No column name)": "9"
                                },
                                {
                                    "USERNEV": "bernadett1",
                                    "nev": "Simon Bernadett",
                                    "mettol": "2017-02-24",
                                    "meddig": "2017-03-03",
                                    "Fő": "1",
                                    "(No column name)": "9"
                                },
                                {
                                    "USERNEV": "bernadett2",
                                    "nev": "Kovács Bernadett",
                                    "mettol": "2016-05-01",
                                    "meddig": "2016-05-03",
                                    "Fő": "2",
                                    "(No column name)": "NULL"
                                },
                                {
                                    "USERNEV": "bernadett2",
                                    "nev": "Kovács Bernadett",
                                    "mettol": "2016-08-23",
                                    "meddig": "2016-08-29",
                                    "Fő": "2",
                                    "(No column name)": "2"
                                },
                                {
                                    "USERNEV": "bernadett2",
                                    "nev": "Kovács Bernadett",
                                    "mettol": "2016-08-25",
                                    "meddig": "2016-08-27",
                                    "Fő": "3",
                                    "(No column name)": "4"
                                },
                                {
                                    "USERNEV": "bernadett2",
                                    "nev": "Kovács Bernadett",
                                    "mettol": "2016-06-17",
                                    "meddig": "2016-06-23",
                                    "Fő": "3",
                                    "(No column name)": "7"
                                },
                                {
                                    "USERNEV": "bernadett2",
                                    "nev": "Kovács Bernadett",
                                    "mettol": "2016-09-07",
                                    "meddig": "2016-09-13",
                                    "Fő": "3",
                                    "(No column name)": "8"
                                },
                                {
                                    "USERNEV": "bernadett2",
                                    "nev": "Kovács Bernadett",
                                    "mettol": "2016-10-30",
                                    "meddig": "2016-11-06",
                                    "Fő": "3",
                                    "(No column name)": "9"
                                },
                                {
                                    "USERNEV": "bernadett2",
                                    "nev": "Kovács Bernadett",
                                    "mettol": "2016-12-17",
                                    "meddig": "2016-12-20",
                                    "Fő": "1",
                                    "(No column name)": "9"
                                },
                                {
                                    "USERNEV": "bernadett2",
                                    "nev": "Kovács Bernadett",
                                    "mettol": "2017-01-24",
                                    "meddig": "2017-01-30",
                                    "Fő": "3",
                                    "(No column name)": "7"
                                },
                                {
                                    "USERNEV": "BERNADETTO",
                                    "nev": "Orbán Bernadett",
                                    "mettol": "2016-04-10",
                                    "meddig": "2016-04-17",
                                    "Fő": "2",
                                    "(No column name)": "NULL"
                                },
                                {
                                    "USERNEV": "BERNADETTO",
                                    "nev": "Orbán Bernadett",
                                    "mettol": "2016-04-17",
                                    "meddig": "2016-04-19",
                                    "Fő": "2",
                                    "(No column name)": "2"
                                },
                                {
                                    "USERNEV": "BERNADETTO",
                                    "nev": "Orbán Bernadett",
                                    "mettol": "2016-06-07",
                                    "meddig": "2016-06-13",
                                    "Fő": "3",
                                    "(No column name)": "4"
                                },
                                {
                                    "USERNEV": "BERNADETTO",
                                    "nev": "Orbán Bernadett",
                                    "mettol": "2016-06-10",
                                    "meddig": "2016-06-16",
                                    "Fő": "4",
                                    "(No column name)": "7"
                                },
                                {
                                    "USERNEV": "BERNADETTO",
                                    "nev": "Orbán Bernadett",
                                    "mettol": "2016-10-04",
                                    "meddig": "2016-10-05",
                                    "Fő": "2",
                                    "(No column name)": "9"
                                },
                                {
                                    "USERNEV": "BERNADETTO",
                                    "nev": "Orbán Bernadett",
                                    "mettol": "2017-01-01",
                                    "meddig": "2017-01-02",
                                    "Fő": "3",
                                    "(No column name)": "9"
                                },
                                {
                                    "USERNEV": "BERNADETTO",
                                    "nev": "Orbán Bernadett",
                                    "mettol": "2017-01-28",
                                    "meddig": "2017-02-03",
                                    "Fő": "2",
                                    "(No column name)": "9"
                                },
                                {
                                    "USERNEV": "bertalan",
                                    "nev": "Csiger Bertalan",
                                    "mettol": "2016-05-18",
                                    "meddig": "2016-05-23",
                                    "Fő": "2",
                                    "(No column name)": "NULL"
                                },
                                {
                                    "USERNEV": "bertalan",
                                    "nev": "Csiger Bertalan",
                                    "mettol": "2016-06-20",
                                    "meddig": "2016-06-21",
                                    "Fő": "1",
                                    "(No column name)": "2"
                                },
                                {
                                    "USERNEV": "bertalan",
                                    "nev": "Csiger Bertalan",
                                    "mettol": "2016-11-03",
                                    "meddig": "2016-11-10",
                                    "Fő": "2",
                                    "(No column name)": "3"
                                },
                                {
                                    "USERNEV": "bertalan",
                                    "nev": "Csiger Bertalan",
                                    "mettol": "2016-11-26",
                                    "meddig": "2016-11-29",
                                    "Fő": "3",
                                    "(No column name)": "5"
                                },
                                {
                                    "USERNEV": "bertalan",
                                    "nev": "Csiger Bertalan",
                                    "mettol": "2017-02-16",
                                    "meddig": "2017-02-22",
                                    "Fő": "2",
                                    "(No column name)": "6"
                                },
                                {
                                    "USERNEV": "bertalan",
                                    "nev": "Csiger Bertalan",
                                    "mettol": "2017-02-20",
                                    "meddig": "2017-02-24",
                                    "Fő": "4",
                                    "(No column name)": "7"
                                },
                                {
                                    "USERNEV": "brigitta",
                                    "nev": "Székely Brigitta",
                                    "mettol": "2016-08-28",
                                    "meddig": "2016-09-01",
                                    "Fő": "3",
                                    "(No column name)": "NULL"
                                },
                                {
                                    "USERNEV": "brigitta",
                                    "nev": "Székely Brigitta",
                                    "mettol": "2016-05-30",
                                    "meddig": "2016-06-06",
                                    "Fő": "3",
                                    "(No column name)": "3"
                                },
                                {
                                    "USERNEV": "brigitta",
                                    "nev": "Székely Brigitta",
                                    "mettol": "2016-10-21",
                                    "meddig": "2016-10-28",
                                    "Fő": "3",
                                    "(No column name)": "6"
                                },
                                {
                                    "USERNEV": "brigitta",
                                    "nev": "Székely Brigitta",
                                    "mettol": "2016-12-17",
                                    "meddig": "2016-12-22",
                                    "Fő": "2",
                                    "(No column name)": "9"
                                },
                                {
                                    "USERNEV": "brigitta",
                                    "nev": "Székely Brigitta",
                                    "mettol": "2017-01-23",
                                    "meddig": "2017-01-25",
                                    "Fő": "1",
                                    "(No column name)": "8"
                                },
                                {
                                    "USERNEV": "brigitta3",
                                    "nev": "Pataki Brigitta",
                                    "mettol": "2016-06-01",
                                    "meddig": "2016-06-05",
                                    "Fő": "2",
                                    "(No column name)": "NULL"
                                },
                                {
                                    "USERNEV": "brigitta3",
                                    "nev": "Pataki Brigitta",
                                    "mettol": "2016-06-13",
                                    "meddig": "2016-06-17",
                                    "Fő": "3",
                                    "(No column name)": "2"
                                },
                                {
                                    "USERNEV": "brigitta3",
                                    "nev": "Pataki Brigitta",
                                    "mettol": "2016-10-10",
                                    "meddig": "2016-10-14",
                                    "Fő": "2",
                                    "(No column name)": "5"
                                },
                                {
                                    "USERNEV": "brigitta3",
                                    "nev": "Pataki Brigitta",
                                    "mettol": "2016-11-03",
                                    "meddig": "2016-11-09",
                                    "Fő": "3",
                                    "(No column name)": "7"
                                },
                                {
                                    "USERNEV": "brigitta3",
                                    "nev": "Pataki Brigitta",
                                    "mettol": "2017-02-09",
                                    "meddig": "2017-02-16",
                                    "Fő": "2",
                                    "(No column name)": "8"
                                },
                                {
                                    "USERNEV": "csongor3",
                                    "nev": "Nagymihály Csongor",
                                    "mettol": "2016-05-01",
                                    "meddig": "2016-05-04",
                                    "Fő": "2",
                                    "(No column name)": "NULL"
                                },
                                {
                                    "USERNEV": "csongor3",
                                    "nev": "Nagymihály Csongor",
                                    "mettol": "2016-05-08",
                                    "meddig": "2016-05-15",
                                    "Fő": "3",
                                    "(No column name)": "2"
                                },
                                {
                                    "USERNEV": "csongor3",
                                    "nev": "Nagymihály Csongor",
                                    "mettol": "2016-06-04",
                                    "meddig": "2016-06-05",
                                    "Fő": "2",
                                    "(No column name)": "5"
                                },
                                {
                                    "USERNEV": "csongor3",
                                    "nev": "Nagymihály Csongor",
                                    "mettol": "2016-06-10",
                                    "meddig": "2016-06-17",
                                    "Fő": "3",
                                    "(No column name)": "7"
                                },
                                {
                                    "USERNEV": "csongor3",
                                    "nev": "Nagymihály Csongor",
                                    "mettol": "2016-06-11",
                                    "meddig": "2016-06-14",
                                    "Fő": "2",
                                    "(No column name)": "8"
                                },
                                {
                                    "USERNEV": "csongor3",
                                    "nev": "Nagymihály Csongor",
                                    "mettol": "2016-07-09",
                                    "meddig": "2016-07-10",
                                    "Fő": "4",
                                    "(No column name)": "7"
                                },
                                {
                                    "USERNEV": "csongor3",
                                    "nev": "Nagymihály Csongor",
                                    "mettol": "2016-11-12",
                                    "meddig": "2016-11-17",
                                    "Fő": "3",
                                    "(No column name)": "9"
                                },
                                {
                                    "USERNEV": "csongor3",
                                    "nev": "Nagymihály Csongor",
                                    "mettol": "2017-02-13",
                                    "meddig": "2017-02-19",
                                    "Fő": "3",
                                    "(No column name)": "9"
                                },
                                {
                                    "USERNEV": "dani",
                                    "nev": "Vörös Dániel",
                                    "mettol": "2016-08-06",
                                    "meddig": "2016-08-09",
                                    "Fő": "2",
                                    "(No column name)": "NULL"
                                },
                                {
                                    "USERNEV": "dani",
                                    "nev": "Vörös Dániel",
                                    "mettol": "2016-06-06",
                                    "meddig": "2016-06-10",
                                    "Fő": "3",
                                    "(No column name)": "2"
                                },
                                {
                                    "USERNEV": "dani",
                                    "nev": "Vörös Dániel",
                                    "mettol": "2016-07-11",
                                    "meddig": "2016-07-12",
                                    "Fő": "3",
                                    "(No column name)": "5"
                                },
                                {
                                    "USERNEV": "dani",
                                    "nev": "Vörös Dániel",
                                    "mettol": "2016-09-19",
                                    "meddig": "2016-09-25",
                                    "Fő": "4",
                                    "(No column name)": "8"
                                },
                                {
                                    "USERNEV": "dani",
                                    "nev": "Vörös Dániel",
                                    "mettol": "2016-10-01",
                                    "meddig": "2016-10-02",
                                    "Fő": "1",
                                    "(No column name)": "10"
                                },
                                {
                                    "USERNEV": "dani",
                                    "nev": "Vörös Dániel",
                                    "mettol": "2016-11-22",
                                    "meddig": "2016-11-24",
                                    "Fő": "2",
                                    "(No column name)": "8"
                                },
                                {
                                    "USERNEV": "dani",
                                    "nev": "Vörös Dániel",
                                    "mettol": "2017-01-17",
                                    "meddig": "2017-01-23",
                                    "Fő": "2",
                                    "(No column name)": "7"
                                },
                                {
                                    "USERNEV": "dani",
                                    "nev": "Vörös Dániel",
                                    "mettol": "2017-01-22",
                                    "meddig": "2017-01-29",
                                    "Fő": "1",
                                    "(No column name)": "5"
                                },
                                {
                                    "USERNEV": "dani",
                                    "nev": "Vörös Dániel",
                                    "mettol": "2017-02-25",
                                    "meddig": "2017-03-01",
                                    "Fő": "3",
                                    "(No column name)": "5"
                                },
                                {
                                    "USERNEV": "daniel",
                                    "nev": "Rácz Dániel",
                                    "mettol": "2016-04-10",
                                    "meddig": "2016-04-11",
                                    "Fő": "4",
                                    "(No column name)": "NULL"
                                },
                                {
                                    "USERNEV": "daniel",
                                    "nev": "Rácz Dániel",
                                    "mettol": "2016-04-22",
                                    "meddig": "2016-04-25",
                                    "Fő": "2",
                                    "(No column name)": "4"
                                },
                                {
                                    "USERNEV": "daniel",
                                    "nev": "Rácz Dániel",
                                    "mettol": "2016-05-09",
                                    "meddig": "2016-05-13",
                                    "Fő": "3",
                                    "(No column name)": "6"
                                },
                                {
                                    "USERNEV": "daniel",
                                    "nev": "Rácz Dániel",
                                    "mettol": "2016-09-08",
                                    "meddig": "2016-09-10",
                                    "Fő": "4",
                                    "(No column name)": "9"
                                },
                                {
                                    "USERNEV": "daniel",
                                    "nev": "Rácz Dániel",
                                    "mettol": "2016-11-13",
                                    "meddig": "2016-11-19",
                                    "Fő": "3",
                                    "(No column name)": "9"
                                },
                                {
                                    "USERNEV": "daniel",
                                    "nev": "Rácz Dániel",
                                    "mettol": "2016-12-25",
                                    "meddig": "2016-12-26",
                                    "Fő": "3",
                                    "(No column name)": "10"
                                },
                                {
                                    "USERNEV": "daniel",
                                    "nev": "Rácz Dániel",
                                    "mettol": "2017-01-09",
                                    "meddig": "2017-01-11",
                                    "Fő": "1",
                                    "(No column name)": "10"
                                },
                                {
                                    "USERNEV": "daniel",
                                    "nev": "Rácz Dániel",
                                    "mettol": "2017-02-12",
                                    "meddig": "2017-02-13",
                                    "Fő": "3",
                                    "(No column name)": "7"
                                },
                                {
                                    "USERNEV": "daniel",
                                    "nev": "Rácz Dániel",
                                    "mettol": "2017-02-20",
                                    "meddig": "2017-02-23",
                                    "Fő": "3",
                                    "(No column name)": "7"
                                },
                                {
                                    "USERNEV": "daniel1",
                                    "nev": "Keszler Dániel",
                                    "mettol": "2016-04-10",
                                    "meddig": "2016-04-15",
                                    "Fő": "2",
                                    "(No column name)": "NULL"
                                },
                                {
                                    "USERNEV": "daniel1",
                                    "nev": "Keszler Dániel",
                                    "mettol": "2016-05-10",
                                    "meddig": "2016-05-13",
                                    "Fő": "4",
                                    "(No column name)": "2"
                                },
                                {
                                    "USERNEV": "daniel1",
                                    "nev": "Keszler Dániel",
                                    "mettol": "2016-05-26",
                                    "meddig": "2016-05-27",
                                    "Fő": "3",
                                    "(No column name)": "6"
                                },
                                {
                                    "USERNEV": "daniel1",
                                    "nev": "Keszler Dániel",
                                    "mettol": "2016-11-09",
                                    "meddig": "2016-11-11",
                                    "Fő": "2",
                                    "(No column name)": "9"
                                },
                                {
                                    "USERNEV": "daniel1",
                                    "nev": "Keszler Dániel",
                                    "mettol": "2016-11-23",
                                    "meddig": "2016-11-25",
                                    "Fő": "2",
                                    "(No column name)": "9"
                                },
                                {
                                    "USERNEV": "daniel1",
                                    "nev": "Keszler Dániel",
                                    "mettol": "2017-01-05",
                                    "meddig": "2017-01-08",
                                    "Fő": "3",
                                    "(No column name)": "7"
                                },
                                {
                                    "USERNEV": "daniel1",
                                    "nev": "Keszler Dániel",
                                    "mettol": "2017-03-01",
                                    "meddig": "2017-03-06",
                                    "Fő": "4",
                                    "(No column name)": "7"
                                },
                                {
                                    "USERNEV": "david",
                                    "nev": "Ambrus Dávid",
                                    "mettol": "2016-05-18",
                                    "meddig": "2016-05-25",
                                    "Fő": "2",
                                    "(No column name)": "NULL"
                                },
                                {
                                    "USERNEV": "david",
                                    "nev": "Ambrus Dávid",
                                    "mettol": "2016-07-18",
                                    "meddig": "2016-07-21",
                                    "Fő": "2",
                                    "(No column name)": "2"
                                },
                                {
                                    "USERNEV": "david",
                                    "nev": "Ambrus Dávid",
                                    "mettol": "2016-08-05",
                                    "meddig": "2016-08-12",
                                    "Fő": "1",
                                    "(No column name)": "4"
                                },
                                {
                                    "USERNEV": "david",
                                    "nev": "Ambrus Dávid",
                                    "mettol": "2016-08-20",
                                    "meddig": "2016-08-25",
                                    "Fő": "3",
                                    "(No column name)": "5"
                                },
                                {
                                    "USERNEV": "david",
                                    "nev": "Ambrus Dávid",
                                    "mettol": "2016-08-22",
                                    "meddig": "2016-08-24",
                                    "Fő": "3",
                                    "(No column name)": "6"
                                },
                                {
                                    "USERNEV": "david",
                                    "nev": "Ambrus Dávid",
                                    "mettol": "2016-06-09",
                                    "meddig": "2016-06-10",
                                    "Fő": "2",
                                    "(No column name)": "7"
                                },
                                {
                                    "USERNEV": "david",
                                    "nev": "Ambrus Dávid",
                                    "mettol": "2016-06-30",
                                    "meddig": "2016-07-07",
                                    "Fő": "2",
                                    "(No column name)": "8"
                                },
                                {
                                    "USERNEV": "david",
                                    "nev": "Ambrus Dávid",
                                    "mettol": "2016-10-30",
                                    "meddig": "2016-11-04",
                                    "Fő": "2",
                                    "(No column name)": "7"
                                },
                                {
                                    "USERNEV": "david",
                                    "nev": "Ambrus Dávid",
                                    "mettol": "2017-01-18",
                                    "meddig": "2017-01-19",
                                    "Fő": "2",
                                    "(No column name)": "6"
                                },
                                {
                                    "USERNEV": "david1",
                                    "nev": "Sobják Dávid",
                                    "mettol": "2016-09-20",
                                    "meddig": "2016-09-21",
                                    "Fő": "2",
                                    "(No column name)": "NULL"
                                },
                                {
                                    "USERNEV": "david1",
                                    "nev": "Sobják Dávid",
                                    "mettol": "2016-10-01",
                                    "meddig": "2016-10-02",
                                    "Fő": "2",
                                    "(No column name)": "2"
                                },
                                {
                                    "USERNEV": "david1",
                                    "nev": "Sobják Dávid",
                                    "mettol": "2016-11-19",
                                    "meddig": "2016-11-22",
                                    "Fő": "2",
                                    "(No column name)": "4"
                                },
                                {
                                    "USERNEV": "david1",
                                    "nev": "Sobják Dávid",
                                    "mettol": "2016-12-30",
                                    "meddig": "2017-01-06",
                                    "Fő": "2",
                                    "(No column name)": "6"
                                },
                                {
                                    "USERNEV": "david1",
                                    "nev": "Sobják Dávid",
                                    "mettol": "2017-02-17",
                                    "meddig": "2017-02-20",
                                    "Fő": "3",
                                    "(No column name)": "6"
                                },
                                {
                                    "USERNEV": "david1",
                                    "nev": "Sobják Dávid",
                                    "mettol": "2017-02-25",
                                    "meddig": "2017-02-27",
                                    "Fő": "4",
                                    "(No column name)": "7"
                                },
                                {
                                    "USERNEV": "david4",
                                    "nev": "Berta Dávid",
                                    "mettol": "2017-02-16",
                                    "meddig": "2017-02-19",
                                    "Fő": "3",
                                    "(No column name)": "NULL"
                                },
                                {
                                    "USERNEV": "debora",
                                    "nev": "Barna Debóra",
                                    "mettol": "2016-06-22",
                                    "meddig": "2016-06-24",
                                    "Fő": "5",
                                    "(No column name)": "NULL"
                                },
                                {
                                    "USERNEV": "debora",
                                    "nev": "Barna Debóra",
                                    "mettol": "2016-10-29",
                                    "meddig": "2016-11-03",
                                    "Fő": "2",
                                    "(No column name)": "5"
                                },
                                {
                                    "USERNEV": "debora",
                                    "nev": "Barna Debóra",
                                    "mettol": "2017-01-23",
                                    "meddig": "2017-01-28",
                                    "Fő": "3",
                                    "(No column name)": "7"
                                },
                                {
                                    "USERNEV": "debora",
                                    "nev": "Barna Debóra",
                                    "mettol": "2017-02-04",
                                    "meddig": "2017-02-06",
                                    "Fő": "3",
                                    "(No column name)": "10"
                                },
                                {
                                    "USERNEV": "denes",
                                    "nev": "Tömböly Dénes",
                                    "mettol": "2016-07-19",
                                    "meddig": "2016-07-23",
                                    "Fő": "2",
                                    "(No column name)": "NULL"
                                },
                                {
                                    "USERNEV": "denes",
                                    "nev": "Tömböly Dénes",
                                    "mettol": "2016-08-01",
                                    "meddig": "2016-08-08",
                                    "Fő": "3",
                                    "(No column name)": "2"
                                },
                                {
                                    "USERNEV": "denes",
                                    "nev": "Tömböly Dénes",
                                    "mettol": "2016-08-16",
                                    "meddig": "2016-08-23",
                                    "Fő": "2",
                                    "(No column name)": "5"
                                },
                                {
                                    "USERNEV": "denes",
                                    "nev": "Tömböly Dénes",
                                    "mettol": "2016-08-20",
                                    "meddig": "2016-08-27",
                                    "Fő": "3",
                                    "(No column name)": "7"
                                },
                                {
                                    "USERNEV": "denes",
                                    "nev": "Tömböly Dénes",
                                    "mettol": "2016-05-27",
                                    "meddig": "2016-05-31",
                                    "Fő": "3",
                                    "(No column name)": "8"
                                },
                                {
                                    "USERNEV": "denes",
                                    "nev": "Tömböly Dénes",
                                    "mettol": "2016-11-06",
                                    "meddig": "2016-11-10",
                                    "Fő": "2",
                                    "(No column name)": "8"
                                },
                                {
                                    "USERNEV": "dora3",
                                    "nev": "Sarodi Dóra",
                                    "mettol": "2016-08-16",
                                    "meddig": "2016-08-19",
                                    "Fő": "4",
                                    "(No column name)": "NULL"
                                },
                                {
                                    "USERNEV": "dora3",
                                    "nev": "Sarodi Dóra",
                                    "mettol": "2016-08-25",
                                    "meddig": "2016-08-29",
                                    "Fő": "3",
                                    "(No column name)": "4"
                                },
                                {
                                    "USERNEV": "dora3",
                                    "nev": "Sarodi Dóra",
                                    "mettol": "2016-10-09",
                                    "meddig": "2016-10-12",
                                    "Fő": "3",
                                    "(No column name)": "7"
                                },
                                {
                                    "USERNEV": "dora3",
                                    "nev": "Sarodi Dóra",
                                    "mettol": "2016-10-29",
                                    "meddig": "2016-11-02",
                                    "Fő": "3",
                                    "(No column name)": "10"
                                },
                                {
                                    "USERNEV": "dora3",
                                    "nev": "Sarodi Dóra",
                                    "mettol": "2016-11-22",
                                    "meddig": "2016-11-29",
                                    "Fő": "3",
                                    "(No column name)": "9"
                                },
                                {
                                    "USERNEV": "edit",
                                    "nev": "Bittmann Edit",
                                    "mettol": "2016-07-14",
                                    "meddig": "2016-07-17",
                                    "Fő": "3",
                                    "(No column name)": "NULL"
                                },
                                {
                                    "USERNEV": "edit",
                                    "nev": "Bittmann Edit",
                                    "mettol": "2016-08-03",
                                    "meddig": "2016-08-09",
                                    "Fő": "4",
                                    "(No column name)": "3"
                                },
                                {
                                    "USERNEV": "edit",
                                    "nev": "Bittmann Edit",
                                    "mettol": "2016-08-12",
                                    "meddig": "2016-08-14",
                                    "Fő": "2",
                                    "(No column name)": "7"
                                },
                                {
                                    "USERNEV": "edit",
                                    "nev": "Bittmann Edit",
                                    "mettol": "2016-09-17",
                                    "meddig": "2016-09-24",
                                    "Fő": "2",
                                    "(No column name)": "9"
                                },
                                {
                                    "USERNEV": "edit",
                                    "nev": "Bittmann Edit",
                                    "mettol": "2016-09-18",
                                    "meddig": "2016-09-21",
                                    "Fő": "3",
                                    "(No column name)": "8"
                                },
                                {
                                    "USERNEV": "edit",
                                    "nev": "Bittmann Edit",
                                    "mettol": "2017-01-15",
                                    "meddig": "2017-01-18",
                                    "Fő": "4",
                                    "(No column name)": "7"
                                },
                                {
                                    "USERNEV": "edit",
                                    "nev": "Bittmann Edit",
                                    "mettol": "2017-02-08",
                                    "meddig": "2017-02-14",
                                    "Fő": "3",
                                    "(No column name)": "9"
                                },
                                {
                                    "USERNEV": "emese",
                                    "nev": "Kuruc Emese",
                                    "mettol": "2016-07-22",
                                    "meddig": "2016-07-24",
                                    "Fő": "2",
                                    "(No column name)": "NULL"
                                },
                                {
                                    "USERNEV": "emese",
                                    "nev": "Kuruc Emese",
                                    "mettol": "2016-08-09",
                                    "meddig": "2016-08-12",
                                    "Fő": "2",
                                    "(No column name)": "2"
                                },
                                {
                                    "USERNEV": "emese",
                                    "nev": "Kuruc Emese",
                                    "mettol": "2016-09-27",
                                    "meddig": "2016-09-28",
                                    "Fő": "3",
                                    "(No column name)": "4"
                                },
                                {
                                    "USERNEV": "emese",
                                    "nev": "Kuruc Emese",
                                    "mettol": "2016-11-05",
                                    "meddig": "2016-11-09",
                                    "Fő": "1",
                                    "(No column name)": "7"
                                },
                                {
                                    "USERNEV": "emese",
                                    "nev": "Kuruc Emese",
                                    "mettol": "2016-11-23",
                                    "meddig": "2016-11-27",
                                    "Fő": "4",
                                    "(No column name)": "6"
                                },
                                {
                                    "USERNEV": "emese",
                                    "nev": "Kuruc Emese",
                                    "mettol": "2016-12-07",
                                    "meddig": "2016-12-08",
                                    "Fő": "3",
                                    "(No column name)": "8"
                                },
                                {
                                    "USERNEV": "emese",
                                    "nev": "Kuruc Emese",
                                    "mettol": "2017-01-30",
                                    "meddig": "2017-01-31",
                                    "Fő": "2",
                                    "(No column name)": "8"
                                },
                                {
                                    "USERNEV": "eszter",
                                    "nev": "Molnár Eszter",
                                    "mettol": "2016-08-12",
                                    "meddig": "2016-08-18",
                                    "Fő": "3",
                                    "(No column name)": "NULL"
                                },
                                {
                                    "USERNEV": "eszter",
                                    "nev": "Molnár Eszter",
                                    "mettol": "2016-10-04",
                                    "meddig": "2016-10-10",
                                    "Fő": "3",
                                    "(No column name)": "3"
                                },
                                {
                                    "USERNEV": "eszter",
                                    "nev": "Molnár Eszter",
                                    "mettol": "2016-10-26",
                                    "meddig": "2016-11-01",
                                    "Fő": "3",
                                    "(No column name)": "6"
                                },
                                {
                                    "USERNEV": "eszter",
                                    "nev": "Molnár Eszter",
                                    "mettol": "2016-12-23",
                                    "meddig": "2016-12-28",
                                    "Fő": "2",
                                    "(No column name)": "9"
                                },
                                {
                                    "USERNEV": "eszter2",
                                    "nev": "Balogh Eszter",
                                    "mettol": "2016-06-30",
                                    "meddig": "2016-07-07",
                                    "Fő": "3",
                                    "(No column name)": "NULL"
                                },
                                {
                                    "USERNEV": "eszter2",
                                    "nev": "Balogh Eszter",
                                    "mettol": "2016-07-08",
                                    "meddig": "2016-07-09",
                                    "Fő": "1",
                                    "(No column name)": "3"
                                },
                                {
                                    "USERNEV": "eszter2",
                                    "nev": "Balogh Eszter",
                                    "mettol": "2016-10-01",
                                    "meddig": "2016-10-05",
                                    "Fő": "3",
                                    "(No column name)": "4"
                                },
                                {
                                    "USERNEV": "eszter2",
                                    "nev": "Balogh Eszter",
                                    "mettol": "2016-10-01",
                                    "meddig": "2016-10-06",
                                    "Fő": "1",
                                    "(No column name)": "7"
                                },
                                {
                                    "USERNEV": "eszter2",
                                    "nev": "Balogh Eszter",
                                    "mettol": "2016-10-20",
                                    "meddig": "2016-10-25",
                                    "Fő": "1",
                                    "(No column name)": "5"
                                },
                                {
                                    "USERNEV": "eszter2",
                                    "nev": "Balogh Eszter",
                                    "mettol": "2016-10-23",
                                    "meddig": "2016-10-30",
                                    "Fő": "1",
                                    "(No column name)": "5"
                                },
                                {
                                    "USERNEV": "eszter2",
                                    "nev": "Balogh Eszter",
                                    "mettol": "2016-11-05",
                                    "meddig": "2016-11-12",
                                    "Fő": "4",
                                    "(No column name)": "3"
                                },
                                {
                                    "USERNEV": "eszter2",
                                    "nev": "Balogh Eszter",
                                    "mettol": "2016-12-02",
                                    "meddig": "2016-12-07",
                                    "Fő": "1",
                                    "(No column name)": "6"
                                },
                                {
                                    "USERNEV": "eszter2",
                                    "nev": "Balogh Eszter",
                                    "mettol": "2016-12-05",
                                    "meddig": "2016-12-08",
                                    "Fő": "2",
                                    "(No column name)": "6"
                                },
                                {
                                    "USERNEV": "eszter2",
                                    "nev": "Balogh Eszter",
                                    "mettol": "2016-12-29",
                                    "meddig": "2017-02-04",
                                    "Fő": "1",
                                    "(No column name)": "7"
                                },
                                {
                                    "USERNEV": "eszter4",
                                    "nev": "Fülöp Eszter",
                                    "mettol": "2017-01-05",
                                    "meddig": "2017-01-10",
                                    "Fő": "2",
                                    "(No column name)": "NULL"
                                },
                                {
                                    "USERNEV": "eszter4",
                                    "nev": "Fülöp Eszter",
                                    "mettol": "2017-01-26",
                                    "meddig": "2017-02-02",
                                    "Fő": "2",
                                    "(No column name)": "2"
                                },
                                {
                                    "USERNEV": "eszter4",
                                    "nev": "Fülöp Eszter",
                                    "mettol": "2017-02-26",
                                    "meddig": "2017-02-27",
                                    "Fő": "3",
                                    "(No column name)": "4"
                                },
                                {
                                    "USERNEV": "ESZTERE",
                                    "nev": "Érsek Eszter",
                                    "mettol": "2016-07-19",
                                    "meddig": "2016-07-21",
                                    "Fő": "2",
                                    "(No column name)": "NULL"
                                },
                                {
                                    "USERNEV": "ESZTERE",
                                    "nev": "Érsek Eszter",
                                    "mettol": "2016-05-30",
                                    "meddig": "2016-06-05",
                                    "Fő": "2",
                                    "(No column name)": "2"
                                },
                                {
                                    "USERNEV": "ESZTERE",
                                    "nev": "Érsek Eszter",
                                    "mettol": "2016-11-01",
                                    "meddig": "2016-11-08",
                                    "Fő": "2",
                                    "(No column name)": "4"
                                },
                                {
                                    "USERNEV": "ESZTERE",
                                    "nev": "Érsek Eszter",
                                    "mettol": "2017-02-10",
                                    "meddig": "2017-02-14",
                                    "Fő": "2",
                                    "(No column name)": "6"
                                },
                                {
                                    "USERNEV": "eva",
                                    "nev": "Enyedi Éva",
                                    "mettol": "2016-10-06",
                                    "meddig": "2016-10-09",
                                    "Fő": "3",
                                    "(No column name)": "NULL"
                                },
                                {
                                    "USERNEV": "eva",
                                    "nev": "Enyedi Éva",
                                    "mettol": "2017-01-14",
                                    "meddig": "2017-01-16",
                                    "Fő": "2",
                                    "(No column name)": "3"
                                },
                                {
                                    "USERNEV": "eva2",
                                    "nev": "Perlinger Éva",
                                    "mettol": "2016-09-02",
                                    "meddig": "2016-09-03",
                                    "Fő": "1",
                                    "(No column name)": "NULL"
                                },
                                {
                                    "USERNEV": "eva2",
                                    "nev": "Perlinger Éva",
                                    "mettol": "2016-11-06",
                                    "meddig": "2016-11-13",
                                    "Fő": "2",
                                    "(No column name)": "1"
                                },
                                {
                                    "USERNEV": "eva2",
                                    "nev": "Perlinger Éva",
                                    "mettol": "2016-12-06",
                                    "meddig": "2016-12-11",
                                    "Fő": "2",
                                    "(No column name)": "3"
                                },
                                {
                                    "USERNEV": "eva2",
                                    "nev": "Perlinger Éva",
                                    "mettol": "2017-01-06",
                                    "meddig": "2017-01-09",
                                    "Fő": "4",
                                    "(No column name)": "5"
                                },
                                {
                                    "USERNEV": "EVAV",
                                    "nev": "Viktor Éva",
                                    "mettol": "2016-05-01",
                                    "meddig": "2016-05-05",
                                    "Fő": "3",
                                    "(No column name)": "NULL"
                                },
                                {
                                    "USERNEV": "EVAV",
                                    "nev": "Viktor Éva",
                                    "mettol": "2016-08-31",
                                    "meddig": "2016-09-04",
                                    "Fő": "2",
                                    "(No column name)": "3"
                                },
                                {
                                    "USERNEV": "EVAV",
                                    "nev": "Viktor Éva",
                                    "mettol": "2016-10-15",
                                    "meddig": "2016-10-21",
                                    "Fő": "3",
                                    "(No column name)": "5"
                                },
                                {
                                    "USERNEV": "EVAV",
                                    "nev": "Viktor Éva",
                                    "mettol": "2016-10-16",
                                    "meddig": "2016-10-23",
                                    "Fő": "2",
                                    "(No column name)": "8"
                                },
                                {
                                    "USERNEV": "EVAV",
                                    "nev": "Viktor Éva",
                                    "mettol": "2017-02-04",
                                    "meddig": "2017-02-11",
                                    "Fő": "5",
                                    "(No column name)": "7"
                                },
                                {
                                    "USERNEV": "ferenc1",
                                    "nev": "Orosz Ferenc",
                                    "mettol": "2016-05-08",
                                    "meddig": "2016-05-11",
                                    "Fő": "2",
                                    "(No column name)": "NULL"
                                },
                                {
                                    "USERNEV": "ferenc1",
                                    "nev": "Orosz Ferenc",
                                    "mettol": "2016-06-16",
                                    "meddig": "2016-06-22",
                                    "Fő": "2",
                                    "(No column name)": "2"
                                },
                                {
                                    "USERNEV": "ferenc1",
                                    "nev": "Orosz Ferenc",
                                    "mettol": "2016-10-08",
                                    "meddig": "2016-10-09",
                                    "Fő": "2",
                                    "(No column name)": "4"
                                },
                                {
                                    "USERNEV": "ferenc1",
                                    "nev": "Orosz Ferenc",
                                    "mettol": "2016-11-07",
                                    "meddig": "2016-11-08",
                                    "Fő": "3",
                                    "(No column name)": "6"
                                },
                                {
                                    "USERNEV": "fruzsina4",
                                    "nev": "Frank Fruzsina",
                                    "mettol": "2016-07-13",
                                    "meddig": "2016-07-19",
                                    "Fő": "3",
                                    "(No column name)": "NULL"
                                },
                                {
                                    "USERNEV": "fruzsina4",
                                    "nev": "Frank Fruzsina",
                                    "mettol": "2016-08-27",
                                    "meddig": "2016-08-30",
                                    "Fő": "4",
                                    "(No column name)": "3"
                                },
                                {
                                    "USERNEV": "fruzsina4",
                                    "nev": "Frank Fruzsina",
                                    "mettol": "2016-06-02",
                                    "meddig": "2016-06-04",
                                    "Fő": "2",
                                    "(No column name)": "7"
                                },
                                {
                                    "USERNEV": "fruzsina4",
                                    "nev": "Frank Fruzsina",
                                    "mettol": "2016-07-01",
                                    "meddig": "2016-07-04",
                                    "Fő": "3",
                                    "(No column name)": "9"
                                },
                                {
                                    "USERNEV": "fruzsina4",
                                    "nev": "Frank Fruzsina",
                                    "mettol": "2016-09-29",
                                    "meddig": "2016-10-01",
                                    "Fő": "3",
                                    "(No column name)": "9"
                                },
                                {
                                    "USERNEV": "fruzsina4",
                                    "nev": "Frank Fruzsina",
                                    "mettol": "2016-11-22",
                                    "meddig": "2016-11-24",
                                    "Fő": "2",
                                    "(No column name)": "8"
                                },
                                {
                                    "USERNEV": "fruzsina4",
                                    "nev": "Frank Fruzsina",
                                    "mettol": "2016-12-16",
                                    "meddig": "2016-12-21",
                                    "Fő": "1",
                                    "(No column name)": "8"
                                },
                                {
                                    "USERNEV": "fruzsina4",
                                    "nev": "Frank Fruzsina",
                                    "mettol": "2017-01-22",
                                    "meddig": "2017-01-25",
                                    "Fő": "4",
                                    "(No column name)": "6"
                                },
                                {
                                    "USERNEV": "gabor1",
                                    "nev": "Köves Gábor",
                                    "mettol": "2016-07-28",
                                    "meddig": "2016-07-30",
                                    "Fő": "2",
                                    "(No column name)": "NULL"
                                },
                                {
                                    "USERNEV": "gabor1",
                                    "nev": "Köves Gábor",
                                    "mettol": "2016-09-02",
                                    "meddig": "2016-09-03",
                                    "Fő": "3",
                                    "(No column name)": "2"
                                },
                                {
                                    "USERNEV": "gabor1",
                                    "nev": "Köves Gábor",
                                    "mettol": "2016-06-20",
                                    "meddig": "2016-06-21",
                                    "Fő": "4",
                                    "(No column name)": "5"
                                },
                                {
                                    "USERNEV": "gabor1",
                                    "nev": "Köves Gábor",
                                    "mettol": "2016-07-12",
                                    "meddig": "2016-07-15",
                                    "Fő": "1",
                                    "(No column name)": "9"
                                },
                                {
                                    "USERNEV": "gabor1",
                                    "nev": "Köves Gábor",
                                    "mettol": "2016-10-20",
                                    "meddig": "2016-10-24",
                                    "Fő": "1",
                                    "(No column name)": "8"
                                },
                                {
                                    "USERNEV": "gabor1",
                                    "nev": "Köves Gábor",
                                    "mettol": "2016-11-19",
                                    "meddig": "2016-11-22",
                                    "Fő": "2",
                                    "(No column name)": "6"
                                },
                                {
                                    "USERNEV": "gabor4",
                                    "nev": "Telek Gábor",
                                    "mettol": "2016-04-26",
                                    "meddig": "2016-04-29",
                                    "Fő": "3",
                                    "(No column name)": "NULL"
                                },
                                {
                                    "USERNEV": "gabor4",
                                    "nev": "Telek Gábor",
                                    "mettol": "2016-08-31",
                                    "meddig": "2016-09-06",
                                    "Fő": "4",
                                    "(No column name)": "3"
                                },
                                {
                                    "USERNEV": "gabor4",
                                    "nev": "Telek Gábor",
                                    "mettol": "2016-05-30",
                                    "meddig": "2016-06-05",
                                    "Fő": "1",
                                    "(No column name)": "7"
                                },
                                {
                                    "USERNEV": "gabor4",
                                    "nev": "Telek Gábor",
                                    "mettol": "2016-11-07",
                                    "meddig": "2016-11-13",
                                    "Fő": "4",
                                    "(No column name)": "8"
                                },
                                {
                                    "USERNEV": "gabriella1",
                                    "nev": "Nagy Gabriella",
                                    "mettol": "2016-04-21",
                                    "meddig": "2016-04-24",
                                    "Fő": "3",
                                    "(No column name)": "NULL"
                                },
                                {
                                    "USERNEV": "gabriella1",
                                    "nev": "Nagy Gabriella",
                                    "mettol": "2016-07-24",
                                    "meddig": "2016-07-31",
                                    "Fő": "2",
                                    "(No column name)": "3"
                                },
                                {
                                    "USERNEV": "gabriella1",
                                    "nev": "Nagy Gabriella",
                                    "mettol": "2016-07-10",
                                    "meddig": "2016-07-11",
                                    "Fő": "3",
                                    "(No column name)": "5"
                                },
                                {
                                    "USERNEV": "gabriella1",
                                    "nev": "Nagy Gabriella",
                                    "mettol": "2017-02-04",
                                    "meddig": "2017-02-11",
                                    "Fő": "3",
                                    "(No column name)": "8"
                                },
                                {
                                    "USERNEV": "gabriella1",
                                    "nev": "Nagy Gabriella",
                                    "mettol": "2017-02-12",
                                    "meddig": "2017-02-13",
                                    "Fő": "2",
                                    "(No column name)": "8"
                                },
                                {
                                    "USERNEV": "gabriella1",
                                    "nev": "Nagy Gabriella",
                                    "mettol": "2017-02-21",
                                    "meddig": "2017-02-27",
                                    "Fő": "3",
                                    "(No column name)": "8"
                                },
                                {
                                    "USERNEV": "gabriella10",
                                    "nev": "Vida Gabriella",
                                    "mettol": "2016-10-01",
                                    "meddig": "2016-10-06",
                                    "Fő": "3",
                                    "(No column name)": "NULL"
                                },
                                {
                                    "USERNEV": "georgij",
                                    "nev": "Nyíri Georgij",
                                    "mettol": "2016-08-16",
                                    "meddig": "2016-08-22",
                                    "Fő": "4",
                                    "(No column name)": "NULL"
                                },
                                {
                                    "USERNEV": "georgij",
                                    "nev": "Nyíri Georgij",
                                    "mettol": "2016-08-28",
                                    "meddig": "2016-09-04",
                                    "Fő": "2",
                                    "(No column name)": "4"
                                },
                                {
                                    "USERNEV": "georgij",
                                    "nev": "Nyíri Georgij",
                                    "mettol": "2016-06-16",
                                    "meddig": "2016-06-20",
                                    "Fő": "3",
                                    "(No column name)": "6"
                                },
                                {
                                    "USERNEV": "georgij",
                                    "nev": "Nyíri Georgij",
                                    "mettol": "2016-09-18",
                                    "meddig": "2016-09-24",
                                    "Fő": "3",
                                    "(No column name)": "9"
                                },
                                {
                                    "USERNEV": "gusztav",
                                    "nev": "Bárci Gusztáv",
                                    "mettol": "2016-05-06",
                                    "meddig": "2016-05-13",
                                    "Fő": "2",
                                    "(No column name)": "NULL"
                                },
                                {
                                    "USERNEV": "gusztav",
                                    "nev": "Bárci Gusztáv",
                                    "mettol": "2016-08-05",
                                    "meddig": "2016-08-11",
                                    "Fő": "3",
                                    "(No column name)": "2"
                                },
                                {
                                    "USERNEV": "gusztav",
                                    "nev": "Bárci Gusztáv",
                                    "mettol": "2016-10-01",
                                    "meddig": "2016-10-03",
                                    "Fő": "3",
                                    "(No column name)": "5"
                                },
                                {
                                    "USERNEV": "gusztav",
                                    "nev": "Bárci Gusztáv",
                                    "mettol": "2017-02-03",
                                    "meddig": "2017-02-09",
                                    "Fő": "2",
                                    "(No column name)": "8"
                                },
                                {
                                    "USERNEV": "gusztav",
                                    "nev": "Bárci Gusztáv",
                                    "mettol": "2017-02-23",
                                    "meddig": "2017-03-01",
                                    "Fő": "4",
                                    "(No column name)": "8"
                                },
                                {
                                    "USERNEV": "GYONGYIK",
                                    "nev": "Kornseé Gyöngyi",
                                    "mettol": "2016-08-17",
                                    "meddig": "2016-08-21",
                                    "Fő": "3",
                                    "(No column name)": "NULL"
                                },
                                {
                                    "USERNEV": "GYONGYIK",
                                    "nev": "Kornseé Gyöngyi",
                                    "mettol": "2016-06-02",
                                    "meddig": "2016-06-05",
                                    "Fő": "3",
                                    "(No column name)": "3"
                                },
                                {
                                    "USERNEV": "GYONGYIK",
                                    "nev": "Kornseé Gyöngyi",
                                    "mettol": "2016-06-10",
                                    "meddig": "2016-06-17",
                                    "Fő": "1",
                                    "(No column name)": "6"
                                },
                                {
                                    "USERNEV": "GYONGYIK",
                                    "nev": "Kornseé Gyöngyi",
                                    "mettol": "2016-07-01",
                                    "meddig": "2016-07-05",
                                    "Fő": "2",
                                    "(No column name)": "7"
                                },
                                {
                                    "USERNEV": "GYONGYIK",
                                    "nev": "Kornseé Gyöngyi",
                                    "mettol": "2016-11-08",
                                    "meddig": "2016-11-13",
                                    "Fő": "2",
                                    "(No column name)": "6"
                                },
                                {
                                    "USERNEV": "GYONGYIK",
                                    "nev": "Kornseé Gyöngyi",
                                    "mettol": "2016-12-01",
                                    "meddig": "2016-12-08",
                                    "Fő": "2",
                                    "(No column name)": "5"
                                },
                                {
                                    "USERNEV": "GYONGYIK",
                                    "nev": "Kornseé Gyöngyi",
                                    "mettol": "2017-01-22",
                                    "meddig": "2017-01-29",
                                    "Fő": "3",
                                    "(No column name)": "6"
                                },
                                {
                                    "USERNEV": "GYORGYO",
                                    "nev": "Oroszi György",
                                    "mettol": "2016-07-18",
                                    "meddig": "2016-07-25",
                                    "Fő": "2",
                                    "(No column name)": "NULL"
                                },
                                {
                                    "USERNEV": "GYORGYO",
                                    "nev": "Oroszi György",
                                    "mettol": "2016-07-28",
                                    "meddig": "2016-08-03",
                                    "Fő": "3",
                                    "(No column name)": "2"
                                },
                                {
                                    "USERNEV": "GYORGYO",
                                    "nev": "Oroszi György",
                                    "mettol": "2016-05-27",
                                    "meddig": "2016-05-28",
                                    "Fő": "3",
                                    "(No column name)": "5"
                                },
                                {
                                    "USERNEV": "GYORGYO",
                                    "nev": "Oroszi György",
                                    "mettol": "2016-06-01",
                                    "meddig": "2016-06-07",
                                    "Fő": "2",
                                    "(No column name)": "8"
                                },
                                {
                                    "USERNEV": "GYORGYO",
                                    "nev": "Oroszi György",
                                    "mettol": "2016-06-10",
                                    "meddig": "2016-06-15",
                                    "Fő": "2",
                                    "(No column name)": "8"
                                },
                                {
                                    "USERNEV": "GYORGYO",
                                    "nev": "Oroszi György",
                                    "mettol": "2016-10-28",
                                    "meddig": "2016-10-31",
                                    "Fő": "1",
                                    "(No column name)": "7"
                                },
                                {
                                    "USERNEV": "GYORGYO",
                                    "nev": "Oroszi György",
                                    "mettol": "2017-02-13",
                                    "meddig": "2017-02-15",
                                    "Fő": "2",
                                    "(No column name)": "5"
                                },
                                {
                                    "USERNEV": "GYORGYO",
                                    "nev": "Oroszi György",
                                    "mettol": "2017-02-24",
                                    "meddig": "2017-02-25",
                                    "Fő": "3",
                                    "(No column name)": "5"
                                },
                                {
                                    "USERNEV": "henrik3",
                                    "nev": "Nádudvari Henrik",
                                    "mettol": "2016-08-24",
                                    "meddig": "2016-08-28",
                                    "Fő": "1",
                                    "(No column name)": "NULL"
                                },
                                {
                                    "USERNEV": "henrik3",
                                    "nev": "Nádudvari Henrik",
                                    "mettol": "2016-12-29",
                                    "meddig": "2017-01-03",
                                    "Fő": "3",
                                    "(No column name)": "1"
                                },
                                {
                                    "USERNEV": "henrik3",
                                    "nev": "Nádudvari Henrik",
                                    "mettol": "2017-01-27",
                                    "meddig": "2017-01-28",
                                    "Fő": "3",
                                    "(No column name)": "4"
                                },
                                {
                                    "USERNEV": "IBOLYAA",
                                    "nev": "Andor Ibolya",
                                    "mettol": "2016-08-29",
                                    "meddig": "2016-08-31",
                                    "Fő": "5",
                                    "(No column name)": "NULL"
                                },
                                {
                                    "USERNEV": "IBOLYAA",
                                    "nev": "Andor Ibolya",
                                    "mettol": "2016-10-23",
                                    "meddig": "2016-10-28",
                                    "Fő": "2",
                                    "(No column name)": "5"
                                },
                                {
                                    "USERNEV": "IBOLYAA",
                                    "nev": "Andor Ibolya",
                                    "mettol": "2017-01-17",
                                    "meddig": "2017-01-23",
                                    "Fő": "3",
                                    "(No column name)": "7"
                                },
                                {
                                    "USERNEV": "ilona3",
                                    "nev": "Bosnyák Ilona",
                                    "mettol": "2016-07-31",
                                    "meddig": "2016-08-06",
                                    "Fő": "2",
                                    "(No column name)": "NULL"
                                },
                                {
                                    "USERNEV": "ilona3",
                                    "nev": "Bosnyák Ilona",
                                    "mettol": "2016-08-04",
                                    "meddig": "2016-08-08",
                                    "Fő": "3",
                                    "(No column name)": "2"
                                },
                                {
                                    "USERNEV": "ilona3",
                                    "nev": "Bosnyák Ilona",
                                    "mettol": "2016-11-04",
                                    "meddig": "2016-11-06",
                                    "Fő": "4",
                                    "(No column name)": "5"
                                },
                                {
                                    "USERNEV": "ilona3",
                                    "nev": "Bosnyák Ilona",
                                    "mettol": "2016-12-25",
                                    "meddig": "2016-12-31",
                                    "Fő": "3",
                                    "(No column name)": "9"
                                },
                                {
                                    "USERNEV": "imre",
                                    "nev": "Búza Imre",
                                    "mettol": "2016-09-17",
                                    "meddig": "2016-09-19",
                                    "Fő": "3",
                                    "(No column name)": "NULL"
                                },
                                {
                                    "USERNEV": "imre",
                                    "nev": "Búza Imre",
                                    "mettol": "2016-10-28",
                                    "meddig": "2016-10-29",
                                    "Fő": "4",
                                    "(No column name)": "3"
                                },
                                {
                                    "USERNEV": "imre1",
                                    "nev": "Papp Imre",
                                    "mettol": "2016-08-21",
                                    "meddig": "2016-08-27",
                                    "Fő": "2",
                                    "(No column name)": "NULL"
                                },
                                {
                                    "USERNEV": "imre1",
                                    "nev": "Papp Imre",
                                    "mettol": "2016-08-23",
                                    "meddig": "2016-08-25",
                                    "Fő": "3",
                                    "(No column name)": "2"
                                },
                                {
                                    "USERNEV": "imre1",
                                    "nev": "Papp Imre",
                                    "mettol": "2016-08-29",
                                    "meddig": "2016-08-31",
                                    "Fő": "2",
                                    "(No column name)": "5"
                                },
                                {
                                    "USERNEV": "imre1",
                                    "nev": "Papp Imre",
                                    "mettol": "2016-06-23",
                                    "meddig": "2016-06-26",
                                    "Fő": "4",
                                    "(No column name)": "7"
                                },
                                {
                                    "USERNEV": "imre1",
                                    "nev": "Papp Imre",
                                    "mettol": "2016-06-27",
                                    "meddig": "2016-06-28",
                                    "Fő": "2",
                                    "(No column name)": "9"
                                },
                                {
                                    "USERNEV": "imre1",
                                    "nev": "Papp Imre",
                                    "mettol": "2017-02-01",
                                    "meddig": "2017-02-04",
                                    "Fő": "2",
                                    "(No column name)": "8"
                                },
                                {
                                    "USERNEV": "imre1",
                                    "nev": "Papp Imre",
                                    "mettol": "2017-02-05",
                                    "meddig": "2017-02-07",
                                    "Fő": "4",
                                    "(No column name)": "8"
                                },
                                {
                                    "USERNEV": "istvan",
                                    "nev": "Soós István",
                                    "mettol": "2016-10-07",
                                    "meddig": "2016-10-10",
                                    "Fő": "2",
                                    "(No column name)": "NULL"
                                },
                                {
                                    "USERNEV": "istvan",
                                    "nev": "Soós István",
                                    "mettol": "2016-11-22",
                                    "meddig": "2016-11-24",
                                    "Fő": "3",
                                    "(No column name)": "2"
                                },
                                {
                                    "USERNEV": "istvan",
                                    "nev": "Soós István",
                                    "mettol": "2017-01-02",
                                    "meddig": "2017-01-05",
                                    "Fő": "2",
                                    "(No column name)": "5"
                                },
                                {
                                    "USERNEV": "istvan1",
                                    "nev": "Vizi István",
                                    "mettol": "2016-04-16",
                                    "meddig": "2016-04-22",
                                    "Fő": "3",
                                    "(No column name)": "NULL"
                                },
                                {
                                    "USERNEV": "istvan1",
                                    "nev": "Vizi István",
                                    "mettol": "2016-04-24",
                                    "meddig": "2016-04-28",
                                    "Fő": "3",
                                    "(No column name)": "3"
                                },
                                {
                                    "USERNEV": "istvan1",
                                    "nev": "Vizi István",
                                    "mettol": "2016-07-19",
                                    "meddig": "2016-07-24",
                                    "Fő": "1",
                                    "(No column name)": "6"
                                },
                                {
                                    "USERNEV": "istvan1",
                                    "nev": "Vizi István",
                                    "mettol": "2017-02-07",
                                    "meddig": "2017-02-10",
                                    "Fő": "3",
                                    "(No column name)": "7"
                                },
                                {
                                    "USERNEV": "ISTVANV",
                                    "nev": "Varga István",
                                    "mettol": "2016-07-01",
                                    "meddig": "2016-07-04",
                                    "Fő": "4",
                                    "(No column name)": "NULL"
                                },
                                {
                                    "USERNEV": "ISTVANV",
                                    "nev": "Varga István",
                                    "mettol": "2016-09-29",
                                    "meddig": "2016-10-01",
                                    "Fő": "3",
                                    "(No column name)": "4"
                                },
                                {
                                    "USERNEV": "janos3",
                                    "nev": "Harangozó János",
                                    "mettol": "2016-08-24",
                                    "meddig": "2016-08-25",
                                    "Fő": "3",
                                    "(No column name)": "NULL"
                                },
                                {
                                    "USERNEV": "janos3",
                                    "nev": "Harangozó János",
                                    "mettol": "2016-06-04",
                                    "meddig": "2016-06-06",
                                    "Fő": "1",
                                    "(No column name)": "3"
                                },
                                {
                                    "USERNEV": "janos3",
                                    "nev": "Harangozó János",
                                    "mettol": "2016-10-03",
                                    "meddig": "2016-10-08",
                                    "Fő": "3",
                                    "(No column name)": "4"
                                },
                                {
                                    "USERNEV": "janos3",
                                    "nev": "Harangozó János",
                                    "mettol": "2016-10-22",
                                    "meddig": "2016-10-23",
                                    "Fő": "1",
                                    "(No column name)": "7"
                                },
                                {
                                    "USERNEV": "janos3",
                                    "nev": "Harangozó János",
                                    "mettol": "2017-02-12",
                                    "meddig": "2017-02-14",
                                    "Fő": "3",
                                    "(No column name)": "5"
                                },
                                {
                                    "USERNEV": "JANOSG",
                                    "nev": "Giliga János",
                                    "mettol": "2016-05-09",
                                    "meddig": "2016-05-15",
                                    "Fő": "1",
                                    "(No column name)": "NULL"
                                },
                                {
                                    "USERNEV": "JANOSG",
                                    "nev": "Giliga János",
                                    "mettol": "2016-08-16",
                                    "meddig": "2016-08-23",
                                    "Fő": "3",
                                    "(No column name)": "1"
                                },
                                {
                                    "USERNEV": "JANOSG",
                                    "nev": "Giliga János",
                                    "mettol": "2016-08-30",
                                    "meddig": "2016-09-03",
                                    "Fő": "3",
                                    "(No column name)": "4"
                                },
                                {
                                    "USERNEV": "JANOSG",
                                    "nev": "Giliga János",
                                    "mettol": "2016-11-07",
                                    "meddig": "2016-11-14",
                                    "Fő": "3",
                                    "(No column name)": "7"
                                },
                                {
                                    "USERNEV": "JANOSG",
                                    "nev": "Giliga János",
                                    "mettol": "2016-12-28",
                                    "meddig": "2016-12-30",
                                    "Fő": "2",
                                    "(No column name)": "9"
                                },
                                {
                                    "USERNEV": "JANOSG",
                                    "nev": "Giliga János",
                                    "mettol": "2017-01-10",
                                    "meddig": "2017-01-15",
                                    "Fő": "2",
                                    "(No column name)": "8"
                                },
                                {
                                    "USERNEV": "JANOSG",
                                    "nev": "Giliga János",
                                    "mettol": "2017-01-31",
                                    "meddig": "2017-02-05",
                                    "Fő": "2",
                                    "(No column name)": "7"
                                },
                                {
                                    "USERNEV": "JANOSP",
                                    "nev": "Pálinkás János",
                                    "mettol": "2016-07-04",
                                    "meddig": "2016-07-11",
                                    "Fő": "3",
                                    "(No column name)": "NULL"
                                },
                                {
                                    "USERNEV": "JANOSP",
                                    "nev": "Pálinkás János",
                                    "mettol": "2016-11-23",
                                    "meddig": "2016-11-28",
                                    "Fő": "2",
                                    "(No column name)": "3"
                                },
                                {
                                    "USERNEV": "JANOSP",
                                    "nev": "Pálinkás János",
                                    "mettol": "2016-11-25",
                                    "meddig": "2016-11-27",
                                    "Fő": "2",
                                    "(No column name)": "5"
                                },
                                {
                                    "USERNEV": "JANOSP",
                                    "nev": "Pálinkás János",
                                    "mettol": "2016-12-18",
                                    "meddig": "2016-12-21",
                                    "Fő": "2",
                                    "(No column name)": "7"
                                },
                                {
                                    "USERNEV": "jozsef",
                                    "nev": "Gergely József",
                                    "mettol": "2016-09-13",
                                    "meddig": "2016-09-19",
                                    "Fő": "2",
                                    "(No column name)": "NULL"
                                },
                                {
                                    "USERNEV": "jozsef",
                                    "nev": "Gergely József",
                                    "mettol": "2016-10-08",
                                    "meddig": "2016-10-10",
                                    "Fő": "2",
                                    "(No column name)": "2"
                                },
                                {
                                    "USERNEV": "jozsef",
                                    "nev": "Gergely József",
                                    "mettol": "2016-12-06",
                                    "meddig": "2016-12-07",
                                    "Fő": "2",
                                    "(No column name)": "4"
                                },
                                {
                                    "USERNEV": "jozsef2",
                                    "nev": "Vajda József",
                                    "mettol": "2016-07-16",
                                    "meddig": "2016-07-20",
                                    "Fő": "3",
                                    "(No column name)": "NULL"
                                },
                                {
                                    "USERNEV": "jozsef2",
                                    "nev": "Vajda József",
                                    "mettol": "2016-07-06",
                                    "meddig": "2016-07-11",
                                    "Fő": "2",
                                    "(No column name)": "3"
                                },
                                {
                                    "USERNEV": "jozsef2",
                                    "nev": "Vajda József",
                                    "mettol": "2016-09-09",
                                    "meddig": "2016-09-15",
                                    "Fő": "2",
                                    "(No column name)": "5"
                                },
                                {
                                    "USERNEV": "jozsef2",
                                    "nev": "Vajda József",
                                    "mettol": "2016-11-23",
                                    "meddig": "2016-11-29",
                                    "Fő": "3",
                                    "(No column name)": "7"
                                },
                                {
                                    "USERNEV": "jozsef2",
                                    "nev": "Vajda József",
                                    "mettol": "2016-11-25",
                                    "meddig": "2016-11-29",
                                    "Fő": "3",
                                    "(No column name)": "7"
                                },
                                {
                                    "USERNEV": "JOZSEFG",
                                    "nev": "Gyuris József",
                                    "mettol": "2016-05-02",
                                    "meddig": "2016-05-06",
                                    "Fő": "2",
                                    "(No column name)": "NULL"
                                },
                                {
                                    "USERNEV": "JOZSEFG",
                                    "nev": "Gyuris József",
                                    "mettol": "2016-08-24",
                                    "meddig": "2016-08-27",
                                    "Fő": "3",
                                    "(No column name)": "2"
                                },
                                {
                                    "USERNEV": "JOZSEFG",
                                    "nev": "Gyuris József",
                                    "mettol": "2016-05-23",
                                    "meddig": "2016-05-25",
                                    "Fő": "1",
                                    "(No column name)": "5"
                                },
                                {
                                    "USERNEV": "JOZSEFG",
                                    "nev": "Gyuris József",
                                    "mettol": "2016-06-04",
                                    "meddig": "2016-06-09",
                                    "Fő": "4",
                                    "(No column name)": "6"
                                },
                                {
                                    "USERNEV": "JOZSEFG",
                                    "nev": "Gyuris József",
                                    "mettol": "2017-01-09",
                                    "meddig": "2017-01-13",
                                    "Fő": "2",
                                    "(No column name)": "8"
                                },
                                {
                                    "USERNEV": "JOZSEFG",
                                    "nev": "Gyuris József",
                                    "mettol": "2017-01-22",
                                    "meddig": "2017-01-26",
                                    "Fő": "1",
                                    "(No column name)": "7"
                                },
                                {
                                    "USERNEV": "JOZSEFG",
                                    "nev": "Gyuris József",
                                    "mettol": "2017-02-24",
                                    "meddig": "2017-03-03",
                                    "Fő": "3",
                                    "(No column name)": "7"
                                },
                                {
                                    "USERNEV": "JUDITH",
                                    "nev": "Hídasi Judit",
                                    "mettol": "2016-07-28",
                                    "meddig": "2016-07-30",
                                    "Fő": "2",
                                    "(No column name)": "NULL"
                                },
                                {
                                    "USERNEV": "JUDITH",
                                    "nev": "Hídasi Judit",
                                    "mettol": "2016-06-06",
                                    "meddig": "2016-06-10",
                                    "Fő": "2",
                                    "(No column name)": "2"
                                },
                                {
                                    "USERNEV": "JUDITH",
                                    "nev": "Hídasi Judit",
                                    "mettol": "2016-12-19",
                                    "meddig": "2016-12-26",
                                    "Fő": "1",
                                    "(No column name)": "4"
                                },
                                {
                                    "USERNEV": "julia",
                                    "nev": "Tóth Júlia",
                                    "mettol": "2016-04-21",
                                    "meddig": "2016-04-26",
                                    "Fő": "2",
                                    "(No column name)": "NULL"
                                },
                                {
                                    "USERNEV": "julia",
                                    "nev": "Tóth Júlia",
                                    "mettol": "2016-05-12",
                                    "meddig": "2016-05-17",
                                    "Fő": "1",
                                    "(No column name)": "2"
                                },
                                {
                                    "USERNEV": "julia",
                                    "nev": "Tóth Júlia",
                                    "mettol": "2016-07-20",
                                    "meddig": "2016-07-22",
                                    "Fő": "2",
                                    "(No column name)": "3"
                                },
                                {
                                    "USERNEV": "julia",
                                    "nev": "Tóth Júlia",
                                    "mettol": "2016-06-07",
                                    "meddig": "2016-06-08",
                                    "Fő": "5",
                                    "(No column name)": "5"
                                },
                                {
                                    "USERNEV": "julia",
                                    "nev": "Tóth Júlia",
                                    "mettol": "2017-02-27",
                                    "meddig": "2017-03-06",
                                    "Fő": "3",
                                    "(No column name)": "8"
                                },
                                {
                                    "USERNEV": "julia4",
                                    "nev": "Nagy Júlia",
                                    "mettol": "2016-11-07",
                                    "meddig": "2016-11-12",
                                    "Fő": "1",
                                    "(No column name)": "NULL"
                                },
                                {
                                    "USERNEV": "julia4",
                                    "nev": "Nagy Júlia",
                                    "mettol": "2017-02-04",
                                    "meddig": "2017-02-11",
                                    "Fő": "4",
                                    "(No column name)": "1"
                                },
                                {
                                    "USERNEV": "julianna4",
                                    "nev": "Szabó Julianna",
                                    "mettol": "2016-07-20",
                                    "meddig": "2016-07-26",
                                    "Fő": "2",
                                    "(No column name)": "NULL"
                                },
                                {
                                    "USERNEV": "julianna4",
                                    "nev": "Szabó Julianna",
                                    "mettol": "2016-10-29",
                                    "meddig": "2016-10-31",
                                    "Fő": "3",
                                    "(No column name)": "2"
                                },
                                {
                                    "USERNEV": "julianna4",
                                    "nev": "Szabó Julianna",
                                    "mettol": "2016-11-03",
                                    "meddig": "2016-11-04",
                                    "Fő": "2",
                                    "(No column name)": "5"
                                },
                                {
                                    "USERNEV": "julianna4",
                                    "nev": "Szabó Julianna",
                                    "mettol": "2016-11-27",
                                    "meddig": "2016-12-04",
                                    "Fő": "3",
                                    "(No column name)": "7"
                                },
                                {
                                    "USERNEV": "kata",
                                    "nev": "Gondos Katalin",
                                    "mettol": "2016-04-10",
                                    "meddig": "2016-04-11",
                                    "Fő": "2",
                                    "(No column name)": "NULL"
                                },
                                {
                                    "USERNEV": "kata",
                                    "nev": "Gondos Katalin",
                                    "mettol": "2016-04-25",
                                    "meddig": "2016-05-01",
                                    "Fő": "1",
                                    "(No column name)": "2"
                                },
                                {
                                    "USERNEV": "kata",
                                    "nev": "Gondos Katalin",
                                    "mettol": "2016-08-24",
                                    "meddig": "2016-08-27",
                                    "Fő": "3",
                                    "(No column name)": "3"
                                },
                                {
                                    "USERNEV": "kata",
                                    "nev": "Gondos Katalin",
                                    "mettol": "2016-05-31",
                                    "meddig": "2016-06-01",
                                    "Fő": "3",
                                    "(No column name)": "6"
                                },
                                {
                                    "USERNEV": "kata",
                                    "nev": "Gondos Katalin",
                                    "mettol": "2016-06-07",
                                    "meddig": "2016-06-12",
                                    "Fő": "2",
                                    "(No column name)": "7"
                                },
                                {
                                    "USERNEV": "kata",
                                    "nev": "Gondos Katalin",
                                    "mettol": "2016-07-01",
                                    "meddig": "2016-07-07",
                                    "Fő": "2",
                                    "(No column name)": "8"
                                },
                                {
                                    "USERNEV": "kata",
                                    "nev": "Gondos Katalin",
                                    "mettol": "2016-07-03",
                                    "meddig": "2016-07-06",
                                    "Fő": "1",
                                    "(No column name)": "7"
                                },
                                {
                                    "USERNEV": "kata",
                                    "nev": "Gondos Katalin",
                                    "mettol": "2016-07-07",
                                    "meddig": "2016-07-09",
                                    "Fő": "3",
                                    "(No column name)": "5"
                                },
                                {
                                    "USERNEV": "kata",
                                    "nev": "Gondos Katalin",
                                    "mettol": "2016-09-19",
                                    "meddig": "2016-09-20",
                                    "Fő": "3",
                                    "(No column name)": "6"
                                },
                                {
                                    "USERNEV": "kata",
                                    "nev": "Gondos Katalin",
                                    "mettol": "2017-01-15",
                                    "meddig": "2017-01-21",
                                    "Fő": "3",
                                    "(No column name)": "7"
                                },
                                {
                                    "USERNEV": "katalin",
                                    "nev": "Horváth Katalin",
                                    "mettol": "2016-04-10",
                                    "meddig": "2016-04-17",
                                    "Fő": "2",
                                    "(No column name)": "NULL"
                                },
                                {
                                    "USERNEV": "katalin",
                                    "nev": "Horváth Katalin",
                                    "mettol": "2016-05-21",
                                    "meddig": "2016-05-26",
                                    "Fő": "1",
                                    "(No column name)": "2"
                                },
                                {
                                    "USERNEV": "katalin",
                                    "nev": "Horváth Katalin",
                                    "mettol": "2016-07-28",
                                    "meddig": "2016-07-29",
                                    "Fő": "1",
                                    "(No column name)": "3"
                                },
                                {
                                    "USERNEV": "katalin",
                                    "nev": "Horváth Katalin",
                                    "mettol": "2016-07-06",
                                    "meddig": "2016-07-11",
                                    "Fő": "1",
                                    "(No column name)": "4"
                                },
                                {
                                    "USERNEV": "katalin",
                                    "nev": "Horváth Katalin",
                                    "mettol": "2016-10-26",
                                    "meddig": "2016-10-30",
                                    "Fő": "2",
                                    "(No column name)": "3"
                                },
                                {
                                    "USERNEV": "katalin",
                                    "nev": "Horváth Katalin",
                                    "mettol": "2016-12-13",
                                    "meddig": "2016-12-19",
                                    "Fő": "2",
                                    "(No column name)": "4"
                                },
                                {
                                    "USERNEV": "katalin",
                                    "nev": "Horváth Katalin",
                                    "mettol": "2016-12-17",
                                    "meddig": "2016-12-24",
                                    "Fő": "1",
                                    "(No column name)": "5"
                                },
                                {
                                    "USERNEV": "katalin",
                                    "nev": "Horváth Katalin",
                                    "mettol": "2016-12-24",
                                    "meddig": "2016-12-27",
                                    "Fő": "2",
                                    "(No column name)": "5"
                                },
                                {
                                    "USERNEV": "katalin",
                                    "nev": "Horváth Katalin",
                                    "mettol": "2017-02-24",
                                    "meddig": "2017-02-27",
                                    "Fő": "3",
                                    "(No column name)": "5"
                                },
                                {
                                    "USERNEV": "katalin4",
                                    "nev": "Kertész Katalin",
                                    "mettol": "2016-07-01",
                                    "meddig": "2016-07-07",
                                    "Fő": "1",
                                    "(No column name)": "NULL"
                                },
                                {
                                    "USERNEV": "katalin4",
                                    "nev": "Kertész Katalin",
                                    "mettol": "2016-07-03",
                                    "meddig": "2016-07-04",
                                    "Fő": "4",
                                    "(No column name)": "1"
                                },
                                {
                                    "USERNEV": "katalin4",
                                    "nev": "Kertész Katalin",
                                    "mettol": "2016-11-27",
                                    "meddig": "2016-12-04",
                                    "Fő": "3",
                                    "(No column name)": "5"
                                },
                                {
                                    "USERNEV": "katalin4",
                                    "nev": "Kertész Katalin",
                                    "mettol": "2016-12-04",
                                    "meddig": "2016-12-09",
                                    "Fő": "3",
                                    "(No column name)": "8"
                                },
                                {
                                    "USERNEV": "katalin4",
                                    "nev": "Kertész Katalin",
                                    "mettol": "2017-01-18",
                                    "meddig": "2017-01-20",
                                    "Fő": "2",
                                    "(No column name)": "10"
                                },
                                {
                                    "USERNEV": "katalin4",
                                    "nev": "Kertész Katalin",
                                    "mettol": "2017-01-24",
                                    "meddig": "2017-01-31",
                                    "Fő": "2",
                                    "(No column name)": "8"
                                },
                                {
                                    "USERNEV": "kati",
                                    "nev": "Zatykó Katalin",
                                    "mettol": "2016-07-13",
                                    "meddig": "2016-07-20",
                                    "Fő": "2",
                                    "(No column name)": "NULL"
                                },
                                {
                                    "USERNEV": "kati",
                                    "nev": "Zatykó Katalin",
                                    "mettol": "2016-07-27",
                                    "meddig": "2016-08-03",
                                    "Fő": "2",
                                    "(No column name)": "2"
                                },
                                {
                                    "USERNEV": "kati",
                                    "nev": "Zatykó Katalin",
                                    "mettol": "2016-08-03",
                                    "meddig": "2016-08-07",
                                    "Fő": "2",
                                    "(No column name)": "4"
                                },
                                {
                                    "USERNEV": "kati",
                                    "nev": "Zatykó Katalin",
                                    "mettol": "2016-06-06",
                                    "meddig": "2016-06-10",
                                    "Fő": "2",
                                    "(No column name)": "6"
                                },
                                {
                                    "USERNEV": "kati",
                                    "nev": "Zatykó Katalin",
                                    "mettol": "2016-06-06",
                                    "meddig": "2016-06-11",
                                    "Fő": "3",
                                    "(No column name)": "6"
                                },
                                {
                                    "USERNEV": "kati",
                                    "nev": "Zatykó Katalin",
                                    "mettol": "2016-10-26",
                                    "meddig": "2016-10-28",
                                    "Fő": "2",
                                    "(No column name)": "7"
                                },
                                {
                                    "USERNEV": "kati",
                                    "nev": "Zatykó Katalin",
                                    "mettol": "2016-10-30",
                                    "meddig": "2016-11-01",
                                    "Fő": "3",
                                    "(No column name)": "7"
                                },
                                {
                                    "USERNEV": "katka",
                                    "nev": "Kovács Katalin",
                                    "mettol": "2016-04-10",
                                    "meddig": "2016-04-12",
                                    "Fő": "2",
                                    "(No column name)": "NULL"
                                },
                                {
                                    "USERNEV": "katka",
                                    "nev": "Kovács Katalin",
                                    "mettol": "2016-05-09",
                                    "meddig": "2016-05-15",
                                    "Fő": "3",
                                    "(No column name)": "2"
                                },
                                {
                                    "USERNEV": "katka",
                                    "nev": "Kovács Katalin",
                                    "mettol": "2016-08-24",
                                    "meddig": "2016-08-26",
                                    "Fő": "2",
                                    "(No column name)": "5"
                                },
                                {
                                    "USERNEV": "katka",
                                    "nev": "Kovács Katalin",
                                    "mettol": "2016-06-13",
                                    "meddig": "2016-06-18",
                                    "Fő": "1",
                                    "(No column name)": "7"
                                },
                                {
                                    "USERNEV": "katka",
                                    "nev": "Kovács Katalin",
                                    "mettol": "2016-06-13",
                                    "meddig": "2016-06-19",
                                    "Fő": "4",
                                    "(No column name)": "6"
                                },
                                {
                                    "USERNEV": "katka",
                                    "nev": "Kovács Katalin",
                                    "mettol": "2016-09-05",
                                    "meddig": "2016-09-10",
                                    "Fő": "4",
                                    "(No column name)": "7"
                                },
                                {
                                    "USERNEV": "katka",
                                    "nev": "Kovács Katalin",
                                    "mettol": "2016-11-05",
                                    "meddig": "2016-11-08",
                                    "Fő": "3",
                                    "(No column name)": "9"
                                },
                                {
                                    "USERNEV": "katka",
                                    "nev": "Kovács Katalin",
                                    "mettol": "2017-01-02",
                                    "meddig": "2017-01-05",
                                    "Fő": "3",
                                    "(No column name)": "11"
                                },
                                {
                                    "USERNEV": "katka",
                                    "nev": "Kovács Katalin",
                                    "mettol": "2017-01-19",
                                    "meddig": "2017-01-20",
                                    "Fő": "3",
                                    "(No column name)": "10"
                                },
                                {
                                    "USERNEV": "klaudia2",
                                    "nev": "Bakó Klaudia",
                                    "mettol": "2016-06-06",
                                    "meddig": "2016-06-08",
                                    "Fő": "4",
                                    "(No column name)": "NULL"
                                },
                                {
                                    "USERNEV": "klaudia2",
                                    "nev": "Bakó Klaudia",
                                    "mettol": "2016-10-01",
                                    "meddig": "2016-10-02",
                                    "Fő": "2",
                                    "(No column name)": "4"
                                },
                                {
                                    "USERNEV": "klaudia2",
                                    "nev": "Bakó Klaudia",
                                    "mettol": "2016-10-02",
                                    "meddig": "2016-10-05",
                                    "Fő": "2",
                                    "(No column name)": "6"
                                },
                                {
                                    "USERNEV": "kornel4",
                                    "nev": "Lukács Kornél",
                                    "mettol": "2016-05-08",
                                    "meddig": "2016-05-14",
                                    "Fő": "3",
                                    "(No column name)": "NULL"
                                },
                                {
                                    "USERNEV": "kornel4",
                                    "nev": "Lukács Kornél",
                                    "mettol": "2016-06-02",
                                    "meddig": "2016-06-09",
                                    "Fő": "3",
                                    "(No column name)": "3"
                                },
                                {
                                    "USERNEV": "kornel4",
                                    "nev": "Lukács Kornél",
                                    "mettol": "2016-09-23",
                                    "meddig": "2016-09-24",
                                    "Fő": "3",
                                    "(No column name)": "6"
                                },
                                {
                                    "USERNEV": "kristof4",
                                    "nev": "Poprádi Kristóf",
                                    "mettol": "2016-04-08",
                                    "meddig": "2016-04-14",
                                    "Fő": "2",
                                    "(No column name)": "NULL"
                                },
                                {
                                    "USERNEV": "kristof4",
                                    "nev": "Poprádi Kristóf",
                                    "mettol": "2016-09-30",
                                    "meddig": "2016-10-04",
                                    "Fő": "2",
                                    "(No column name)": "2"
                                },
                                {
                                    "USERNEV": "kriszti",
                                    "nev": "Horváth Krisztina",
                                    "mettol": "2016-05-19",
                                    "meddig": "2016-05-26",
                                    "Fő": "2",
                                    "(No column name)": "NULL"
                                },
                                {
                                    "USERNEV": "kriszti",
                                    "nev": "Horváth Krisztina",
                                    "mettol": "2016-08-24",
                                    "meddig": "2016-08-25",
                                    "Fő": "3",
                                    "(No column name)": "2"
                                },
                                {
                                    "USERNEV": "kriszti",
                                    "nev": "Horváth Krisztina",
                                    "mettol": "2016-09-30",
                                    "meddig": "2016-10-05",
                                    "Fő": "3",
                                    "(No column name)": "5"
                                },
                                {
                                    "USERNEV": "kriszti",
                                    "nev": "Horváth Krisztina",
                                    "mettol": "2016-10-01",
                                    "meddig": "2016-10-02",
                                    "Fő": "3",
                                    "(No column name)": "8"
                                },
                                {
                                    "USERNEV": "kriszti",
                                    "nev": "Horváth Krisztina",
                                    "mettol": "2017-02-04",
                                    "meddig": "2017-02-11",
                                    "Fő": "3",
                                    "(No column name)": "9"
                                },
                                {
                                    "USERNEV": "kriszti",
                                    "nev": "Horváth Krisztina",
                                    "mettol": "2017-03-03",
                                    "meddig": "2017-03-04",
                                    "Fő": "3",
                                    "(No column name)": "9"
                                },
                                {
                                    "USERNEV": "krisztian4",
                                    "nev": "Czérna Krisztián",
                                    "mettol": "2016-07-28",
                                    "meddig": "2016-08-01",
                                    "Fő": "2",
                                    "(No column name)": "NULL"
                                },
                                {
                                    "USERNEV": "krisztian4",
                                    "nev": "Czérna Krisztián",
                                    "mettol": "2016-08-01",
                                    "meddig": "2016-08-04",
                                    "Fő": "3",
                                    "(No column name)": "2"
                                },
                                {
                                    "USERNEV": "krisztian4",
                                    "nev": "Czérna Krisztián",
                                    "mettol": "2016-08-16",
                                    "meddig": "2016-08-19",
                                    "Fő": "1",
                                    "(No column name)": "5"
                                },
                                {
                                    "USERNEV": "krisztian4",
                                    "nev": "Czérna Krisztián",
                                    "mettol": "2016-08-29",
                                    "meddig": "2016-09-03",
                                    "Fő": "1",
                                    "(No column name)": "6"
                                },
                                {
                                    "USERNEV": "krisztian4",
                                    "nev": "Czérna Krisztián",
                                    "mettol": "2016-06-03",
                                    "meddig": "2016-06-04",
                                    "Fő": "2",
                                    "(No column name)": "5"
                                },
                                {
                                    "USERNEV": "krisztian4",
                                    "nev": "Czérna Krisztián",
                                    "mettol": "2016-06-07",
                                    "meddig": "2016-06-09",
                                    "Fő": "2",
                                    "(No column name)": "4"
                                },
                                {
                                    "USERNEV": "krisztian4",
                                    "nev": "Czérna Krisztián",
                                    "mettol": "2016-10-17",
                                    "meddig": "2016-10-22",
                                    "Fő": "3",
                                    "(No column name)": "5"
                                },
                                {
                                    "USERNEV": "krisztian4",
                                    "nev": "Czérna Krisztián",
                                    "mettol": "2016-11-02",
                                    "meddig": "2016-11-03",
                                    "Fő": "2",
                                    "(No column name)": "7"
                                },
                                {
                                    "USERNEV": "krisztian4",
                                    "nev": "Czérna Krisztián",
                                    "mettol": "2016-12-11",
                                    "meddig": "2016-12-18",
                                    "Fő": "2",
                                    "(No column name)": "7"
                                },
                                {
                                    "USERNEV": "krisztian4",
                                    "nev": "Czérna Krisztián",
                                    "mettol": "2017-01-06",
                                    "meddig": "2017-01-09",
                                    "Fő": "1",
                                    "(No column name)": "7"
                                },
                                {
                                    "USERNEV": "krisztian4",
                                    "nev": "Czérna Krisztián",
                                    "mettol": "2017-01-16",
                                    "meddig": "2017-01-23",
                                    "Fő": "3",
                                    "(No column name)": "5"
                                },
                                {
                                    "USERNEV": "krisztian4",
                                    "nev": "Czérna Krisztián",
                                    "mettol": "2017-02-23",
                                    "meddig": "2017-03-02",
                                    "Fő": "2",
                                    "(No column name)": "6"
                                },
                                {
                                    "USERNEV": "KRISZTIANM",
                                    "nev": "Mogyródi Krisztián",
                                    "mettol": "2016-04-09",
                                    "meddig": "2016-04-15",
                                    "Fő": "2",
                                    "(No column name)": "NULL"
                                },
                                {
                                    "USERNEV": "KRISZTIANM",
                                    "nev": "Mogyródi Krisztián",
                                    "mettol": "2016-08-02",
                                    "meddig": "2016-08-08",
                                    "Fő": "4",
                                    "(No column name)": "2"
                                },
                                {
                                    "USERNEV": "KRISZTIANM",
                                    "nev": "Mogyródi Krisztián",
                                    "mettol": "2016-06-04",
                                    "meddig": "2016-06-08",
                                    "Fő": "2",
                                    "(No column name)": "6"
                                },
                                {
                                    "USERNEV": "KRISZTIANM",
                                    "nev": "Mogyródi Krisztián",
                                    "mettol": "2016-07-09",
                                    "meddig": "2016-07-14",
                                    "Fő": "3",
                                    "(No column name)": "8"
                                },
                                {
                                    "USERNEV": "KRISZTIANM",
                                    "nev": "Mogyródi Krisztián",
                                    "mettol": "2016-12-25",
                                    "meddig": "2016-12-31",
                                    "Fő": "2",
                                    "(No column name)": "9"
                                },
                                {
                                    "USERNEV": "KRISZTIANM",
                                    "nev": "Mogyródi Krisztián",
                                    "mettol": "2017-01-16",
                                    "meddig": "2017-01-23",
                                    "Fő": "1",
                                    "(No column name)": "7"
                                },
                                {
                                    "USERNEV": "krisztina",
                                    "nev": "Szedlár Krisztina",
                                    "mettol": "2016-05-21",
                                    "meddig": "2016-05-27",
                                    "Fő": "2",
                                    "(No column name)": "NULL"
                                },
                                {
                                    "USERNEV": "krisztina",
                                    "nev": "Szedlár Krisztina",
                                    "mettol": "2016-07-05",
                                    "meddig": "2016-07-12",
                                    "Fő": "3",
                                    "(No column name)": "2"
                                },
                                {
                                    "USERNEV": "krisztina",
                                    "nev": "Szedlár Krisztina",
                                    "mettol": "2016-09-13",
                                    "meddig": "2016-09-16",
                                    "Fő": "1",
                                    "(No column name)": "5"
                                },
                                {
                                    "USERNEV": "krisztina",
                                    "nev": "Szedlár Krisztina",
                                    "mettol": "2016-09-19",
                                    "meddig": "2016-09-26",
                                    "Fő": "2",
                                    "(No column name)": "6"
                                },
                                {
                                    "USERNEV": "krisztina",
                                    "nev": "Szedlár Krisztina",
                                    "mettol": "2016-11-08",
                                    "meddig": "2016-11-12",
                                    "Fő": "2",
                                    "(No column name)": "6"
                                },
                                {
                                    "USERNEV": "krisztina",
                                    "nev": "Szedlár Krisztina",
                                    "mettol": "2016-11-22",
                                    "meddig": "2016-11-25",
                                    "Fő": "1",
                                    "(No column name)": "5"
                                },
                                {
                                    "USERNEV": "krisztina",
                                    "nev": "Szedlár Krisztina",
                                    "mettol": "2017-02-05",
                                    "meddig": "2017-02-07",
                                    "Fő": "2",
                                    "(No column name)": "5"
                                },
                                {
                                    "USERNEV": "krisztina",
                                    "nev": "Szedlár Krisztina",
                                    "mettol": "2017-02-16",
                                    "meddig": "2017-02-20",
                                    "Fő": "4",
                                    "(No column name)": "5"
                                },
                                {
                                    "USERNEV": "krisztina1",
                                    "nev": "Bori Krisztina",
                                    "mettol": "2016-04-28",
                                    "meddig": "2016-04-30",
                                    "Fő": "2",
                                    "(No column name)": "NULL"
                                },
                                {
                                    "USERNEV": "krisztina1",
                                    "nev": "Bori Krisztina",
                                    "mettol": "2016-05-16",
                                    "meddig": "2016-05-20",
                                    "Fő": "1",
                                    "(No column name)": "2"
                                },
                                {
                                    "USERNEV": "krisztina1",
                                    "nev": "Bori Krisztina",
                                    "mettol": "2016-06-16",
                                    "meddig": "2016-06-22",
                                    "Fő": "2",
                                    "(No column name)": "3"
                                },
                                {
                                    "USERNEV": "krisztina1",
                                    "nev": "Bori Krisztina",
                                    "mettol": "2016-09-15",
                                    "meddig": "2016-09-20",
                                    "Fő": "3",
                                    "(No column name)": "5"
                                },
                                {
                                    "USERNEV": "krisztina1",
                                    "nev": "Bori Krisztina",
                                    "mettol": "2016-10-29",
                                    "meddig": "2016-10-30",
                                    "Fő": "4",
                                    "(No column name)": "6"
                                },
                                {
                                    "USERNEV": "krisztina1",
                                    "nev": "Bori Krisztina",
                                    "mettol": "2017-01-21",
                                    "meddig": "2017-01-24",
                                    "Fő": "2",
                                    "(No column name)": "9"
                                },
                                {
                                    "USERNEV": "KRISZTINAG",
                                    "nev": "Gyárfás Krisztina",
                                    "mettol": "2016-04-23",
                                    "meddig": "2016-04-24",
                                    "Fő": "2",
                                    "(No column name)": "NULL"
                                },
                                {
                                    "USERNEV": "KRISZTINAG",
                                    "nev": "Gyárfás Krisztina",
                                    "mettol": "2016-08-08",
                                    "meddig": "2016-08-12",
                                    "Fő": "3",
                                    "(No column name)": "2"
                                },
                                {
                                    "USERNEV": "KRISZTINAG",
                                    "nev": "Gyárfás Krisztina",
                                    "mettol": "2016-05-24",
                                    "meddig": "2016-05-31",
                                    "Fő": "1",
                                    "(No column name)": "5"
                                },
                                {
                                    "USERNEV": "KRISZTINAG",
                                    "nev": "Gyárfás Krisztina",
                                    "mettol": "2016-06-08",
                                    "meddig": "2016-06-12",
                                    "Fő": "1",
                                    "(No column name)": "6"
                                },
                                {
                                    "USERNEV": "KRISZTINAG",
                                    "nev": "Gyárfás Krisztina",
                                    "mettol": "2017-01-25",
                                    "meddig": "2017-01-30",
                                    "Fő": "2",
                                    "(No column name)": "5"
                                },
                                {
                                    "USERNEV": "lajos",
                                    "nev": "Kiss Lajos",
                                    "mettol": "2016-07-18",
                                    "meddig": "2016-07-21",
                                    "Fő": "2",
                                    "(No column name)": "NULL"
                                },
                                {
                                    "USERNEV": "lajos",
                                    "nev": "Kiss Lajos",
                                    "mettol": "2016-12-25",
                                    "meddig": "2016-12-28",
                                    "Fő": "4",
                                    "(No column name)": "2"
                                },
                                {
                                    "USERNEV": "lajos",
                                    "nev": "Kiss Lajos",
                                    "mettol": "2017-02-12",
                                    "meddig": "2017-02-13",
                                    "Fő": "1",
                                    "(No column name)": "6"
                                },
                                {
                                    "USERNEV": "lala",
                                    "nev": "Nagymihály Lajos",
                                    "mettol": "2016-07-20",
                                    "meddig": "2016-07-21",
                                    "Fő": "3",
                                    "(No column name)": "NULL"
                                },
                                {
                                    "USERNEV": "lala",
                                    "nev": "Nagymihály Lajos",
                                    "mettol": "2016-07-26",
                                    "meddig": "2016-07-27",
                                    "Fő": "3",
                                    "(No column name)": "3"
                                },
                                {
                                    "USERNEV": "lala",
                                    "nev": "Nagymihály Lajos",
                                    "mettol": "2016-06-16",
                                    "meddig": "2016-06-22",
                                    "Fő": "2",
                                    "(No column name)": "6"
                                },
                                {
                                    "USERNEV": "lala",
                                    "nev": "Nagymihály Lajos",
                                    "mettol": "2016-10-30",
                                    "meddig": "2016-10-31",
                                    "Fő": "3",
                                    "(No column name)": "8"
                                },
                                {
                                    "USERNEV": "lala",
                                    "nev": "Nagymihály Lajos",
                                    "mettol": "2017-01-08",
                                    "meddig": "2017-01-10",
                                    "Fő": "3",
                                    "(No column name)": "8"
                                },
                                {
                                    "USERNEV": "lala",
                                    "nev": "Nagymihály Lajos",
                                    "mettol": "2017-01-17",
                                    "meddig": "2017-01-19",
                                    "Fő": "2",
                                    "(No column name)": "8"
                                },
                                {
                                    "USERNEV": "laszlo1",
                                    "nev": "Farkas László",
                                    "mettol": "2016-09-23",
                                    "meddig": "2016-09-30",
                                    "Fő": "3",
                                    "(No column name)": "NULL"
                                },
                                {
                                    "USERNEV": "laszlo2",
                                    "nev": "Móra László",
                                    "mettol": "2016-04-06",
                                    "meddig": "2016-04-10",
                                    "Fő": "2",
                                    "(No column name)": "NULL"
                                },
                                {
                                    "USERNEV": "laszlo2",
                                    "nev": "Móra László",
                                    "mettol": "2016-04-27",
                                    "meddig": "2016-04-29",
                                    "Fő": "2",
                                    "(No column name)": "2"
                                },
                                {
                                    "USERNEV": "laszlo2",
                                    "nev": "Móra László",
                                    "mettol": "2016-08-14",
                                    "meddig": "2016-08-15",
                                    "Fő": "3",
                                    "(No column name)": "4"
                                },
                                {
                                    "USERNEV": "laszlo2",
                                    "nev": "Móra László",
                                    "mettol": "2016-09-05",
                                    "meddig": "2016-09-10",
                                    "Fő": "3",
                                    "(No column name)": "7"
                                },
                                {
                                    "USERNEV": "laszlo2",
                                    "nev": "Móra László",
                                    "mettol": "2016-11-25",
                                    "meddig": "2016-11-26",
                                    "Fő": "3",
                                    "(No column name)": "8"
                                },
                                {
                                    "USERNEV": "LASZLOA",
                                    "nev": "Antal László",
                                    "mettol": "2016-06-03",
                                    "meddig": "2016-06-09",
                                    "Fő": "2",
                                    "(No column name)": "NULL"
                                },
                                {
                                    "USERNEV": "LASZLOA",
                                    "nev": "Antal László",
                                    "mettol": "2016-06-07",
                                    "meddig": "2016-06-11",
                                    "Fő": "1",
                                    "(No column name)": "2"
                                },
                                {
                                    "USERNEV": "LASZLOA",
                                    "nev": "Antal László",
                                    "mettol": "2016-06-10",
                                    "meddig": "2016-06-13",
                                    "Fő": "3",
                                    "(No column name)": "3"
                                },
                                {
                                    "USERNEV": "LASZLOA",
                                    "nev": "Antal László",
                                    "mettol": "2017-02-08",
                                    "meddig": "2017-02-14",
                                    "Fő": "2",
                                    "(No column name)": "6"
                                },
                                {
                                    "USERNEV": "LASZLON",
                                    "nev": "Nagy László",
                                    "mettol": "2016-06-03",
                                    "meddig": "2016-06-06",
                                    "Fő": "1",
                                    "(No column name)": "NULL"
                                },
                                {
                                    "USERNEV": "LASZLON",
                                    "nev": "Nagy László",
                                    "mettol": "2016-06-08",
                                    "meddig": "2016-06-09",
                                    "Fő": "2",
                                    "(No column name)": "1"
                                },
                                {
                                    "USERNEV": "LASZLON",
                                    "nev": "Nagy László",
                                    "mettol": "2016-10-01",
                                    "meddig": "2016-10-04",
                                    "Fő": "3",
                                    "(No column name)": "3"
                                },
                                {
                                    "USERNEV": "LASZLON",
                                    "nev": "Nagy László",
                                    "mettol": "2016-10-09",
                                    "meddig": "2016-10-14",
                                    "Fő": "1",
                                    "(No column name)": "6"
                                },
                                {
                                    "USERNEV": "LASZLON",
                                    "nev": "Nagy László",
                                    "mettol": "2016-11-29",
                                    "meddig": "2016-12-04",
                                    "Fő": "1",
                                    "(No column name)": "6"
                                },
                                {
                                    "USERNEV": "LASZLON",
                                    "nev": "Nagy László",
                                    "mettol": "2017-02-18",
                                    "meddig": "2017-02-25",
                                    "Fő": "3",
                                    "(No column name)": "5"
                                },
                                {
                                    "USERNEV": "maria1",
                                    "nev": "Baráth Mária",
                                    "mettol": "2016-05-13",
                                    "meddig": "2016-05-18",
                                    "Fő": "2",
                                    "(No column name)": "NULL"
                                },
                                {
                                    "USERNEV": "maria1",
                                    "nev": "Baráth Mária",
                                    "mettol": "2016-05-18",
                                    "meddig": "2016-05-19",
                                    "Fő": "1",
                                    "(No column name)": "2"
                                },
                                {
                                    "USERNEV": "maria1",
                                    "nev": "Baráth Mária",
                                    "mettol": "2016-08-11",
                                    "meddig": "2016-08-14",
                                    "Fő": "3",
                                    "(No column name)": "3"
                                },
                                {
                                    "USERNEV": "maria1",
                                    "nev": "Baráth Mária",
                                    "mettol": "2016-09-02",
                                    "meddig": "2016-09-05",
                                    "Fő": "1",
                                    "(No column name)": "6"
                                },
                                {
                                    "USERNEV": "maria1",
                                    "nev": "Baráth Mária",
                                    "mettol": "2016-05-28",
                                    "meddig": "2016-06-03",
                                    "Fő": "2",
                                    "(No column name)": "5"
                                },
                                {
                                    "USERNEV": "maria1",
                                    "nev": "Baráth Mária",
                                    "mettol": "2016-06-23",
                                    "meddig": "2016-06-27",
                                    "Fő": "1",
                                    "(No column name)": "6"
                                },
                                {
                                    "USERNEV": "maria1",
                                    "nev": "Baráth Mária",
                                    "mettol": "2016-11-08",
                                    "meddig": "2016-11-12",
                                    "Fő": "3",
                                    "(No column name)": "4"
                                },
                                {
                                    "USERNEV": "maria1",
                                    "nev": "Baráth Mária",
                                    "mettol": "2017-02-24",
                                    "meddig": "2017-03-02",
                                    "Fő": "2",
                                    "(No column name)": "6"
                                },
                                {
                                    "USERNEV": "mark",
                                    "nev": "Kispál Márk",
                                    "mettol": "2016-04-19",
                                    "meddig": "2016-04-26",
                                    "Fő": "4",
                                    "(No column name)": "NULL"
                                },
                                {
                                    "USERNEV": "mark",
                                    "nev": "Kispál Márk",
                                    "mettol": "2016-08-09",
                                    "meddig": "2016-08-16",
                                    "Fő": "3",
                                    "(No column name)": "4"
                                },
                                {
                                    "USERNEV": "mark",
                                    "nev": "Kispál Márk",
                                    "mettol": "2016-06-13",
                                    "meddig": "2016-06-18",
                                    "Fő": "3",
                                    "(No column name)": "7"
                                },
                                {
                                    "USERNEV": "mark",
                                    "nev": "Kispál Márk",
                                    "mettol": "2016-10-20",
                                    "meddig": "2016-10-27",
                                    "Fő": "1",
                                    "(No column name)": "10"
                                },
                                {
                                    "USERNEV": "mark",
                                    "nev": "Kispál Márk",
                                    "mettol": "2016-11-19",
                                    "meddig": "2016-11-22",
                                    "Fő": "2",
                                    "(No column name)": "7"
                                },
                                {
                                    "USERNEV": "MARKH",
                                    "nev": "Horváth Márk",
                                    "mettol": "2016-09-14",
                                    "meddig": "2016-09-17",
                                    "Fő": "3",
                                    "(No column name)": "NULL"
                                },
                                {
                                    "USERNEV": "MARKH",
                                    "nev": "Horváth Márk",
                                    "mettol": "2016-09-23",
                                    "meddig": "2016-09-30",
                                    "Fő": "2",
                                    "(No column name)": "3"
                                },
                                {
                                    "USERNEV": "MARKH",
                                    "nev": "Horváth Márk",
                                    "mettol": "2016-09-26",
                                    "meddig": "2016-10-01",
                                    "Fő": "4",
                                    "(No column name)": "5"
                                },
                                {
                                    "USERNEV": "MARKH",
                                    "nev": "Horváth Márk",
                                    "mettol": "2017-01-22",
                                    "meddig": "2017-01-29",
                                    "Fő": "4",
                                    "(No column name)": "9"
                                },
                                {
                                    "USERNEV": "marton",
                                    "nev": "Kalacsi Márton",
                                    "mettol": "2016-04-27",
                                    "meddig": "2016-05-04",
                                    "Fő": "3",
                                    "(No column name)": "NULL"
                                },
                                {
                                    "USERNEV": "marton",
                                    "nev": "Kalacsi Márton",
                                    "mettol": "2016-05-05",
                                    "meddig": "2016-05-10",
                                    "Fő": "1",
                                    "(No column name)": "3"
                                },
                                {
                                    "USERNEV": "marton",
                                    "nev": "Kalacsi Márton",
                                    "mettol": "2016-08-12",
                                    "meddig": "2016-08-17",
                                    "Fő": "2",
                                    "(No column name)": "4"
                                },
                                {
                                    "USERNEV": "marton",
                                    "nev": "Kalacsi Márton",
                                    "mettol": "2016-06-06",
                                    "meddig": "2016-06-08",
                                    "Fő": "3",
                                    "(No column name)": "6"
                                },
                                {
                                    "USERNEV": "marton",
                                    "nev": "Kalacsi Márton",
                                    "mettol": "2016-06-22",
                                    "meddig": "2016-06-29",
                                    "Fő": "2",
                                    "(No column name)": "6"
                                },
                                {
                                    "USERNEV": "marton",
                                    "nev": "Kalacsi Márton",
                                    "mettol": "2016-09-10",
                                    "meddig": "2016-09-12",
                                    "Fő": "2",
                                    "(No column name)": "7"
                                },
                                {
                                    "USERNEV": "marton",
                                    "nev": "Kalacsi Márton",
                                    "mettol": "2017-03-02",
                                    "meddig": "2017-03-03",
                                    "Fő": "2",
                                    "(No column name)": "7"
                                },
                                {
                                    "USERNEV": "MATEK",
                                    "nev": "Koza Máté",
                                    "mettol": "2016-08-17",
                                    "meddig": "2016-08-21",
                                    "Fő": "4",
                                    "(No column name)": "NULL"
                                },
                                {
                                    "USERNEV": "MATEK",
                                    "nev": "Koza Máté",
                                    "mettol": "2016-10-01",
                                    "meddig": "2016-10-04",
                                    "Fő": "2",
                                    "(No column name)": "4"
                                },
                                {
                                    "USERNEV": "MATEK",
                                    "nev": "Koza Máté",
                                    "mettol": "2017-01-16",
                                    "meddig": "2017-01-22",
                                    "Fő": "2",
                                    "(No column name)": "6"
                                },
                                {
                                    "USERNEV": "matyas2",
                                    "nev": "Botka Mátyás",
                                    "mettol": "2016-07-13",
                                    "meddig": "2016-07-16",
                                    "Fő": "2",
                                    "(No column name)": "NULL"
                                },
                                {
                                    "USERNEV": "matyas2",
                                    "nev": "Botka Mátyás",
                                    "mettol": "2016-12-09",
                                    "meddig": "2016-12-13",
                                    "Fő": "3",
                                    "(No column name)": "2"
                                },
                                {
                                    "USERNEV": "MATYASS",
                                    "nev": "Szilágyi Mátyás",
                                    "mettol": "2016-05-10",
                                    "meddig": "2016-05-16",
                                    "Fő": "2",
                                    "(No column name)": "NULL"
                                },
                                {
                                    "USERNEV": "MATYASS",
                                    "nev": "Szilágyi Mátyás",
                                    "mettol": "2016-07-23",
                                    "meddig": "2016-07-25",
                                    "Fő": "3",
                                    "(No column name)": "2"
                                },
                                {
                                    "USERNEV": "MATYASS",
                                    "nev": "Szilágyi Mátyás",
                                    "mettol": "2016-06-02",
                                    "meddig": "2016-06-08",
                                    "Fő": "1",
                                    "(No column name)": "5"
                                },
                                {
                                    "USERNEV": "MATYASS",
                                    "nev": "Szilágyi Mátyás",
                                    "mettol": "2016-10-09",
                                    "meddig": "2016-10-15",
                                    "Fő": "3",
                                    "(No column name)": "6"
                                },
                                {
                                    "USERNEV": "MATYASS",
                                    "nev": "Szilágyi Mátyás",
                                    "mettol": "2016-10-24",
                                    "meddig": "2016-10-31",
                                    "Fő": "1",
                                    "(No column name)": "7"
                                },
                                {
                                    "USERNEV": "MATYASS",
                                    "nev": "Szilágyi Mátyás",
                                    "mettol": "2016-10-30",
                                    "meddig": "2016-11-04",
                                    "Fő": "3",
                                    "(No column name)": "5"
                                },
                                {
                                    "USERNEV": "MATYASS",
                                    "nev": "Szilágyi Mátyás",
                                    "mettol": "2016-12-20",
                                    "meddig": "2016-12-25",
                                    "Fő": "2",
                                    "(No column name)": "7"
                                },
                                {
                                    "USERNEV": "MATYASS",
                                    "nev": "Szilágyi Mátyás",
                                    "mettol": "2017-01-09",
                                    "meddig": "2017-01-13",
                                    "Fő": "2",
                                    "(No column name)": "6"
                                },
                                {
                                    "USERNEV": "MIHALYJ",
                                    "nev": "Juhász Mihály",
                                    "mettol": "2016-08-29",
                                    "meddig": "2016-09-03",
                                    "Fő": "1",
                                    "(No column name)": "NULL"
                                },
                                {
                                    "USERNEV": "MIHALYJ",
                                    "nev": "Juhász Mihály",
                                    "mettol": "2016-05-30",
                                    "meddig": "2016-06-01",
                                    "Fő": "2",
                                    "(No column name)": "1"
                                },
                                {
                                    "USERNEV": "MIHALYJ",
                                    "nev": "Juhász Mihály",
                                    "mettol": "2016-06-27",
                                    "meddig": "2016-07-01",
                                    "Fő": "1",
                                    "(No column name)": "3"
                                },
                                {
                                    "USERNEV": "MIHALYJ",
                                    "nev": "Juhász Mihály",
                                    "mettol": "2016-11-01",
                                    "meddig": "2016-11-04",
                                    "Fő": "3",
                                    "(No column name)": "4"
                                },
                                {
                                    "USERNEV": "MIHALYJ",
                                    "nev": "Juhász Mihály",
                                    "mettol": "2017-02-06",
                                    "meddig": "2017-02-12",
                                    "Fő": "4",
                                    "(No column name)": "6"
                                },
                                {
                                    "USERNEV": "miklos2",
                                    "nev": "Gondos Miklós",
                                    "mettol": "2016-04-19",
                                    "meddig": "2016-04-21",
                                    "Fő": "3",
                                    "(No column name)": "NULL"
                                },
                                {
                                    "USERNEV": "miklos2",
                                    "nev": "Gondos Miklós",
                                    "mettol": "2016-10-08",
                                    "meddig": "2016-10-09",
                                    "Fő": "1",
                                    "(No column name)": "3"
                                },
                                {
                                    "USERNEV": "miklos2",
                                    "nev": "Gondos Miklós",
                                    "mettol": "2016-11-16",
                                    "meddig": "2016-11-18",
                                    "Fő": "3",
                                    "(No column name)": "4"
                                },
                                {
                                    "USERNEV": "MIKLOSB",
                                    "nev": "Balla Miklós",
                                    "mettol": "2016-07-18",
                                    "meddig": "2016-07-21",
                                    "Fő": "2",
                                    "(No column name)": "NULL"
                                },
                                {
                                    "USERNEV": "MIKLOSB",
                                    "nev": "Balla Miklós",
                                    "mettol": "2016-06-26",
                                    "meddig": "2016-06-30",
                                    "Fő": "2",
                                    "(No column name)": "2"
                                },
                                {
                                    "USERNEV": "MIKLOSB",
                                    "nev": "Balla Miklós",
                                    "mettol": "2016-12-05",
                                    "meddig": "2016-12-10",
                                    "Fő": "2",
                                    "(No column name)": "4"
                                },
                                {
                                    "USERNEV": "MONIKAM",
                                    "nev": "Mohos Mónika",
                                    "mettol": "2016-04-29",
                                    "meddig": "2016-05-01",
                                    "Fő": "2",
                                    "(No column name)": "NULL"
                                },
                                {
                                    "USERNEV": "MONIKAM",
                                    "nev": "Mohos Mónika",
                                    "mettol": "2016-07-23",
                                    "meddig": "2016-07-30",
                                    "Fő": "1",
                                    "(No column name)": "2"
                                },
                                {
                                    "USERNEV": "MONIKAM",
                                    "nev": "Mohos Mónika",
                                    "mettol": "2016-11-09",
                                    "meddig": "2016-11-16",
                                    "Fő": "2",
                                    "(No column name)": "3"
                                },
                                {
                                    "USERNEV": "MONIKAM",
                                    "nev": "Mohos Mónika",
                                    "mettol": "2017-01-17",
                                    "meddig": "2017-01-24",
                                    "Fő": "1",
                                    "(No column name)": "5"
                                },
                                {
                                    "USERNEV": "MONIKAM",
                                    "nev": "Mohos Mónika",
                                    "mettol": "2017-02-06",
                                    "meddig": "2017-02-09",
                                    "Fő": "2",
                                    "(No column name)": "4"
                                },
                                {
                                    "USERNEV": "MONIKAM",
                                    "nev": "Mohos Mónika",
                                    "mettol": "2017-02-23",
                                    "meddig": "2017-02-26",
                                    "Fő": "2",
                                    "(No column name)": "5"
                                },
                                {
                                    "USERNEV": "NANDORF",
                                    "nev": "Fő Nándor",
                                    "mettol": "2016-04-06",
                                    "meddig": "2016-04-10",
                                    "Fő": "3",
                                    "(No column name)": "NULL"
                                },
                                {
                                    "USERNEV": "NANDORF",
                                    "nev": "Fő Nándor",
                                    "mettol": "2016-11-03",
                                    "meddig": "2016-11-04",
                                    "Fő": "3",
                                    "(No column name)": "3"
                                },
                                {
                                    "USERNEV": "NANDORF",
                                    "nev": "Fő Nándor",
                                    "mettol": "2017-02-05",
                                    "meddig": "2017-02-08",
                                    "Fő": "3",
                                    "(No column name)": "6"
                                },
                                {
                                    "USERNEV": "nikolett3",
                                    "nev": "Horváth Nikolett",
                                    "mettol": "2016-05-24",
                                    "meddig": "2016-05-29",
                                    "Fő": "2",
                                    "(No column name)": "NULL"
                                },
                                {
                                    "USERNEV": "nikolett3",
                                    "nev": "Horváth Nikolett",
                                    "mettol": "2016-06-03",
                                    "meddig": "2016-06-09",
                                    "Fő": "1",
                                    "(No column name)": "2"
                                },
                                {
                                    "USERNEV": "nikolett3",
                                    "nev": "Horváth Nikolett",
                                    "mettol": "2016-06-22",
                                    "meddig": "2016-06-24",
                                    "Fő": "1",
                                    "(No column name)": "3"
                                },
                                {
                                    "USERNEV": "nikolett3",
                                    "nev": "Horváth Nikolett",
                                    "mettol": "2016-10-22",
                                    "meddig": "2016-10-29",
                                    "Fő": "3",
                                    "(No column name)": "4"
                                },
                                {
                                    "USERNEV": "nikoletta4",
                                    "nev": "Kő Nikoletta",
                                    "mettol": "2016-04-08",
                                    "meddig": "2016-04-10",
                                    "Fő": "2",
                                    "(No column name)": "NULL"
                                },
                                {
                                    "USERNEV": "nikoletta4",
                                    "nev": "Kő Nikoletta",
                                    "mettol": "2016-05-09",
                                    "meddig": "2016-05-15",
                                    "Fő": "2",
                                    "(No column name)": "2"
                                },
                                {
                                    "USERNEV": "nikoletta4",
                                    "nev": "Kő Nikoletta",
                                    "mettol": "2016-08-13",
                                    "meddig": "2016-08-17",
                                    "Fő": "3",
                                    "(No column name)": "4"
                                },
                                {
                                    "USERNEV": "nikoletta4",
                                    "nev": "Kő Nikoletta",
                                    "mettol": "2016-05-30",
                                    "meddig": "2016-06-03",
                                    "Fő": "3",
                                    "(No column name)": "7"
                                },
                                {
                                    "USERNEV": "nikoletta4",
                                    "nev": "Kő Nikoletta",
                                    "mettol": "2016-06-29",
                                    "meddig": "2016-07-06",
                                    "Fő": "2",
                                    "(No column name)": "8"
                                },
                                {
                                    "USERNEV": "nikoletta4",
                                    "nev": "Kő Nikoletta",
                                    "mettol": "2016-12-08",
                                    "meddig": "2016-12-10",
                                    "Fő": "5",
                                    "(No column name)": "8"
                                },
                                {
                                    "USERNEV": "nikoletta4",
                                    "nev": "Kő Nikoletta",
                                    "mettol": "2017-02-01",
                                    "meddig": "2017-02-04",
                                    "Fő": "2",
                                    "(No column name)": "10"
                                },
                                {
                                    "USERNEV": "NIKOLETTAT",
                                    "nev": "Tatár Nikoletta",
                                    "mettol": "2016-05-22",
                                    "meddig": "2016-05-23",
                                    "Fő": "4",
                                    "(No column name)": "NULL"
                                },
                                {
                                    "USERNEV": "NIKOLETTAT",
                                    "nev": "Tatár Nikoletta",
                                    "mettol": "2016-07-27",
                                    "meddig": "2016-07-29",
                                    "Fő": "4",
                                    "(No column name)": "4"
                                },
                                {
                                    "USERNEV": "NIKOLETTAT",
                                    "nev": "Tatár Nikoletta",
                                    "mettol": "2016-06-07",
                                    "meddig": "2016-06-09",
                                    "Fő": "2",
                                    "(No column name)": "8"
                                },
                                {
                                    "USERNEV": "NIKOLETTAT",
                                    "nev": "Tatár Nikoletta",
                                    "mettol": "2016-09-21",
                                    "meddig": "2016-09-26",
                                    "Fő": "2",
                                    "(No column name)": "10"
                                },
                                {
                                    "USERNEV": "norbert",
                                    "nev": "Szűcs Norbert",
                                    "mettol": "2016-07-08",
                                    "meddig": "2016-07-13",
                                    "Fő": "1",
                                    "(No column name)": "NULL"
                                },
                                {
                                    "USERNEV": "norbert",
                                    "nev": "Szűcs Norbert",
                                    "mettol": "2016-11-16",
                                    "meddig": "2016-11-23",
                                    "Fő": "3",
                                    "(No column name)": "1"
                                },
                                {
                                    "USERNEV": "norbert",
                                    "nev": "Szűcs Norbert",
                                    "mettol": "2016-12-15",
                                    "meddig": "2016-12-18",
                                    "Fő": "2",
                                    "(No column name)": "4"
                                },
                                {
                                    "USERNEV": "norbert",
                                    "nev": "Szűcs Norbert",
                                    "mettol": "2017-02-13",
                                    "meddig": "2017-02-15",
                                    "Fő": "3",
                                    "(No column name)": "6"
                                },
                                {
                                    "USERNEV": "norbert",
                                    "nev": "Szűcs Norbert",
                                    "mettol": "2017-02-26",
                                    "meddig": "2017-03-01",
                                    "Fő": "1",
                                    "(No column name)": "8"
                                },
                                {
                                    "USERNEV": "norbert2",
                                    "nev": "Hegedűs Norbert",
                                    "mettol": "2016-04-19",
                                    "meddig": "2016-04-26",
                                    "Fő": "1",
                                    "(No column name)": "NULL"
                                },
                                {
                                    "USERNEV": "norbert2",
                                    "nev": "Hegedűs Norbert",
                                    "mettol": "2016-05-09",
                                    "meddig": "2016-05-10",
                                    "Fő": "2",
                                    "(No column name)": "1"
                                },
                                {
                                    "USERNEV": "norbert2",
                                    "nev": "Hegedűs Norbert",
                                    "mettol": "2016-07-27",
                                    "meddig": "2016-08-02",
                                    "Fő": "2",
                                    "(No column name)": "3"
                                },
                                {
                                    "USERNEV": "norbert2",
                                    "nev": "Hegedűs Norbert",
                                    "mettol": "2016-08-16",
                                    "meddig": "2016-08-19",
                                    "Fő": "1",
                                    "(No column name)": "5"
                                },
                                {
                                    "USERNEV": "norbert2",
                                    "nev": "Hegedűs Norbert",
                                    "mettol": "2016-07-13",
                                    "meddig": "2016-07-15",
                                    "Fő": "3",
                                    "(No column name)": "5"
                                },
                                {
                                    "USERNEV": "norbert2",
                                    "nev": "Hegedűs Norbert",
                                    "mettol": "2016-10-31",
                                    "meddig": "2016-11-07",
                                    "Fő": "2",
                                    "(No column name)": "6"
                                },
                                {
                                    "USERNEV": "norbert2",
                                    "nev": "Hegedűs Norbert",
                                    "mettol": "2017-01-29",
                                    "meddig": "2017-02-05",
                                    "Fő": "3",
                                    "(No column name)": "6"
                                },
                                {
                                    "USERNEV": "norbert4",
                                    "nev": "Mile Norbert",
                                    "mettol": "2016-04-10",
                                    "meddig": "2016-04-13",
                                    "Fő": "2",
                                    "(No column name)": "NULL"
                                },
                                {
                                    "USERNEV": "norbert4",
                                    "nev": "Mile Norbert",
                                    "mettol": "2016-05-29",
                                    "meddig": "2016-06-03",
                                    "Fő": "3",
                                    "(No column name)": "2"
                                },
                                {
                                    "USERNEV": "norbert4",
                                    "nev": "Mile Norbert",
                                    "mettol": "2016-06-16",
                                    "meddig": "2016-06-17",
                                    "Fő": "4",
                                    "(No column name)": "5"
                                },
                                {
                                    "USERNEV": "norbert4",
                                    "nev": "Mile Norbert",
                                    "mettol": "2016-06-16",
                                    "meddig": "2016-06-21",
                                    "Fő": "3",
                                    "(No column name)": "9"
                                },
                                {
                                    "USERNEV": "norbert4",
                                    "nev": "Mile Norbert",
                                    "mettol": "2016-10-05",
                                    "meddig": "2016-10-10",
                                    "Fő": "3",
                                    "(No column name)": "10"
                                },
                                {
                                    "USERNEV": "norbert4",
                                    "nev": "Mile Norbert",
                                    "mettol": "2016-10-28",
                                    "meddig": "2016-10-31",
                                    "Fő": "3",
                                    "(No column name)": "10"
                                },
                                {
                                    "USERNEV": "norbert4",
                                    "nev": "Mile Norbert",
                                    "mettol": "2016-11-30",
                                    "meddig": "2016-12-06",
                                    "Fő": "3",
                                    "(No column name)": "9"
                                },
                                {
                                    "USERNEV": "norbert4",
                                    "nev": "Mile Norbert",
                                    "mettol": "2017-02-16",
                                    "meddig": "2017-02-17",
                                    "Fő": "1",
                                    "(No column name)": "9"
                                },
                                {
                                    "USERNEV": "norbert4",
                                    "nev": "Mile Norbert",
                                    "mettol": "2017-03-03",
                                    "meddig": "2017-03-07",
                                    "Fő": "2",
                                    "(No column name)": "7"
                                },
                                {
                                    "USERNEV": "norbert5",
                                    "nev": "Béres Norbert",
                                    "mettol": "2016-08-10",
                                    "meddig": "2016-08-11",
                                    "Fő": "2",
                                    "(No column name)": "NULL"
                                },
                                {
                                    "USERNEV": "norbert5",
                                    "nev": "Béres Norbert",
                                    "mettol": "2016-06-24",
                                    "meddig": "2016-06-28",
                                    "Fő": "2",
                                    "(No column name)": "2"
                                },
                                {
                                    "USERNEV": "norbert5",
                                    "nev": "Béres Norbert",
                                    "mettol": "2016-11-05",
                                    "meddig": "2016-11-07",
                                    "Fő": "1",
                                    "(No column name)": "4"
                                },
                                {
                                    "USERNEV": "pal",
                                    "nev": "Barabás Pál",
                                    "mettol": "2016-08-14",
                                    "meddig": "2016-08-18",
                                    "Fő": "3",
                                    "(No column name)": "NULL"
                                },
                                {
                                    "USERNEV": "pal",
                                    "nev": "Barabás Pál",
                                    "mettol": "2016-09-16",
                                    "meddig": "2016-09-19",
                                    "Fő": "2",
                                    "(No column name)": "3"
                                },
                                {
                                    "USERNEV": "pal",
                                    "nev": "Barabás Pál",
                                    "mettol": "2016-12-17",
                                    "meddig": "2016-12-23",
                                    "Fő": "3",
                                    "(No column name)": "5"
                                },
                                {
                                    "USERNEV": "pal",
                                    "nev": "Barabás Pál",
                                    "mettol": "2017-02-13",
                                    "meddig": "2017-02-19",
                                    "Fő": "3",
                                    "(No column name)": "8"
                                },
                                {
                                    "USERNEV": "pal",
                                    "nev": "Barabás Pál",
                                    "mettol": "2017-02-20",
                                    "meddig": "2017-02-22",
                                    "Fő": "3",
                                    "(No column name)": "8"
                                },
                                {
                                    "USERNEV": "peter1",
                                    "nev": "Kozma Péter",
                                    "mettol": "2016-07-14",
                                    "meddig": "2016-07-18",
                                    "Fő": "3",
                                    "(No column name)": "NULL"
                                },
                                {
                                    "USERNEV": "peter1",
                                    "nev": "Kozma Péter",
                                    "mettol": "2016-10-26",
                                    "meddig": "2016-11-01",
                                    "Fő": "3",
                                    "(No column name)": "3"
                                },
                                {
                                    "USERNEV": "peter1",
                                    "nev": "Kozma Péter",
                                    "mettol": "2017-02-23",
                                    "meddig": "2017-02-26",
                                    "Fő": "3",
                                    "(No column name)": "6"
                                },
                                {
                                    "USERNEV": "peter1",
                                    "nev": "Kozma Péter",
                                    "mettol": "2017-02-28",
                                    "meddig": "2017-03-05",
                                    "Fő": "3",
                                    "(No column name)": "9"
                                },
                                {
                                    "USERNEV": "peter2",
                                    "nev": "Bozsó Péter",
                                    "mettol": "2016-07-03",
                                    "meddig": "2016-07-08",
                                    "Fő": "2",
                                    "(No column name)": "NULL"
                                },
                                {
                                    "USERNEV": "peter2",
                                    "nev": "Bozsó Péter",
                                    "mettol": "2016-10-10",
                                    "meddig": "2016-10-16",
                                    "Fő": "2",
                                    "(No column name)": "2"
                                },
                                {
                                    "USERNEV": "peter2",
                                    "nev": "Bozsó Péter",
                                    "mettol": "2016-11-01",
                                    "meddig": "2016-11-02",
                                    "Fő": "2",
                                    "(No column name)": "4"
                                },
                                {
                                    "USERNEV": "peter2",
                                    "nev": "Bozsó Péter",
                                    "mettol": "2016-11-15",
                                    "meddig": "2016-11-21",
                                    "Fő": "3",
                                    "(No column name)": "6"
                                },
                                {
                                    "USERNEV": "peter3",
                                    "nev": "Szalai Péter",
                                    "mettol": "2016-07-27",
                                    "meddig": "2016-07-31",
                                    "Fő": "4",
                                    "(No column name)": "NULL"
                                },
                                {
                                    "USERNEV": "peter3",
                                    "nev": "Szalai Péter",
                                    "mettol": "2016-06-30",
                                    "meddig": "2016-07-05",
                                    "Fő": "3",
                                    "(No column name)": "4"
                                },
                                {
                                    "USERNEV": "peter3",
                                    "nev": "Szalai Péter",
                                    "mettol": "2016-10-30",
                                    "meddig": "2016-11-06",
                                    "Fő": "2",
                                    "(No column name)": "7"
                                },
                                {
                                    "USERNEV": "peter3",
                                    "nev": "Szalai Péter",
                                    "mettol": "2016-12-25",
                                    "meddig": "2016-12-28",
                                    "Fő": "1",
                                    "(No column name)": "9"
                                },
                                {
                                    "USERNEV": "peter3",
                                    "nev": "Szalai Péter",
                                    "mettol": "2017-01-12",
                                    "meddig": "2017-01-17",
                                    "Fő": "1",
                                    "(No column name)": "6"
                                },
                                {
                                    "USERNEV": "peter3",
                                    "nev": "Szalai Péter",
                                    "mettol": "2017-02-21",
                                    "meddig": "2017-02-24",
                                    "Fő": "2",
                                    "(No column name)": "4"
                                },
                                {
                                    "USERNEV": "peter4",
                                    "nev": "Bíró Péter",
                                    "mettol": "2016-04-12",
                                    "meddig": "2016-04-15",
                                    "Fő": "3",
                                    "(No column name)": "NULL"
                                },
                                {
                                    "USERNEV": "peter4",
                                    "nev": "Bíró Péter",
                                    "mettol": "2016-08-06",
                                    "meddig": "2016-08-13",
                                    "Fő": "2",
                                    "(No column name)": "3"
                                },
                                {
                                    "USERNEV": "peter4",
                                    "nev": "Bíró Péter",
                                    "mettol": "2016-08-24",
                                    "meddig": "2016-08-25",
                                    "Fő": "3",
                                    "(No column name)": "5"
                                },
                                {
                                    "USERNEV": "peter4",
                                    "nev": "Bíró Péter",
                                    "mettol": "2016-09-11",
                                    "meddig": "2016-09-17",
                                    "Fő": "4",
                                    "(No column name)": "8"
                                },
                                {
                                    "USERNEV": "peter4",
                                    "nev": "Bíró Péter",
                                    "mettol": "2016-09-25",
                                    "meddig": "2016-09-26",
                                    "Fő": "3",
                                    "(No column name)": "9"
                                },
                                {
                                    "USERNEV": "peter4",
                                    "nev": "Bíró Péter",
                                    "mettol": "2016-09-30",
                                    "meddig": "2016-10-06",
                                    "Fő": "3",
                                    "(No column name)": "10"
                                },
                                {
                                    "USERNEV": "peter4",
                                    "nev": "Bíró Péter",
                                    "mettol": "2016-10-09",
                                    "meddig": "2016-10-16",
                                    "Fő": "3",
                                    "(No column name)": "10"
                                },
                                {
                                    "USERNEV": "peter4",
                                    "nev": "Bíró Péter",
                                    "mettol": "2016-10-24",
                                    "meddig": "2016-10-25",
                                    "Fő": "2",
                                    "(No column name)": "9"
                                },
                                {
                                    "USERNEV": "peter4",
                                    "nev": "Bíró Péter",
                                    "mettol": "2016-10-30",
                                    "meddig": "2016-11-01",
                                    "Fő": "3",
                                    "(No column name)": "8"
                                },
                                {
                                    "USERNEV": "peter4",
                                    "nev": "Bíró Péter",
                                    "mettol": "2016-11-10",
                                    "meddig": "2016-11-17",
                                    "Fő": "3",
                                    "(No column name)": "8"
                                },
                                {
                                    "USERNEV": "peter4",
                                    "nev": "Bíró Péter",
                                    "mettol": "2016-11-25",
                                    "meddig": "2016-11-30",
                                    "Fő": "3",
                                    "(No column name)": "8"
                                },
                                {
                                    "USERNEV": "peter4",
                                    "nev": "Bíró Péter",
                                    "mettol": "2017-02-05",
                                    "meddig": "2017-02-09",
                                    "Fő": "3",
                                    "(No column name)": "9"
                                },
                                {
                                    "USERNEV": "PETERB",
                                    "nev": "Berendi Péter",
                                    "mettol": "2016-04-06",
                                    "meddig": "2016-04-10",
                                    "Fő": "1",
                                    "(No column name)": "NULL"
                                },
                                {
                                    "USERNEV": "PETERB",
                                    "nev": "Berendi Péter",
                                    "mettol": "2016-07-20",
                                    "meddig": "2016-07-24",
                                    "Fő": "2",
                                    "(No column name)": "1"
                                },
                                {
                                    "USERNEV": "PETERB",
                                    "nev": "Berendi Péter",
                                    "mettol": "2016-08-16",
                                    "meddig": "2016-08-23",
                                    "Fő": "1",
                                    "(No column name)": "3"
                                },
                                {
                                    "USERNEV": "PETERB",
                                    "nev": "Berendi Péter",
                                    "mettol": "2016-10-19",
                                    "meddig": "2016-10-20",
                                    "Fő": "4",
                                    "(No column name)": "4"
                                },
                                {
                                    "USERNEV": "PETERB",
                                    "nev": "Berendi Péter",
                                    "mettol": "2016-11-17",
                                    "meddig": "2016-11-20",
                                    "Fő": "2",
                                    "(No column name)": "7"
                                },
                                {
                                    "USERNEV": "polla",
                                    "nev": "Palágyi Polla",
                                    "mettol": "2016-04-17",
                                    "meddig": "2016-04-22",
                                    "Fő": "3",
                                    "(No column name)": "NULL"
                                },
                                {
                                    "USERNEV": "polla",
                                    "nev": "Palágyi Polla",
                                    "mettol": "2016-08-14",
                                    "meddig": "2016-08-17",
                                    "Fő": "2",
                                    "(No column name)": "3"
                                },
                                {
                                    "USERNEV": "polla",
                                    "nev": "Palágyi Polla",
                                    "mettol": "2016-08-16",
                                    "meddig": "2016-08-19",
                                    "Fő": "4",
                                    "(No column name)": "5"
                                },
                                {
                                    "USERNEV": "polla",
                                    "nev": "Palágyi Polla",
                                    "mettol": "2016-05-28",
                                    "meddig": "2016-06-04",
                                    "Fő": "2",
                                    "(No column name)": "9"
                                },
                                {
                                    "USERNEV": "polla",
                                    "nev": "Palágyi Polla",
                                    "mettol": "2017-01-29",
                                    "meddig": "2017-02-01",
                                    "Fő": "2",
                                    "(No column name)": "8"
                                },
                                {
                                    "USERNEV": "polla",
                                    "nev": "Palágyi Polla",
                                    "mettol": "2017-02-11",
                                    "meddig": "2017-02-16",
                                    "Fő": "2",
                                    "(No column name)": "8"
                                },
                                {
                                    "USERNEV": "rajmond4",
                                    "nev": "Rácz Rajmond",
                                    "mettol": "2016-09-05",
                                    "meddig": "2016-09-07",
                                    "Fő": "3",
                                    "(No column name)": "NULL"
                                },
                                {
                                    "USERNEV": "rajmond4",
                                    "nev": "Rácz Rajmond",
                                    "mettol": "2016-10-03",
                                    "meddig": "2016-10-04",
                                    "Fő": "3",
                                    "(No column name)": "3"
                                },
                                {
                                    "USERNEV": "rajmond4",
                                    "nev": "Rácz Rajmond",
                                    "mettol": "2016-11-08",
                                    "meddig": "2016-11-09",
                                    "Fő": "4",
                                    "(No column name)": "6"
                                },
                                {
                                    "USERNEV": "rajmond4",
                                    "nev": "Rácz Rajmond",
                                    "mettol": "2016-11-16",
                                    "meddig": "2016-11-20",
                                    "Fő": "2",
                                    "(No column name)": "10"
                                },
                                {
                                    "USERNEV": "reka4",
                                    "nev": "Szikszai Réka",
                                    "mettol": "2016-07-27",
                                    "meddig": "2016-07-31",
                                    "Fő": "2",
                                    "(No column name)": "NULL"
                                },
                                {
                                    "USERNEV": "reka4",
                                    "nev": "Szikszai Réka",
                                    "mettol": "2016-08-02",
                                    "meddig": "2016-08-04",
                                    "Fő": "4",
                                    "(No column name)": "2"
                                },
                                {
                                    "USERNEV": "reka4",
                                    "nev": "Szikszai Réka",
                                    "mettol": "2016-09-05",
                                    "meddig": "2016-09-07",
                                    "Fő": "3",
                                    "(No column name)": "6"
                                },
                                {
                                    "USERNEV": "reka4",
                                    "nev": "Szikszai Réka",
                                    "mettol": "2016-09-30",
                                    "meddig": "2016-10-06",
                                    "Fő": "2",
                                    "(No column name)": "9"
                                },
                                {
                                    "USERNEV": "reka4",
                                    "nev": "Szikszai Réka",
                                    "mettol": "2017-02-26",
                                    "meddig": "2017-03-04",
                                    "Fő": "2",
                                    "(No column name)": "9"
                                },
                                {
                                    "USERNEV": "RENATAK",
                                    "nev": "Kardos Renáta",
                                    "mettol": "2016-10-27",
                                    "meddig": "2016-10-29",
                                    "Fő": "4",
                                    "(No column name)": "NULL"
                                },
                                {
                                    "USERNEV": "RENATAK",
                                    "nev": "Kardos Renáta",
                                    "mettol": "2016-10-30",
                                    "meddig": "2016-10-31",
                                    "Fő": "1",
                                    "(No column name)": "4"
                                },
                                {
                                    "USERNEV": "RENATAK",
                                    "nev": "Kardos Renáta",
                                    "mettol": "2016-11-23",
                                    "meddig": "2016-11-26",
                                    "Fő": "1",
                                    "(No column name)": "5"
                                },
                                {
                                    "USERNEV": "RENATAK",
                                    "nev": "Kardos Renáta",
                                    "mettol": "2017-01-23",
                                    "meddig": "2017-01-24",
                                    "Fő": "3",
                                    "(No column name)": "6"
                                },
                                {
                                    "USERNEV": "RENATAK",
                                    "nev": "Kardos Renáta",
                                    "mettol": "2017-02-16",
                                    "meddig": "2017-02-23",
                                    "Fő": "1",
                                    "(No column name)": "5"
                                },
                                {
                                    "USERNEV": "RENATAK",
                                    "nev": "Kardos Renáta",
                                    "mettol": "2017-03-01",
                                    "meddig": "2017-03-06",
                                    "Fő": "1",
                                    "(No column name)": "5"
                                },
                                {
                                    "USERNEV": "RENATAS",
                                    "nev": "Szirmai Renáta",
                                    "mettol": "2016-05-04",
                                    "meddig": "2016-05-11",
                                    "Fő": "2",
                                    "(No column name)": "NULL"
                                },
                                {
                                    "USERNEV": "RENATAS",
                                    "nev": "Szirmai Renáta",
                                    "mettol": "2016-05-11",
                                    "meddig": "2016-05-16",
                                    "Fő": "2",
                                    "(No column name)": "2"
                                },
                                {
                                    "USERNEV": "RENATAS",
                                    "nev": "Szirmai Renáta",
                                    "mettol": "2016-06-24",
                                    "meddig": "2016-06-30",
                                    "Fő": "5",
                                    "(No column name)": "4"
                                },
                                {
                                    "USERNEV": "RENATAS",
                                    "nev": "Szirmai Renáta",
                                    "mettol": "2017-02-13",
                                    "meddig": "2017-02-17",
                                    "Fő": "1",
                                    "(No column name)": "9"
                                },
                                {
                                    "USERNEV": "RENATAS",
                                    "nev": "Szirmai Renáta",
                                    "mettol": "2017-02-14",
                                    "meddig": "2017-02-17",
                                    "Fő": "2",
                                    "(No column name)": "8"
                                },
                                {
                                    "USERNEV": "robert2",
                                    "nev": "Patay Róbert",
                                    "mettol": "2016-05-15",
                                    "meddig": "2016-05-18",
                                    "Fő": "2",
                                    "(No column name)": "NULL"
                                },
                                {
                                    "USERNEV": "robert2",
                                    "nev": "Patay Róbert",
                                    "mettol": "2016-08-20",
                                    "meddig": "2016-08-27",
                                    "Fő": "2",
                                    "(No column name)": "2"
                                },
                                {
                                    "USERNEV": "robert2",
                                    "nev": "Patay Róbert",
                                    "mettol": "2016-10-23",
                                    "meddig": "2016-10-28",
                                    "Fő": "3",
                                    "(No column name)": "4"
                                },
                                {
                                    "USERNEV": "robert2",
                                    "nev": "Patay Róbert",
                                    "mettol": "2016-12-17",
                                    "meddig": "2016-12-22",
                                    "Fő": "1",
                                    "(No column name)": "7"
                                },
                                {
                                    "USERNEV": "ROBERTI",
                                    "nev": "Iván Róbert",
                                    "mettol": "2016-08-16",
                                    "meddig": "2016-08-21",
                                    "Fő": "2",
                                    "(No column name)": "NULL"
                                },
                                {
                                    "USERNEV": "ROBERTI",
                                    "nev": "Iván Róbert",
                                    "mettol": "2016-08-23",
                                    "meddig": "2016-08-25",
                                    "Fő": "2",
                                    "(No column name)": "2"
                                },
                                {
                                    "USERNEV": "ROBERTI",
                                    "nev": "Iván Róbert",
                                    "mettol": "2016-07-12",
                                    "meddig": "2016-07-19",
                                    "Fő": "4",
                                    "(No column name)": "4"
                                },
                                {
                                    "USERNEV": "ROBERTI",
                                    "nev": "Iván Róbert",
                                    "mettol": "2016-10-08",
                                    "meddig": "2016-10-12",
                                    "Fő": "3",
                                    "(No column name)": "8"
                                },
                                {
                                    "USERNEV": "ROBERTI",
                                    "nev": "Iván Róbert",
                                    "mettol": "2016-10-09",
                                    "meddig": "2016-10-10",
                                    "Fő": "2",
                                    "(No column name)": "9"
                                },
                                {
                                    "USERNEV": "ROBERTI",
                                    "nev": "Iván Róbert",
                                    "mettol": "2016-10-23",
                                    "meddig": "2016-10-29",
                                    "Fő": "1",
                                    "(No column name)": "9"
                                },
                                {
                                    "USERNEV": "ROBERTI",
                                    "nev": "Iván Róbert",
                                    "mettol": "2016-10-26",
                                    "meddig": "2016-11-01",
                                    "Fő": "2",
                                    "(No column name)": "6"
                                },
                                {
                                    "USERNEV": "ROBERTI",
                                    "nev": "Iván Róbert",
                                    "mettol": "2017-02-17",
                                    "meddig": "2017-02-20",
                                    "Fő": "2",
                                    "(No column name)": "5"
                                },
                                {
                                    "USERNEV": "ROBERTP",
                                    "nev": "Pásztor Róbert",
                                    "mettol": "2016-07-30",
                                    "meddig": "2016-08-05",
                                    "Fő": "2",
                                    "(No column name)": "NULL"
                                },
                                {
                                    "USERNEV": "ROBERTP",
                                    "nev": "Pásztor Róbert",
                                    "mettol": "2016-09-08",
                                    "meddig": "2016-09-11",
                                    "Fő": "4",
                                    "(No column name)": "2"
                                },
                                {
                                    "USERNEV": "roland",
                                    "nev": "Tóth Roland",
                                    "mettol": "2016-09-04",
                                    "meddig": "2016-09-05",
                                    "Fő": "2",
                                    "(No column name)": "NULL"
                                },
                                {
                                    "USERNEV": "roland",
                                    "nev": "Tóth Roland",
                                    "mettol": "2016-06-09",
                                    "meddig": "2016-06-13",
                                    "Fő": "3",
                                    "(No column name)": "2"
                                },
                                {
                                    "USERNEV": "roland",
                                    "nev": "Tóth Roland",
                                    "mettol": "2016-06-22",
                                    "meddig": "2016-06-23",
                                    "Fő": "3",
                                    "(No column name)": "5"
                                },
                                {
                                    "USERNEV": "roland",
                                    "nev": "Tóth Roland",
                                    "mettol": "2016-11-19",
                                    "meddig": "2016-11-24",
                                    "Fő": "2",
                                    "(No column name)": "8"
                                },
                                {
                                    "USERNEV": "roland1",
                                    "nev": "Ferencz Roland",
                                    "mettol": "2016-11-05",
                                    "meddig": "2016-11-07",
                                    "Fő": "3",
                                    "(No column name)": "NULL"
                                },
                                {
                                    "USERNEV": "roland1",
                                    "nev": "Ferencz Roland",
                                    "mettol": "2016-12-22",
                                    "meddig": "2016-12-29",
                                    "Fő": "1",
                                    "(No column name)": "3"
                                },
                                {
                                    "USERNEV": "roland1",
                                    "nev": "Ferencz Roland",
                                    "mettol": "2017-01-04",
                                    "meddig": "2017-01-08",
                                    "Fő": "3",
                                    "(No column name)": "4"
                                },
                                {
                                    "USERNEV": "roland1",
                                    "nev": "Ferencz Roland",
                                    "mettol": "2017-01-16",
                                    "meddig": "2017-01-22",
                                    "Fő": "2",
                                    "(No column name)": "7"
                                },
                                {
                                    "USERNEV": "roza2",
                                    "nev": "Bucskó Róza",
                                    "mettol": "2016-09-10",
                                    "meddig": "2016-09-13",
                                    "Fő": "2",
                                    "(No column name)": "NULL"
                                },
                                {
                                    "USERNEV": "roza2",
                                    "nev": "Bucskó Róza",
                                    "mettol": "2017-01-11",
                                    "meddig": "2017-01-17",
                                    "Fő": "3",
                                    "(No column name)": "2"
                                },
                                {
                                    "USERNEV": "roza2",
                                    "nev": "Bucskó Róza",
                                    "mettol": "2017-02-18",
                                    "meddig": "2017-02-21",
                                    "Fő": "3",
                                    "(No column name)": "5"
                                },
                                {
                                    "USERNEV": "sandor",
                                    "nev": "Karasz Sándor",
                                    "mettol": "2016-07-18",
                                    "meddig": "2016-07-24",
                                    "Fő": "2",
                                    "(No column name)": "NULL"
                                },
                                {
                                    "USERNEV": "sandor",
                                    "nev": "Karasz Sándor",
                                    "mettol": "2016-08-20",
                                    "meddig": "2016-08-25",
                                    "Fő": "2",
                                    "(No column name)": "2"
                                },
                                {
                                    "USERNEV": "sandor",
                                    "nev": "Karasz Sándor",
                                    "mettol": "2016-07-04",
                                    "meddig": "2016-07-06",
                                    "Fő": "2",
                                    "(No column name)": "4"
                                },
                                {
                                    "USERNEV": "sandor",
                                    "nev": "Karasz Sándor",
                                    "mettol": "2016-09-19",
                                    "meddig": "2016-09-26",
                                    "Fő": "4",
                                    "(No column name)": "6"
                                },
                                {
                                    "USERNEV": "sandor3",
                                    "nev": "Farkas Sándor",
                                    "mettol": "2016-05-12",
                                    "meddig": "2016-05-15",
                                    "Fő": "2",
                                    "(No column name)": "NULL"
                                },
                                {
                                    "USERNEV": "sandor3",
                                    "nev": "Farkas Sándor",
                                    "mettol": "2016-05-25",
                                    "meddig": "2016-05-30",
                                    "Fő": "1",
                                    "(No column name)": "2"
                                },
                                {
                                    "USERNEV": "sandor3",
                                    "nev": "Farkas Sándor",
                                    "mettol": "2016-10-09",
                                    "meddig": "2016-10-14",
                                    "Fő": "2",
                                    "(No column name)": "3"
                                },
                                {
                                    "USERNEV": "sandor3",
                                    "nev": "Farkas Sándor",
                                    "mettol": "2016-10-23",
                                    "meddig": "2016-10-29",
                                    "Fő": "3",
                                    "(No column name)": "5"
                                },
                                {
                                    "USERNEV": "sandor3",
                                    "nev": "Farkas Sándor",
                                    "mettol": "2016-11-10",
                                    "meddig": "2016-11-11",
                                    "Fő": "2",
                                    "(No column name)": "6"
                                },
                                {
                                    "USERNEV": "sandor4",
                                    "nev": "Nagy Sándor",
                                    "mettol": "2016-10-15",
                                    "meddig": "2016-10-18",
                                    "Fő": "1",
                                    "(No column name)": "NULL"
                                },
                                {
                                    "USERNEV": "sandor4",
                                    "nev": "Nagy Sándor",
                                    "mettol": "2016-11-29",
                                    "meddig": "2016-12-03",
                                    "Fő": "2",
                                    "(No column name)": "1"
                                },
                                {
                                    "USERNEV": "sandor4",
                                    "nev": "Nagy Sándor",
                                    "mettol": "2016-12-03",
                                    "meddig": "2016-12-09",
                                    "Fő": "1",
                                    "(No column name)": "3"
                                },
                                {
                                    "USERNEV": "sandor4",
                                    "nev": "Nagy Sándor",
                                    "mettol": "2017-01-22",
                                    "meddig": "2017-01-26",
                                    "Fő": "2",
                                    "(No column name)": "4"
                                },
                                {
                                    "USERNEV": "sara",
                                    "nev": "Farkas Sára",
                                    "mettol": "2016-07-15",
                                    "meddig": "2016-07-17",
                                    "Fő": "3",
                                    "(No column name)": "NULL"
                                },
                                {
                                    "USERNEV": "sara",
                                    "nev": "Farkas Sára",
                                    "mettol": "2016-07-24",
                                    "meddig": "2016-07-27",
                                    "Fő": "3",
                                    "(No column name)": "3"
                                },
                                {
                                    "USERNEV": "sara",
                                    "nev": "Farkas Sára",
                                    "mettol": "2016-05-28",
                                    "meddig": "2016-05-30",
                                    "Fő": "2",
                                    "(No column name)": "6"
                                },
                                {
                                    "USERNEV": "sara",
                                    "nev": "Farkas Sára",
                                    "mettol": "2016-05-30",
                                    "meddig": "2016-05-31",
                                    "Fő": "2",
                                    "(No column name)": "8"
                                },
                                {
                                    "USERNEV": "sara",
                                    "nev": "Farkas Sára",
                                    "mettol": "2016-06-06",
                                    "meddig": "2016-06-08",
                                    "Fő": "2",
                                    "(No column name)": "7"
                                },
                                {
                                    "USERNEV": "sara",
                                    "nev": "Farkas Sára",
                                    "mettol": "2016-10-06",
                                    "meddig": "2016-10-12",
                                    "Fő": "3",
                                    "(No column name)": "6"
                                },
                                {
                                    "USERNEV": "sara",
                                    "nev": "Farkas Sára",
                                    "mettol": "2016-10-11",
                                    "meddig": "2016-10-14",
                                    "Fő": "3",
                                    "(No column name)": "7"
                                },
                                {
                                    "USERNEV": "sara",
                                    "nev": "Farkas Sára",
                                    "mettol": "2016-10-28",
                                    "meddig": "2016-11-03",
                                    "Fő": "2",
                                    "(No column name)": "8"
                                },
                                {
                                    "USERNEV": "sara",
                                    "nev": "Farkas Sára",
                                    "mettol": "2016-11-18",
                                    "meddig": "2016-11-21",
                                    "Fő": "3",
                                    "(No column name)": "8"
                                },
                                {
                                    "USERNEV": "sara",
                                    "nev": "Farkas Sára",
                                    "mettol": "2016-11-23",
                                    "meddig": "2016-11-30",
                                    "Fő": "4",
                                    "(No column name)": "8"
                                },
                                {
                                    "USERNEV": "sara",
                                    "nev": "Farkas Sára",
                                    "mettol": "2016-12-06",
                                    "meddig": "2016-12-10",
                                    "Fő": "1",
                                    "(No column name)": "9"
                                },
                                {
                                    "USERNEV": "sara",
                                    "nev": "Farkas Sára",
                                    "mettol": "2016-12-25",
                                    "meddig": "2016-12-30",
                                    "Fő": "2",
                                    "(No column name)": "8"
                                },
                                {
                                    "USERNEV": "SEBASTIANF",
                                    "nev": "Foltényi Sebastián",
                                    "mettol": "2016-04-06",
                                    "meddig": "2016-04-12",
                                    "Fő": "2",
                                    "(No column name)": "NULL"
                                },
                                {
                                    "USERNEV": "SEBASTIANF",
                                    "nev": "Foltényi Sebastián",
                                    "mettol": "2016-07-17",
                                    "meddig": "2016-07-21",
                                    "Fő": "2",
                                    "(No column name)": "2"
                                },
                                {
                                    "USERNEV": "SEBASTIANF",
                                    "nev": "Foltényi Sebastián",
                                    "mettol": "2016-07-30",
                                    "meddig": "2016-08-06",
                                    "Fő": "4",
                                    "(No column name)": "4"
                                },
                                {
                                    "USERNEV": "SEBASTIANF",
                                    "nev": "Foltényi Sebastián",
                                    "mettol": "2016-09-14",
                                    "meddig": "2016-09-15",
                                    "Fő": "3",
                                    "(No column name)": "8"
                                },
                                {
                                    "USERNEV": "SEBASTIANF",
                                    "nev": "Foltényi Sebastián",
                                    "mettol": "2016-09-17",
                                    "meddig": "2016-09-20",
                                    "Fő": "3",
                                    "(No column name)": "9"
                                },
                                {
                                    "USERNEV": "sebestyen",
                                    "nev": "Rab Sebestyén",
                                    "mettol": "2016-04-07",
                                    "meddig": "2016-04-12",
                                    "Fő": "4",
                                    "(No column name)": "NULL"
                                },
                                {
                                    "USERNEV": "sebestyen",
                                    "nev": "Rab Sebestyén",
                                    "mettol": "2016-04-26",
                                    "meddig": "2016-05-02",
                                    "Fő": "4",
                                    "(No column name)": "4"
                                },
                                {
                                    "USERNEV": "sebestyen",
                                    "nev": "Rab Sebestyén",
                                    "mettol": "2016-06-09",
                                    "meddig": "2016-06-14",
                                    "Fő": "4",
                                    "(No column name)": "8"
                                },
                                {
                                    "USERNEV": "sebestyen",
                                    "nev": "Rab Sebestyén",
                                    "mettol": "2016-10-26",
                                    "meddig": "2016-11-01",
                                    "Fő": "5",
                                    "(No column name)": "12"
                                },
                                {
                                    "USERNEV": "szabolcs",
                                    "nev": "Bodor Szabolcs",
                                    "mettol": "2016-12-05",
                                    "meddig": "2016-12-07",
                                    "Fő": "2",
                                    "(No column name)": "NULL"
                                },
                                {
                                    "USERNEV": "SZABOLCSM",
                                    "nev": "Miklós Szabolcs",
                                    "mettol": "2016-07-28",
                                    "meddig": "2016-08-03",
                                    "Fő": "2",
                                    "(No column name)": "NULL"
                                },
                                {
                                    "USERNEV": "SZABOLCSM",
                                    "nev": "Miklós Szabolcs",
                                    "mettol": "2016-06-18",
                                    "meddig": "2016-06-21",
                                    "Fő": "3",
                                    "(No column name)": "2"
                                },
                                {
                                    "USERNEV": "SZABOLCSM",
                                    "nev": "Miklós Szabolcs",
                                    "mettol": "2016-10-17",
                                    "meddig": "2016-10-19",
                                    "Fő": "2",
                                    "(No column name)": "5"
                                },
                                {
                                    "USERNEV": "SZABOLCSM",
                                    "nev": "Miklós Szabolcs",
                                    "mettol": "2016-10-28",
                                    "meddig": "2016-11-03",
                                    "Fő": "3",
                                    "(No column name)": "7"
                                },
                                {
                                    "USERNEV": "SZABOLCSM",
                                    "nev": "Miklós Szabolcs",
                                    "mettol": "2016-11-12",
                                    "meddig": "2016-11-13",
                                    "Fő": "2",
                                    "(No column name)": "8"
                                },
                                {
                                    "USERNEV": "SZABOLCSM",
                                    "nev": "Miklós Szabolcs",
                                    "mettol": "2017-01-07",
                                    "meddig": "2017-01-08",
                                    "Fő": "2",
                                    "(No column name)": "7"
                                },
                                {
                                    "USERNEV": "SZABOLCSM",
                                    "nev": "Miklós Szabolcs",
                                    "mettol": "2017-02-04",
                                    "meddig": "2017-02-05",
                                    "Fő": "3",
                                    "(No column name)": "7"
                                },
                                {
                                    "USERNEV": "SZILARDS",
                                    "nev": "Szalai Szilárd",
                                    "mettol": "2016-04-23",
                                    "meddig": "2016-04-30",
                                    "Fő": "3",
                                    "(No column name)": "NULL"
                                },
                                {
                                    "USERNEV": "SZILARDS",
                                    "nev": "Szalai Szilárd",
                                    "mettol": "2016-07-27",
                                    "meddig": "2016-08-03",
                                    "Fő": "5",
                                    "(No column name)": "3"
                                },
                                {
                                    "USERNEV": "SZILARDS",
                                    "nev": "Szalai Szilárd",
                                    "mettol": "2016-08-28",
                                    "meddig": "2016-08-29",
                                    "Fő": "4",
                                    "(No column name)": "8"
                                },
                                {
                                    "USERNEV": "SZILARDS",
                                    "nev": "Szalai Szilárd",
                                    "mettol": "2016-09-20",
                                    "meddig": "2016-09-24",
                                    "Fő": "3",
                                    "(No column name)": "12"
                                },
                                {
                                    "USERNEV": "SZILARDS",
                                    "nev": "Szalai Szilárd",
                                    "mettol": "2016-10-01",
                                    "meddig": "2016-10-08",
                                    "Fő": "3",
                                    "(No column name)": "12"
                                },
                                {
                                    "USERNEV": "SZILARDS",
                                    "nev": "Szalai Szilárd",
                                    "mettol": "2017-01-16",
                                    "meddig": "2017-01-19",
                                    "Fő": "3",
                                    "(No column name)": "10"
                                },
                                {
                                    "USERNEV": "SZILARDS",
                                    "nev": "Szalai Szilárd",
                                    "mettol": "2017-02-08",
                                    "meddig": "2017-02-15",
                                    "Fő": "1",
                                    "(No column name)": "9"
                                },
                                {
                                    "USERNEV": "szilvia1",
                                    "nev": "Tari Szilvia",
                                    "mettol": "2016-05-14",
                                    "meddig": "2016-05-21",
                                    "Fő": "2",
                                    "(No column name)": "NULL"
                                },
                                {
                                    "USERNEV": "szilvia1",
                                    "nev": "Tari Szilvia",
                                    "mettol": "2016-07-25",
                                    "meddig": "2016-07-28",
                                    "Fő": "2",
                                    "(No column name)": "2"
                                },
                                {
                                    "USERNEV": "szilvia1",
                                    "nev": "Tari Szilvia",
                                    "mettol": "2016-05-28",
                                    "meddig": "2016-06-03",
                                    "Fő": "2",
                                    "(No column name)": "4"
                                },
                                {
                                    "USERNEV": "szilvia1",
                                    "nev": "Tari Szilvia",
                                    "mettol": "2016-10-09",
                                    "meddig": "2016-10-10",
                                    "Fő": "3",
                                    "(No column name)": "6"
                                },
                                {
                                    "USERNEV": "szilvia1",
                                    "nev": "Tari Szilvia",
                                    "mettol": "2016-10-25",
                                    "meddig": "2016-10-31",
                                    "Fő": "3",
                                    "(No column name)": "7"
                                },
                                {
                                    "USERNEV": "szilvia1",
                                    "nev": "Tari Szilvia",
                                    "mettol": "2016-10-27",
                                    "meddig": "2016-10-28",
                                    "Fő": "2",
                                    "(No column name)": "8"
                                },
                                {
                                    "USERNEV": "szilvia1",
                                    "nev": "Tari Szilvia",
                                    "mettol": "2016-12-25",
                                    "meddig": "2016-12-29",
                                    "Fő": "5",
                                    "(No column name)": "8"
                                },
                                {
                                    "USERNEV": "szilvia1",
                                    "nev": "Tari Szilvia",
                                    "mettol": "2016-12-27",
                                    "meddig": "2017-01-02",
                                    "Fő": "2",
                                    "(No column name)": "10"
                                },
                                {
                                    "USERNEV": "szilvia1",
                                    "nev": "Tari Szilvia",
                                    "mettol": "2017-01-28",
                                    "meddig": "2017-02-03",
                                    "Fő": "2",
                                    "(No column name)": "9"
                                },
                                {
                                    "USERNEV": "tamara2",
                                    "nev": "Miklós Tamara",
                                    "mettol": "2016-08-12",
                                    "meddig": "2016-08-15",
                                    "Fő": "3",
                                    "(No column name)": "NULL"
                                },
                                {
                                    "USERNEV": "tamara2",
                                    "nev": "Miklós Tamara",
                                    "mettol": "2016-11-15",
                                    "meddig": "2016-11-18",
                                    "Fő": "2",
                                    "(No column name)": "3"
                                },
                                {
                                    "USERNEV": "tamas",
                                    "nev": "Antal Tamás",
                                    "mettol": "2016-05-17",
                                    "meddig": "2016-05-22",
                                    "Fő": "2",
                                    "(No column name)": "NULL"
                                },
                                {
                                    "USERNEV": "tamas",
                                    "nev": "Antal Tamás",
                                    "mettol": "2016-08-24",
                                    "meddig": "2016-08-27",
                                    "Fő": "3",
                                    "(No column name)": "2"
                                },
                                {
                                    "USERNEV": "tamas",
                                    "nev": "Antal Tamás",
                                    "mettol": "2016-06-14",
                                    "meddig": "2016-06-21",
                                    "Fő": "2",
                                    "(No column name)": "5"
                                },
                                {
                                    "USERNEV": "tamas",
                                    "nev": "Antal Tamás",
                                    "mettol": "2017-02-14",
                                    "meddig": "2017-02-19",
                                    "Fő": "3",
                                    "(No column name)": "7"
                                },
                                {
                                    "USERNEV": "TAMASF",
                                    "nev": "Fényes Tamás",
                                    "mettol": "2016-05-03",
                                    "meddig": "2016-05-04",
                                    "Fő": "2",
                                    "(No column name)": "NULL"
                                },
                                {
                                    "USERNEV": "TAMASF",
                                    "nev": "Fényes Tamás",
                                    "mettol": "2016-06-10",
                                    "meddig": "2016-06-13",
                                    "Fő": "3",
                                    "(No column name)": "2"
                                },
                                {
                                    "USERNEV": "TAMASF",
                                    "nev": "Fényes Tamás",
                                    "mettol": "2016-06-28",
                                    "meddig": "2016-07-05",
                                    "Fő": "3",
                                    "(No column name)": "5"
                                },
                                {
                                    "USERNEV": "TAMASF",
                                    "nev": "Fényes Tamás",
                                    "mettol": "2016-07-04",
                                    "meddig": "2016-07-10",
                                    "Fő": "2",
                                    "(No column name)": "8"
                                },
                                {
                                    "USERNEV": "TAMASF",
                                    "nev": "Fényes Tamás",
                                    "mettol": "2016-09-12",
                                    "meddig": "2016-09-18",
                                    "Fő": "3",
                                    "(No column name)": "8"
                                },
                                {
                                    "USERNEV": "TAMASF",
                                    "nev": "Fényes Tamás",
                                    "mettol": "2016-12-02",
                                    "meddig": "2016-12-04",
                                    "Fő": "1",
                                    "(No column name)": "8"
                                },
                                {
                                    "USERNEV": "TAMASF",
                                    "nev": "Fényes Tamás",
                                    "mettol": "2016-12-10",
                                    "meddig": "2016-12-14",
                                    "Fő": "3",
                                    "(No column name)": "6"
                                },
                                {
                                    "USERNEV": "TAMASF",
                                    "nev": "Fényes Tamás",
                                    "mettol": "2017-02-12",
                                    "meddig": "2017-02-17",
                                    "Fő": "2",
                                    "(No column name)": "7"
                                },
                                {
                                    "USERNEV": "TAMASF",
                                    "nev": "Fényes Tamás",
                                    "mettol": "2017-02-16",
                                    "meddig": "2017-02-19",
                                    "Fő": "4",
                                    "(No column name)": "6"
                                },
                                {
                                    "USERNEV": "tibor",
                                    "nev": "Gombos Tibor",
                                    "mettol": "2016-10-09",
                                    "meddig": "2016-10-13",
                                    "Fő": "2",
                                    "(No column name)": "NULL"
                                },
                                {
                                    "USERNEV": "tibor",
                                    "nev": "Gombos Tibor",
                                    "mettol": "2016-11-05",
                                    "meddig": "2016-11-09",
                                    "Fő": "1",
                                    "(No column name)": "2"
                                },
                                {
                                    "USERNEV": "tibor2",
                                    "nev": "Dániel Tibor",
                                    "mettol": "2016-10-20",
                                    "meddig": "2016-10-25",
                                    "Fő": "2",
                                    "(No column name)": "NULL"
                                },
                                {
                                    "USERNEV": "tihamer",
                                    "nev": "Kazy Tihamér",
                                    "mettol": "2016-07-20",
                                    "meddig": "2016-07-24",
                                    "Fő": "3",
                                    "(No column name)": "NULL"
                                },
                                {
                                    "USERNEV": "tihamer",
                                    "nev": "Kazy Tihamér",
                                    "mettol": "2016-08-18",
                                    "meddig": "2016-08-22",
                                    "Fő": "3",
                                    "(No column name)": "3"
                                },
                                {
                                    "USERNEV": "tihamer",
                                    "nev": "Kazy Tihamér",
                                    "mettol": "2016-05-30",
                                    "meddig": "2016-06-05",
                                    "Fő": "1",
                                    "(No column name)": "6"
                                },
                                {
                                    "USERNEV": "tihamer",
                                    "nev": "Kazy Tihamér",
                                    "mettol": "2016-06-03",
                                    "meddig": "2016-06-08",
                                    "Fő": "5",
                                    "(No column name)": "7"
                                },
                                {
                                    "USERNEV": "tihamer",
                                    "nev": "Kazy Tihamér",
                                    "mettol": "2016-10-19",
                                    "meddig": "2016-10-23",
                                    "Fő": "2",
                                    "(No column name)": "9"
                                },
                                {
                                    "USERNEV": "tihamer",
                                    "nev": "Kazy Tihamér",
                                    "mettol": "2016-12-25",
                                    "meddig": "2016-12-26",
                                    "Fő": "2",
                                    "(No column name)": "8"
                                },
                                {
                                    "USERNEV": "timea",
                                    "nev": "Papós Tímea",
                                    "mettol": "2016-12-26",
                                    "meddig": "2016-12-27",
                                    "Fő": "2",
                                    "(No column name)": "NULL"
                                },
                                {
                                    "USERNEV": "timea2",
                                    "nev": "Dusha Tímea",
                                    "mettol": "2016-08-07",
                                    "meddig": "2016-08-10",
                                    "Fő": "3",
                                    "(No column name)": "NULL"
                                },
                                {
                                    "USERNEV": "timea2",
                                    "nev": "Dusha Tímea",
                                    "mettol": "2016-06-06",
                                    "meddig": "2016-06-07",
                                    "Fő": "2",
                                    "(No column name)": "3"
                                },
                                {
                                    "USERNEV": "timea2",
                                    "nev": "Dusha Tímea",
                                    "mettol": "2016-10-26",
                                    "meddig": "2016-10-29",
                                    "Fő": "3",
                                    "(No column name)": "5"
                                },
                                {
                                    "USERNEV": "timea2",
                                    "nev": "Dusha Tímea",
                                    "mettol": "2016-11-27",
                                    "meddig": "2016-12-01",
                                    "Fő": "4",
                                    "(No column name)": "8"
                                },
                                {
                                    "USERNEV": "timea2",
                                    "nev": "Dusha Tímea",
                                    "mettol": "2016-12-14",
                                    "meddig": "2016-12-16",
                                    "Fő": "4",
                                    "(No column name)": "9"
                                },
                                {
                                    "USERNEV": "tunde",
                                    "nev": "Turcsik Tünde",
                                    "mettol": "2016-07-14",
                                    "meddig": "2016-07-21",
                                    "Fő": "1",
                                    "(No column name)": "NULL"
                                },
                                {
                                    "USERNEV": "tunde",
                                    "nev": "Turcsik Tünde",
                                    "mettol": "2016-09-05",
                                    "meddig": "2016-09-12",
                                    "Fő": "2",
                                    "(No column name)": "1"
                                },
                                {
                                    "USERNEV": "tunde",
                                    "nev": "Turcsik Tünde",
                                    "mettol": "2016-06-03",
                                    "meddig": "2016-06-07",
                                    "Fő": "3",
                                    "(No column name)": "3"
                                },
                                {
                                    "USERNEV": "tunde",
                                    "nev": "Turcsik Tünde",
                                    "mettol": "2016-06-06",
                                    "meddig": "2016-06-12",
                                    "Fő": "3",
                                    "(No column name)": "6"
                                },
                                {
                                    "USERNEV": "tunde",
                                    "nev": "Turcsik Tünde",
                                    "mettol": "2016-10-24",
                                    "meddig": "2016-10-30",
                                    "Fő": "3",
                                    "(No column name)": "8"
                                },
                                {
                                    "USERNEV": "tunde",
                                    "nev": "Turcsik Tünde",
                                    "mettol": "2016-11-19",
                                    "meddig": "2016-11-20",
                                    "Fő": "3",
                                    "(No column name)": "9"
                                },
                                {
                                    "USERNEV": "tunde",
                                    "nev": "Turcsik Tünde",
                                    "mettol": "2016-12-15",
                                    "meddig": "2016-12-20",
                                    "Fő": "3",
                                    "(No column name)": "9"
                                },
                                {
                                    "USERNEV": "tunde",
                                    "nev": "Turcsik Tünde",
                                    "mettol": "2017-01-03",
                                    "meddig": "2017-01-06",
                                    "Fő": "5",
                                    "(No column name)": "9"
                                },
                                {
                                    "USERNEV": "valentin",
                                    "nev": "Feró Valentin",
                                    "mettol": "2016-07-24",
                                    "meddig": "2016-07-29",
                                    "Fő": "1",
                                    "(No column name)": "NULL"
                                },
                                {
                                    "USERNEV": "valentin",
                                    "nev": "Feró Valentin",
                                    "mettol": "2016-05-24",
                                    "meddig": "2016-05-30",
                                    "Fő": "4",
                                    "(No column name)": "1"
                                },
                                {
                                    "USERNEV": "valentin",
                                    "nev": "Feró Valentin",
                                    "mettol": "2016-10-26",
                                    "meddig": "2016-10-30",
                                    "Fő": "3",
                                    "(No column name)": "5"
                                },
                                {
                                    "USERNEV": "valentin",
                                    "nev": "Feró Valentin",
                                    "mettol": "2016-11-11",
                                    "meddig": "2016-11-17",
                                    "Fő": "3",
                                    "(No column name)": "8"
                                },
                                {
                                    "USERNEV": "valentin",
                                    "nev": "Feró Valentin",
                                    "mettol": "2016-12-01",
                                    "meddig": "2016-12-05",
                                    "Fő": "3",
                                    "(No column name)": "10"
                                },
                                {
                                    "USERNEV": "veronika4",
                                    "nev": "Tankó Veronika",
                                    "mettol": "2016-07-20",
                                    "meddig": "2016-07-26",
                                    "Fő": "3",
                                    "(No column name)": "NULL"
                                },
                                {
                                    "USERNEV": "veronika4",
                                    "nev": "Tankó Veronika",
                                    "mettol": "2016-08-16",
                                    "meddig": "2016-08-21",
                                    "Fő": "1",
                                    "(No column name)": "3"
                                },
                                {
                                    "USERNEV": "veronika4",
                                    "nev": "Tankó Veronika",
                                    "mettol": "2016-05-30",
                                    "meddig": "2016-06-04",
                                    "Fő": "2",
                                    "(No column name)": "4"
                                },
                                {
                                    "USERNEV": "veronika4",
                                    "nev": "Tankó Veronika",
                                    "mettol": "2016-09-26",
                                    "meddig": "2016-10-03",
                                    "Fő": "2",
                                    "(No column name)": "6"
                                },
                                {
                                    "USERNEV": "veronika4",
                                    "nev": "Tankó Veronika",
                                    "mettol": "2017-01-19",
                                    "meddig": "2017-01-24",
                                    "Fő": "3",
                                    "(No column name)": "5"
                                },
                                {
                                    "USERNEV": "veronika4",
                                    "nev": "Tankó Veronika",
                                    "mettol": "2017-02-03",
                                    "meddig": "2017-02-05",
                                    "Fő": "2",
                                    "(No column name)": "7"
                                },
                                {
                                    "USERNEV": "VIKTORIAU",
                                    "nev": "Urbán Viktoria",
                                    "mettol": "2016-04-30",
                                    "meddig": "2016-05-03",
                                    "Fő": "1",
                                    "(No column name)": "NULL"
                                },
                                {
                                    "USERNEV": "VIKTORIAU",
                                    "nev": "Urbán Viktoria",
                                    "mettol": "2016-08-03",
                                    "meddig": "2016-08-04",
                                    "Fő": "2",
                                    "(No column name)": "1"
                                },
                                {
                                    "USERNEV": "VIKTORIAU",
                                    "nev": "Urbán Viktoria",
                                    "mettol": "2016-10-14",
                                    "meddig": "2016-10-15",
                                    "Fő": "3",
                                    "(No column name)": "3"
                                },
                                {
                                    "USERNEV": "VIKTORIAU",
                                    "nev": "Urbán Viktoria",
                                    "mettol": "2016-10-26",
                                    "meddig": "2016-11-02",
                                    "Fő": "4",
                                    "(No column name)": "6"
                                },
                                {
                                    "USERNEV": "VIKTORK",
                                    "nev": "Keresztúri Viktor",
                                    "mettol": "2016-05-30",
                                    "meddig": "2016-06-01",
                                    "Fő": "2",
                                    "(No column name)": "NULL"
                                },
                                {
                                    "USERNEV": "VIKTORK",
                                    "nev": "Keresztúri Viktor",
                                    "mettol": "2016-06-06",
                                    "meddig": "2016-06-07",
                                    "Fő": "4",
                                    "(No column name)": "2"
                                },
                                {
                                    "USERNEV": "vivien3",
                                    "nev": "Boros Vivien",
                                    "mettol": "2016-05-02",
                                    "meddig": "2016-05-05",
                                    "Fő": "3",
                                    "(No column name)": "NULL"
                                },
                                {
                                    "USERNEV": "vivien3",
                                    "nev": "Boros Vivien",
                                    "mettol": "2016-08-13",
                                    "meddig": "2016-08-18",
                                    "Fő": "2",
                                    "(No column name)": "3"
                                },
                                {
                                    "USERNEV": "vivien3",
                                    "nev": "Boros Vivien",
                                    "mettol": "2016-09-01",
                                    "meddig": "2016-09-05",
                                    "Fő": "2",
                                    "(No column name)": "5"
                                },
                                {
                                    "USERNEV": "vivien3",
                                    "nev": "Boros Vivien",
                                    "mettol": "2016-10-01",
                                    "meddig": "2016-10-04",
                                    "Fő": "1",
                                    "(No column name)": "7"
                                },
                                {
                                    "USERNEV": "vivien3",
                                    "nev": "Boros Vivien",
                                    "mettol": "2016-11-17",
                                    "meddig": "2016-11-20",
                                    "Fő": "2",
                                    "(No column name)": "5"
                                },
                                {
                                    "USERNEV": "vivien3",
                                    "nev": "Boros Vivien",
                                    "mettol": "2016-12-17",
                                    "meddig": "2016-12-21",
                                    "Fő": "2",
                                    "(No column name)": "5"
                                },
                                {
                                    "USERNEV": "vivien3",
                                    "nev": "Boros Vivien",
                                    "mettol": "2016-12-24",
                                    "meddig": "2016-12-26",
                                    "Fő": "3",
                                    "(No column name)": "5"
                                },
                                {
                                    "USERNEV": "zoltan",
                                    "nev": "Fodor Zoltán",
                                    "mettol": "2016-08-24",
                                    "meddig": "2016-08-31",
                                    "Fő": "2",
                                    "(No column name)": "NULL"
                                },
                                {
                                    "USERNEV": "zoltan",
                                    "nev": "Fodor Zoltán",
                                    "mettol": "2016-09-05",
                                    "meddig": "2016-09-09",
                                    "Fő": "3",
                                    "(No column name)": "2"
                                },
                                {
                                    "USERNEV": "zoltan4",
                                    "nev": "Barna Zoltán",
                                    "mettol": "2016-05-12",
                                    "meddig": "2016-05-16",
                                    "Fő": "3",
                                    "(No column name)": "NULL"
                                },
                                {
                                    "USERNEV": "zoltan4",
                                    "nev": "Barna Zoltán",
                                    "mettol": "2016-05-13",
                                    "meddig": "2016-05-16",
                                    "Fő": "3",
                                    "(No column name)": "3"
                                },
                                {
                                    "USERNEV": "zoltan4",
                                    "nev": "Barna Zoltán",
                                    "mettol": "2016-08-15",
                                    "meddig": "2016-08-21",
                                    "Fő": "1",
                                    "(No column name)": "6"
                                },
                                {
                                    "USERNEV": "zoltan4",
                                    "nev": "Barna Zoltán",
                                    "mettol": "2016-08-16",
                                    "meddig": "2016-08-23",
                                    "Fő": "2",
                                    "(No column name)": "7"
                                },
                                {
                                    "USERNEV": "zoltan4",
                                    "nev": "Barna Zoltán",
                                    "mettol": "2016-06-03",
                                    "meddig": "2016-06-06",
                                    "Fő": "1",
                                    "(No column name)": "6"
                                },
                                {
                                    "USERNEV": "zoltan4",
                                    "nev": "Barna Zoltán",
                                    "mettol": "2016-09-30",
                                    "meddig": "2016-10-07",
                                    "Fő": "3",
                                    "(No column name)": "4"
                                },
                                {
                                    "USERNEV": "zoltan4",
                                    "nev": "Barna Zoltán",
                                    "mettol": "2016-10-21",
                                    "meddig": "2016-10-24",
                                    "Fő": "5",
                                    "(No column name)": "6"
                                },
                                {
                                    "USERNEV": "zoltan4",
                                    "nev": "Barna Zoltán",
                                    "mettol": "2016-10-26",
                                    "meddig": "2016-10-30",
                                    "Fő": "2",
                                    "(No column name)": "9"
                                },
                                {
                                    "USERNEV": "zoltan4",
                                    "nev": "Barna Zoltán",
                                    "mettol": "2016-10-30",
                                    "meddig": "2016-11-06",
                                    "Fő": "1",
                                    "(No column name)": "10"
                                },
                                {
                                    "USERNEV": "zoltan4",
                                    "nev": "Barna Zoltán",
                                    "mettol": "2016-11-19",
                                    "meddig": "2016-11-21",
                                    "Fő": "2",
                                    "(No column name)": "8"
                                },
                                {
                                    "USERNEV": "zoltan4",
                                    "nev": "Barna Zoltán",
                                    "mettol": "2016-12-29",
                                    "meddig": "2017-01-04",
                                    "Fő": "1",
                                    "(No column name)": "5"
                                },
                                {
                                    "USERNEV": "zoltan4",
                                    "nev": "Barna Zoltán",
                                    "mettol": "2017-01-01",
                                    "meddig": "2017-01-02",
                                    "Fő": "3",
                                    "(No column name)": "4"
                                },
                                {
                                    "USERNEV": "ZOLTANP",
                                    "nev": "Pintér Zoltán",
                                    "mettol": "2016-07-20",
                                    "meddig": "2016-07-25",
                                    "Fő": "3",
                                    "(No column name)": "NULL"
                                },
                                {
                                    "USERNEV": "ZOLTANP",
                                    "nev": "Pintér Zoltán",
                                    "mettol": "2016-06-05",
                                    "meddig": "2016-06-08",
                                    "Fő": "2",
                                    "(No column name)": "3"
                                },
                                {
                                    "USERNEV": "ZOLTANP",
                                    "nev": "Pintér Zoltán",
                                    "mettol": "2016-06-06",
                                    "meddig": "2016-06-08",
                                    "Fő": "2",
                                    "(No column name)": "5"
                                },
                                {
                                    "USERNEV": "ZOLTANP",
                                    "nev": "Pintér Zoltán",
                                    "mettol": "2016-10-19",
                                    "meddig": "2016-10-25",
                                    "Fő": "2",
                                    "(No column name)": "7"
                                },
                                {
                                    "USERNEV": "ZOLTANP",
                                    "nev": "Pintér Zoltán",
                                    "mettol": "2016-12-07",
                                    "meddig": "2016-12-10",
                                    "Fő": "3",
                                    "(No column name)": "6"
                                },
                                {
                                    "USERNEV": "ZOLTANP",
                                    "nev": "Pintér Zoltán",
                                    "mettol": "2016-12-25",
                                    "meddig": "2016-12-29",
                                    "Fő": "2",
                                    "(No column name)": "7"
                                },
                                {
                                    "USERNEV": "ZOLTANT",
                                    "nev": "Tóth Zoltán",
                                    "mettol": "2016-05-01",
                                    "meddig": "2016-05-04",
                                    "Fő": "3",
                                    "(No column name)": "NULL"
                                },
                                {
                                    "USERNEV": "ZOLTANT",
                                    "nev": "Tóth Zoltán",
                                    "mettol": "2016-07-14",
                                    "meddig": "2016-07-15",
                                    "Fő": "3",
                                    "(No column name)": "3"
                                },
                                {
                                    "USERNEV": "ZOLTANT",
                                    "nev": "Tóth Zoltán",
                                    "mettol": "2017-01-16",
                                    "meddig": "2017-01-20",
                                    "Fő": "2",
                                    "(No column name)": "6"
                                },
                                {
                                    "USERNEV": "zsofi1",
                                    "nev": "Molnár Zsófi",
                                    "mettol": "2016-06-16",
                                    "meddig": "2016-06-17",
                                    "Fő": "2",
                                    "(No column name)": "NULL"
                                },
                                {
                                    "USERNEV": "zsofi1",
                                    "nev": "Molnár Zsófi",
                                    "mettol": "2017-02-18",
                                    "meddig": "2017-02-19",
                                    "Fő": "3",
                                    "(No column name)": "2"
                                },
                                {
                                    "USERNEV": "zsolt1",
                                    "nev": "Pulai Zsolt",
                                    "mettol": "2016-04-14",
                                    "meddig": "2016-04-17",
                                    "Fő": "2",
                                    "(No column name)": "NULL"
                                },
                                {
                                    "USERNEV": "zsolt1",
                                    "nev": "Pulai Zsolt",
                                    "mettol": "2016-07-31",
                                    "meddig": "2016-08-02",
                                    "Fő": "2",
                                    "(No column name)": "2"
                                },
                                {
                                    "USERNEV": "zsolt1",
                                    "nev": "Pulai Zsolt",
                                    "mettol": "2016-06-06",
                                    "meddig": "2016-06-08",
                                    "Fő": "2",
                                    "(No column name)": "4"
                                },
                                {
                                    "USERNEV": "zsolt1",
                                    "nev": "Pulai Zsolt",
                                    "mettol": "2016-06-07",
                                    "meddig": "2016-06-10",
                                    "Fő": "4",
                                    "(No column name)": "6"
                                },
                                {
                                    "USERNEV": "ZSOLTJ",
                                    "nev": "Józsa Zsolt",
                                    "mettol": "2016-04-24",
                                    "meddig": "2016-04-26",
                                    "Fő": "4",
                                    "(No column name)": "NULL"
                                },
                                {
                                    "USERNEV": "ZSOLTJ",
                                    "nev": "Józsa Zsolt",
                                    "mettol": "2016-05-09",
                                    "meddig": "2016-05-11",
                                    "Fő": "2",
                                    "(No column name)": "4"
                                },
                                {
                                    "USERNEV": "ZSOLTJ",
                                    "nev": "Józsa Zsolt",
                                    "mettol": "2016-07-18",
                                    "meddig": "2016-07-19",
                                    "Fő": "2",
                                    "(No column name)": "6"
                                },
                                {
                                    "USERNEV": "ZSOLTJ",
                                    "nev": "Józsa Zsolt",
                                    "mettol": "2016-05-28",
                                    "meddig": "2016-06-03",
                                    "Fő": "1",
                                    "(No column name)": "8"
                                },
                                {
                                    "USERNEV": "ZSOLTJ",
                                    "nev": "Józsa Zsolt",
                                    "mettol": "2016-06-17",
                                    "meddig": "2016-06-19",
                                    "Fő": "2",
                                    "(No column name)": "5"
                                },
                                {
                                    "USERNEV": "ZSOLTJ",
                                    "nev": "Józsa Zsolt",
                                    "mettol": "2016-10-01",
                                    "meddig": "2016-10-06",
                                    "Fő": "2",
                                    "(No column name)": "5"
                                },
                                {
                                    "USERNEV": "zsuzsa",
                                    "nev": "Pusztai Zsuzsanna",
                                    "mettol": "2016-07-24",
                                    "meddig": "2016-07-25",
                                    "Fő": "3",
                                    "(No column name)": "NULL"
                                },
                                {
                                    "USERNEV": "zsuzsa",
                                    "nev": "Pusztai Zsuzsanna",
                                    "mettol": "2016-08-28",
                                    "meddig": "2016-08-30",
                                    "Fő": "2",
                                    "(No column name)": "3"
                                },
                                {
                                    "USERNEV": "zsuzsa",
                                    "nev": "Pusztai Zsuzsanna",
                                    "mettol": "2016-11-28",
                                    "meddig": "2016-12-04",
                                    "Fő": "3",
                                    "(No column name)": "5"
                                },
                                {
                                    "USERNEV": "zsuzsa3",
                                    "nev": "Varsányi Zsuzsa",
                                    "mettol": "2016-07-30",
                                    "meddig": "2016-08-02",
                                    "Fő": "2",
                                    "(No column name)": "NULL"
                                },
                                {
                                    "USERNEV": "zsuzsa3",
                                    "nev": "Varsányi Zsuzsa",
                                    "mettol": "2016-09-09",
                                    "meddig": "2016-09-10",
                                    "Fő": "2",
                                    "(No column name)": "2"
                                },
                                {
                                    "USERNEV": "zsuzsa3",
                                    "nev": "Varsányi Zsuzsa",
                                    "mettol": "2016-09-28",
                                    "meddig": "2016-10-03",
                                    "Fő": "2",
                                    "(No column name)": "4"
                                },
                                {
                                    "USERNEV": "zsuzsa3",
                                    "nev": "Varsányi Zsuzsa",
                                    "mettol": "2016-10-27",
                                    "meddig": "2016-11-03",
                                    "Fő": "4",
                                    "(No column name)": "6"
                                },
                                {
                                    "USERNEV": "zsuzsanna",
                                    "nev": "Barta Zsuzsanna",
                                    "mettol": "2016-05-17",
                                    "meddig": "2016-05-23",
                                    "Fő": "2",
                                    "(No column name)": "NULL"
                                },
                                {
                                    "USERNEV": "zsuzsanna",
                                    "nev": "Barta Zsuzsanna",
                                    "mettol": "2016-07-12",
                                    "meddig": "2016-07-15",
                                    "Fő": "2",
                                    "(No column name)": "2"
                                },
                                {
                                    "USERNEV": "zsuzsanna",
                                    "nev": "Barta Zsuzsanna",
                                    "mettol": "2017-01-09",
                                    "meddig": "2017-01-16",
                                    "Fő": "1",
                                    "(No column name)": "4"
                                },
                                {
                                    "USERNEV": "zsuzsanna",
                                    "nev": "Barta Zsuzsanna",
                                    "mettol": "2017-01-16",
                                    "meddig": "2017-01-22",
                                    "Fő": "2",
                                    "(No column name)": "5"
                                },
                                {
                                    "USERNEV": "ZSUZSAV",
                                    "nev": "Vajda Zsuzsa",
                                    "mettol": "2016-04-14",
                                    "meddig": "2016-04-16",
                                    "Fő": "2",
                                    "(No column name)": "NULL"
                                },
                                {
                                    "USERNEV": "ZSUZSAV",
                                    "nev": "Vajda Zsuzsa",
                                    "mettol": "2016-05-28",
                                    "meddig": "2016-06-01",
                                    "Fő": "4",
                                    "(No column name)": "2"
                                },
                                {
                                    "USERNEV": "ZSUZSAV",
                                    "nev": "Vajda Zsuzsa",
                                    "mettol": "2016-06-15",
                                    "meddig": "2016-06-21",
                                    "Fő": "3",
                                    "(No column name)": "6"
                                },
                                {
                                    "USERNEV": "ZSUZSAV",
                                    "nev": "Vajda Zsuzsa",
                                    "mettol": "2016-09-18",
                                    "meddig": "2016-09-20",
                                    "Fő": "2",
                                    "(No column name)": "9"
                                },
                                {
                                    "USERNEV": "ZSUZSAV",
                                    "nev": "Vajda Zsuzsa",
                                    "mettol": "2016-10-26",
                                    "meddig": "2016-10-28",
                                    "Fő": "1",
                                    "(No column name)": "9"
                                },
                                {
                                    "USERNEV": "ZSUZSAV",
                                    "nev": "Vajda Zsuzsa",
                                    "mettol": "2016-11-21",
                                    "meddig": "2016-11-24",
                                    "Fő": "3",
                                    "(No column name)": "6"
                                }
                            ]
                        },
                        "text/html": [
                            "<table>",
                            "<tr><th>USERNEV</th><th>nev</th><th>mettol</th><th>meddig</th><th>Fő</th><th>(No column name)</th></tr>",
                            "<tr><td>adam1</td><td>Kiss Ádám</td><td>2016-08-20</td><td>2016-08-24</td><td>1</td><td>NULL</td></tr>",
                            "<tr><td>adam1</td><td>Kiss Ádám</td><td>2016-05-28</td><td>2016-06-03</td><td>3</td><td>1</td></tr>",
                            "<tr><td>adam1</td><td>Kiss Ádám</td><td>2016-10-19</td><td>2016-10-24</td><td>2</td><td>4</td></tr>",
                            "<tr><td>adam3</td><td>Barkóci Ádám</td><td>2016-09-12</td><td>2016-09-16</td><td>2</td><td>NULL</td></tr>",
                            "<tr><td>adam3</td><td>Barkóci Ádám</td><td>2017-02-06</td><td>2017-02-10</td><td>1</td><td>2</td></tr>",
                            "<tr><td>adam4</td><td>Bieniek Ádám</td><td>2016-08-28</td><td>2016-08-30</td><td>3</td><td>NULL</td></tr>",
                            "<tr><td>adam4</td><td>Bieniek Ádám</td><td>2016-10-27</td><td>2016-11-02</td><td>3</td><td>3</td></tr>",
                            "<tr><td>adam4</td><td>Bieniek Ádám</td><td>2016-11-15</td><td>2016-11-18</td><td>2</td><td>6</td></tr>",
                            "<tr><td>adam4</td><td>Bieniek Ádám</td><td>2016-12-06</td><td>2016-12-09</td><td>3</td><td>8</td></tr>",
                            "<tr><td>adam4</td><td>Bieniek Ádám</td><td>2017-01-12</td><td>2017-01-19</td><td>2</td><td>8</td></tr>",
                            "<tr><td>adam4</td><td>Bieniek Ádám</td><td>2017-02-23</td><td>2017-02-27</td><td>3</td><td>7</td></tr>",
                            "<tr><td>agnes</td><td>Lengyel Ágnes</td><td>2016-05-09</td><td>2016-05-11</td><td>3</td><td>NULL</td></tr>",
                            "<tr><td>agnes</td><td>Lengyel Ágnes</td><td>2016-07-13</td><td>2016-07-19</td><td>3</td><td>3</td></tr>",
                            "<tr><td>agnes</td><td>Lengyel Ágnes</td><td>2016-07-30</td><td>2016-08-06</td><td>3</td><td>6</td></tr>",
                            "<tr><td>agnes</td><td>Lengyel Ágnes</td><td>2016-05-25</td><td>2016-05-30</td><td>1</td><td>9</td></tr>",
                            "<tr><td>agnes</td><td>Lengyel Ágnes</td><td>2016-11-07</td><td>2016-11-13</td><td>2</td><td>7</td></tr>",
                            "<tr><td>agnes3</td><td>Hartyánszky Ágnes</td><td>2016-08-04</td><td>2016-08-10</td><td>1</td><td>NULL</td></tr>",
                            "<tr><td>agnes3</td><td>Hartyánszky Ágnes</td><td>2016-10-22</td><td>2016-10-23</td><td>3</td><td>1</td></tr>",
                            "<tr><td>agnes3</td><td>Hartyánszky Ágnes</td><td>2017-02-16</td><td>2017-02-21</td><td>3</td><td>4</td></tr>",
                            "<tr><td>AGNESH</td><td>Horváth Ágnes</td><td>2016-04-10</td><td>2016-04-12</td><td>2</td><td>NULL</td></tr>",
                            "<tr><td>AGNESH</td><td>Horváth Ágnes</td><td>2016-04-27</td><td>2016-04-28</td><td>4</td><td>2</td></tr>",
                            "<tr><td>AGNESH</td><td>Horváth Ágnes</td><td>2016-06-23</td><td>2016-06-26</td><td>1</td><td>6</td></tr>",
                            "<tr><td>AGNESH</td><td>Horváth Ágnes</td><td>2016-10-30</td><td>2016-11-04</td><td>1</td><td>7</td></tr>",
                            "<tr><td>AGNESH</td><td>Horváth Ágnes</td><td>2017-01-03</td><td>2017-01-10</td><td>2</td><td>6</td></tr>",
                            "<tr><td>AGNESH</td><td>Horváth Ágnes</td><td>2017-01-16</td><td>2017-01-23</td><td>3</td><td>4</td></tr>",
                            "<tr><td>AGNESK</td><td>Kovács Ágnes</td><td>2016-07-29</td><td>2016-08-01</td><td>3</td><td>NULL</td></tr>",
                            "<tr><td>AGNESK</td><td>Kovács Ágnes</td><td>2016-10-17</td><td>2016-10-19</td><td>2</td><td>3</td></tr>",
                            "<tr><td>AGNESK</td><td>Kovács Ágnes</td><td>2016-12-17</td><td>2016-12-18</td><td>2</td><td>5</td></tr>",
                            "<tr><td>akos</td><td>Bíró Ákos</td><td>2016-05-18</td><td>2016-05-19</td><td>2</td><td>NULL</td></tr>",
                            "<tr><td>akos</td><td>Bíró Ákos</td><td>2016-07-14</td><td>2016-07-19</td><td>2</td><td>2</td></tr>",
                            "<tr><td>akos</td><td>Bíró Ákos</td><td>2016-07-16</td><td>2016-07-18</td><td>2</td><td>4</td></tr>",
                            "<tr><td>akos</td><td>Bíró Ákos</td><td>2016-07-22</td><td>2016-07-26</td><td>1</td><td>6</td></tr>",
                            "<tr><td>akos</td><td>Bíró Ákos</td><td>2016-09-06</td><td>2016-09-12</td><td>1</td><td>5</td></tr>",
                            "<tr><td>akos</td><td>Bíró Ákos</td><td>2016-10-05</td><td>2016-10-09</td><td>2</td><td>4</td></tr>",
                            "<tr><td>akos</td><td>Bíró Ákos</td><td>2016-10-18</td><td>2016-10-23</td><td>2</td><td>4</td></tr>",
                            "<tr><td>akos</td><td>Bíró Ákos</td><td>2016-11-21</td><td>2016-11-27</td><td>2</td><td>5</td></tr>",
                            "<tr><td>akos</td><td>Bíró Ákos</td><td>2016-12-15</td><td>2016-12-21</td><td>2</td><td>6</td></tr>",
                            "<tr><td>akos</td><td>Bíró Ákos</td><td>2016-12-29</td><td>2016-12-30</td><td>3</td><td>6</td></tr>",
                            "<tr><td>aladar</td><td>Dunai Aladár</td><td>2016-05-17</td><td>2016-05-24</td><td>1</td><td>NULL</td></tr>",
                            "<tr><td>aladar</td><td>Dunai Aladár</td><td>2016-09-24</td><td>2016-09-28</td><td>1</td><td>1</td></tr>",
                            "<tr><td>aladar</td><td>Dunai Aladár</td><td>2016-11-22</td><td>2016-11-23</td><td>2</td><td>2</td></tr>",
                            "<tr><td>alexandra</td><td>Bagóczki Alexandra</td><td>2016-05-21</td><td>2016-05-27</td><td>3</td><td>NULL</td></tr>",
                            "<tr><td>alexandra</td><td>Bagóczki Alexandra</td><td>2016-07-27</td><td>2016-07-30</td><td>2</td><td>3</td></tr>",
                            "<tr><td>alexandra</td><td>Bagóczki Alexandra</td><td>2016-06-08</td><td>2016-06-11</td><td>3</td><td>5</td></tr>",
                            "<tr><td>alexandra</td><td>Bagóczki Alexandra</td><td>2016-10-21</td><td>2016-10-25</td><td>2</td><td>8</td></tr>",
                            "<tr><td>alexandra</td><td>Bagóczki Alexandra</td><td>2016-11-29</td><td>2016-12-05</td><td>2</td><td>7</td></tr>",
                            "<tr><td>alexandra</td><td>Bagóczki Alexandra</td><td>2017-01-13</td><td>2017-01-14</td><td>1</td><td>7</td></tr>",
                            "<tr><td>alexandra</td><td>Bagóczki Alexandra</td><td>2017-01-19</td><td>2017-01-26</td><td>2</td><td>5</td></tr>",
                            "<tr><td>andi</td><td>Maródi Andrea</td><td>2016-05-08</td><td>2016-05-14</td><td>4</td><td>NULL</td></tr>",
                            "<tr><td>andi</td><td>Maródi Andrea</td><td>2016-06-13</td><td>2016-06-14</td><td>1</td><td>4</td></tr>",
                            "<tr><td>andi</td><td>Maródi Andrea</td><td>2016-09-13</td><td>2016-09-16</td><td>2</td><td>5</td></tr>",
                            "<tr><td>andi</td><td>Maródi Andrea</td><td>2016-11-16</td><td>2016-11-17</td><td>3</td><td>7</td></tr>",
                            "<tr><td>andi</td><td>Maródi Andrea</td><td>2017-01-13</td><td>2017-01-17</td><td>3</td><td>6</td></tr>",
                            "<tr><td>andras2</td><td>Tóth András</td><td>2016-07-20</td><td>2016-07-22</td><td>2</td><td>NULL</td></tr>",
                            "<tr><td>andras2</td><td>Tóth András</td><td>2016-05-30</td><td>2016-06-04</td><td>1</td><td>2</td></tr>",
                            "<tr><td>andras2</td><td>Tóth András</td><td>2016-09-30</td><td>2016-10-03</td><td>2</td><td>3</td></tr>",
                            "<tr><td>andras2</td><td>Tóth András</td><td>2016-10-07</td><td>2016-10-10</td><td>3</td><td>5</td></tr>",
                            "<tr><td>andras2</td><td>Tóth András</td><td>2017-02-08</td><td>2017-02-10</td><td>4</td><td>6</td></tr>",
                            "<tr><td>andras21</td><td>Molnár András</td><td>2016-07-20</td><td>2016-07-22</td><td>1</td><td>NULL</td></tr>",
                            "<tr><td>andras21</td><td>Molnár András</td><td>2016-06-21</td><td>2016-06-26</td><td>2</td><td>1</td></tr>",
                            "<tr><td>andras21</td><td>Molnár András</td><td>2016-07-04</td><td>2016-07-05</td><td>3</td><td>3</td></tr>",
                            "<tr><td>andras21</td><td>Molnár András</td><td>2016-10-01</td><td>2016-10-06</td><td>3</td><td>6</td></tr>",
                            "<tr><td>andras21</td><td>Molnár András</td><td>2016-10-04</td><td>2016-10-11</td><td>3</td><td>8</td></tr>",
                            "<tr><td>andras21</td><td>Molnár András</td><td>2016-11-23</td><td>2016-11-24</td><td>4</td><td>9</td></tr>",
                            "<tr><td>andras21</td><td>Molnár András</td><td>2017-01-28</td><td>2017-02-01</td><td>2</td><td>10</td></tr>",
                            "<tr><td>andras3</td><td>Vígh András</td><td>2016-05-01</td><td>2016-05-06</td><td>2</td><td>NULL</td></tr>",
                            "<tr><td>andras3</td><td>Vígh András</td><td>2016-07-15</td><td>2016-07-19</td><td>3</td><td>2</td></tr>",
                            "<tr><td>andras3</td><td>Vígh András</td><td>2016-07-21</td><td>2016-07-23</td><td>2</td><td>5</td></tr>",
                            "<tr><td>andras3</td><td>Vígh András</td><td>2016-08-29</td><td>2016-09-02</td><td>3</td><td>7</td></tr>",
                            "<tr><td>andras3</td><td>Vígh András</td><td>2016-05-30</td><td>2016-06-03</td><td>1</td><td>8</td></tr>",
                            "<tr><td>andras3</td><td>Vígh András</td><td>2016-06-10</td><td>2016-06-11</td><td>1</td><td>6</td></tr>",
                            "<tr><td>andras3</td><td>Vígh András</td><td>2016-11-28</td><td>2016-12-02</td><td>2</td><td>5</td></tr>",
                            "<tr><td>andras3</td><td>Vígh András</td><td>2017-02-02</td><td>2017-02-08</td><td>2</td><td>4</td></tr>",
                            "<tr><td>andras4</td><td>Back András</td><td>2016-09-17</td><td>2016-09-20</td><td>2</td><td>NULL</td></tr>",
                            "<tr><td>andras4</td><td>Back András</td><td>2016-11-25</td><td>2016-11-28</td><td>2</td><td>2</td></tr>",
                            "<tr><td>andras4</td><td>Back András</td><td>2017-01-09</td><td>2017-01-10</td><td>2</td><td>4</td></tr>",
                            "<tr><td>andras41</td><td>Komjáti András</td><td>2016-05-14</td><td>2016-05-16</td><td>2</td><td>NULL</td></tr>",
                            "<tr><td>andras41</td><td>Komjáti András</td><td>2016-05-21</td><td>2016-05-23</td><td>4</td><td>2</td></tr>",
                            "<tr><td>andras41</td><td>Komjáti András</td><td>2016-07-28</td><td>2016-08-03</td><td>3</td><td>6</td></tr>",
                            "<tr><td>andras41</td><td>Komjáti András</td><td>2016-08-17</td><td>2016-08-21</td><td>3</td><td>9</td></tr>",
                            "<tr><td>andras41</td><td>Komjáti András</td><td>2016-08-19</td><td>2016-08-23</td><td>1</td><td>10</td></tr>",
                            "<tr><td>andras41</td><td>Komjáti András</td><td>2016-06-07</td><td>2016-06-11</td><td>3</td><td>7</td></tr>",
                            "<tr><td>andras41</td><td>Komjáti András</td><td>2016-06-23</td><td>2016-06-29</td><td>2</td><td>7</td></tr>",
                            "<tr><td>andras41</td><td>Komjáti András</td><td>2016-09-22</td><td>2016-09-29</td><td>1</td><td>6</td></tr>",
                            "<tr><td>andras41</td><td>Komjáti András</td><td>2016-09-30</td><td>2016-10-05</td><td>2</td><td>6</td></tr>",
                            "<tr><td>andras41</td><td>Komjáti András</td><td>2016-10-09</td><td>2016-10-13</td><td>2</td><td>5</td></tr>",
                            "<tr><td>andras41</td><td>Komjáti András</td><td>2016-10-15</td><td>2016-10-18</td><td>3</td><td>5</td></tr>",
                            "<tr><td>andras41</td><td>Komjáti András</td><td>2016-11-20</td><td>2016-11-24</td><td>3</td><td>7</td></tr>",
                            "<tr><td>andras41</td><td>Komjáti András</td><td>2016-11-23</td><td>2016-11-24</td><td>1</td><td>8</td></tr>",
                            "<tr><td>ANDRASE</td><td>Erdei András</td><td>2016-04-24</td><td>2016-05-01</td><td>1</td><td>NULL</td></tr>",
                            "<tr><td>ANDRASE</td><td>Erdei András</td><td>2016-08-16</td><td>2016-08-20</td><td>2</td><td>1</td></tr>",
                            "<tr><td>ANDRASE</td><td>Erdei András</td><td>2016-07-06</td><td>2016-07-07</td><td>2</td><td>3</td></tr>",
                            "<tr><td>ANDRASE</td><td>Erdei András</td><td>2016-11-19</td><td>2016-11-20</td><td>4</td><td>5</td></tr>",
                            "<tr><td>ANDRASE</td><td>Erdei András</td><td>2016-11-29</td><td>2016-12-06</td><td>3</td><td>8</td></tr>",
                            "<tr><td>ANDRASN</td><td>Nagy András</td><td>2016-11-25</td><td>2016-12-01</td><td>2</td><td>NULL</td></tr>",
                            "<tr><td>andrea</td><td>Kiss Andrea</td><td>2016-07-27</td><td>2016-07-28</td><td>2</td><td>NULL</td></tr>",
                            "<tr><td>andrea</td><td>Kiss Andrea</td><td>2016-08-01</td><td>2016-08-02</td><td>2</td><td>2</td></tr>",
                            "<tr><td>andrea</td><td>Kiss Andrea</td><td>2016-08-23</td><td>2016-08-26</td><td>3</td><td>4</td></tr>",
                            "<tr><td>andrea</td><td>Kiss Andrea</td><td>2016-08-26</td><td>2016-08-30</td><td>2</td><td>7</td></tr>",
                            "<tr><td>andrea</td><td>Kiss Andrea</td><td>2016-10-21</td><td>2016-10-27</td><td>4</td><td>7</td></tr>",
                            "<tr><td>andrea</td><td>Kiss Andrea</td><td>2017-02-09</td><td>2017-02-14</td><td>2</td><td>9</td></tr>",
                            "<tr><td>andrea3</td><td>Szomor Andrea</td><td>2016-11-19</td><td>2016-11-21</td><td>3</td><td>NULL</td></tr>",
                            "<tr><td>andrea4</td><td>Neizer Andrea</td><td>2016-05-27</td><td>2016-05-29</td><td>1</td><td>NULL</td></tr>",
                            "<tr><td>andrea4</td><td>Neizer Andrea</td><td>2016-09-13</td><td>2016-09-17</td><td>2</td><td>1</td></tr>",
                            "<tr><td>andrea4</td><td>Neizer Andrea</td><td>2016-10-30</td><td>2016-11-06</td><td>3</td><td>3</td></tr>",
                            "<tr><td>andrea4</td><td>Neizer Andrea</td><td>2017-01-22</td><td>2017-01-29</td><td>2</td><td>6</td></tr>",
                            "<tr><td>ANDREAT</td><td>Tornyos Andrea</td><td>2016-07-27</td><td>2016-08-01</td><td>2</td><td>NULL</td></tr>",
                            "<tr><td>ANDREAT</td><td>Tornyos Andrea</td><td>2016-09-15</td><td>2016-09-16</td><td>2</td><td>2</td></tr>",
                            "<tr><td>ANDREAT</td><td>Tornyos Andrea</td><td>2016-10-08</td><td>2016-10-12</td><td>3</td><td>4</td></tr>",
                            "<tr><td>anett3</td><td>Pivarcsi Anett</td><td>2016-04-10</td><td>2016-04-17</td><td>1</td><td>NULL</td></tr>",
                            "<tr><td>anett3</td><td>Pivarcsi Anett</td><td>2016-04-13</td><td>2016-04-19</td><td>3</td><td>1</td></tr>",
                            "<tr><td>anett3</td><td>Pivarcsi Anett</td><td>2016-04-15</td><td>2016-04-19</td><td>3</td><td>4</td></tr>",
                            "<tr><td>anett3</td><td>Pivarcsi Anett</td><td>2016-04-28</td><td>2016-05-02</td><td>3</td><td>7</td></tr>",
                            "<tr><td>anett3</td><td>Pivarcsi Anett</td><td>2016-08-15</td><td>2016-08-16</td><td>2</td><td>9</td></tr>",
                            "<tr><td>anett3</td><td>Pivarcsi Anett</td><td>2016-08-17</td><td>2016-08-23</td><td>3</td><td>8</td></tr>",
                            "<tr><td>anett3</td><td>Pivarcsi Anett</td><td>2016-10-12</td><td>2016-10-19</td><td>3</td><td>8</td></tr>",
                            "<tr><td>anett3</td><td>Pivarcsi Anett</td><td>2016-10-16</td><td>2016-10-21</td><td>1</td><td>8</td></tr>",
                            "<tr><td>aniko</td><td>Tóth Anikó</td><td>2016-06-25</td><td>2016-06-30</td><td>3</td><td>NULL</td></tr>",
                            "<tr><td>aniko</td><td>Tóth Anikó</td><td>2017-02-12</td><td>2017-02-14</td><td>3</td><td>3</td></tr>",
                            "<tr><td>aniko</td><td>Tóth Anikó</td><td>2017-02-23</td><td>2017-02-24</td><td>2</td><td>6</td></tr>",
                            "<tr><td>aniko4</td><td>Böröcz Anikó</td><td>2016-07-22</td><td>2016-07-25</td><td>3</td><td>NULL</td></tr>",
                            "<tr><td>aniko4</td><td>Böröcz Anikó</td><td>2016-07-02</td><td>2016-07-09</td><td>1</td><td>3</td></tr>",
                            "<tr><td>aniko4</td><td>Böröcz Anikó</td><td>2016-09-05</td><td>2016-09-07</td><td>4</td><td>4</td></tr>",
                            "<tr><td>aniko4</td><td>Böröcz Anikó</td><td>2016-10-16</td><td>2016-10-18</td><td>3</td><td>8</td></tr>",
                            "<tr><td>ANIKOS</td><td>Simon Anikó</td><td>2016-04-19</td><td>2016-04-24</td><td>2</td><td>NULL</td></tr>",
                            "<tr><td>ANIKOS</td><td>Simon Anikó</td><td>2016-07-17</td><td>2016-07-22</td><td>3</td><td>2</td></tr>",
                            "<tr><td>ANIKOS</td><td>Simon Anikó</td><td>2016-08-26</td><td>2016-09-02</td><td>2</td><td>5</td></tr>",
                            "<tr><td>ANIKOS</td><td>Simon Anikó</td><td>2016-05-24</td><td>2016-05-25</td><td>3</td><td>7</td></tr>",
                            "<tr><td>ANIKOS</td><td>Simon Anikó</td><td>2016-06-16</td><td>2016-06-23</td><td>1</td><td>8</td></tr>",
                            "<tr><td>ANIKOS</td><td>Simon Anikó</td><td>2016-06-27</td><td>2016-06-30</td><td>2</td><td>6</td></tr>",
                            "<tr><td>ANIKOS</td><td>Simon Anikó</td><td>2016-10-08</td><td>2016-10-14</td><td>2</td><td>6</td></tr>",
                            "<tr><td>ANIKOS</td><td>Simon Anikó</td><td>2016-10-29</td><td>2016-11-05</td><td>3</td><td>5</td></tr>",
                            "<tr><td>ANIKOS</td><td>Simon Anikó</td><td>2016-11-10</td><td>2016-11-15</td><td>2</td><td>7</td></tr>",
                            "<tr><td>anita</td><td>Hamvay-Kovács Anita</td><td>2016-09-28</td><td>2016-10-02</td><td>4</td><td>NULL</td></tr>",
                            "<tr><td>anita</td><td>Hamvay-Kovács Anita</td><td>2016-10-01</td><td>2016-10-04</td><td>2</td><td>4</td></tr>",
                            "<tr><td>anita</td><td>Hamvay-Kovács Anita</td><td>2017-02-19</td><td>2017-02-22</td><td>2</td><td>6</td></tr>",
                            "<tr><td>anita</td><td>Hamvay-Kovács Anita</td><td>2017-02-20</td><td>2017-02-25</td><td>2</td><td>8</td></tr>",
                            "<tr><td>annamaria1</td><td>Szűcs Annamária</td><td>2016-06-06</td><td>2016-06-07</td><td>3</td><td>NULL</td></tr>",
                            "<tr><td>annamaria1</td><td>Szűcs Annamária</td><td>2017-01-30</td><td>2017-01-31</td><td>4</td><td>3</td></tr>",
                            "<tr><td>ANNAMARIAR</td><td>Regős Annamária</td><td>2016-07-18</td><td>2016-07-21</td><td>1</td><td>NULL</td></tr>",
                            "<tr><td>ANNAMARIAR</td><td>Regős Annamária</td><td>2016-06-08</td><td>2016-06-11</td><td>2</td><td>1</td></tr>",
                            "<tr><td>ANNAMARIAR</td><td>Regős Annamária</td><td>2016-09-23</td><td>2016-09-27</td><td>2</td><td>3</td></tr>",
                            "<tr><td>ANNAMARIAR</td><td>Regős Annamária</td><td>2016-11-11</td><td>2016-11-12</td><td>3</td><td>5</td></tr>",
                            "<tr><td>ANNAMARIAR</td><td>Regős Annamária</td><td>2017-01-10</td><td>2017-01-13</td><td>2</td><td>7</td></tr>",
                            "<tr><td>ANNAMARIAR</td><td>Regős Annamária</td><td>2017-02-16</td><td>2017-02-18</td><td>2</td><td>7</td></tr>",
                            "<tr><td>aron2</td><td>Jakab Áron</td><td>2016-04-11</td><td>2016-04-12</td><td>3</td><td>NULL</td></tr>",
                            "<tr><td>aron2</td><td>Jakab Áron</td><td>2016-07-04</td><td>2016-07-06</td><td>3</td><td>3</td></tr>",
                            "<tr><td>aron2</td><td>Jakab Áron</td><td>2016-10-23</td><td>2016-10-27</td><td>2</td><td>6</td></tr>",
                            "<tr><td>aron2</td><td>Jakab Áron</td><td>2016-11-05</td><td>2016-11-09</td><td>2</td><td>8</td></tr>",
                            "<tr><td>aron2</td><td>Jakab Áron</td><td>2017-01-17</td><td>2017-01-18</td><td>3</td><td>7</td></tr>",
                            "<tr><td>aron2</td><td>Jakab Áron</td><td>2017-02-26</td><td>2017-02-27</td><td>3</td><td>7</td></tr>",
                            "<tr><td>ARONK</td><td>Kelemen Áron</td><td>2016-04-06</td><td>2016-04-08</td><td>2</td><td>NULL</td></tr>",
                            "<tr><td>ARONK</td><td>Kelemen Áron</td><td>2016-05-14</td><td>2016-05-20</td><td>4</td><td>2</td></tr>",
                            "<tr><td>ARONK</td><td>Kelemen Áron</td><td>2016-08-05</td><td>2016-08-08</td><td>4</td><td>6</td></tr>",
                            "<tr><td>ARONK</td><td>Kelemen Áron</td><td>2016-06-04</td><td>2016-06-09</td><td>2</td><td>10</td></tr>",
                            "<tr><td>ARONK</td><td>Kelemen Áron</td><td>2016-06-07</td><td>2016-06-13</td><td>3</td><td>10</td></tr>",
                            "<tr><td>ARONK</td><td>Kelemen Áron</td><td>2016-07-03</td><td>2016-07-07</td><td>2</td><td>9</td></tr>",
                            "<tr><td>ARONK</td><td>Kelemen Áron</td><td>2016-09-08</td><td>2016-09-15</td><td>2</td><td>7</td></tr>",
                            "<tr><td>ARONK</td><td>Kelemen Áron</td><td>2016-11-03</td><td>2016-11-10</td><td>2</td><td>7</td></tr>",
                            "<tr><td>ARONK</td><td>Kelemen Áron</td><td>2016-11-05</td><td>2016-11-07</td><td>2</td><td>6</td></tr>",
                            "<tr><td>ARONK</td><td>Kelemen Áron</td><td>2016-12-07</td><td>2016-12-12</td><td>3</td><td>6</td></tr>",
                            "<tr><td>ARONK</td><td>Kelemen Áron</td><td>2017-01-01</td><td>2017-01-03</td><td>2</td><td>7</td></tr>",
                            "<tr><td>ARONK</td><td>Kelemen Áron</td><td>2017-01-30</td><td>2017-02-03</td><td>2</td><td>7</td></tr>",
                            "<tr><td>ARONK</td><td>Kelemen Áron</td><td>2017-02-21</td><td>2017-02-23</td><td>2</td><td>7</td></tr>",
                            "<tr><td>arpad2</td><td>Ötvös Árpád</td><td>2016-08-23</td><td>2016-08-25</td><td>2</td><td>NULL</td></tr>",
                            "<tr><td>arpad2</td><td>Ötvös Árpád</td><td>2016-06-05</td><td>2016-06-07</td><td>2</td><td>2</td></tr>",
                            "<tr><td>arpad2</td><td>Ötvös Árpád</td><td>2016-09-28</td><td>2016-09-30</td><td>2</td><td>4</td></tr>",
                            "<tr><td>arpad2</td><td>Ötvös Árpád</td><td>2016-10-13</td><td>2016-10-19</td><td>3</td><td>6</td></tr>",
                            "<tr><td>arpad2</td><td>Ötvös Árpád</td><td>2016-11-06</td><td>2016-11-10</td><td>2</td><td>7</td></tr>",
                            "<tr><td>arpad2</td><td>Ötvös Árpád</td><td>2016-12-24</td><td>2016-12-27</td><td>3</td><td>7</td></tr>",
                            "<tr><td>arpad2</td><td>Ötvös Árpád</td><td>2017-02-18</td><td>2017-02-19</td><td>4</td><td>8</td></tr>",
                            "<tr><td>ARPADH</td><td>Horváth Árpád</td><td>2016-07-14</td><td>2016-07-18</td><td>2</td><td>NULL</td></tr>",
                            "<tr><td>ARPADH</td><td>Horváth Árpád</td><td>2016-06-06</td><td>2016-06-07</td><td>3</td><td>2</td></tr>",
                            "<tr><td>ARPADH</td><td>Horváth Árpád</td><td>2016-09-16</td><td>2016-09-23</td><td>1</td><td>5</td></tr>",
                            "<tr><td>ARPADH</td><td>Horváth Árpád</td><td>2016-09-18</td><td>2016-09-25</td><td>1</td><td>6</td></tr>",
                            "<tr><td>ARPADH</td><td>Horváth Árpád</td><td>2016-12-04</td><td>2016-12-10</td><td>1</td><td>5</td></tr>",
                            "<tr><td>ARPADH</td><td>Horváth Árpád</td><td>2016-12-18</td><td>2016-12-19</td><td>3</td><td>3</td></tr>",
                            "<tr><td>ARPADH</td><td>Horváth Árpád</td><td>2017-02-16</td><td>2017-02-18</td><td>2</td><td>5</td></tr>",
                            "<tr><td>ARPADM</td><td>Móricz Árpád</td><td>2016-08-12</td><td>2016-08-16</td><td>2</td><td>NULL</td></tr>",
                            "<tr><td>ARPADM</td><td>Móricz Árpád</td><td>2016-05-29</td><td>2016-06-01</td><td>2</td><td>2</td></tr>",
                            "<tr><td>ARPADM</td><td>Móricz Árpád</td><td>2016-11-09</td><td>2016-11-11</td><td>2</td><td>4</td></tr>",
                            "<tr><td>ARPADM</td><td>Móricz Árpád</td><td>2016-12-14</td><td>2016-12-17</td><td>3</td><td>6</td></tr>",
                            "<tr><td>ARPADM</td><td>Móricz Árpád</td><td>2017-01-05</td><td>2017-01-10</td><td>1</td><td>7</td></tr>",
                            "<tr><td>ARPADM</td><td>Móricz Árpád</td><td>2017-02-12</td><td>2017-02-14</td><td>3</td><td>6</td></tr>",
                            "<tr><td>attila</td><td>Csóti Attila</td><td>2016-09-30</td><td>2016-10-07</td><td>3</td><td>NULL</td></tr>",
                            "<tr><td>attila</td><td>Csóti Attila</td><td>2016-10-15</td><td>2016-10-19</td><td>1</td><td>3</td></tr>",
                            "<tr><td>attila</td><td>Csóti Attila</td><td>2016-12-22</td><td>2016-12-26</td><td>2</td><td>4</td></tr>",
                            "<tr><td>attila1</td><td>Gulyás Attila</td><td>2016-05-20</td><td>2016-05-26</td><td>1</td><td>NULL</td></tr>",
                            "<tr><td>attila1</td><td>Gulyás Attila</td><td>2016-10-09</td><td>2016-10-12</td><td>2</td><td>1</td></tr>",
                            "<tr><td>attila1</td><td>Gulyás Attila</td><td>2016-10-15</td><td>2016-10-16</td><td>3</td><td>3</td></tr>",
                            "<tr><td>attila1</td><td>Gulyás Attila</td><td>2016-10-30</td><td>2016-11-05</td><td>2</td><td>6</td></tr>",
                            "<tr><td>attila1</td><td>Gulyás Attila</td><td>2016-11-10</td><td>2016-11-14</td><td>2</td><td>7</td></tr>",
                            "<tr><td>attila1</td><td>Gulyás Attila</td><td>2017-01-23</td><td>2017-01-30</td><td>4</td><td>7</td></tr>",
                            "<tr><td>attila4</td><td>Baróti Attila</td><td>2016-08-18</td><td>2016-08-23</td><td>4</td><td>NULL</td></tr>",
                            "<tr><td>attila4</td><td>Baróti Attila</td><td>2016-12-31</td><td>2017-01-01</td><td>2</td><td>4</td></tr>",
                            "<tr><td>attila4</td><td>Baróti Attila</td><td>2017-02-15</td><td>2017-02-22</td><td>2</td><td>6</td></tr>",
                            "<tr><td>ATTILAO</td><td>Opra Attila</td><td>2016-05-21</td><td>2016-05-26</td><td>3</td><td>NULL</td></tr>",
                            "<tr><td>ATTILAO</td><td>Opra Attila</td><td>2016-06-04</td><td>2016-06-11</td><td>3</td><td>3</td></tr>",
                            "<tr><td>ATTILAO</td><td>Opra Attila</td><td>2016-10-30</td><td>2016-11-03</td><td>2</td><td>6</td></tr>",
                            "<tr><td>ATTILAO</td><td>Opra Attila</td><td>2017-02-22</td><td>2017-02-25</td><td>3</td><td>8</td></tr>",
                            "<tr><td>balazs1</td><td>Bozsik Balázs</td><td>2016-05-07</td><td>2016-05-14</td><td>2</td><td>NULL</td></tr>",
                            "<tr><td>balazs1</td><td>Bozsik Balázs</td><td>2016-07-22</td><td>2016-07-26</td><td>4</td><td>2</td></tr>",
                            "<tr><td>balazs1</td><td>Bozsik Balázs</td><td>2016-12-26</td><td>2016-12-28</td><td>3</td><td>6</td></tr>",
                            "<tr><td>balazs1</td><td>Bozsik Balázs</td><td>2017-01-01</td><td>2017-01-05</td><td>2</td><td>9</td></tr>",
                            "<tr><td>balazs1</td><td>Bozsik Balázs</td><td>2017-02-10</td><td>2017-02-14</td><td>3</td><td>9</td></tr>",
                            "<tr><td>balazs1</td><td>Bozsik Balázs</td><td>2017-02-12</td><td>2017-02-14</td><td>2</td><td>8</td></tr>",
                            "<tr><td>balazs2</td><td>Szűcs Balázs</td><td>2016-04-16</td><td>2016-04-19</td><td>2</td><td>NULL</td></tr>",
                            "<tr><td>balazs2</td><td>Szűcs Balázs</td><td>2016-07-20</td><td>2016-07-25</td><td>2</td><td>2</td></tr>",
                            "<tr><td>balazs2</td><td>Szűcs Balázs</td><td>2016-08-21</td><td>2016-08-22</td><td>3</td><td>4</td></tr>",
                            "<tr><td>balazs2</td><td>Szűcs Balázs</td><td>2016-05-22</td><td>2016-05-29</td><td>3</td><td>7</td></tr>",
                            "<tr><td>balazs2</td><td>Szűcs Balázs</td><td>2016-05-28</td><td>2016-06-01</td><td>3</td><td>8</td></tr>",
                            "<tr><td>balazs2</td><td>Szűcs Balázs</td><td>2016-07-08</td><td>2016-07-12</td><td>3</td><td>9</td></tr>",
                            "<tr><td>balazs2</td><td>Szűcs Balázs</td><td>2016-07-10</td><td>2016-07-17</td><td>3</td><td>9</td></tr>",
                            "<tr><td>balazs2</td><td>Szűcs Balázs</td><td>2016-09-12</td><td>2016-09-14</td><td>3</td><td>9</td></tr>",
                            "<tr><td>balazs2</td><td>Szűcs Balázs</td><td>2016-11-03</td><td>2016-11-05</td><td>3</td><td>9</td></tr>",
                            "<tr><td>balazs2</td><td>Szűcs Balázs</td><td>2017-02-27</td><td>2017-03-06</td><td>1</td><td>9</td></tr>",
                            "<tr><td>balazs3</td><td>Bakódy Balázs</td><td>2016-07-17</td><td>2016-07-21</td><td>2</td><td>NULL</td></tr>",
                            "<tr><td>balazs3</td><td>Bakódy Balázs</td><td>2016-07-27</td><td>2016-07-31</td><td>4</td><td>2</td></tr>",
                            "<tr><td>balazs3</td><td>Bakódy Balázs</td><td>2016-08-24</td><td>2016-08-28</td><td>3</td><td>6</td></tr>",
                            "<tr><td>balazs3</td><td>Bakódy Balázs</td><td>2016-09-15</td><td>2016-09-16</td><td>3</td><td>9</td></tr>",
                            "<tr><td>balazs3</td><td>Bakódy Balázs</td><td>2016-12-05</td><td>2016-12-11</td><td>3</td><td>10</td></tr>",
                            "<tr><td>balazs3</td><td>Bakódy Balázs</td><td>2017-01-20</td><td>2017-01-22</td><td>2</td><td>9</td></tr>",
                            "<tr><td>balint</td><td>Horváth Bálint</td><td>2016-04-22</td><td>2016-04-29</td><td>2</td><td>NULL</td></tr>",
                            "<tr><td>balint</td><td>Horváth Bálint</td><td>2016-10-09</td><td>2016-10-11</td><td>2</td><td>2</td></tr>",
                            "<tr><td>balint</td><td>Horváth Bálint</td><td>2016-11-24</td><td>2016-11-29</td><td>3</td><td>4</td></tr>",
                            "<tr><td>balint1</td><td>Molnár Bálint</td><td>2016-07-26</td><td>2016-07-28</td><td>2</td><td>NULL</td></tr>",
                            "<tr><td>balint1</td><td>Molnár Bálint</td><td>2016-08-03</td><td>2016-08-08</td><td>2</td><td>2</td></tr>",
                            "<tr><td>balint1</td><td>Molnár Bálint</td><td>2016-06-07</td><td>2016-06-12</td><td>3</td><td>4</td></tr>",
                            "<tr><td>balint1</td><td>Molnár Bálint</td><td>2016-06-07</td><td>2016-06-11</td><td>3</td><td>7</td></tr>",
                            "<tr><td>balint1</td><td>Molnár Bálint</td><td>2016-06-10</td><td>2016-06-12</td><td>1</td><td>8</td></tr>",
                            "<tr><td>balint1</td><td>Molnár Bálint</td><td>2016-09-16</td><td>2016-09-21</td><td>1</td><td>7</td></tr>",
                            "<tr><td>balint1</td><td>Molnár Bálint</td><td>2016-11-07</td><td>2016-11-10</td><td>2</td><td>5</td></tr>",
                            "<tr><td>balint1</td><td>Molnár Bálint</td><td>2016-12-17</td><td>2016-12-22</td><td>3</td><td>4</td></tr>",
                            "<tr><td>balint1</td><td>Molnár Bálint</td><td>2016-12-29</td><td>2016-12-31</td><td>3</td><td>6</td></tr>",
                            "<tr><td>balint1</td><td>Molnár Bálint</td><td>2017-01-03</td><td>2017-01-08</td><td>2</td><td>8</td></tr>",
                            "<tr><td>balint2</td><td>Vukasinovity Bálint</td><td>2016-07-21</td><td>2016-07-26</td><td>1</td><td>NULL</td></tr>",
                            "<tr><td>balint2</td><td>Vukasinovity Bálint</td><td>2016-12-04</td><td>2016-12-06</td><td>3</td><td>1</td></tr>",
                            "<tr><td>balu</td><td>Endresz Bálint</td><td>2016-08-06</td><td>2016-08-10</td><td>2</td><td>NULL</td></tr>",
                            "<tr><td>balu</td><td>Endresz Bálint</td><td>2016-12-22</td><td>2016-12-23</td><td>2</td><td>2</td></tr>",
                            "<tr><td>beata4</td><td>Bagi Beáta</td><td>2016-04-20</td><td>2016-04-21</td><td>2</td><td>NULL</td></tr>",
                            "<tr><td>beata4</td><td>Bagi Beáta</td><td>2016-08-25</td><td>2016-08-27</td><td>3</td><td>2</td></tr>",
                            "<tr><td>beata4</td><td>Bagi Beáta</td><td>2016-06-03</td><td>2016-06-04</td><td>2</td><td>5</td></tr>",
                            "<tr><td>beata4</td><td>Bagi Beáta</td><td>2016-07-03</td><td>2016-07-06</td><td>1</td><td>7</td></tr>",
                            "<tr><td>beata4</td><td>Bagi Beáta</td><td>2016-10-01</td><td>2016-10-05</td><td>1</td><td>6</td></tr>",
                            "<tr><td>beata4</td><td>Bagi Beáta</td><td>2016-10-03</td><td>2016-10-06</td><td>3</td><td>4</td></tr>",
                            "<tr><td>BEATRIXK</td><td>Kerényi Beatrix</td><td>2016-08-12</td><td>2016-08-18</td><td>4</td><td>NULL</td></tr>",
                            "<tr><td>BEATRIXK</td><td>Kerényi Beatrix</td><td>2016-06-10</td><td>2016-06-11</td><td>2</td><td>4</td></tr>",
                            "<tr><td>BEATRIXK</td><td>Kerényi Beatrix</td><td>2016-06-10</td><td>2016-06-14</td><td>2</td><td>6</td></tr>",
                            "<tr><td>BEATRIXK</td><td>Kerényi Beatrix</td><td>2016-06-19</td><td>2016-06-21</td><td>3</td><td>8</td></tr>",
                            "<tr><td>BEATRIXK</td><td>Kerényi Beatrix</td><td>2016-10-23</td><td>2016-10-28</td><td>2</td><td>7</td></tr>",
                            "<tr><td>BEATRIXK</td><td>Kerényi Beatrix</td><td>2016-11-14</td><td>2016-11-19</td><td>2</td><td>7</td></tr>",
                            "<tr><td>BEATRIXK</td><td>Kerényi Beatrix</td><td>2016-12-12</td><td>2016-12-14</td><td>3</td><td>7</td></tr>",
                            "<tr><td>BEATRIXK</td><td>Kerényi Beatrix</td><td>2016-12-17</td><td>2016-12-22</td><td>4</td><td>7</td></tr>",
                            "<tr><td>BEATRIXK</td><td>Kerényi Beatrix</td><td>2017-02-08</td><td>2017-02-09</td><td>3</td><td>9</td></tr>",
                            "<tr><td>BEATRIXS</td><td>Szekendi Beatrix</td><td>2016-04-18</td><td>2016-04-24</td><td>1</td><td>NULL</td></tr>",
                            "<tr><td>BEATRIXS</td><td>Szekendi Beatrix</td><td>2016-06-11</td><td>2016-06-14</td><td>3</td><td>1</td></tr>",
                            "<tr><td>BEATRIXS</td><td>Szekendi Beatrix</td><td>2016-10-01</td><td>2016-10-03</td><td>3</td><td>4</td></tr>",
                            "<tr><td>BEATRIXS</td><td>Szekendi Beatrix</td><td>2016-10-01</td><td>2016-10-05</td><td>3</td><td>7</td></tr>",
                            "<tr><td>BEATRIXS</td><td>Szekendi Beatrix</td><td>2016-12-21</td><td>2016-12-27</td><td>2</td><td>9</td></tr>",
                            "<tr><td>BEATRIXS</td><td>Szekendi Beatrix</td><td>2017-02-03</td><td>2017-02-04</td><td>2</td><td>8</td></tr>",
                            "<tr><td>BELAF</td><td>Farkas Béla</td><td>2016-07-27</td><td>2016-07-30</td><td>3</td><td>NULL</td></tr>",
                            "<tr><td>BELAF</td><td>Farkas Béla</td><td>2016-07-29</td><td>2016-07-31</td><td>2</td><td>3</td></tr>",
                            "<tr><td>BELAF</td><td>Farkas Béla</td><td>2016-08-29</td><td>2016-08-31</td><td>2</td><td>5</td></tr>",
                            "<tr><td>BELAF</td><td>Farkas Béla</td><td>2016-11-03</td><td>2016-11-09</td><td>4</td><td>7</td></tr>",
                            "<tr><td>BELAF</td><td>Farkas Béla</td><td>2016-12-02</td><td>2016-12-04</td><td>3</td><td>8</td></tr>",
                            "<tr><td>BELAF</td><td>Farkas Béla</td><td>2016-12-06</td><td>2016-12-09</td><td>1</td><td>9</td></tr>",
                            "<tr><td>bence</td><td>Győrffy Bence</td><td>2016-05-08</td><td>2016-05-11</td><td>2</td><td>NULL</td></tr>",
                            "<tr><td>bence</td><td>Győrffy Bence</td><td>2016-07-24</td><td>2016-07-30</td><td>2</td><td>2</td></tr>",
                            "<tr><td>bence</td><td>Győrffy Bence</td><td>2016-07-25</td><td>2016-08-01</td><td>3</td><td>4</td></tr>",
                            "<tr><td>bence</td><td>Győrffy Bence</td><td>2016-09-03</td><td>2016-09-06</td><td>3</td><td>7</td></tr>",
                            "<tr><td>bence</td><td>Győrffy Bence</td><td>2016-05-29</td><td>2016-06-03</td><td>1</td><td>8</td></tr>",
                            "<tr><td>bence</td><td>Győrffy Bence</td><td>2016-10-30</td><td>2016-11-02</td><td>4</td><td>7</td></tr>",
                            "<tr><td>bence</td><td>Győrffy Bence</td><td>2016-12-17</td><td>2016-12-18</td><td>2</td><td>8</td></tr>",
                            "<tr><td>bence</td><td>Győrffy Bence</td><td>2016-12-26</td><td>2016-12-27</td><td>2</td><td>7</td></tr>",
                            "<tr><td>bence</td><td>Győrffy Bence</td><td>2017-02-05</td><td>2017-02-09</td><td>3</td><td>8</td></tr>",
                            "<tr><td>BENCEB</td><td>Bajusz Bence</td><td>2016-05-14</td><td>2016-05-17</td><td>3</td><td>NULL</td></tr>",
                            "<tr><td>BENCEB</td><td>Bajusz Bence</td><td>2016-08-01</td><td>2016-08-02</td><td>2</td><td>3</td></tr>",
                            "<tr><td>BENCEB</td><td>Bajusz Bence</td><td>2016-06-03</td><td>2016-06-09</td><td>2</td><td>5</td></tr>",
                            "<tr><td>BENCEB</td><td>Bajusz Bence</td><td>2016-10-22</td><td>2016-10-29</td><td>3</td><td>7</td></tr>",
                            "<tr><td>BENCEB</td><td>Bajusz Bence</td><td>2016-11-28</td><td>2016-12-02</td><td>2</td><td>7</td></tr>",
                            "<tr><td>BENCEB</td><td>Bajusz Bence</td><td>2017-02-12</td><td>2017-02-19</td><td>3</td><td>7</td></tr>",
                            "<tr><td>bernadett1</td><td>Simon Bernadett</td><td>2016-06-12</td><td>2016-06-17</td><td>3</td><td>NULL</td></tr>",
                            "<tr><td>bernadett1</td><td>Simon Bernadett</td><td>2016-10-08</td><td>2016-10-09</td><td>4</td><td>3</td></tr>",
                            "<tr><td>bernadett1</td><td>Simon Bernadett</td><td>2016-10-15</td><td>2016-10-22</td><td>3</td><td>7</td></tr>",
                            "<tr><td>bernadett1</td><td>Simon Bernadett</td><td>2016-10-26</td><td>2016-11-02</td><td>3</td><td>10</td></tr>",
                            "<tr><td>bernadett1</td><td>Simon Bernadett</td><td>2016-10-28</td><td>2016-11-01</td><td>3</td><td>10</td></tr>",
                            "<tr><td>bernadett1</td><td>Simon Bernadett</td><td>2017-02-14</td><td>2017-02-15</td><td>3</td><td>9</td></tr>",
                            "<tr><td>bernadett1</td><td>Simon Bernadett</td><td>2017-02-24</td><td>2017-03-03</td><td>1</td><td>9</td></tr>",
                            "<tr><td>bernadett2</td><td>Kovács Bernadett</td><td>2016-05-01</td><td>2016-05-03</td><td>2</td><td>NULL</td></tr>",
                            "<tr><td>bernadett2</td><td>Kovács Bernadett</td><td>2016-08-23</td><td>2016-08-29</td><td>2</td><td>2</td></tr>",
                            "<tr><td>bernadett2</td><td>Kovács Bernadett</td><td>2016-08-25</td><td>2016-08-27</td><td>3</td><td>4</td></tr>",
                            "<tr><td>bernadett2</td><td>Kovács Bernadett</td><td>2016-06-17</td><td>2016-06-23</td><td>3</td><td>7</td></tr>",
                            "<tr><td>bernadett2</td><td>Kovács Bernadett</td><td>2016-09-07</td><td>2016-09-13</td><td>3</td><td>8</td></tr>",
                            "<tr><td>bernadett2</td><td>Kovács Bernadett</td><td>2016-10-30</td><td>2016-11-06</td><td>3</td><td>9</td></tr>",
                            "<tr><td>bernadett2</td><td>Kovács Bernadett</td><td>2016-12-17</td><td>2016-12-20</td><td>1</td><td>9</td></tr>",
                            "<tr><td>bernadett2</td><td>Kovács Bernadett</td><td>2017-01-24</td><td>2017-01-30</td><td>3</td><td>7</td></tr>",
                            "<tr><td>BERNADETTO</td><td>Orbán Bernadett</td><td>2016-04-10</td><td>2016-04-17</td><td>2</td><td>NULL</td></tr>",
                            "<tr><td>BERNADETTO</td><td>Orbán Bernadett</td><td>2016-04-17</td><td>2016-04-19</td><td>2</td><td>2</td></tr>",
                            "<tr><td>BERNADETTO</td><td>Orbán Bernadett</td><td>2016-06-07</td><td>2016-06-13</td><td>3</td><td>4</td></tr>",
                            "<tr><td>BERNADETTO</td><td>Orbán Bernadett</td><td>2016-06-10</td><td>2016-06-16</td><td>4</td><td>7</td></tr>",
                            "<tr><td>BERNADETTO</td><td>Orbán Bernadett</td><td>2016-10-04</td><td>2016-10-05</td><td>2</td><td>9</td></tr>",
                            "<tr><td>BERNADETTO</td><td>Orbán Bernadett</td><td>2017-01-01</td><td>2017-01-02</td><td>3</td><td>9</td></tr>",
                            "<tr><td>BERNADETTO</td><td>Orbán Bernadett</td><td>2017-01-28</td><td>2017-02-03</td><td>2</td><td>9</td></tr>",
                            "<tr><td>bertalan</td><td>Csiger Bertalan</td><td>2016-05-18</td><td>2016-05-23</td><td>2</td><td>NULL</td></tr>",
                            "<tr><td>bertalan</td><td>Csiger Bertalan</td><td>2016-06-20</td><td>2016-06-21</td><td>1</td><td>2</td></tr>",
                            "<tr><td>bertalan</td><td>Csiger Bertalan</td><td>2016-11-03</td><td>2016-11-10</td><td>2</td><td>3</td></tr>",
                            "<tr><td>bertalan</td><td>Csiger Bertalan</td><td>2016-11-26</td><td>2016-11-29</td><td>3</td><td>5</td></tr>",
                            "<tr><td>bertalan</td><td>Csiger Bertalan</td><td>2017-02-16</td><td>2017-02-22</td><td>2</td><td>6</td></tr>",
                            "<tr><td>bertalan</td><td>Csiger Bertalan</td><td>2017-02-20</td><td>2017-02-24</td><td>4</td><td>7</td></tr>",
                            "<tr><td>brigitta</td><td>Székely Brigitta</td><td>2016-08-28</td><td>2016-09-01</td><td>3</td><td>NULL</td></tr>",
                            "<tr><td>brigitta</td><td>Székely Brigitta</td><td>2016-05-30</td><td>2016-06-06</td><td>3</td><td>3</td></tr>",
                            "<tr><td>brigitta</td><td>Székely Brigitta</td><td>2016-10-21</td><td>2016-10-28</td><td>3</td><td>6</td></tr>",
                            "<tr><td>brigitta</td><td>Székely Brigitta</td><td>2016-12-17</td><td>2016-12-22</td><td>2</td><td>9</td></tr>",
                            "<tr><td>brigitta</td><td>Székely Brigitta</td><td>2017-01-23</td><td>2017-01-25</td><td>1</td><td>8</td></tr>",
                            "<tr><td>brigitta3</td><td>Pataki Brigitta</td><td>2016-06-01</td><td>2016-06-05</td><td>2</td><td>NULL</td></tr>",
                            "<tr><td>brigitta3</td><td>Pataki Brigitta</td><td>2016-06-13</td><td>2016-06-17</td><td>3</td><td>2</td></tr>",
                            "<tr><td>brigitta3</td><td>Pataki Brigitta</td><td>2016-10-10</td><td>2016-10-14</td><td>2</td><td>5</td></tr>",
                            "<tr><td>brigitta3</td><td>Pataki Brigitta</td><td>2016-11-03</td><td>2016-11-09</td><td>3</td><td>7</td></tr>",
                            "<tr><td>brigitta3</td><td>Pataki Brigitta</td><td>2017-02-09</td><td>2017-02-16</td><td>2</td><td>8</td></tr>",
                            "<tr><td>csongor3</td><td>Nagymihály Csongor</td><td>2016-05-01</td><td>2016-05-04</td><td>2</td><td>NULL</td></tr>",
                            "<tr><td>csongor3</td><td>Nagymihály Csongor</td><td>2016-05-08</td><td>2016-05-15</td><td>3</td><td>2</td></tr>",
                            "<tr><td>csongor3</td><td>Nagymihály Csongor</td><td>2016-06-04</td><td>2016-06-05</td><td>2</td><td>5</td></tr>",
                            "<tr><td>csongor3</td><td>Nagymihály Csongor</td><td>2016-06-10</td><td>2016-06-17</td><td>3</td><td>7</td></tr>",
                            "<tr><td>csongor3</td><td>Nagymihály Csongor</td><td>2016-06-11</td><td>2016-06-14</td><td>2</td><td>8</td></tr>",
                            "<tr><td>csongor3</td><td>Nagymihály Csongor</td><td>2016-07-09</td><td>2016-07-10</td><td>4</td><td>7</td></tr>",
                            "<tr><td>csongor3</td><td>Nagymihály Csongor</td><td>2016-11-12</td><td>2016-11-17</td><td>3</td><td>9</td></tr>",
                            "<tr><td>csongor3</td><td>Nagymihály Csongor</td><td>2017-02-13</td><td>2017-02-19</td><td>3</td><td>9</td></tr>",
                            "<tr><td>dani</td><td>Vörös Dániel</td><td>2016-08-06</td><td>2016-08-09</td><td>2</td><td>NULL</td></tr>",
                            "<tr><td>dani</td><td>Vörös Dániel</td><td>2016-06-06</td><td>2016-06-10</td><td>3</td><td>2</td></tr>",
                            "<tr><td>dani</td><td>Vörös Dániel</td><td>2016-07-11</td><td>2016-07-12</td><td>3</td><td>5</td></tr>",
                            "<tr><td>dani</td><td>Vörös Dániel</td><td>2016-09-19</td><td>2016-09-25</td><td>4</td><td>8</td></tr>",
                            "<tr><td>dani</td><td>Vörös Dániel</td><td>2016-10-01</td><td>2016-10-02</td><td>1</td><td>10</td></tr>",
                            "<tr><td>dani</td><td>Vörös Dániel</td><td>2016-11-22</td><td>2016-11-24</td><td>2</td><td>8</td></tr>",
                            "<tr><td>dani</td><td>Vörös Dániel</td><td>2017-01-17</td><td>2017-01-23</td><td>2</td><td>7</td></tr>",
                            "<tr><td>dani</td><td>Vörös Dániel</td><td>2017-01-22</td><td>2017-01-29</td><td>1</td><td>5</td></tr>",
                            "<tr><td>dani</td><td>Vörös Dániel</td><td>2017-02-25</td><td>2017-03-01</td><td>3</td><td>5</td></tr>",
                            "<tr><td>daniel</td><td>Rácz Dániel</td><td>2016-04-10</td><td>2016-04-11</td><td>4</td><td>NULL</td></tr>",
                            "<tr><td>daniel</td><td>Rácz Dániel</td><td>2016-04-22</td><td>2016-04-25</td><td>2</td><td>4</td></tr>",
                            "<tr><td>daniel</td><td>Rácz Dániel</td><td>2016-05-09</td><td>2016-05-13</td><td>3</td><td>6</td></tr>",
                            "<tr><td>daniel</td><td>Rácz Dániel</td><td>2016-09-08</td><td>2016-09-10</td><td>4</td><td>9</td></tr>",
                            "<tr><td>daniel</td><td>Rácz Dániel</td><td>2016-11-13</td><td>2016-11-19</td><td>3</td><td>9</td></tr>",
                            "<tr><td>daniel</td><td>Rácz Dániel</td><td>2016-12-25</td><td>2016-12-26</td><td>3</td><td>10</td></tr>",
                            "<tr><td>daniel</td><td>Rácz Dániel</td><td>2017-01-09</td><td>2017-01-11</td><td>1</td><td>10</td></tr>",
                            "<tr><td>daniel</td><td>Rácz Dániel</td><td>2017-02-12</td><td>2017-02-13</td><td>3</td><td>7</td></tr>",
                            "<tr><td>daniel</td><td>Rácz Dániel</td><td>2017-02-20</td><td>2017-02-23</td><td>3</td><td>7</td></tr>",
                            "<tr><td>daniel1</td><td>Keszler Dániel</td><td>2016-04-10</td><td>2016-04-15</td><td>2</td><td>NULL</td></tr>",
                            "<tr><td>daniel1</td><td>Keszler Dániel</td><td>2016-05-10</td><td>2016-05-13</td><td>4</td><td>2</td></tr>",
                            "<tr><td>daniel1</td><td>Keszler Dániel</td><td>2016-05-26</td><td>2016-05-27</td><td>3</td><td>6</td></tr>",
                            "<tr><td>daniel1</td><td>Keszler Dániel</td><td>2016-11-09</td><td>2016-11-11</td><td>2</td><td>9</td></tr>",
                            "<tr><td>daniel1</td><td>Keszler Dániel</td><td>2016-11-23</td><td>2016-11-25</td><td>2</td><td>9</td></tr>",
                            "<tr><td>daniel1</td><td>Keszler Dániel</td><td>2017-01-05</td><td>2017-01-08</td><td>3</td><td>7</td></tr>",
                            "<tr><td>daniel1</td><td>Keszler Dániel</td><td>2017-03-01</td><td>2017-03-06</td><td>4</td><td>7</td></tr>",
                            "<tr><td>david</td><td>Ambrus Dávid</td><td>2016-05-18</td><td>2016-05-25</td><td>2</td><td>NULL</td></tr>",
                            "<tr><td>david</td><td>Ambrus Dávid</td><td>2016-07-18</td><td>2016-07-21</td><td>2</td><td>2</td></tr>",
                            "<tr><td>david</td><td>Ambrus Dávid</td><td>2016-08-05</td><td>2016-08-12</td><td>1</td><td>4</td></tr>",
                            "<tr><td>david</td><td>Ambrus Dávid</td><td>2016-08-20</td><td>2016-08-25</td><td>3</td><td>5</td></tr>",
                            "<tr><td>david</td><td>Ambrus Dávid</td><td>2016-08-22</td><td>2016-08-24</td><td>3</td><td>6</td></tr>",
                            "<tr><td>david</td><td>Ambrus Dávid</td><td>2016-06-09</td><td>2016-06-10</td><td>2</td><td>7</td></tr>",
                            "<tr><td>david</td><td>Ambrus Dávid</td><td>2016-06-30</td><td>2016-07-07</td><td>2</td><td>8</td></tr>",
                            "<tr><td>david</td><td>Ambrus Dávid</td><td>2016-10-30</td><td>2016-11-04</td><td>2</td><td>7</td></tr>",
                            "<tr><td>david</td><td>Ambrus Dávid</td><td>2017-01-18</td><td>2017-01-19</td><td>2</td><td>6</td></tr>",
                            "<tr><td>david1</td><td>Sobják Dávid</td><td>2016-09-20</td><td>2016-09-21</td><td>2</td><td>NULL</td></tr>",
                            "<tr><td>david1</td><td>Sobják Dávid</td><td>2016-10-01</td><td>2016-10-02</td><td>2</td><td>2</td></tr>",
                            "<tr><td>david1</td><td>Sobják Dávid</td><td>2016-11-19</td><td>2016-11-22</td><td>2</td><td>4</td></tr>",
                            "<tr><td>david1</td><td>Sobják Dávid</td><td>2016-12-30</td><td>2017-01-06</td><td>2</td><td>6</td></tr>",
                            "<tr><td>david1</td><td>Sobják Dávid</td><td>2017-02-17</td><td>2017-02-20</td><td>3</td><td>6</td></tr>",
                            "<tr><td>david1</td><td>Sobják Dávid</td><td>2017-02-25</td><td>2017-02-27</td><td>4</td><td>7</td></tr>",
                            "<tr><td>david4</td><td>Berta Dávid</td><td>2017-02-16</td><td>2017-02-19</td><td>3</td><td>NULL</td></tr>",
                            "<tr><td>debora</td><td>Barna Debóra</td><td>2016-06-22</td><td>2016-06-24</td><td>5</td><td>NULL</td></tr>",
                            "<tr><td>debora</td><td>Barna Debóra</td><td>2016-10-29</td><td>2016-11-03</td><td>2</td><td>5</td></tr>",
                            "<tr><td>debora</td><td>Barna Debóra</td><td>2017-01-23</td><td>2017-01-28</td><td>3</td><td>7</td></tr>",
                            "<tr><td>debora</td><td>Barna Debóra</td><td>2017-02-04</td><td>2017-02-06</td><td>3</td><td>10</td></tr>",
                            "<tr><td>denes</td><td>Tömböly Dénes</td><td>2016-07-19</td><td>2016-07-23</td><td>2</td><td>NULL</td></tr>",
                            "<tr><td>denes</td><td>Tömböly Dénes</td><td>2016-08-01</td><td>2016-08-08</td><td>3</td><td>2</td></tr>",
                            "<tr><td>denes</td><td>Tömböly Dénes</td><td>2016-08-16</td><td>2016-08-23</td><td>2</td><td>5</td></tr>",
                            "<tr><td>denes</td><td>Tömböly Dénes</td><td>2016-08-20</td><td>2016-08-27</td><td>3</td><td>7</td></tr>",
                            "<tr><td>denes</td><td>Tömböly Dénes</td><td>2016-05-27</td><td>2016-05-31</td><td>3</td><td>8</td></tr>",
                            "<tr><td>denes</td><td>Tömböly Dénes</td><td>2016-11-06</td><td>2016-11-10</td><td>2</td><td>8</td></tr>",
                            "<tr><td>dora3</td><td>Sarodi Dóra</td><td>2016-08-16</td><td>2016-08-19</td><td>4</td><td>NULL</td></tr>",
                            "<tr><td>dora3</td><td>Sarodi Dóra</td><td>2016-08-25</td><td>2016-08-29</td><td>3</td><td>4</td></tr>",
                            "<tr><td>dora3</td><td>Sarodi Dóra</td><td>2016-10-09</td><td>2016-10-12</td><td>3</td><td>7</td></tr>",
                            "<tr><td>dora3</td><td>Sarodi Dóra</td><td>2016-10-29</td><td>2016-11-02</td><td>3</td><td>10</td></tr>",
                            "<tr><td>dora3</td><td>Sarodi Dóra</td><td>2016-11-22</td><td>2016-11-29</td><td>3</td><td>9</td></tr>",
                            "<tr><td>edit</td><td>Bittmann Edit</td><td>2016-07-14</td><td>2016-07-17</td><td>3</td><td>NULL</td></tr>",
                            "<tr><td>edit</td><td>Bittmann Edit</td><td>2016-08-03</td><td>2016-08-09</td><td>4</td><td>3</td></tr>",
                            "<tr><td>edit</td><td>Bittmann Edit</td><td>2016-08-12</td><td>2016-08-14</td><td>2</td><td>7</td></tr>",
                            "<tr><td>edit</td><td>Bittmann Edit</td><td>2016-09-17</td><td>2016-09-24</td><td>2</td><td>9</td></tr>",
                            "<tr><td>edit</td><td>Bittmann Edit</td><td>2016-09-18</td><td>2016-09-21</td><td>3</td><td>8</td></tr>",
                            "<tr><td>edit</td><td>Bittmann Edit</td><td>2017-01-15</td><td>2017-01-18</td><td>4</td><td>7</td></tr>",
                            "<tr><td>edit</td><td>Bittmann Edit</td><td>2017-02-08</td><td>2017-02-14</td><td>3</td><td>9</td></tr>",
                            "<tr><td>emese</td><td>Kuruc Emese</td><td>2016-07-22</td><td>2016-07-24</td><td>2</td><td>NULL</td></tr>",
                            "<tr><td>emese</td><td>Kuruc Emese</td><td>2016-08-09</td><td>2016-08-12</td><td>2</td><td>2</td></tr>",
                            "<tr><td>emese</td><td>Kuruc Emese</td><td>2016-09-27</td><td>2016-09-28</td><td>3</td><td>4</td></tr>",
                            "<tr><td>emese</td><td>Kuruc Emese</td><td>2016-11-05</td><td>2016-11-09</td><td>1</td><td>7</td></tr>",
                            "<tr><td>emese</td><td>Kuruc Emese</td><td>2016-11-23</td><td>2016-11-27</td><td>4</td><td>6</td></tr>",
                            "<tr><td>emese</td><td>Kuruc Emese</td><td>2016-12-07</td><td>2016-12-08</td><td>3</td><td>8</td></tr>",
                            "<tr><td>emese</td><td>Kuruc Emese</td><td>2017-01-30</td><td>2017-01-31</td><td>2</td><td>8</td></tr>",
                            "<tr><td>eszter</td><td>Molnár Eszter</td><td>2016-08-12</td><td>2016-08-18</td><td>3</td><td>NULL</td></tr>",
                            "<tr><td>eszter</td><td>Molnár Eszter</td><td>2016-10-04</td><td>2016-10-10</td><td>3</td><td>3</td></tr>",
                            "<tr><td>eszter</td><td>Molnár Eszter</td><td>2016-10-26</td><td>2016-11-01</td><td>3</td><td>6</td></tr>",
                            "<tr><td>eszter</td><td>Molnár Eszter</td><td>2016-12-23</td><td>2016-12-28</td><td>2</td><td>9</td></tr>",
                            "<tr><td>eszter2</td><td>Balogh Eszter</td><td>2016-06-30</td><td>2016-07-07</td><td>3</td><td>NULL</td></tr>",
                            "<tr><td>eszter2</td><td>Balogh Eszter</td><td>2016-07-08</td><td>2016-07-09</td><td>1</td><td>3</td></tr>",
                            "<tr><td>eszter2</td><td>Balogh Eszter</td><td>2016-10-01</td><td>2016-10-05</td><td>3</td><td>4</td></tr>",
                            "<tr><td>eszter2</td><td>Balogh Eszter</td><td>2016-10-01</td><td>2016-10-06</td><td>1</td><td>7</td></tr>",
                            "<tr><td>eszter2</td><td>Balogh Eszter</td><td>2016-10-20</td><td>2016-10-25</td><td>1</td><td>5</td></tr>",
                            "<tr><td>eszter2</td><td>Balogh Eszter</td><td>2016-10-23</td><td>2016-10-30</td><td>1</td><td>5</td></tr>",
                            "<tr><td>eszter2</td><td>Balogh Eszter</td><td>2016-11-05</td><td>2016-11-12</td><td>4</td><td>3</td></tr>",
                            "<tr><td>eszter2</td><td>Balogh Eszter</td><td>2016-12-02</td><td>2016-12-07</td><td>1</td><td>6</td></tr>",
                            "<tr><td>eszter2</td><td>Balogh Eszter</td><td>2016-12-05</td><td>2016-12-08</td><td>2</td><td>6</td></tr>",
                            "<tr><td>eszter2</td><td>Balogh Eszter</td><td>2016-12-29</td><td>2017-02-04</td><td>1</td><td>7</td></tr>",
                            "<tr><td>eszter4</td><td>Fülöp Eszter</td><td>2017-01-05</td><td>2017-01-10</td><td>2</td><td>NULL</td></tr>",
                            "<tr><td>eszter4</td><td>Fülöp Eszter</td><td>2017-01-26</td><td>2017-02-02</td><td>2</td><td>2</td></tr>",
                            "<tr><td>eszter4</td><td>Fülöp Eszter</td><td>2017-02-26</td><td>2017-02-27</td><td>3</td><td>4</td></tr>",
                            "<tr><td>ESZTERE</td><td>Érsek Eszter</td><td>2016-07-19</td><td>2016-07-21</td><td>2</td><td>NULL</td></tr>",
                            "<tr><td>ESZTERE</td><td>Érsek Eszter</td><td>2016-05-30</td><td>2016-06-05</td><td>2</td><td>2</td></tr>",
                            "<tr><td>ESZTERE</td><td>Érsek Eszter</td><td>2016-11-01</td><td>2016-11-08</td><td>2</td><td>4</td></tr>",
                            "<tr><td>ESZTERE</td><td>Érsek Eszter</td><td>2017-02-10</td><td>2017-02-14</td><td>2</td><td>6</td></tr>",
                            "<tr><td>eva</td><td>Enyedi Éva</td><td>2016-10-06</td><td>2016-10-09</td><td>3</td><td>NULL</td></tr>",
                            "<tr><td>eva</td><td>Enyedi Éva</td><td>2017-01-14</td><td>2017-01-16</td><td>2</td><td>3</td></tr>",
                            "<tr><td>eva2</td><td>Perlinger Éva</td><td>2016-09-02</td><td>2016-09-03</td><td>1</td><td>NULL</td></tr>",
                            "<tr><td>eva2</td><td>Perlinger Éva</td><td>2016-11-06</td><td>2016-11-13</td><td>2</td><td>1</td></tr>",
                            "<tr><td>eva2</td><td>Perlinger Éva</td><td>2016-12-06</td><td>2016-12-11</td><td>2</td><td>3</td></tr>",
                            "<tr><td>eva2</td><td>Perlinger Éva</td><td>2017-01-06</td><td>2017-01-09</td><td>4</td><td>5</td></tr>",
                            "<tr><td>EVAV</td><td>Viktor Éva</td><td>2016-05-01</td><td>2016-05-05</td><td>3</td><td>NULL</td></tr>",
                            "<tr><td>EVAV</td><td>Viktor Éva</td><td>2016-08-31</td><td>2016-09-04</td><td>2</td><td>3</td></tr>",
                            "<tr><td>EVAV</td><td>Viktor Éva</td><td>2016-10-15</td><td>2016-10-21</td><td>3</td><td>5</td></tr>",
                            "<tr><td>EVAV</td><td>Viktor Éva</td><td>2016-10-16</td><td>2016-10-23</td><td>2</td><td>8</td></tr>",
                            "<tr><td>EVAV</td><td>Viktor Éva</td><td>2017-02-04</td><td>2017-02-11</td><td>5</td><td>7</td></tr>",
                            "<tr><td>ferenc1</td><td>Orosz Ferenc</td><td>2016-05-08</td><td>2016-05-11</td><td>2</td><td>NULL</td></tr>",
                            "<tr><td>ferenc1</td><td>Orosz Ferenc</td><td>2016-06-16</td><td>2016-06-22</td><td>2</td><td>2</td></tr>",
                            "<tr><td>ferenc1</td><td>Orosz Ferenc</td><td>2016-10-08</td><td>2016-10-09</td><td>2</td><td>4</td></tr>",
                            "<tr><td>ferenc1</td><td>Orosz Ferenc</td><td>2016-11-07</td><td>2016-11-08</td><td>3</td><td>6</td></tr>",
                            "<tr><td>fruzsina4</td><td>Frank Fruzsina</td><td>2016-07-13</td><td>2016-07-19</td><td>3</td><td>NULL</td></tr>",
                            "<tr><td>fruzsina4</td><td>Frank Fruzsina</td><td>2016-08-27</td><td>2016-08-30</td><td>4</td><td>3</td></tr>",
                            "<tr><td>fruzsina4</td><td>Frank Fruzsina</td><td>2016-06-02</td><td>2016-06-04</td><td>2</td><td>7</td></tr>",
                            "<tr><td>fruzsina4</td><td>Frank Fruzsina</td><td>2016-07-01</td><td>2016-07-04</td><td>3</td><td>9</td></tr>",
                            "<tr><td>fruzsina4</td><td>Frank Fruzsina</td><td>2016-09-29</td><td>2016-10-01</td><td>3</td><td>9</td></tr>",
                            "<tr><td>fruzsina4</td><td>Frank Fruzsina</td><td>2016-11-22</td><td>2016-11-24</td><td>2</td><td>8</td></tr>",
                            "<tr><td>fruzsina4</td><td>Frank Fruzsina</td><td>2016-12-16</td><td>2016-12-21</td><td>1</td><td>8</td></tr>",
                            "<tr><td>fruzsina4</td><td>Frank Fruzsina</td><td>2017-01-22</td><td>2017-01-25</td><td>4</td><td>6</td></tr>",
                            "<tr><td>gabor1</td><td>Köves Gábor</td><td>2016-07-28</td><td>2016-07-30</td><td>2</td><td>NULL</td></tr>",
                            "<tr><td>gabor1</td><td>Köves Gábor</td><td>2016-09-02</td><td>2016-09-03</td><td>3</td><td>2</td></tr>",
                            "<tr><td>gabor1</td><td>Köves Gábor</td><td>2016-06-20</td><td>2016-06-21</td><td>4</td><td>5</td></tr>",
                            "<tr><td>gabor1</td><td>Köves Gábor</td><td>2016-07-12</td><td>2016-07-15</td><td>1</td><td>9</td></tr>",
                            "<tr><td>gabor1</td><td>Köves Gábor</td><td>2016-10-20</td><td>2016-10-24</td><td>1</td><td>8</td></tr>",
                            "<tr><td>gabor1</td><td>Köves Gábor</td><td>2016-11-19</td><td>2016-11-22</td><td>2</td><td>6</td></tr>",
                            "<tr><td>gabor4</td><td>Telek Gábor</td><td>2016-04-26</td><td>2016-04-29</td><td>3</td><td>NULL</td></tr>",
                            "<tr><td>gabor4</td><td>Telek Gábor</td><td>2016-08-31</td><td>2016-09-06</td><td>4</td><td>3</td></tr>",
                            "<tr><td>gabor4</td><td>Telek Gábor</td><td>2016-05-30</td><td>2016-06-05</td><td>1</td><td>7</td></tr>",
                            "<tr><td>gabor4</td><td>Telek Gábor</td><td>2016-11-07</td><td>2016-11-13</td><td>4</td><td>8</td></tr>",
                            "<tr><td>gabriella1</td><td>Nagy Gabriella</td><td>2016-04-21</td><td>2016-04-24</td><td>3</td><td>NULL</td></tr>",
                            "<tr><td>gabriella1</td><td>Nagy Gabriella</td><td>2016-07-24</td><td>2016-07-31</td><td>2</td><td>3</td></tr>",
                            "<tr><td>gabriella1</td><td>Nagy Gabriella</td><td>2016-07-10</td><td>2016-07-11</td><td>3</td><td>5</td></tr>",
                            "<tr><td>gabriella1</td><td>Nagy Gabriella</td><td>2017-02-04</td><td>2017-02-11</td><td>3</td><td>8</td></tr>",
                            "<tr><td>gabriella1</td><td>Nagy Gabriella</td><td>2017-02-12</td><td>2017-02-13</td><td>2</td><td>8</td></tr>",
                            "<tr><td>gabriella1</td><td>Nagy Gabriella</td><td>2017-02-21</td><td>2017-02-27</td><td>3</td><td>8</td></tr>",
                            "<tr><td>gabriella10</td><td>Vida Gabriella</td><td>2016-10-01</td><td>2016-10-06</td><td>3</td><td>NULL</td></tr>",
                            "<tr><td>georgij</td><td>Nyíri Georgij</td><td>2016-08-16</td><td>2016-08-22</td><td>4</td><td>NULL</td></tr>",
                            "<tr><td>georgij</td><td>Nyíri Georgij</td><td>2016-08-28</td><td>2016-09-04</td><td>2</td><td>4</td></tr>",
                            "<tr><td>georgij</td><td>Nyíri Georgij</td><td>2016-06-16</td><td>2016-06-20</td><td>3</td><td>6</td></tr>",
                            "<tr><td>georgij</td><td>Nyíri Georgij</td><td>2016-09-18</td><td>2016-09-24</td><td>3</td><td>9</td></tr>",
                            "<tr><td>gusztav</td><td>Bárci Gusztáv</td><td>2016-05-06</td><td>2016-05-13</td><td>2</td><td>NULL</td></tr>",
                            "<tr><td>gusztav</td><td>Bárci Gusztáv</td><td>2016-08-05</td><td>2016-08-11</td><td>3</td><td>2</td></tr>",
                            "<tr><td>gusztav</td><td>Bárci Gusztáv</td><td>2016-10-01</td><td>2016-10-03</td><td>3</td><td>5</td></tr>",
                            "<tr><td>gusztav</td><td>Bárci Gusztáv</td><td>2017-02-03</td><td>2017-02-09</td><td>2</td><td>8</td></tr>",
                            "<tr><td>gusztav</td><td>Bárci Gusztáv</td><td>2017-02-23</td><td>2017-03-01</td><td>4</td><td>8</td></tr>",
                            "<tr><td>GYONGYIK</td><td>Kornseé Gyöngyi</td><td>2016-08-17</td><td>2016-08-21</td><td>3</td><td>NULL</td></tr>",
                            "<tr><td>GYONGYIK</td><td>Kornseé Gyöngyi</td><td>2016-06-02</td><td>2016-06-05</td><td>3</td><td>3</td></tr>",
                            "<tr><td>GYONGYIK</td><td>Kornseé Gyöngyi</td><td>2016-06-10</td><td>2016-06-17</td><td>1</td><td>6</td></tr>",
                            "<tr><td>GYONGYIK</td><td>Kornseé Gyöngyi</td><td>2016-07-01</td><td>2016-07-05</td><td>2</td><td>7</td></tr>",
                            "<tr><td>GYONGYIK</td><td>Kornseé Gyöngyi</td><td>2016-11-08</td><td>2016-11-13</td><td>2</td><td>6</td></tr>",
                            "<tr><td>GYONGYIK</td><td>Kornseé Gyöngyi</td><td>2016-12-01</td><td>2016-12-08</td><td>2</td><td>5</td></tr>",
                            "<tr><td>GYONGYIK</td><td>Kornseé Gyöngyi</td><td>2017-01-22</td><td>2017-01-29</td><td>3</td><td>6</td></tr>",
                            "<tr><td>GYORGYO</td><td>Oroszi György</td><td>2016-07-18</td><td>2016-07-25</td><td>2</td><td>NULL</td></tr>",
                            "<tr><td>GYORGYO</td><td>Oroszi György</td><td>2016-07-28</td><td>2016-08-03</td><td>3</td><td>2</td></tr>",
                            "<tr><td>GYORGYO</td><td>Oroszi György</td><td>2016-05-27</td><td>2016-05-28</td><td>3</td><td>5</td></tr>",
                            "<tr><td>GYORGYO</td><td>Oroszi György</td><td>2016-06-01</td><td>2016-06-07</td><td>2</td><td>8</td></tr>",
                            "<tr><td>GYORGYO</td><td>Oroszi György</td><td>2016-06-10</td><td>2016-06-15</td><td>2</td><td>8</td></tr>",
                            "<tr><td>GYORGYO</td><td>Oroszi György</td><td>2016-10-28</td><td>2016-10-31</td><td>1</td><td>7</td></tr>",
                            "<tr><td>GYORGYO</td><td>Oroszi György</td><td>2017-02-13</td><td>2017-02-15</td><td>2</td><td>5</td></tr>",
                            "<tr><td>GYORGYO</td><td>Oroszi György</td><td>2017-02-24</td><td>2017-02-25</td><td>3</td><td>5</td></tr>",
                            "<tr><td>henrik3</td><td>Nádudvari Henrik</td><td>2016-08-24</td><td>2016-08-28</td><td>1</td><td>NULL</td></tr>",
                            "<tr><td>henrik3</td><td>Nádudvari Henrik</td><td>2016-12-29</td><td>2017-01-03</td><td>3</td><td>1</td></tr>",
                            "<tr><td>henrik3</td><td>Nádudvari Henrik</td><td>2017-01-27</td><td>2017-01-28</td><td>3</td><td>4</td></tr>",
                            "<tr><td>IBOLYAA</td><td>Andor Ibolya</td><td>2016-08-29</td><td>2016-08-31</td><td>5</td><td>NULL</td></tr>",
                            "<tr><td>IBOLYAA</td><td>Andor Ibolya</td><td>2016-10-23</td><td>2016-10-28</td><td>2</td><td>5</td></tr>",
                            "<tr><td>IBOLYAA</td><td>Andor Ibolya</td><td>2017-01-17</td><td>2017-01-23</td><td>3</td><td>7</td></tr>",
                            "<tr><td>ilona3</td><td>Bosnyák Ilona</td><td>2016-07-31</td><td>2016-08-06</td><td>2</td><td>NULL</td></tr>",
                            "<tr><td>ilona3</td><td>Bosnyák Ilona</td><td>2016-08-04</td><td>2016-08-08</td><td>3</td><td>2</td></tr>",
                            "<tr><td>ilona3</td><td>Bosnyák Ilona</td><td>2016-11-04</td><td>2016-11-06</td><td>4</td><td>5</td></tr>",
                            "<tr><td>ilona3</td><td>Bosnyák Ilona</td><td>2016-12-25</td><td>2016-12-31</td><td>3</td><td>9</td></tr>",
                            "<tr><td>imre</td><td>Búza Imre</td><td>2016-09-17</td><td>2016-09-19</td><td>3</td><td>NULL</td></tr>",
                            "<tr><td>imre</td><td>Búza Imre</td><td>2016-10-28</td><td>2016-10-29</td><td>4</td><td>3</td></tr>",
                            "<tr><td>imre1</td><td>Papp Imre</td><td>2016-08-21</td><td>2016-08-27</td><td>2</td><td>NULL</td></tr>",
                            "<tr><td>imre1</td><td>Papp Imre</td><td>2016-08-23</td><td>2016-08-25</td><td>3</td><td>2</td></tr>",
                            "<tr><td>imre1</td><td>Papp Imre</td><td>2016-08-29</td><td>2016-08-31</td><td>2</td><td>5</td></tr>",
                            "<tr><td>imre1</td><td>Papp Imre</td><td>2016-06-23</td><td>2016-06-26</td><td>4</td><td>7</td></tr>",
                            "<tr><td>imre1</td><td>Papp Imre</td><td>2016-06-27</td><td>2016-06-28</td><td>2</td><td>9</td></tr>",
                            "<tr><td>imre1</td><td>Papp Imre</td><td>2017-02-01</td><td>2017-02-04</td><td>2</td><td>8</td></tr>",
                            "<tr><td>imre1</td><td>Papp Imre</td><td>2017-02-05</td><td>2017-02-07</td><td>4</td><td>8</td></tr>",
                            "<tr><td>istvan</td><td>Soós István</td><td>2016-10-07</td><td>2016-10-10</td><td>2</td><td>NULL</td></tr>",
                            "<tr><td>istvan</td><td>Soós István</td><td>2016-11-22</td><td>2016-11-24</td><td>3</td><td>2</td></tr>",
                            "<tr><td>istvan</td><td>Soós István</td><td>2017-01-02</td><td>2017-01-05</td><td>2</td><td>5</td></tr>",
                            "<tr><td>istvan1</td><td>Vizi István</td><td>2016-04-16</td><td>2016-04-22</td><td>3</td><td>NULL</td></tr>",
                            "<tr><td>istvan1</td><td>Vizi István</td><td>2016-04-24</td><td>2016-04-28</td><td>3</td><td>3</td></tr>",
                            "<tr><td>istvan1</td><td>Vizi István</td><td>2016-07-19</td><td>2016-07-24</td><td>1</td><td>6</td></tr>",
                            "<tr><td>istvan1</td><td>Vizi István</td><td>2017-02-07</td><td>2017-02-10</td><td>3</td><td>7</td></tr>",
                            "<tr><td>ISTVANV</td><td>Varga István</td><td>2016-07-01</td><td>2016-07-04</td><td>4</td><td>NULL</td></tr>",
                            "<tr><td>ISTVANV</td><td>Varga István</td><td>2016-09-29</td><td>2016-10-01</td><td>3</td><td>4</td></tr>",
                            "<tr><td>janos3</td><td>Harangozó János</td><td>2016-08-24</td><td>2016-08-25</td><td>3</td><td>NULL</td></tr>",
                            "<tr><td>janos3</td><td>Harangozó János</td><td>2016-06-04</td><td>2016-06-06</td><td>1</td><td>3</td></tr>",
                            "<tr><td>janos3</td><td>Harangozó János</td><td>2016-10-03</td><td>2016-10-08</td><td>3</td><td>4</td></tr>",
                            "<tr><td>janos3</td><td>Harangozó János</td><td>2016-10-22</td><td>2016-10-23</td><td>1</td><td>7</td></tr>",
                            "<tr><td>janos3</td><td>Harangozó János</td><td>2017-02-12</td><td>2017-02-14</td><td>3</td><td>5</td></tr>",
                            "<tr><td>JANOSG</td><td>Giliga János</td><td>2016-05-09</td><td>2016-05-15</td><td>1</td><td>NULL</td></tr>",
                            "<tr><td>JANOSG</td><td>Giliga János</td><td>2016-08-16</td><td>2016-08-23</td><td>3</td><td>1</td></tr>",
                            "<tr><td>JANOSG</td><td>Giliga János</td><td>2016-08-30</td><td>2016-09-03</td><td>3</td><td>4</td></tr>",
                            "<tr><td>JANOSG</td><td>Giliga János</td><td>2016-11-07</td><td>2016-11-14</td><td>3</td><td>7</td></tr>",
                            "<tr><td>JANOSG</td><td>Giliga János</td><td>2016-12-28</td><td>2016-12-30</td><td>2</td><td>9</td></tr>",
                            "<tr><td>JANOSG</td><td>Giliga János</td><td>2017-01-10</td><td>2017-01-15</td><td>2</td><td>8</td></tr>",
                            "<tr><td>JANOSG</td><td>Giliga János</td><td>2017-01-31</td><td>2017-02-05</td><td>2</td><td>7</td></tr>",
                            "<tr><td>JANOSP</td><td>Pálinkás János</td><td>2016-07-04</td><td>2016-07-11</td><td>3</td><td>NULL</td></tr>",
                            "<tr><td>JANOSP</td><td>Pálinkás János</td><td>2016-11-23</td><td>2016-11-28</td><td>2</td><td>3</td></tr>",
                            "<tr><td>JANOSP</td><td>Pálinkás János</td><td>2016-11-25</td><td>2016-11-27</td><td>2</td><td>5</td></tr>",
                            "<tr><td>JANOSP</td><td>Pálinkás János</td><td>2016-12-18</td><td>2016-12-21</td><td>2</td><td>7</td></tr>",
                            "<tr><td>jozsef</td><td>Gergely József</td><td>2016-09-13</td><td>2016-09-19</td><td>2</td><td>NULL</td></tr>",
                            "<tr><td>jozsef</td><td>Gergely József</td><td>2016-10-08</td><td>2016-10-10</td><td>2</td><td>2</td></tr>",
                            "<tr><td>jozsef</td><td>Gergely József</td><td>2016-12-06</td><td>2016-12-07</td><td>2</td><td>4</td></tr>",
                            "<tr><td>jozsef2</td><td>Vajda József</td><td>2016-07-16</td><td>2016-07-20</td><td>3</td><td>NULL</td></tr>",
                            "<tr><td>jozsef2</td><td>Vajda József</td><td>2016-07-06</td><td>2016-07-11</td><td>2</td><td>3</td></tr>",
                            "<tr><td>jozsef2</td><td>Vajda József</td><td>2016-09-09</td><td>2016-09-15</td><td>2</td><td>5</td></tr>",
                            "<tr><td>jozsef2</td><td>Vajda József</td><td>2016-11-23</td><td>2016-11-29</td><td>3</td><td>7</td></tr>",
                            "<tr><td>jozsef2</td><td>Vajda József</td><td>2016-11-25</td><td>2016-11-29</td><td>3</td><td>7</td></tr>",
                            "<tr><td>JOZSEFG</td><td>Gyuris József</td><td>2016-05-02</td><td>2016-05-06</td><td>2</td><td>NULL</td></tr>",
                            "<tr><td>JOZSEFG</td><td>Gyuris József</td><td>2016-08-24</td><td>2016-08-27</td><td>3</td><td>2</td></tr>",
                            "<tr><td>JOZSEFG</td><td>Gyuris József</td><td>2016-05-23</td><td>2016-05-25</td><td>1</td><td>5</td></tr>",
                            "<tr><td>JOZSEFG</td><td>Gyuris József</td><td>2016-06-04</td><td>2016-06-09</td><td>4</td><td>6</td></tr>",
                            "<tr><td>JOZSEFG</td><td>Gyuris József</td><td>2017-01-09</td><td>2017-01-13</td><td>2</td><td>8</td></tr>",
                            "<tr><td>JOZSEFG</td><td>Gyuris József</td><td>2017-01-22</td><td>2017-01-26</td><td>1</td><td>7</td></tr>",
                            "<tr><td>JOZSEFG</td><td>Gyuris József</td><td>2017-02-24</td><td>2017-03-03</td><td>3</td><td>7</td></tr>",
                            "<tr><td>JUDITH</td><td>Hídasi Judit</td><td>2016-07-28</td><td>2016-07-30</td><td>2</td><td>NULL</td></tr>",
                            "<tr><td>JUDITH</td><td>Hídasi Judit</td><td>2016-06-06</td><td>2016-06-10</td><td>2</td><td>2</td></tr>",
                            "<tr><td>JUDITH</td><td>Hídasi Judit</td><td>2016-12-19</td><td>2016-12-26</td><td>1</td><td>4</td></tr>",
                            "<tr><td>julia</td><td>Tóth Júlia</td><td>2016-04-21</td><td>2016-04-26</td><td>2</td><td>NULL</td></tr>",
                            "<tr><td>julia</td><td>Tóth Júlia</td><td>2016-05-12</td><td>2016-05-17</td><td>1</td><td>2</td></tr>",
                            "<tr><td>julia</td><td>Tóth Júlia</td><td>2016-07-20</td><td>2016-07-22</td><td>2</td><td>3</td></tr>",
                            "<tr><td>julia</td><td>Tóth Júlia</td><td>2016-06-07</td><td>2016-06-08</td><td>5</td><td>5</td></tr>",
                            "<tr><td>julia</td><td>Tóth Júlia</td><td>2017-02-27</td><td>2017-03-06</td><td>3</td><td>8</td></tr>",
                            "<tr><td>julia4</td><td>Nagy Júlia</td><td>2016-11-07</td><td>2016-11-12</td><td>1</td><td>NULL</td></tr>",
                            "<tr><td>julia4</td><td>Nagy Júlia</td><td>2017-02-04</td><td>2017-02-11</td><td>4</td><td>1</td></tr>",
                            "<tr><td>julianna4</td><td>Szabó Julianna</td><td>2016-07-20</td><td>2016-07-26</td><td>2</td><td>NULL</td></tr>",
                            "<tr><td>julianna4</td><td>Szabó Julianna</td><td>2016-10-29</td><td>2016-10-31</td><td>3</td><td>2</td></tr>",
                            "<tr><td>julianna4</td><td>Szabó Julianna</td><td>2016-11-03</td><td>2016-11-04</td><td>2</td><td>5</td></tr>",
                            "<tr><td>julianna4</td><td>Szabó Julianna</td><td>2016-11-27</td><td>2016-12-04</td><td>3</td><td>7</td></tr>",
                            "<tr><td>kata</td><td>Gondos Katalin</td><td>2016-04-10</td><td>2016-04-11</td><td>2</td><td>NULL</td></tr>",
                            "<tr><td>kata</td><td>Gondos Katalin</td><td>2016-04-25</td><td>2016-05-01</td><td>1</td><td>2</td></tr>",
                            "<tr><td>kata</td><td>Gondos Katalin</td><td>2016-08-24</td><td>2016-08-27</td><td>3</td><td>3</td></tr>",
                            "<tr><td>kata</td><td>Gondos Katalin</td><td>2016-05-31</td><td>2016-06-01</td><td>3</td><td>6</td></tr>",
                            "<tr><td>kata</td><td>Gondos Katalin</td><td>2016-06-07</td><td>2016-06-12</td><td>2</td><td>7</td></tr>",
                            "<tr><td>kata</td><td>Gondos Katalin</td><td>2016-07-01</td><td>2016-07-07</td><td>2</td><td>8</td></tr>",
                            "<tr><td>kata</td><td>Gondos Katalin</td><td>2016-07-03</td><td>2016-07-06</td><td>1</td><td>7</td></tr>",
                            "<tr><td>kata</td><td>Gondos Katalin</td><td>2016-07-07</td><td>2016-07-09</td><td>3</td><td>5</td></tr>",
                            "<tr><td>kata</td><td>Gondos Katalin</td><td>2016-09-19</td><td>2016-09-20</td><td>3</td><td>6</td></tr>",
                            "<tr><td>kata</td><td>Gondos Katalin</td><td>2017-01-15</td><td>2017-01-21</td><td>3</td><td>7</td></tr>",
                            "<tr><td>katalin</td><td>Horváth Katalin</td><td>2016-04-10</td><td>2016-04-17</td><td>2</td><td>NULL</td></tr>",
                            "<tr><td>katalin</td><td>Horváth Katalin</td><td>2016-05-21</td><td>2016-05-26</td><td>1</td><td>2</td></tr>",
                            "<tr><td>katalin</td><td>Horváth Katalin</td><td>2016-07-28</td><td>2016-07-29</td><td>1</td><td>3</td></tr>",
                            "<tr><td>katalin</td><td>Horváth Katalin</td><td>2016-07-06</td><td>2016-07-11</td><td>1</td><td>4</td></tr>",
                            "<tr><td>katalin</td><td>Horváth Katalin</td><td>2016-10-26</td><td>2016-10-30</td><td>2</td><td>3</td></tr>",
                            "<tr><td>katalin</td><td>Horváth Katalin</td><td>2016-12-13</td><td>2016-12-19</td><td>2</td><td>4</td></tr>",
                            "<tr><td>katalin</td><td>Horváth Katalin</td><td>2016-12-17</td><td>2016-12-24</td><td>1</td><td>5</td></tr>",
                            "<tr><td>katalin</td><td>Horváth Katalin</td><td>2016-12-24</td><td>2016-12-27</td><td>2</td><td>5</td></tr>",
                            "<tr><td>katalin</td><td>Horváth Katalin</td><td>2017-02-24</td><td>2017-02-27</td><td>3</td><td>5</td></tr>",
                            "<tr><td>katalin4</td><td>Kertész Katalin</td><td>2016-07-01</td><td>2016-07-07</td><td>1</td><td>NULL</td></tr>",
                            "<tr><td>katalin4</td><td>Kertész Katalin</td><td>2016-07-03</td><td>2016-07-04</td><td>4</td><td>1</td></tr>",
                            "<tr><td>katalin4</td><td>Kertész Katalin</td><td>2016-11-27</td><td>2016-12-04</td><td>3</td><td>5</td></tr>",
                            "<tr><td>katalin4</td><td>Kertész Katalin</td><td>2016-12-04</td><td>2016-12-09</td><td>3</td><td>8</td></tr>",
                            "<tr><td>katalin4</td><td>Kertész Katalin</td><td>2017-01-18</td><td>2017-01-20</td><td>2</td><td>10</td></tr>",
                            "<tr><td>katalin4</td><td>Kertész Katalin</td><td>2017-01-24</td><td>2017-01-31</td><td>2</td><td>8</td></tr>",
                            "<tr><td>kati</td><td>Zatykó Katalin</td><td>2016-07-13</td><td>2016-07-20</td><td>2</td><td>NULL</td></tr>",
                            "<tr><td>kati</td><td>Zatykó Katalin</td><td>2016-07-27</td><td>2016-08-03</td><td>2</td><td>2</td></tr>",
                            "<tr><td>kati</td><td>Zatykó Katalin</td><td>2016-08-03</td><td>2016-08-07</td><td>2</td><td>4</td></tr>",
                            "<tr><td>kati</td><td>Zatykó Katalin</td><td>2016-06-06</td><td>2016-06-10</td><td>2</td><td>6</td></tr>",
                            "<tr><td>kati</td><td>Zatykó Katalin</td><td>2016-06-06</td><td>2016-06-11</td><td>3</td><td>6</td></tr>",
                            "<tr><td>kati</td><td>Zatykó Katalin</td><td>2016-10-26</td><td>2016-10-28</td><td>2</td><td>7</td></tr>",
                            "<tr><td>kati</td><td>Zatykó Katalin</td><td>2016-10-30</td><td>2016-11-01</td><td>3</td><td>7</td></tr>",
                            "<tr><td>katka</td><td>Kovács Katalin</td><td>2016-04-10</td><td>2016-04-12</td><td>2</td><td>NULL</td></tr>",
                            "<tr><td>katka</td><td>Kovács Katalin</td><td>2016-05-09</td><td>2016-05-15</td><td>3</td><td>2</td></tr>",
                            "<tr><td>katka</td><td>Kovács Katalin</td><td>2016-08-24</td><td>2016-08-26</td><td>2</td><td>5</td></tr>",
                            "<tr><td>katka</td><td>Kovács Katalin</td><td>2016-06-13</td><td>2016-06-18</td><td>1</td><td>7</td></tr>",
                            "<tr><td>katka</td><td>Kovács Katalin</td><td>2016-06-13</td><td>2016-06-19</td><td>4</td><td>6</td></tr>",
                            "<tr><td>katka</td><td>Kovács Katalin</td><td>2016-09-05</td><td>2016-09-10</td><td>4</td><td>7</td></tr>",
                            "<tr><td>katka</td><td>Kovács Katalin</td><td>2016-11-05</td><td>2016-11-08</td><td>3</td><td>9</td></tr>",
                            "<tr><td>katka</td><td>Kovács Katalin</td><td>2017-01-02</td><td>2017-01-05</td><td>3</td><td>11</td></tr>",
                            "<tr><td>katka</td><td>Kovács Katalin</td><td>2017-01-19</td><td>2017-01-20</td><td>3</td><td>10</td></tr>",
                            "<tr><td>klaudia2</td><td>Bakó Klaudia</td><td>2016-06-06</td><td>2016-06-08</td><td>4</td><td>NULL</td></tr>",
                            "<tr><td>klaudia2</td><td>Bakó Klaudia</td><td>2016-10-01</td><td>2016-10-02</td><td>2</td><td>4</td></tr>",
                            "<tr><td>klaudia2</td><td>Bakó Klaudia</td><td>2016-10-02</td><td>2016-10-05</td><td>2</td><td>6</td></tr>",
                            "<tr><td>kornel4</td><td>Lukács Kornél</td><td>2016-05-08</td><td>2016-05-14</td><td>3</td><td>NULL</td></tr>",
                            "<tr><td>kornel4</td><td>Lukács Kornél</td><td>2016-06-02</td><td>2016-06-09</td><td>3</td><td>3</td></tr>",
                            "<tr><td>kornel4</td><td>Lukács Kornél</td><td>2016-09-23</td><td>2016-09-24</td><td>3</td><td>6</td></tr>",
                            "<tr><td>kristof4</td><td>Poprádi Kristóf</td><td>2016-04-08</td><td>2016-04-14</td><td>2</td><td>NULL</td></tr>",
                            "<tr><td>kristof4</td><td>Poprádi Kristóf</td><td>2016-09-30</td><td>2016-10-04</td><td>2</td><td>2</td></tr>",
                            "<tr><td>kriszti</td><td>Horváth Krisztina</td><td>2016-05-19</td><td>2016-05-26</td><td>2</td><td>NULL</td></tr>",
                            "<tr><td>kriszti</td><td>Horváth Krisztina</td><td>2016-08-24</td><td>2016-08-25</td><td>3</td><td>2</td></tr>",
                            "<tr><td>kriszti</td><td>Horváth Krisztina</td><td>2016-09-30</td><td>2016-10-05</td><td>3</td><td>5</td></tr>",
                            "<tr><td>kriszti</td><td>Horváth Krisztina</td><td>2016-10-01</td><td>2016-10-02</td><td>3</td><td>8</td></tr>",
                            "<tr><td>kriszti</td><td>Horváth Krisztina</td><td>2017-02-04</td><td>2017-02-11</td><td>3</td><td>9</td></tr>",
                            "<tr><td>kriszti</td><td>Horváth Krisztina</td><td>2017-03-03</td><td>2017-03-04</td><td>3</td><td>9</td></tr>",
                            "<tr><td>krisztian4</td><td>Czérna Krisztián</td><td>2016-07-28</td><td>2016-08-01</td><td>2</td><td>NULL</td></tr>",
                            "<tr><td>krisztian4</td><td>Czérna Krisztián</td><td>2016-08-01</td><td>2016-08-04</td><td>3</td><td>2</td></tr>",
                            "<tr><td>krisztian4</td><td>Czérna Krisztián</td><td>2016-08-16</td><td>2016-08-19</td><td>1</td><td>5</td></tr>",
                            "<tr><td>krisztian4</td><td>Czérna Krisztián</td><td>2016-08-29</td><td>2016-09-03</td><td>1</td><td>6</td></tr>",
                            "<tr><td>krisztian4</td><td>Czérna Krisztián</td><td>2016-06-03</td><td>2016-06-04</td><td>2</td><td>5</td></tr>",
                            "<tr><td>krisztian4</td><td>Czérna Krisztián</td><td>2016-06-07</td><td>2016-06-09</td><td>2</td><td>4</td></tr>",
                            "<tr><td>krisztian4</td><td>Czérna Krisztián</td><td>2016-10-17</td><td>2016-10-22</td><td>3</td><td>5</td></tr>",
                            "<tr><td>krisztian4</td><td>Czérna Krisztián</td><td>2016-11-02</td><td>2016-11-03</td><td>2</td><td>7</td></tr>",
                            "<tr><td>krisztian4</td><td>Czérna Krisztián</td><td>2016-12-11</td><td>2016-12-18</td><td>2</td><td>7</td></tr>",
                            "<tr><td>krisztian4</td><td>Czérna Krisztián</td><td>2017-01-06</td><td>2017-01-09</td><td>1</td><td>7</td></tr>",
                            "<tr><td>krisztian4</td><td>Czérna Krisztián</td><td>2017-01-16</td><td>2017-01-23</td><td>3</td><td>5</td></tr>",
                            "<tr><td>krisztian4</td><td>Czérna Krisztián</td><td>2017-02-23</td><td>2017-03-02</td><td>2</td><td>6</td></tr>",
                            "<tr><td>KRISZTIANM</td><td>Mogyródi Krisztián</td><td>2016-04-09</td><td>2016-04-15</td><td>2</td><td>NULL</td></tr>",
                            "<tr><td>KRISZTIANM</td><td>Mogyródi Krisztián</td><td>2016-08-02</td><td>2016-08-08</td><td>4</td><td>2</td></tr>",
                            "<tr><td>KRISZTIANM</td><td>Mogyródi Krisztián</td><td>2016-06-04</td><td>2016-06-08</td><td>2</td><td>6</td></tr>",
                            "<tr><td>KRISZTIANM</td><td>Mogyródi Krisztián</td><td>2016-07-09</td><td>2016-07-14</td><td>3</td><td>8</td></tr>",
                            "<tr><td>KRISZTIANM</td><td>Mogyródi Krisztián</td><td>2016-12-25</td><td>2016-12-31</td><td>2</td><td>9</td></tr>",
                            "<tr><td>KRISZTIANM</td><td>Mogyródi Krisztián</td><td>2017-01-16</td><td>2017-01-23</td><td>1</td><td>7</td></tr>",
                            "<tr><td>krisztina</td><td>Szedlár Krisztina</td><td>2016-05-21</td><td>2016-05-27</td><td>2</td><td>NULL</td></tr>",
                            "<tr><td>krisztina</td><td>Szedlár Krisztina</td><td>2016-07-05</td><td>2016-07-12</td><td>3</td><td>2</td></tr>",
                            "<tr><td>krisztina</td><td>Szedlár Krisztina</td><td>2016-09-13</td><td>2016-09-16</td><td>1</td><td>5</td></tr>",
                            "<tr><td>krisztina</td><td>Szedlár Krisztina</td><td>2016-09-19</td><td>2016-09-26</td><td>2</td><td>6</td></tr>",
                            "<tr><td>krisztina</td><td>Szedlár Krisztina</td><td>2016-11-08</td><td>2016-11-12</td><td>2</td><td>6</td></tr>",
                            "<tr><td>krisztina</td><td>Szedlár Krisztina</td><td>2016-11-22</td><td>2016-11-25</td><td>1</td><td>5</td></tr>",
                            "<tr><td>krisztina</td><td>Szedlár Krisztina</td><td>2017-02-05</td><td>2017-02-07</td><td>2</td><td>5</td></tr>",
                            "<tr><td>krisztina</td><td>Szedlár Krisztina</td><td>2017-02-16</td><td>2017-02-20</td><td>4</td><td>5</td></tr>",
                            "<tr><td>krisztina1</td><td>Bori Krisztina</td><td>2016-04-28</td><td>2016-04-30</td><td>2</td><td>NULL</td></tr>",
                            "<tr><td>krisztina1</td><td>Bori Krisztina</td><td>2016-05-16</td><td>2016-05-20</td><td>1</td><td>2</td></tr>",
                            "<tr><td>krisztina1</td><td>Bori Krisztina</td><td>2016-06-16</td><td>2016-06-22</td><td>2</td><td>3</td></tr>",
                            "<tr><td>krisztina1</td><td>Bori Krisztina</td><td>2016-09-15</td><td>2016-09-20</td><td>3</td><td>5</td></tr>",
                            "<tr><td>krisztina1</td><td>Bori Krisztina</td><td>2016-10-29</td><td>2016-10-30</td><td>4</td><td>6</td></tr>",
                            "<tr><td>krisztina1</td><td>Bori Krisztina</td><td>2017-01-21</td><td>2017-01-24</td><td>2</td><td>9</td></tr>",
                            "<tr><td>KRISZTINAG</td><td>Gyárfás Krisztina</td><td>2016-04-23</td><td>2016-04-24</td><td>2</td><td>NULL</td></tr>",
                            "<tr><td>KRISZTINAG</td><td>Gyárfás Krisztina</td><td>2016-08-08</td><td>2016-08-12</td><td>3</td><td>2</td></tr>",
                            "<tr><td>KRISZTINAG</td><td>Gyárfás Krisztina</td><td>2016-05-24</td><td>2016-05-31</td><td>1</td><td>5</td></tr>",
                            "<tr><td>KRISZTINAG</td><td>Gyárfás Krisztina</td><td>2016-06-08</td><td>2016-06-12</td><td>1</td><td>6</td></tr>",
                            "<tr><td>KRISZTINAG</td><td>Gyárfás Krisztina</td><td>2017-01-25</td><td>2017-01-30</td><td>2</td><td>5</td></tr>",
                            "<tr><td>lajos</td><td>Kiss Lajos</td><td>2016-07-18</td><td>2016-07-21</td><td>2</td><td>NULL</td></tr>",
                            "<tr><td>lajos</td><td>Kiss Lajos</td><td>2016-12-25</td><td>2016-12-28</td><td>4</td><td>2</td></tr>",
                            "<tr><td>lajos</td><td>Kiss Lajos</td><td>2017-02-12</td><td>2017-02-13</td><td>1</td><td>6</td></tr>",
                            "<tr><td>lala</td><td>Nagymihály Lajos</td><td>2016-07-20</td><td>2016-07-21</td><td>3</td><td>NULL</td></tr>",
                            "<tr><td>lala</td><td>Nagymihály Lajos</td><td>2016-07-26</td><td>2016-07-27</td><td>3</td><td>3</td></tr>",
                            "<tr><td>lala</td><td>Nagymihály Lajos</td><td>2016-06-16</td><td>2016-06-22</td><td>2</td><td>6</td></tr>",
                            "<tr><td>lala</td><td>Nagymihály Lajos</td><td>2016-10-30</td><td>2016-10-31</td><td>3</td><td>8</td></tr>",
                            "<tr><td>lala</td><td>Nagymihály Lajos</td><td>2017-01-08</td><td>2017-01-10</td><td>3</td><td>8</td></tr>",
                            "<tr><td>lala</td><td>Nagymihály Lajos</td><td>2017-01-17</td><td>2017-01-19</td><td>2</td><td>8</td></tr>",
                            "<tr><td>laszlo1</td><td>Farkas László</td><td>2016-09-23</td><td>2016-09-30</td><td>3</td><td>NULL</td></tr>",
                            "<tr><td>laszlo2</td><td>Móra László</td><td>2016-04-06</td><td>2016-04-10</td><td>2</td><td>NULL</td></tr>",
                            "<tr><td>laszlo2</td><td>Móra László</td><td>2016-04-27</td><td>2016-04-29</td><td>2</td><td>2</td></tr>",
                            "<tr><td>laszlo2</td><td>Móra László</td><td>2016-08-14</td><td>2016-08-15</td><td>3</td><td>4</td></tr>",
                            "<tr><td>laszlo2</td><td>Móra László</td><td>2016-09-05</td><td>2016-09-10</td><td>3</td><td>7</td></tr>",
                            "<tr><td>laszlo2</td><td>Móra László</td><td>2016-11-25</td><td>2016-11-26</td><td>3</td><td>8</td></tr>",
                            "<tr><td>LASZLOA</td><td>Antal László</td><td>2016-06-03</td><td>2016-06-09</td><td>2</td><td>NULL</td></tr>",
                            "<tr><td>LASZLOA</td><td>Antal László</td><td>2016-06-07</td><td>2016-06-11</td><td>1</td><td>2</td></tr>",
                            "<tr><td>LASZLOA</td><td>Antal László</td><td>2016-06-10</td><td>2016-06-13</td><td>3</td><td>3</td></tr>",
                            "<tr><td>LASZLOA</td><td>Antal László</td><td>2017-02-08</td><td>2017-02-14</td><td>2</td><td>6</td></tr>",
                            "<tr><td>LASZLON</td><td>Nagy László</td><td>2016-06-03</td><td>2016-06-06</td><td>1</td><td>NULL</td></tr>",
                            "<tr><td>LASZLON</td><td>Nagy László</td><td>2016-06-08</td><td>2016-06-09</td><td>2</td><td>1</td></tr>",
                            "<tr><td>LASZLON</td><td>Nagy László</td><td>2016-10-01</td><td>2016-10-04</td><td>3</td><td>3</td></tr>",
                            "<tr><td>LASZLON</td><td>Nagy László</td><td>2016-10-09</td><td>2016-10-14</td><td>1</td><td>6</td></tr>",
                            "<tr><td>LASZLON</td><td>Nagy László</td><td>2016-11-29</td><td>2016-12-04</td><td>1</td><td>6</td></tr>",
                            "<tr><td>LASZLON</td><td>Nagy László</td><td>2017-02-18</td><td>2017-02-25</td><td>3</td><td>5</td></tr>",
                            "<tr><td>maria1</td><td>Baráth Mária</td><td>2016-05-13</td><td>2016-05-18</td><td>2</td><td>NULL</td></tr>",
                            "<tr><td>maria1</td><td>Baráth Mária</td><td>2016-05-18</td><td>2016-05-19</td><td>1</td><td>2</td></tr>",
                            "<tr><td>maria1</td><td>Baráth Mária</td><td>2016-08-11</td><td>2016-08-14</td><td>3</td><td>3</td></tr>",
                            "<tr><td>maria1</td><td>Baráth Mária</td><td>2016-09-02</td><td>2016-09-05</td><td>1</td><td>6</td></tr>",
                            "<tr><td>maria1</td><td>Baráth Mária</td><td>2016-05-28</td><td>2016-06-03</td><td>2</td><td>5</td></tr>",
                            "<tr><td>maria1</td><td>Baráth Mária</td><td>2016-06-23</td><td>2016-06-27</td><td>1</td><td>6</td></tr>",
                            "<tr><td>maria1</td><td>Baráth Mária</td><td>2016-11-08</td><td>2016-11-12</td><td>3</td><td>4</td></tr>",
                            "<tr><td>maria1</td><td>Baráth Mária</td><td>2017-02-24</td><td>2017-03-02</td><td>2</td><td>6</td></tr>",
                            "<tr><td>mark</td><td>Kispál Márk</td><td>2016-04-19</td><td>2016-04-26</td><td>4</td><td>NULL</td></tr>",
                            "<tr><td>mark</td><td>Kispál Márk</td><td>2016-08-09</td><td>2016-08-16</td><td>3</td><td>4</td></tr>",
                            "<tr><td>mark</td><td>Kispál Márk</td><td>2016-06-13</td><td>2016-06-18</td><td>3</td><td>7</td></tr>",
                            "<tr><td>mark</td><td>Kispál Márk</td><td>2016-10-20</td><td>2016-10-27</td><td>1</td><td>10</td></tr>",
                            "<tr><td>mark</td><td>Kispál Márk</td><td>2016-11-19</td><td>2016-11-22</td><td>2</td><td>7</td></tr>",
                            "<tr><td>MARKH</td><td>Horváth Márk</td><td>2016-09-14</td><td>2016-09-17</td><td>3</td><td>NULL</td></tr>",
                            "<tr><td>MARKH</td><td>Horváth Márk</td><td>2016-09-23</td><td>2016-09-30</td><td>2</td><td>3</td></tr>",
                            "<tr><td>MARKH</td><td>Horváth Márk</td><td>2016-09-26</td><td>2016-10-01</td><td>4</td><td>5</td></tr>",
                            "<tr><td>MARKH</td><td>Horváth Márk</td><td>2017-01-22</td><td>2017-01-29</td><td>4</td><td>9</td></tr>",
                            "<tr><td>marton</td><td>Kalacsi Márton</td><td>2016-04-27</td><td>2016-05-04</td><td>3</td><td>NULL</td></tr>",
                            "<tr><td>marton</td><td>Kalacsi Márton</td><td>2016-05-05</td><td>2016-05-10</td><td>1</td><td>3</td></tr>",
                            "<tr><td>marton</td><td>Kalacsi Márton</td><td>2016-08-12</td><td>2016-08-17</td><td>2</td><td>4</td></tr>",
                            "<tr><td>marton</td><td>Kalacsi Márton</td><td>2016-06-06</td><td>2016-06-08</td><td>3</td><td>6</td></tr>",
                            "<tr><td>marton</td><td>Kalacsi Márton</td><td>2016-06-22</td><td>2016-06-29</td><td>2</td><td>6</td></tr>",
                            "<tr><td>marton</td><td>Kalacsi Márton</td><td>2016-09-10</td><td>2016-09-12</td><td>2</td><td>7</td></tr>",
                            "<tr><td>marton</td><td>Kalacsi Márton</td><td>2017-03-02</td><td>2017-03-03</td><td>2</td><td>7</td></tr>",
                            "<tr><td>MATEK</td><td>Koza Máté</td><td>2016-08-17</td><td>2016-08-21</td><td>4</td><td>NULL</td></tr>",
                            "<tr><td>MATEK</td><td>Koza Máté</td><td>2016-10-01</td><td>2016-10-04</td><td>2</td><td>4</td></tr>",
                            "<tr><td>MATEK</td><td>Koza Máté</td><td>2017-01-16</td><td>2017-01-22</td><td>2</td><td>6</td></tr>",
                            "<tr><td>matyas2</td><td>Botka Mátyás</td><td>2016-07-13</td><td>2016-07-16</td><td>2</td><td>NULL</td></tr>",
                            "<tr><td>matyas2</td><td>Botka Mátyás</td><td>2016-12-09</td><td>2016-12-13</td><td>3</td><td>2</td></tr>",
                            "<tr><td>MATYASS</td><td>Szilágyi Mátyás</td><td>2016-05-10</td><td>2016-05-16</td><td>2</td><td>NULL</td></tr>",
                            "<tr><td>MATYASS</td><td>Szilágyi Mátyás</td><td>2016-07-23</td><td>2016-07-25</td><td>3</td><td>2</td></tr>",
                            "<tr><td>MATYASS</td><td>Szilágyi Mátyás</td><td>2016-06-02</td><td>2016-06-08</td><td>1</td><td>5</td></tr>",
                            "<tr><td>MATYASS</td><td>Szilágyi Mátyás</td><td>2016-10-09</td><td>2016-10-15</td><td>3</td><td>6</td></tr>",
                            "<tr><td>MATYASS</td><td>Szilágyi Mátyás</td><td>2016-10-24</td><td>2016-10-31</td><td>1</td><td>7</td></tr>",
                            "<tr><td>MATYASS</td><td>Szilágyi Mátyás</td><td>2016-10-30</td><td>2016-11-04</td><td>3</td><td>5</td></tr>",
                            "<tr><td>MATYASS</td><td>Szilágyi Mátyás</td><td>2016-12-20</td><td>2016-12-25</td><td>2</td><td>7</td></tr>",
                            "<tr><td>MATYASS</td><td>Szilágyi Mátyás</td><td>2017-01-09</td><td>2017-01-13</td><td>2</td><td>6</td></tr>",
                            "<tr><td>MIHALYJ</td><td>Juhász Mihály</td><td>2016-08-29</td><td>2016-09-03</td><td>1</td><td>NULL</td></tr>",
                            "<tr><td>MIHALYJ</td><td>Juhász Mihály</td><td>2016-05-30</td><td>2016-06-01</td><td>2</td><td>1</td></tr>",
                            "<tr><td>MIHALYJ</td><td>Juhász Mihály</td><td>2016-06-27</td><td>2016-07-01</td><td>1</td><td>3</td></tr>",
                            "<tr><td>MIHALYJ</td><td>Juhász Mihály</td><td>2016-11-01</td><td>2016-11-04</td><td>3</td><td>4</td></tr>",
                            "<tr><td>MIHALYJ</td><td>Juhász Mihály</td><td>2017-02-06</td><td>2017-02-12</td><td>4</td><td>6</td></tr>",
                            "<tr><td>miklos2</td><td>Gondos Miklós</td><td>2016-04-19</td><td>2016-04-21</td><td>3</td><td>NULL</td></tr>",
                            "<tr><td>miklos2</td><td>Gondos Miklós</td><td>2016-10-08</td><td>2016-10-09</td><td>1</td><td>3</td></tr>",
                            "<tr><td>miklos2</td><td>Gondos Miklós</td><td>2016-11-16</td><td>2016-11-18</td><td>3</td><td>4</td></tr>",
                            "<tr><td>MIKLOSB</td><td>Balla Miklós</td><td>2016-07-18</td><td>2016-07-21</td><td>2</td><td>NULL</td></tr>",
                            "<tr><td>MIKLOSB</td><td>Balla Miklós</td><td>2016-06-26</td><td>2016-06-30</td><td>2</td><td>2</td></tr>",
                            "<tr><td>MIKLOSB</td><td>Balla Miklós</td><td>2016-12-05</td><td>2016-12-10</td><td>2</td><td>4</td></tr>",
                            "<tr><td>MONIKAM</td><td>Mohos Mónika</td><td>2016-04-29</td><td>2016-05-01</td><td>2</td><td>NULL</td></tr>",
                            "<tr><td>MONIKAM</td><td>Mohos Mónika</td><td>2016-07-23</td><td>2016-07-30</td><td>1</td><td>2</td></tr>",
                            "<tr><td>MONIKAM</td><td>Mohos Mónika</td><td>2016-11-09</td><td>2016-11-16</td><td>2</td><td>3</td></tr>",
                            "<tr><td>MONIKAM</td><td>Mohos Mónika</td><td>2017-01-17</td><td>2017-01-24</td><td>1</td><td>5</td></tr>",
                            "<tr><td>MONIKAM</td><td>Mohos Mónika</td><td>2017-02-06</td><td>2017-02-09</td><td>2</td><td>4</td></tr>",
                            "<tr><td>MONIKAM</td><td>Mohos Mónika</td><td>2017-02-23</td><td>2017-02-26</td><td>2</td><td>5</td></tr>",
                            "<tr><td>NANDORF</td><td>Fő Nándor</td><td>2016-04-06</td><td>2016-04-10</td><td>3</td><td>NULL</td></tr>",
                            "<tr><td>NANDORF</td><td>Fő Nándor</td><td>2016-11-03</td><td>2016-11-04</td><td>3</td><td>3</td></tr>",
                            "<tr><td>NANDORF</td><td>Fő Nándor</td><td>2017-02-05</td><td>2017-02-08</td><td>3</td><td>6</td></tr>",
                            "<tr><td>nikolett3</td><td>Horváth Nikolett</td><td>2016-05-24</td><td>2016-05-29</td><td>2</td><td>NULL</td></tr>",
                            "<tr><td>nikolett3</td><td>Horváth Nikolett</td><td>2016-06-03</td><td>2016-06-09</td><td>1</td><td>2</td></tr>",
                            "<tr><td>nikolett3</td><td>Horváth Nikolett</td><td>2016-06-22</td><td>2016-06-24</td><td>1</td><td>3</td></tr>",
                            "<tr><td>nikolett3</td><td>Horváth Nikolett</td><td>2016-10-22</td><td>2016-10-29</td><td>3</td><td>4</td></tr>",
                            "<tr><td>nikoletta4</td><td>Kő Nikoletta</td><td>2016-04-08</td><td>2016-04-10</td><td>2</td><td>NULL</td></tr>",
                            "<tr><td>nikoletta4</td><td>Kő Nikoletta</td><td>2016-05-09</td><td>2016-05-15</td><td>2</td><td>2</td></tr>",
                            "<tr><td>nikoletta4</td><td>Kő Nikoletta</td><td>2016-08-13</td><td>2016-08-17</td><td>3</td><td>4</td></tr>",
                            "<tr><td>nikoletta4</td><td>Kő Nikoletta</td><td>2016-05-30</td><td>2016-06-03</td><td>3</td><td>7</td></tr>",
                            "<tr><td>nikoletta4</td><td>Kő Nikoletta</td><td>2016-06-29</td><td>2016-07-06</td><td>2</td><td>8</td></tr>",
                            "<tr><td>nikoletta4</td><td>Kő Nikoletta</td><td>2016-12-08</td><td>2016-12-10</td><td>5</td><td>8</td></tr>",
                            "<tr><td>nikoletta4</td><td>Kő Nikoletta</td><td>2017-02-01</td><td>2017-02-04</td><td>2</td><td>10</td></tr>",
                            "<tr><td>NIKOLETTAT</td><td>Tatár Nikoletta</td><td>2016-05-22</td><td>2016-05-23</td><td>4</td><td>NULL</td></tr>",
                            "<tr><td>NIKOLETTAT</td><td>Tatár Nikoletta</td><td>2016-07-27</td><td>2016-07-29</td><td>4</td><td>4</td></tr>",
                            "<tr><td>NIKOLETTAT</td><td>Tatár Nikoletta</td><td>2016-06-07</td><td>2016-06-09</td><td>2</td><td>8</td></tr>",
                            "<tr><td>NIKOLETTAT</td><td>Tatár Nikoletta</td><td>2016-09-21</td><td>2016-09-26</td><td>2</td><td>10</td></tr>",
                            "<tr><td>norbert</td><td>Szűcs Norbert</td><td>2016-07-08</td><td>2016-07-13</td><td>1</td><td>NULL</td></tr>",
                            "<tr><td>norbert</td><td>Szűcs Norbert</td><td>2016-11-16</td><td>2016-11-23</td><td>3</td><td>1</td></tr>",
                            "<tr><td>norbert</td><td>Szűcs Norbert</td><td>2016-12-15</td><td>2016-12-18</td><td>2</td><td>4</td></tr>",
                            "<tr><td>norbert</td><td>Szűcs Norbert</td><td>2017-02-13</td><td>2017-02-15</td><td>3</td><td>6</td></tr>",
                            "<tr><td>norbert</td><td>Szűcs Norbert</td><td>2017-02-26</td><td>2017-03-01</td><td>1</td><td>8</td></tr>",
                            "<tr><td>norbert2</td><td>Hegedűs Norbert</td><td>2016-04-19</td><td>2016-04-26</td><td>1</td><td>NULL</td></tr>",
                            "<tr><td>norbert2</td><td>Hegedűs Norbert</td><td>2016-05-09</td><td>2016-05-10</td><td>2</td><td>1</td></tr>",
                            "<tr><td>norbert2</td><td>Hegedűs Norbert</td><td>2016-07-27</td><td>2016-08-02</td><td>2</td><td>3</td></tr>",
                            "<tr><td>norbert2</td><td>Hegedűs Norbert</td><td>2016-08-16</td><td>2016-08-19</td><td>1</td><td>5</td></tr>",
                            "<tr><td>norbert2</td><td>Hegedűs Norbert</td><td>2016-07-13</td><td>2016-07-15</td><td>3</td><td>5</td></tr>",
                            "<tr><td>norbert2</td><td>Hegedűs Norbert</td><td>2016-10-31</td><td>2016-11-07</td><td>2</td><td>6</td></tr>",
                            "<tr><td>norbert2</td><td>Hegedűs Norbert</td><td>2017-01-29</td><td>2017-02-05</td><td>3</td><td>6</td></tr>",
                            "<tr><td>norbert4</td><td>Mile Norbert</td><td>2016-04-10</td><td>2016-04-13</td><td>2</td><td>NULL</td></tr>",
                            "<tr><td>norbert4</td><td>Mile Norbert</td><td>2016-05-29</td><td>2016-06-03</td><td>3</td><td>2</td></tr>",
                            "<tr><td>norbert4</td><td>Mile Norbert</td><td>2016-06-16</td><td>2016-06-17</td><td>4</td><td>5</td></tr>",
                            "<tr><td>norbert4</td><td>Mile Norbert</td><td>2016-06-16</td><td>2016-06-21</td><td>3</td><td>9</td></tr>",
                            "<tr><td>norbert4</td><td>Mile Norbert</td><td>2016-10-05</td><td>2016-10-10</td><td>3</td><td>10</td></tr>",
                            "<tr><td>norbert4</td><td>Mile Norbert</td><td>2016-10-28</td><td>2016-10-31</td><td>3</td><td>10</td></tr>",
                            "<tr><td>norbert4</td><td>Mile Norbert</td><td>2016-11-30</td><td>2016-12-06</td><td>3</td><td>9</td></tr>",
                            "<tr><td>norbert4</td><td>Mile Norbert</td><td>2017-02-16</td><td>2017-02-17</td><td>1</td><td>9</td></tr>",
                            "<tr><td>norbert4</td><td>Mile Norbert</td><td>2017-03-03</td><td>2017-03-07</td><td>2</td><td>7</td></tr>",
                            "<tr><td>norbert5</td><td>Béres Norbert</td><td>2016-08-10</td><td>2016-08-11</td><td>2</td><td>NULL</td></tr>",
                            "<tr><td>norbert5</td><td>Béres Norbert</td><td>2016-06-24</td><td>2016-06-28</td><td>2</td><td>2</td></tr>",
                            "<tr><td>norbert5</td><td>Béres Norbert</td><td>2016-11-05</td><td>2016-11-07</td><td>1</td><td>4</td></tr>",
                            "<tr><td>pal</td><td>Barabás Pál</td><td>2016-08-14</td><td>2016-08-18</td><td>3</td><td>NULL</td></tr>",
                            "<tr><td>pal</td><td>Barabás Pál</td><td>2016-09-16</td><td>2016-09-19</td><td>2</td><td>3</td></tr>",
                            "<tr><td>pal</td><td>Barabás Pál</td><td>2016-12-17</td><td>2016-12-23</td><td>3</td><td>5</td></tr>",
                            "<tr><td>pal</td><td>Barabás Pál</td><td>2017-02-13</td><td>2017-02-19</td><td>3</td><td>8</td></tr>",
                            "<tr><td>pal</td><td>Barabás Pál</td><td>2017-02-20</td><td>2017-02-22</td><td>3</td><td>8</td></tr>",
                            "<tr><td>peter1</td><td>Kozma Péter</td><td>2016-07-14</td><td>2016-07-18</td><td>3</td><td>NULL</td></tr>",
                            "<tr><td>peter1</td><td>Kozma Péter</td><td>2016-10-26</td><td>2016-11-01</td><td>3</td><td>3</td></tr>",
                            "<tr><td>peter1</td><td>Kozma Péter</td><td>2017-02-23</td><td>2017-02-26</td><td>3</td><td>6</td></tr>",
                            "<tr><td>peter1</td><td>Kozma Péter</td><td>2017-02-28</td><td>2017-03-05</td><td>3</td><td>9</td></tr>",
                            "<tr><td>peter2</td><td>Bozsó Péter</td><td>2016-07-03</td><td>2016-07-08</td><td>2</td><td>NULL</td></tr>",
                            "<tr><td>peter2</td><td>Bozsó Péter</td><td>2016-10-10</td><td>2016-10-16</td><td>2</td><td>2</td></tr>",
                            "<tr><td>peter2</td><td>Bozsó Péter</td><td>2016-11-01</td><td>2016-11-02</td><td>2</td><td>4</td></tr>",
                            "<tr><td>peter2</td><td>Bozsó Péter</td><td>2016-11-15</td><td>2016-11-21</td><td>3</td><td>6</td></tr>",
                            "<tr><td>peter3</td><td>Szalai Péter</td><td>2016-07-27</td><td>2016-07-31</td><td>4</td><td>NULL</td></tr>",
                            "<tr><td>peter3</td><td>Szalai Péter</td><td>2016-06-30</td><td>2016-07-05</td><td>3</td><td>4</td></tr>",
                            "<tr><td>peter3</td><td>Szalai Péter</td><td>2016-10-30</td><td>2016-11-06</td><td>2</td><td>7</td></tr>",
                            "<tr><td>peter3</td><td>Szalai Péter</td><td>2016-12-25</td><td>2016-12-28</td><td>1</td><td>9</td></tr>",
                            "<tr><td>peter3</td><td>Szalai Péter</td><td>2017-01-12</td><td>2017-01-17</td><td>1</td><td>6</td></tr>",
                            "<tr><td>peter3</td><td>Szalai Péter</td><td>2017-02-21</td><td>2017-02-24</td><td>2</td><td>4</td></tr>",
                            "<tr><td>peter4</td><td>Bíró Péter</td><td>2016-04-12</td><td>2016-04-15</td><td>3</td><td>NULL</td></tr>",
                            "<tr><td>peter4</td><td>Bíró Péter</td><td>2016-08-06</td><td>2016-08-13</td><td>2</td><td>3</td></tr>",
                            "<tr><td>peter4</td><td>Bíró Péter</td><td>2016-08-24</td><td>2016-08-25</td><td>3</td><td>5</td></tr>",
                            "<tr><td>peter4</td><td>Bíró Péter</td><td>2016-09-11</td><td>2016-09-17</td><td>4</td><td>8</td></tr>",
                            "<tr><td>peter4</td><td>Bíró Péter</td><td>2016-09-25</td><td>2016-09-26</td><td>3</td><td>9</td></tr>",
                            "<tr><td>peter4</td><td>Bíró Péter</td><td>2016-09-30</td><td>2016-10-06</td><td>3</td><td>10</td></tr>",
                            "<tr><td>peter4</td><td>Bíró Péter</td><td>2016-10-09</td><td>2016-10-16</td><td>3</td><td>10</td></tr>",
                            "<tr><td>peter4</td><td>Bíró Péter</td><td>2016-10-24</td><td>2016-10-25</td><td>2</td><td>9</td></tr>",
                            "<tr><td>peter4</td><td>Bíró Péter</td><td>2016-10-30</td><td>2016-11-01</td><td>3</td><td>8</td></tr>",
                            "<tr><td>peter4</td><td>Bíró Péter</td><td>2016-11-10</td><td>2016-11-17</td><td>3</td><td>8</td></tr>",
                            "<tr><td>peter4</td><td>Bíró Péter</td><td>2016-11-25</td><td>2016-11-30</td><td>3</td><td>8</td></tr>",
                            "<tr><td>peter4</td><td>Bíró Péter</td><td>2017-02-05</td><td>2017-02-09</td><td>3</td><td>9</td></tr>",
                            "<tr><td>PETERB</td><td>Berendi Péter</td><td>2016-04-06</td><td>2016-04-10</td><td>1</td><td>NULL</td></tr>",
                            "<tr><td>PETERB</td><td>Berendi Péter</td><td>2016-07-20</td><td>2016-07-24</td><td>2</td><td>1</td></tr>",
                            "<tr><td>PETERB</td><td>Berendi Péter</td><td>2016-08-16</td><td>2016-08-23</td><td>1</td><td>3</td></tr>",
                            "<tr><td>PETERB</td><td>Berendi Péter</td><td>2016-10-19</td><td>2016-10-20</td><td>4</td><td>4</td></tr>",
                            "<tr><td>PETERB</td><td>Berendi Péter</td><td>2016-11-17</td><td>2016-11-20</td><td>2</td><td>7</td></tr>",
                            "<tr><td>polla</td><td>Palágyi Polla</td><td>2016-04-17</td><td>2016-04-22</td><td>3</td><td>NULL</td></tr>",
                            "<tr><td>polla</td><td>Palágyi Polla</td><td>2016-08-14</td><td>2016-08-17</td><td>2</td><td>3</td></tr>",
                            "<tr><td>polla</td><td>Palágyi Polla</td><td>2016-08-16</td><td>2016-08-19</td><td>4</td><td>5</td></tr>",
                            "<tr><td>polla</td><td>Palágyi Polla</td><td>2016-05-28</td><td>2016-06-04</td><td>2</td><td>9</td></tr>",
                            "<tr><td>polla</td><td>Palágyi Polla</td><td>2017-01-29</td><td>2017-02-01</td><td>2</td><td>8</td></tr>",
                            "<tr><td>polla</td><td>Palágyi Polla</td><td>2017-02-11</td><td>2017-02-16</td><td>2</td><td>8</td></tr>",
                            "<tr><td>rajmond4</td><td>Rácz Rajmond</td><td>2016-09-05</td><td>2016-09-07</td><td>3</td><td>NULL</td></tr>",
                            "<tr><td>rajmond4</td><td>Rácz Rajmond</td><td>2016-10-03</td><td>2016-10-04</td><td>3</td><td>3</td></tr>",
                            "<tr><td>rajmond4</td><td>Rácz Rajmond</td><td>2016-11-08</td><td>2016-11-09</td><td>4</td><td>6</td></tr>",
                            "<tr><td>rajmond4</td><td>Rácz Rajmond</td><td>2016-11-16</td><td>2016-11-20</td><td>2</td><td>10</td></tr>",
                            "<tr><td>reka4</td><td>Szikszai Réka</td><td>2016-07-27</td><td>2016-07-31</td><td>2</td><td>NULL</td></tr>",
                            "<tr><td>reka4</td><td>Szikszai Réka</td><td>2016-08-02</td><td>2016-08-04</td><td>4</td><td>2</td></tr>",
                            "<tr><td>reka4</td><td>Szikszai Réka</td><td>2016-09-05</td><td>2016-09-07</td><td>3</td><td>6</td></tr>",
                            "<tr><td>reka4</td><td>Szikszai Réka</td><td>2016-09-30</td><td>2016-10-06</td><td>2</td><td>9</td></tr>",
                            "<tr><td>reka4</td><td>Szikszai Réka</td><td>2017-02-26</td><td>2017-03-04</td><td>2</td><td>9</td></tr>",
                            "<tr><td>RENATAK</td><td>Kardos Renáta</td><td>2016-10-27</td><td>2016-10-29</td><td>4</td><td>NULL</td></tr>",
                            "<tr><td>RENATAK</td><td>Kardos Renáta</td><td>2016-10-30</td><td>2016-10-31</td><td>1</td><td>4</td></tr>",
                            "<tr><td>RENATAK</td><td>Kardos Renáta</td><td>2016-11-23</td><td>2016-11-26</td><td>1</td><td>5</td></tr>",
                            "<tr><td>RENATAK</td><td>Kardos Renáta</td><td>2017-01-23</td><td>2017-01-24</td><td>3</td><td>6</td></tr>",
                            "<tr><td>RENATAK</td><td>Kardos Renáta</td><td>2017-02-16</td><td>2017-02-23</td><td>1</td><td>5</td></tr>",
                            "<tr><td>RENATAK</td><td>Kardos Renáta</td><td>2017-03-01</td><td>2017-03-06</td><td>1</td><td>5</td></tr>",
                            "<tr><td>RENATAS</td><td>Szirmai Renáta</td><td>2016-05-04</td><td>2016-05-11</td><td>2</td><td>NULL</td></tr>",
                            "<tr><td>RENATAS</td><td>Szirmai Renáta</td><td>2016-05-11</td><td>2016-05-16</td><td>2</td><td>2</td></tr>",
                            "<tr><td>RENATAS</td><td>Szirmai Renáta</td><td>2016-06-24</td><td>2016-06-30</td><td>5</td><td>4</td></tr>",
                            "<tr><td>RENATAS</td><td>Szirmai Renáta</td><td>2017-02-13</td><td>2017-02-17</td><td>1</td><td>9</td></tr>",
                            "<tr><td>RENATAS</td><td>Szirmai Renáta</td><td>2017-02-14</td><td>2017-02-17</td><td>2</td><td>8</td></tr>",
                            "<tr><td>robert2</td><td>Patay Róbert</td><td>2016-05-15</td><td>2016-05-18</td><td>2</td><td>NULL</td></tr>",
                            "<tr><td>robert2</td><td>Patay Róbert</td><td>2016-08-20</td><td>2016-08-27</td><td>2</td><td>2</td></tr>",
                            "<tr><td>robert2</td><td>Patay Róbert</td><td>2016-10-23</td><td>2016-10-28</td><td>3</td><td>4</td></tr>",
                            "<tr><td>robert2</td><td>Patay Róbert</td><td>2016-12-17</td><td>2016-12-22</td><td>1</td><td>7</td></tr>",
                            "<tr><td>ROBERTI</td><td>Iván Róbert</td><td>2016-08-16</td><td>2016-08-21</td><td>2</td><td>NULL</td></tr>",
                            "<tr><td>ROBERTI</td><td>Iván Róbert</td><td>2016-08-23</td><td>2016-08-25</td><td>2</td><td>2</td></tr>",
                            "<tr><td>ROBERTI</td><td>Iván Róbert</td><td>2016-07-12</td><td>2016-07-19</td><td>4</td><td>4</td></tr>",
                            "<tr><td>ROBERTI</td><td>Iván Róbert</td><td>2016-10-08</td><td>2016-10-12</td><td>3</td><td>8</td></tr>",
                            "<tr><td>ROBERTI</td><td>Iván Róbert</td><td>2016-10-09</td><td>2016-10-10</td><td>2</td><td>9</td></tr>",
                            "<tr><td>ROBERTI</td><td>Iván Róbert</td><td>2016-10-23</td><td>2016-10-29</td><td>1</td><td>9</td></tr>",
                            "<tr><td>ROBERTI</td><td>Iván Róbert</td><td>2016-10-26</td><td>2016-11-01</td><td>2</td><td>6</td></tr>",
                            "<tr><td>ROBERTI</td><td>Iván Róbert</td><td>2017-02-17</td><td>2017-02-20</td><td>2</td><td>5</td></tr>",
                            "<tr><td>ROBERTP</td><td>Pásztor Róbert</td><td>2016-07-30</td><td>2016-08-05</td><td>2</td><td>NULL</td></tr>",
                            "<tr><td>ROBERTP</td><td>Pásztor Róbert</td><td>2016-09-08</td><td>2016-09-11</td><td>4</td><td>2</td></tr>",
                            "<tr><td>roland</td><td>Tóth Roland</td><td>2016-09-04</td><td>2016-09-05</td><td>2</td><td>NULL</td></tr>",
                            "<tr><td>roland</td><td>Tóth Roland</td><td>2016-06-09</td><td>2016-06-13</td><td>3</td><td>2</td></tr>",
                            "<tr><td>roland</td><td>Tóth Roland</td><td>2016-06-22</td><td>2016-06-23</td><td>3</td><td>5</td></tr>",
                            "<tr><td>roland</td><td>Tóth Roland</td><td>2016-11-19</td><td>2016-11-24</td><td>2</td><td>8</td></tr>",
                            "<tr><td>roland1</td><td>Ferencz Roland</td><td>2016-11-05</td><td>2016-11-07</td><td>3</td><td>NULL</td></tr>",
                            "<tr><td>roland1</td><td>Ferencz Roland</td><td>2016-12-22</td><td>2016-12-29</td><td>1</td><td>3</td></tr>",
                            "<tr><td>roland1</td><td>Ferencz Roland</td><td>2017-01-04</td><td>2017-01-08</td><td>3</td><td>4</td></tr>",
                            "<tr><td>roland1</td><td>Ferencz Roland</td><td>2017-01-16</td><td>2017-01-22</td><td>2</td><td>7</td></tr>",
                            "<tr><td>roza2</td><td>Bucskó Róza</td><td>2016-09-10</td><td>2016-09-13</td><td>2</td><td>NULL</td></tr>",
                            "<tr><td>roza2</td><td>Bucskó Róza</td><td>2017-01-11</td><td>2017-01-17</td><td>3</td><td>2</td></tr>",
                            "<tr><td>roza2</td><td>Bucskó Róza</td><td>2017-02-18</td><td>2017-02-21</td><td>3</td><td>5</td></tr>",
                            "<tr><td>sandor</td><td>Karasz Sándor</td><td>2016-07-18</td><td>2016-07-24</td><td>2</td><td>NULL</td></tr>",
                            "<tr><td>sandor</td><td>Karasz Sándor</td><td>2016-08-20</td><td>2016-08-25</td><td>2</td><td>2</td></tr>",
                            "<tr><td>sandor</td><td>Karasz Sándor</td><td>2016-07-04</td><td>2016-07-06</td><td>2</td><td>4</td></tr>",
                            "<tr><td>sandor</td><td>Karasz Sándor</td><td>2016-09-19</td><td>2016-09-26</td><td>4</td><td>6</td></tr>",
                            "<tr><td>sandor3</td><td>Farkas Sándor</td><td>2016-05-12</td><td>2016-05-15</td><td>2</td><td>NULL</td></tr>",
                            "<tr><td>sandor3</td><td>Farkas Sándor</td><td>2016-05-25</td><td>2016-05-30</td><td>1</td><td>2</td></tr>",
                            "<tr><td>sandor3</td><td>Farkas Sándor</td><td>2016-10-09</td><td>2016-10-14</td><td>2</td><td>3</td></tr>",
                            "<tr><td>sandor3</td><td>Farkas Sándor</td><td>2016-10-23</td><td>2016-10-29</td><td>3</td><td>5</td></tr>",
                            "<tr><td>sandor3</td><td>Farkas Sándor</td><td>2016-11-10</td><td>2016-11-11</td><td>2</td><td>6</td></tr>",
                            "<tr><td>sandor4</td><td>Nagy Sándor</td><td>2016-10-15</td><td>2016-10-18</td><td>1</td><td>NULL</td></tr>",
                            "<tr><td>sandor4</td><td>Nagy Sándor</td><td>2016-11-29</td><td>2016-12-03</td><td>2</td><td>1</td></tr>",
                            "<tr><td>sandor4</td><td>Nagy Sándor</td><td>2016-12-03</td><td>2016-12-09</td><td>1</td><td>3</td></tr>",
                            "<tr><td>sandor4</td><td>Nagy Sándor</td><td>2017-01-22</td><td>2017-01-26</td><td>2</td><td>4</td></tr>",
                            "<tr><td>sara</td><td>Farkas Sára</td><td>2016-07-15</td><td>2016-07-17</td><td>3</td><td>NULL</td></tr>",
                            "<tr><td>sara</td><td>Farkas Sára</td><td>2016-07-24</td><td>2016-07-27</td><td>3</td><td>3</td></tr>",
                            "<tr><td>sara</td><td>Farkas Sára</td><td>2016-05-28</td><td>2016-05-30</td><td>2</td><td>6</td></tr>",
                            "<tr><td>sara</td><td>Farkas Sára</td><td>2016-05-30</td><td>2016-05-31</td><td>2</td><td>8</td></tr>",
                            "<tr><td>sara</td><td>Farkas Sára</td><td>2016-06-06</td><td>2016-06-08</td><td>2</td><td>7</td></tr>",
                            "<tr><td>sara</td><td>Farkas Sára</td><td>2016-10-06</td><td>2016-10-12</td><td>3</td><td>6</td></tr>",
                            "<tr><td>sara</td><td>Farkas Sára</td><td>2016-10-11</td><td>2016-10-14</td><td>3</td><td>7</td></tr>",
                            "<tr><td>sara</td><td>Farkas Sára</td><td>2016-10-28</td><td>2016-11-03</td><td>2</td><td>8</td></tr>",
                            "<tr><td>sara</td><td>Farkas Sára</td><td>2016-11-18</td><td>2016-11-21</td><td>3</td><td>8</td></tr>",
                            "<tr><td>sara</td><td>Farkas Sára</td><td>2016-11-23</td><td>2016-11-30</td><td>4</td><td>8</td></tr>",
                            "<tr><td>sara</td><td>Farkas Sára</td><td>2016-12-06</td><td>2016-12-10</td><td>1</td><td>9</td></tr>",
                            "<tr><td>sara</td><td>Farkas Sára</td><td>2016-12-25</td><td>2016-12-30</td><td>2</td><td>8</td></tr>",
                            "<tr><td>SEBASTIANF</td><td>Foltényi Sebastián</td><td>2016-04-06</td><td>2016-04-12</td><td>2</td><td>NULL</td></tr>",
                            "<tr><td>SEBASTIANF</td><td>Foltényi Sebastián</td><td>2016-07-17</td><td>2016-07-21</td><td>2</td><td>2</td></tr>",
                            "<tr><td>SEBASTIANF</td><td>Foltényi Sebastián</td><td>2016-07-30</td><td>2016-08-06</td><td>4</td><td>4</td></tr>",
                            "<tr><td>SEBASTIANF</td><td>Foltényi Sebastián</td><td>2016-09-14</td><td>2016-09-15</td><td>3</td><td>8</td></tr>",
                            "<tr><td>SEBASTIANF</td><td>Foltényi Sebastián</td><td>2016-09-17</td><td>2016-09-20</td><td>3</td><td>9</td></tr>",
                            "<tr><td>sebestyen</td><td>Rab Sebestyén</td><td>2016-04-07</td><td>2016-04-12</td><td>4</td><td>NULL</td></tr>",
                            "<tr><td>sebestyen</td><td>Rab Sebestyén</td><td>2016-04-26</td><td>2016-05-02</td><td>4</td><td>4</td></tr>",
                            "<tr><td>sebestyen</td><td>Rab Sebestyén</td><td>2016-06-09</td><td>2016-06-14</td><td>4</td><td>8</td></tr>",
                            "<tr><td>sebestyen</td><td>Rab Sebestyén</td><td>2016-10-26</td><td>2016-11-01</td><td>5</td><td>12</td></tr>",
                            "<tr><td>szabolcs</td><td>Bodor Szabolcs</td><td>2016-12-05</td><td>2016-12-07</td><td>2</td><td>NULL</td></tr>",
                            "<tr><td>SZABOLCSM</td><td>Miklós Szabolcs</td><td>2016-07-28</td><td>2016-08-03</td><td>2</td><td>NULL</td></tr>",
                            "<tr><td>SZABOLCSM</td><td>Miklós Szabolcs</td><td>2016-06-18</td><td>2016-06-21</td><td>3</td><td>2</td></tr>",
                            "<tr><td>SZABOLCSM</td><td>Miklós Szabolcs</td><td>2016-10-17</td><td>2016-10-19</td><td>2</td><td>5</td></tr>",
                            "<tr><td>SZABOLCSM</td><td>Miklós Szabolcs</td><td>2016-10-28</td><td>2016-11-03</td><td>3</td><td>7</td></tr>",
                            "<tr><td>SZABOLCSM</td><td>Miklós Szabolcs</td><td>2016-11-12</td><td>2016-11-13</td><td>2</td><td>8</td></tr>",
                            "<tr><td>SZABOLCSM</td><td>Miklós Szabolcs</td><td>2017-01-07</td><td>2017-01-08</td><td>2</td><td>7</td></tr>",
                            "<tr><td>SZABOLCSM</td><td>Miklós Szabolcs</td><td>2017-02-04</td><td>2017-02-05</td><td>3</td><td>7</td></tr>",
                            "<tr><td>SZILARDS</td><td>Szalai Szilárd</td><td>2016-04-23</td><td>2016-04-30</td><td>3</td><td>NULL</td></tr>",
                            "<tr><td>SZILARDS</td><td>Szalai Szilárd</td><td>2016-07-27</td><td>2016-08-03</td><td>5</td><td>3</td></tr>",
                            "<tr><td>SZILARDS</td><td>Szalai Szilárd</td><td>2016-08-28</td><td>2016-08-29</td><td>4</td><td>8</td></tr>",
                            "<tr><td>SZILARDS</td><td>Szalai Szilárd</td><td>2016-09-20</td><td>2016-09-24</td><td>3</td><td>12</td></tr>",
                            "<tr><td>SZILARDS</td><td>Szalai Szilárd</td><td>2016-10-01</td><td>2016-10-08</td><td>3</td><td>12</td></tr>",
                            "<tr><td>SZILARDS</td><td>Szalai Szilárd</td><td>2017-01-16</td><td>2017-01-19</td><td>3</td><td>10</td></tr>",
                            "<tr><td>SZILARDS</td><td>Szalai Szilárd</td><td>2017-02-08</td><td>2017-02-15</td><td>1</td><td>9</td></tr>",
                            "<tr><td>szilvia1</td><td>Tari Szilvia</td><td>2016-05-14</td><td>2016-05-21</td><td>2</td><td>NULL</td></tr>",
                            "<tr><td>szilvia1</td><td>Tari Szilvia</td><td>2016-07-25</td><td>2016-07-28</td><td>2</td><td>2</td></tr>",
                            "<tr><td>szilvia1</td><td>Tari Szilvia</td><td>2016-05-28</td><td>2016-06-03</td><td>2</td><td>4</td></tr>",
                            "<tr><td>szilvia1</td><td>Tari Szilvia</td><td>2016-10-09</td><td>2016-10-10</td><td>3</td><td>6</td></tr>",
                            "<tr><td>szilvia1</td><td>Tari Szilvia</td><td>2016-10-25</td><td>2016-10-31</td><td>3</td><td>7</td></tr>",
                            "<tr><td>szilvia1</td><td>Tari Szilvia</td><td>2016-10-27</td><td>2016-10-28</td><td>2</td><td>8</td></tr>",
                            "<tr><td>szilvia1</td><td>Tari Szilvia</td><td>2016-12-25</td><td>2016-12-29</td><td>5</td><td>8</td></tr>",
                            "<tr><td>szilvia1</td><td>Tari Szilvia</td><td>2016-12-27</td><td>2017-01-02</td><td>2</td><td>10</td></tr>",
                            "<tr><td>szilvia1</td><td>Tari Szilvia</td><td>2017-01-28</td><td>2017-02-03</td><td>2</td><td>9</td></tr>",
                            "<tr><td>tamara2</td><td>Miklós Tamara</td><td>2016-08-12</td><td>2016-08-15</td><td>3</td><td>NULL</td></tr>",
                            "<tr><td>tamara2</td><td>Miklós Tamara</td><td>2016-11-15</td><td>2016-11-18</td><td>2</td><td>3</td></tr>",
                            "<tr><td>tamas</td><td>Antal Tamás</td><td>2016-05-17</td><td>2016-05-22</td><td>2</td><td>NULL</td></tr>",
                            "<tr><td>tamas</td><td>Antal Tamás</td><td>2016-08-24</td><td>2016-08-27</td><td>3</td><td>2</td></tr>",
                            "<tr><td>tamas</td><td>Antal Tamás</td><td>2016-06-14</td><td>2016-06-21</td><td>2</td><td>5</td></tr>",
                            "<tr><td>tamas</td><td>Antal Tamás</td><td>2017-02-14</td><td>2017-02-19</td><td>3</td><td>7</td></tr>",
                            "<tr><td>TAMASF</td><td>Fényes Tamás</td><td>2016-05-03</td><td>2016-05-04</td><td>2</td><td>NULL</td></tr>",
                            "<tr><td>TAMASF</td><td>Fényes Tamás</td><td>2016-06-10</td><td>2016-06-13</td><td>3</td><td>2</td></tr>",
                            "<tr><td>TAMASF</td><td>Fényes Tamás</td><td>2016-06-28</td><td>2016-07-05</td><td>3</td><td>5</td></tr>",
                            "<tr><td>TAMASF</td><td>Fényes Tamás</td><td>2016-07-04</td><td>2016-07-10</td><td>2</td><td>8</td></tr>",
                            "<tr><td>TAMASF</td><td>Fényes Tamás</td><td>2016-09-12</td><td>2016-09-18</td><td>3</td><td>8</td></tr>",
                            "<tr><td>TAMASF</td><td>Fényes Tamás</td><td>2016-12-02</td><td>2016-12-04</td><td>1</td><td>8</td></tr>",
                            "<tr><td>TAMASF</td><td>Fényes Tamás</td><td>2016-12-10</td><td>2016-12-14</td><td>3</td><td>6</td></tr>",
                            "<tr><td>TAMASF</td><td>Fényes Tamás</td><td>2017-02-12</td><td>2017-02-17</td><td>2</td><td>7</td></tr>",
                            "<tr><td>TAMASF</td><td>Fényes Tamás</td><td>2017-02-16</td><td>2017-02-19</td><td>4</td><td>6</td></tr>",
                            "<tr><td>tibor</td><td>Gombos Tibor</td><td>2016-10-09</td><td>2016-10-13</td><td>2</td><td>NULL</td></tr>",
                            "<tr><td>tibor</td><td>Gombos Tibor</td><td>2016-11-05</td><td>2016-11-09</td><td>1</td><td>2</td></tr>",
                            "<tr><td>tibor2</td><td>Dániel Tibor</td><td>2016-10-20</td><td>2016-10-25</td><td>2</td><td>NULL</td></tr>",
                            "<tr><td>tihamer</td><td>Kazy Tihamér</td><td>2016-07-20</td><td>2016-07-24</td><td>3</td><td>NULL</td></tr>",
                            "<tr><td>tihamer</td><td>Kazy Tihamér</td><td>2016-08-18</td><td>2016-08-22</td><td>3</td><td>3</td></tr>",
                            "<tr><td>tihamer</td><td>Kazy Tihamér</td><td>2016-05-30</td><td>2016-06-05</td><td>1</td><td>6</td></tr>",
                            "<tr><td>tihamer</td><td>Kazy Tihamér</td><td>2016-06-03</td><td>2016-06-08</td><td>5</td><td>7</td></tr>",
                            "<tr><td>tihamer</td><td>Kazy Tihamér</td><td>2016-10-19</td><td>2016-10-23</td><td>2</td><td>9</td></tr>",
                            "<tr><td>tihamer</td><td>Kazy Tihamér</td><td>2016-12-25</td><td>2016-12-26</td><td>2</td><td>8</td></tr>",
                            "<tr><td>timea</td><td>Papós Tímea</td><td>2016-12-26</td><td>2016-12-27</td><td>2</td><td>NULL</td></tr>",
                            "<tr><td>timea2</td><td>Dusha Tímea</td><td>2016-08-07</td><td>2016-08-10</td><td>3</td><td>NULL</td></tr>",
                            "<tr><td>timea2</td><td>Dusha Tímea</td><td>2016-06-06</td><td>2016-06-07</td><td>2</td><td>3</td></tr>",
                            "<tr><td>timea2</td><td>Dusha Tímea</td><td>2016-10-26</td><td>2016-10-29</td><td>3</td><td>5</td></tr>",
                            "<tr><td>timea2</td><td>Dusha Tímea</td><td>2016-11-27</td><td>2016-12-01</td><td>4</td><td>8</td></tr>",
                            "<tr><td>timea2</td><td>Dusha Tímea</td><td>2016-12-14</td><td>2016-12-16</td><td>4</td><td>9</td></tr>",
                            "<tr><td>tunde</td><td>Turcsik Tünde</td><td>2016-07-14</td><td>2016-07-21</td><td>1</td><td>NULL</td></tr>",
                            "<tr><td>tunde</td><td>Turcsik Tünde</td><td>2016-09-05</td><td>2016-09-12</td><td>2</td><td>1</td></tr>",
                            "<tr><td>tunde</td><td>Turcsik Tünde</td><td>2016-06-03</td><td>2016-06-07</td><td>3</td><td>3</td></tr>",
                            "<tr><td>tunde</td><td>Turcsik Tünde</td><td>2016-06-06</td><td>2016-06-12</td><td>3</td><td>6</td></tr>",
                            "<tr><td>tunde</td><td>Turcsik Tünde</td><td>2016-10-24</td><td>2016-10-30</td><td>3</td><td>8</td></tr>",
                            "<tr><td>tunde</td><td>Turcsik Tünde</td><td>2016-11-19</td><td>2016-11-20</td><td>3</td><td>9</td></tr>",
                            "<tr><td>tunde</td><td>Turcsik Tünde</td><td>2016-12-15</td><td>2016-12-20</td><td>3</td><td>9</td></tr>",
                            "<tr><td>tunde</td><td>Turcsik Tünde</td><td>2017-01-03</td><td>2017-01-06</td><td>5</td><td>9</td></tr>",
                            "<tr><td>valentin</td><td>Feró Valentin</td><td>2016-07-24</td><td>2016-07-29</td><td>1</td><td>NULL</td></tr>",
                            "<tr><td>valentin</td><td>Feró Valentin</td><td>2016-05-24</td><td>2016-05-30</td><td>4</td><td>1</td></tr>",
                            "<tr><td>valentin</td><td>Feró Valentin</td><td>2016-10-26</td><td>2016-10-30</td><td>3</td><td>5</td></tr>",
                            "<tr><td>valentin</td><td>Feró Valentin</td><td>2016-11-11</td><td>2016-11-17</td><td>3</td><td>8</td></tr>",
                            "<tr><td>valentin</td><td>Feró Valentin</td><td>2016-12-01</td><td>2016-12-05</td><td>3</td><td>10</td></tr>",
                            "<tr><td>veronika4</td><td>Tankó Veronika</td><td>2016-07-20</td><td>2016-07-26</td><td>3</td><td>NULL</td></tr>",
                            "<tr><td>veronika4</td><td>Tankó Veronika</td><td>2016-08-16</td><td>2016-08-21</td><td>1</td><td>3</td></tr>",
                            "<tr><td>veronika4</td><td>Tankó Veronika</td><td>2016-05-30</td><td>2016-06-04</td><td>2</td><td>4</td></tr>",
                            "<tr><td>veronika4</td><td>Tankó Veronika</td><td>2016-09-26</td><td>2016-10-03</td><td>2</td><td>6</td></tr>",
                            "<tr><td>veronika4</td><td>Tankó Veronika</td><td>2017-01-19</td><td>2017-01-24</td><td>3</td><td>5</td></tr>",
                            "<tr><td>veronika4</td><td>Tankó Veronika</td><td>2017-02-03</td><td>2017-02-05</td><td>2</td><td>7</td></tr>",
                            "<tr><td>VIKTORIAU</td><td>Urbán Viktoria</td><td>2016-04-30</td><td>2016-05-03</td><td>1</td><td>NULL</td></tr>",
                            "<tr><td>VIKTORIAU</td><td>Urbán Viktoria</td><td>2016-08-03</td><td>2016-08-04</td><td>2</td><td>1</td></tr>",
                            "<tr><td>VIKTORIAU</td><td>Urbán Viktoria</td><td>2016-10-14</td><td>2016-10-15</td><td>3</td><td>3</td></tr>",
                            "<tr><td>VIKTORIAU</td><td>Urbán Viktoria</td><td>2016-10-26</td><td>2016-11-02</td><td>4</td><td>6</td></tr>",
                            "<tr><td>VIKTORK</td><td>Keresztúri Viktor</td><td>2016-05-30</td><td>2016-06-01</td><td>2</td><td>NULL</td></tr>",
                            "<tr><td>VIKTORK</td><td>Keresztúri Viktor</td><td>2016-06-06</td><td>2016-06-07</td><td>4</td><td>2</td></tr>",
                            "<tr><td>vivien3</td><td>Boros Vivien</td><td>2016-05-02</td><td>2016-05-05</td><td>3</td><td>NULL</td></tr>",
                            "<tr><td>vivien3</td><td>Boros Vivien</td><td>2016-08-13</td><td>2016-08-18</td><td>2</td><td>3</td></tr>",
                            "<tr><td>vivien3</td><td>Boros Vivien</td><td>2016-09-01</td><td>2016-09-05</td><td>2</td><td>5</td></tr>",
                            "<tr><td>vivien3</td><td>Boros Vivien</td><td>2016-10-01</td><td>2016-10-04</td><td>1</td><td>7</td></tr>",
                            "<tr><td>vivien3</td><td>Boros Vivien</td><td>2016-11-17</td><td>2016-11-20</td><td>2</td><td>5</td></tr>",
                            "<tr><td>vivien3</td><td>Boros Vivien</td><td>2016-12-17</td><td>2016-12-21</td><td>2</td><td>5</td></tr>",
                            "<tr><td>vivien3</td><td>Boros Vivien</td><td>2016-12-24</td><td>2016-12-26</td><td>3</td><td>5</td></tr>",
                            "<tr><td>zoltan</td><td>Fodor Zoltán</td><td>2016-08-24</td><td>2016-08-31</td><td>2</td><td>NULL</td></tr>",
                            "<tr><td>zoltan</td><td>Fodor Zoltán</td><td>2016-09-05</td><td>2016-09-09</td><td>3</td><td>2</td></tr>",
                            "<tr><td>zoltan4</td><td>Barna Zoltán</td><td>2016-05-12</td><td>2016-05-16</td><td>3</td><td>NULL</td></tr>",
                            "<tr><td>zoltan4</td><td>Barna Zoltán</td><td>2016-05-13</td><td>2016-05-16</td><td>3</td><td>3</td></tr>",
                            "<tr><td>zoltan4</td><td>Barna Zoltán</td><td>2016-08-15</td><td>2016-08-21</td><td>1</td><td>6</td></tr>",
                            "<tr><td>zoltan4</td><td>Barna Zoltán</td><td>2016-08-16</td><td>2016-08-23</td><td>2</td><td>7</td></tr>",
                            "<tr><td>zoltan4</td><td>Barna Zoltán</td><td>2016-06-03</td><td>2016-06-06</td><td>1</td><td>6</td></tr>",
                            "<tr><td>zoltan4</td><td>Barna Zoltán</td><td>2016-09-30</td><td>2016-10-07</td><td>3</td><td>4</td></tr>",
                            "<tr><td>zoltan4</td><td>Barna Zoltán</td><td>2016-10-21</td><td>2016-10-24</td><td>5</td><td>6</td></tr>",
                            "<tr><td>zoltan4</td><td>Barna Zoltán</td><td>2016-10-26</td><td>2016-10-30</td><td>2</td><td>9</td></tr>",
                            "<tr><td>zoltan4</td><td>Barna Zoltán</td><td>2016-10-30</td><td>2016-11-06</td><td>1</td><td>10</td></tr>",
                            "<tr><td>zoltan4</td><td>Barna Zoltán</td><td>2016-11-19</td><td>2016-11-21</td><td>2</td><td>8</td></tr>",
                            "<tr><td>zoltan4</td><td>Barna Zoltán</td><td>2016-12-29</td><td>2017-01-04</td><td>1</td><td>5</td></tr>",
                            "<tr><td>zoltan4</td><td>Barna Zoltán</td><td>2017-01-01</td><td>2017-01-02</td><td>3</td><td>4</td></tr>",
                            "<tr><td>ZOLTANP</td><td>Pintér Zoltán</td><td>2016-07-20</td><td>2016-07-25</td><td>3</td><td>NULL</td></tr>",
                            "<tr><td>ZOLTANP</td><td>Pintér Zoltán</td><td>2016-06-05</td><td>2016-06-08</td><td>2</td><td>3</td></tr>",
                            "<tr><td>ZOLTANP</td><td>Pintér Zoltán</td><td>2016-06-06</td><td>2016-06-08</td><td>2</td><td>5</td></tr>",
                            "<tr><td>ZOLTANP</td><td>Pintér Zoltán</td><td>2016-10-19</td><td>2016-10-25</td><td>2</td><td>7</td></tr>",
                            "<tr><td>ZOLTANP</td><td>Pintér Zoltán</td><td>2016-12-07</td><td>2016-12-10</td><td>3</td><td>6</td></tr>",
                            "<tr><td>ZOLTANP</td><td>Pintér Zoltán</td><td>2016-12-25</td><td>2016-12-29</td><td>2</td><td>7</td></tr>",
                            "<tr><td>ZOLTANT</td><td>Tóth Zoltán</td><td>2016-05-01</td><td>2016-05-04</td><td>3</td><td>NULL</td></tr>",
                            "<tr><td>ZOLTANT</td><td>Tóth Zoltán</td><td>2016-07-14</td><td>2016-07-15</td><td>3</td><td>3</td></tr>",
                            "<tr><td>ZOLTANT</td><td>Tóth Zoltán</td><td>2017-01-16</td><td>2017-01-20</td><td>2</td><td>6</td></tr>",
                            "<tr><td>zsofi1</td><td>Molnár Zsófi</td><td>2016-06-16</td><td>2016-06-17</td><td>2</td><td>NULL</td></tr>",
                            "<tr><td>zsofi1</td><td>Molnár Zsófi</td><td>2017-02-18</td><td>2017-02-19</td><td>3</td><td>2</td></tr>",
                            "<tr><td>zsolt1</td><td>Pulai Zsolt</td><td>2016-04-14</td><td>2016-04-17</td><td>2</td><td>NULL</td></tr>",
                            "<tr><td>zsolt1</td><td>Pulai Zsolt</td><td>2016-07-31</td><td>2016-08-02</td><td>2</td><td>2</td></tr>",
                            "<tr><td>zsolt1</td><td>Pulai Zsolt</td><td>2016-06-06</td><td>2016-06-08</td><td>2</td><td>4</td></tr>",
                            "<tr><td>zsolt1</td><td>Pulai Zsolt</td><td>2016-06-07</td><td>2016-06-10</td><td>4</td><td>6</td></tr>",
                            "<tr><td>ZSOLTJ</td><td>Józsa Zsolt</td><td>2016-04-24</td><td>2016-04-26</td><td>4</td><td>NULL</td></tr>",
                            "<tr><td>ZSOLTJ</td><td>Józsa Zsolt</td><td>2016-05-09</td><td>2016-05-11</td><td>2</td><td>4</td></tr>",
                            "<tr><td>ZSOLTJ</td><td>Józsa Zsolt</td><td>2016-07-18</td><td>2016-07-19</td><td>2</td><td>6</td></tr>",
                            "<tr><td>ZSOLTJ</td><td>Józsa Zsolt</td><td>2016-05-28</td><td>2016-06-03</td><td>1</td><td>8</td></tr>",
                            "<tr><td>ZSOLTJ</td><td>Józsa Zsolt</td><td>2016-06-17</td><td>2016-06-19</td><td>2</td><td>5</td></tr>",
                            "<tr><td>ZSOLTJ</td><td>Józsa Zsolt</td><td>2016-10-01</td><td>2016-10-06</td><td>2</td><td>5</td></tr>",
                            "<tr><td>zsuzsa</td><td>Pusztai Zsuzsanna</td><td>2016-07-24</td><td>2016-07-25</td><td>3</td><td>NULL</td></tr>",
                            "<tr><td>zsuzsa</td><td>Pusztai Zsuzsanna</td><td>2016-08-28</td><td>2016-08-30</td><td>2</td><td>3</td></tr>",
                            "<tr><td>zsuzsa</td><td>Pusztai Zsuzsanna</td><td>2016-11-28</td><td>2016-12-04</td><td>3</td><td>5</td></tr>",
                            "<tr><td>zsuzsa3</td><td>Varsányi Zsuzsa</td><td>2016-07-30</td><td>2016-08-02</td><td>2</td><td>NULL</td></tr>",
                            "<tr><td>zsuzsa3</td><td>Varsányi Zsuzsa</td><td>2016-09-09</td><td>2016-09-10</td><td>2</td><td>2</td></tr>",
                            "<tr><td>zsuzsa3</td><td>Varsányi Zsuzsa</td><td>2016-09-28</td><td>2016-10-03</td><td>2</td><td>4</td></tr>",
                            "<tr><td>zsuzsa3</td><td>Varsányi Zsuzsa</td><td>2016-10-27</td><td>2016-11-03</td><td>4</td><td>6</td></tr>",
                            "<tr><td>zsuzsanna</td><td>Barta Zsuzsanna</td><td>2016-05-17</td><td>2016-05-23</td><td>2</td><td>NULL</td></tr>",
                            "<tr><td>zsuzsanna</td><td>Barta Zsuzsanna</td><td>2016-07-12</td><td>2016-07-15</td><td>2</td><td>2</td></tr>",
                            "<tr><td>zsuzsanna</td><td>Barta Zsuzsanna</td><td>2017-01-09</td><td>2017-01-16</td><td>1</td><td>4</td></tr>",
                            "<tr><td>zsuzsanna</td><td>Barta Zsuzsanna</td><td>2017-01-16</td><td>2017-01-22</td><td>2</td><td>5</td></tr>",
                            "<tr><td>ZSUZSAV</td><td>Vajda Zsuzsa</td><td>2016-04-14</td><td>2016-04-16</td><td>2</td><td>NULL</td></tr>",
                            "<tr><td>ZSUZSAV</td><td>Vajda Zsuzsa</td><td>2016-05-28</td><td>2016-06-01</td><td>4</td><td>2</td></tr>",
                            "<tr><td>ZSUZSAV</td><td>Vajda Zsuzsa</td><td>2016-06-15</td><td>2016-06-21</td><td>3</td><td>6</td></tr>",
                            "<tr><td>ZSUZSAV</td><td>Vajda Zsuzsa</td><td>2016-09-18</td><td>2016-09-20</td><td>2</td><td>9</td></tr>",
                            "<tr><td>ZSUZSAV</td><td>Vajda Zsuzsa</td><td>2016-10-26</td><td>2016-10-28</td><td>1</td><td>9</td></tr>",
                            "<tr><td>ZSUZSAV</td><td>Vajda Zsuzsa</td><td>2016-11-21</td><td>2016-11-24</td><td>3</td><td>6</td></tr>",
                            "</table>"
                        ]
                    }
                }
            ],
            "execution_count": 4
        },
        {
            "cell_type": "markdown",
            "source": [
                "4. <span style=\"background-color: rgb(255, 255, 255); color: rgb(0, 0, 0); font-family: &quot;Open Sans&quot;, sans-serif; font-size: 14.44px;\">Készítsünk listát arról, hogy az egyes szálláshelyeken évente hány foglalás történt!&nbsp;</span> \n",
                "\n",
                "a. A lista jelenítse meg a szálláshely azonosítóját, nevét, az évet, és a foglalások számát!\n",
                "\n",
                "b. Egy új oszlopban jelenítsük meg a szálláshely eddigi éves foglalásainak számát is (az aktuálisat is beleértve). \n",
                "\n",
                "c. Az évnél a METTOL dátumot vegyük figyelembe! \n",
                "\n",
                "d. A lista ne tartalmazzon duplikált sorokat!"
            ],
            "metadata": {
                "azdata_cell_guid": "8e7fef82-8022-49a0-8255-fc2846c2134b"
            },
            "attachments": {}
        },
        {
            "cell_type": "code",
            "source": [
                ""
            ],
            "metadata": {
                "azdata_cell_guid": "36f7b396-4a1f-45e5-8720-2302537c91bc",
                "language": "sql"
            },
            "outputs": [],
            "execution_count": null
        },
        {
            "cell_type": "markdown",
            "source": [
                "5. <span style=\"background-color: rgb(255, 255, 255); color: rgb(0, 0, 0); font-family: &quot;Open Sans&quot;, sans-serif; font-size: 14.44px;\">Készítsük listát a szálláshelyekről! A lista tartalmazza a szálláshely azonosítóját, nevét, és a csillagok számát csillagszám szerint csökkenő, azon belül szállásnév szerint növekvő sorrendben!&nbsp;</span> \n",
                "\n",
                "a. Vegyünk fel két új oszlopot, amely a sorrend szerint előző szálláshely nevét, illetve azonosítóját is megjeleníti!"
            ],
            "metadata": {
                "azdata_cell_guid": "84239ca2-6b5e-49f5-9860-d44c11d6de32"
            },
            "attachments": {}
        },
        {
            "cell_type": "code",
            "source": [
                "SELECT SZALLAS_ID,\r\n",
                "       SZALLAS_NEV,\r\n",
                "       -- előző szálláshely neve\r\n",
                "       LAG(SZALLAS_NEV) OVER(ORDER BY CSILLAGOK_SZAMA DESC, SZALLAS_NEV),\r\n",
                "       -- előző szálláshely azonosítója\r\n",
                "       LAG(SZALLAS_ID) OVER(ORDER BY CSILLAGOK_SZAMA DESC, SZALLAS_NEV)\r\n",
                "\r\n",
                "\r\n",
                "\r\n",
                "FROM szallashely\r\n",
                "ORDER BY CSILLAGOK_SZAMA DESC, SZALLAS_NEV\r\n",
                ""
            ],
            "metadata": {
                "azdata_cell_guid": "06d9a62b-9430-424b-a135-d80e675f0eb3",
                "language": "sql"
            },
            "outputs": [],
            "execution_count": null
        },
        {
            "cell_type": "markdown",
            "source": [
                "6. <span style=\"background-color: rgb(255, 255, 255); color: rgb(0, 0, 0); font-family: &quot;Open Sans&quot;, sans-serif; font-size: 14.44px;\">Listázzuk azon termékeket, amelyekből az átlagosnál kevesebb van raktáron!&nbsp;</span> \n",
                "\n",
                "a. Csak a termék kódja és megnevezése jelenjen meg!"
            ],
            "metadata": {
                "azdata_cell_guid": "b0d15045-3c43-4f3a-b8d4-76b4f24e5546"
            },
            "attachments": {}
        },
        {
            "cell_type": "code",
            "source": [
                "SELECT\r\n",
                "FROM Termek\r\n",
                "WHERE KESZLET <\r\n",
                "{\r\n",
                "    SELECT AVG(KESZLET)\r\n",
                "    FROM Termek\r\n",
                "}"
            ],
            "metadata": {
                "azdata_cell_guid": "f2b7400d-1255-40ac-9250-4d57f9da5357",
                "language": "sql"
            },
            "outputs": [],
            "execution_count": null
        },
        {
            "cell_type": "markdown",
            "source": [
                "7. <span style=\"background-color: rgb(255, 255, 255); color: rgb(0, 0, 0); font-family: &quot;Open Sans&quot;, sans-serif; font-size: 14.44px;\">Listázzuk azon ügyfeleket, akik még nem fizettek bankkártyával!&nbsp;</span> \n",
                "\n",
                "a. Csak az ügyfelek neve jelenjen meg!"
            ],
            "metadata": {
                "azdata_cell_guid": "7ebf7ddd-1bd2-4246-815a-be8ae37e3b5b"
            },
            "attachments": {}
        },
        {
            "cell_type": "code",
            "source": [
                "SELECT NEV\r\n",
                "FROM Ugyfel\r\n",
                "WHERE [LOGIN] NOT IN\r\n",
                "(\r\n",
                "    -- bankkártyával fizető ügyfelek login-jai\r\n",
                "    SELECT [LOGIN] -- nem lehet benne NULL\r\n",
                "    FROM Rendeles\r\n",
                "    WHERE FIZ_MOD = 'bankkártya'\r\n",
                ")\r\n",
                "\r\n",
                ""
            ],
            "metadata": {
                "azdata_cell_guid": "84b7e896-f36e-4985-88f5-e0f706494fef",
                "language": "sql"
            },
            "outputs": [
                {
                    "output_type": "display_data",
                    "data": {
                        "text/html": "(9 rows affected)"
                    },
                    "metadata": {}
                },
                {
                    "output_type": "display_data",
                    "data": {
                        "text/html": "Total execution time: 00:00:00.057"
                    },
                    "metadata": {}
                },
                {
                    "output_type": "execute_result",
                    "metadata": {},
                    "execution_count": 5,
                    "data": {
                        "application/vnd.dataresource+json": {
                            "schema": {
                                "fields": [
                                    {
                                        "name": "NEV"
                                    }
                                ]
                            },
                            "data": [
                                {
                                    "NEV": "Biró Alexander"
                                },
                                {
                                    "NEV": "Csóti Attila"
                                },
                                {
                                    "NEV": "Bagi Beáta"
                                },
                                {
                                    "NEV": "Mór Ottó"
                                },
                                {
                                    "NEV": "Molnár Eszter"
                                },
                                {
                                    "NEV": "Kiss Anita"
                                },
                                {
                                    "NEV": "Kispál Márk"
                                },
                                {
                                    "NEV": "Nagy Péter"
                                },
                                {
                                    "NEV": "Szűcs Norbert"
                                }
                            ]
                        },
                        "text/html": [
                            "<table>",
                            "<tr><th>NEV</th></tr>",
                            "<tr><td>Biró Alexander</td></tr>",
                            "<tr><td>Csóti Attila</td></tr>",
                            "<tr><td>Bagi Beáta</td></tr>",
                            "<tr><td>Mór Ottó</td></tr>",
                            "<tr><td>Molnár Eszter</td></tr>",
                            "<tr><td>Kiss Anita</td></tr>",
                            "<tr><td>Kispál Márk</td></tr>",
                            "<tr><td>Nagy Péter</td></tr>",
                            "<tr><td>Szűcs Norbert</td></tr>",
                            "</table>"
                        ]
                    }
                }
            ],
            "execution_count": 5
        },
        {
            "cell_type": "markdown",
            "source": [
                "8. <span style=\"background-color: rgb(255, 255, 255); color: rgb(0, 0, 0); font-family: &quot;Open Sans&quot;, sans-serif; font-size: 14.44px;\">Mennyibe kerül a második legnagyobb listaárú termék?</span>"
            ],
            "metadata": {
                "azdata_cell_guid": "27a3d3dc-eafb-4a5e-b103-9f465b9eda8f"
            },
            "attachments": {}
        },
        {
            "cell_type": "code",
            "source": [
                ""
            ],
            "metadata": {
                "azdata_cell_guid": "f09edb3f-649b-4a96-958e-9e12774ae8b7",
                "language": "sql"
            },
            "outputs": [],
            "execution_count": null
        },
        {
            "cell_type": "markdown",
            "source": [
                "9. <span style=\"background-color: rgb(255, 255, 255); color: rgb(0, 0, 0); font-family: &quot;Open Sans&quot;, sans-serif; font-size: 14.44px;\">Melyik raktár(ak)ban van az a termék, amelyből a legnagyobb készlet van?&nbsp;</span> \n",
                "\n",
                "a. Csak a raktár(ak) neve jelenjen meg!"
            ],
            "metadata": {
                "azdata_cell_guid": "f12a331a-0e26-4d3d-9c68-812316286577"
            },
            "attachments": {}
        },
        {
            "cell_type": "code",
            "source": [
                ""
            ],
            "metadata": {
                "azdata_cell_guid": "10a77fc9-e61a-46fc-a401-59720d82bc50",
                "language": "sql"
            },
            "outputs": [],
            "execution_count": null
        },
        {
            "cell_type": "markdown",
            "source": [
                "10. <span style=\"background-color: rgb(255, 255, 255); color: rgb(0, 0, 0); font-family: &quot;Open Sans&quot;, sans-serif; font-size: 14.44px;\">Melyek azok a termékek, amelyek listaára nagyobb, mint bármelyik olyan terméké, amelynek nevében az Ajándék szó szerepel?&nbsp;</span> \n",
                "\n",
                "a. A termékek kódját és nevét is jelenítsük meg!"
            ],
            "metadata": {
                "azdata_cell_guid": "9229e2b6-e200-4499-b95b-2d0222149831"
            },
            "attachments": {}
        },
        {
            "cell_type": "code",
            "source": [
                ""
            ],
            "metadata": {
                "azdata_cell_guid": "8b49ed67-28c6-4880-82a8-cd369e5bba99",
                "language": "sql"
            },
            "outputs": [],
            "execution_count": null
        },
        {
            "cell_type": "markdown",
            "source": [
                "11. <span style=\"background-color: rgb(255, 255, 255); color: rgb(0, 0, 0); font-family: &quot;Open Sans&quot;, sans-serif; font-size: 14.44px;\">Melyik hónapokban adtak le az ügyfelek több rendelést, mint januárban?&nbsp;</span> \n",
                "\n",
                "a. Elég a hónapok sorszámait megjeleníteni. \n",
                "\n",
                "b. A listát rendezzük a hónapok száma szerint növekvő sorrendbe!"
            ],
            "metadata": {
                "azdata_cell_guid": "7f5fc7a7-3b6a-4d89-b292-490830afb0c6"
            },
            "attachments": {}
        },
        {
            "cell_type": "code",
            "source": [
                ""
            ],
            "metadata": {
                "azdata_cell_guid": "4a9ece40-f782-4c0d-92cd-9c21969067ed",
                "language": "sql"
            },
            "outputs": [],
            "execution_count": null
        },
        {
            "cell_type": "markdown",
            "source": [
                "12. <span style=\"background-color: rgb(255, 255, 255); color: rgb(0, 0, 0); font-family: &quot;Open Sans&quot;, sans-serif; font-size: 14.44px;\">Melyek azok a termékek, amelyek listaára az átlagostól max. 20%-kal tér el?&nbsp;</span> \n",
                "\n",
                "a. A termék kódját és nevét is jelenítsük meg!"
            ],
            "metadata": {
                "azdata_cell_guid": "5a483c52-bb98-44bb-bd03-1146d4b0abfa"
            },
            "attachments": {}
        },
        {
            "cell_type": "code",
            "source": [
                ""
            ],
            "metadata": {
                "azdata_cell_guid": "dd6e89bd-08f9-4b18-8460-03c45b503df0",
                "language": "sql"
            },
            "outputs": [],
            "execution_count": null
        },
        {
            "cell_type": "markdown",
            "source": [
                "13. <span style=\"background-color: rgb(255, 255, 255); color: rgb(0, 0, 0); font-family: &quot;Open Sans&quot;, sans-serif; font-size: 14.44px;\">Készítsünk listát (sorszámonként) az egyes rendelések teljes összegéről!&nbsp;</span> \n",
                "\n",
                "a. Szűrjünk azon tételekre, ahol ez az érték nagyobb, mint Viktor Éva rendeléseinek teljes összege! \n",
                "\n",
                "b. A teljes összeg oszlopot nevezzük el értelemszerűen!"
            ],
            "metadata": {
                "azdata_cell_guid": "85d5cb66-96c6-42de-99cf-85ab22d08548"
            },
            "attachments": {}
        },
        {
            "cell_type": "code",
            "source": [
                ""
            ],
            "metadata": {
                "azdata_cell_guid": "cb07d64b-0eaa-498b-b4d2-0b46971e95ce",
                "language": "sql"
            },
            "outputs": [],
            "execution_count": null
        },
        {
            "cell_type": "markdown",
            "source": [
                "14. <span style=\"background-color: rgb(255, 255, 255); color: rgb(0, 0, 0); font-family: &quot;Open Sans&quot;, sans-serif; font-size: 14.44px;\">Listázzuk azokat a termékkategóriákat, amelyből 2017 januárban nem történt rendelés!&nbsp;</span> \n",
                "\n",
                "a. Elég a kategóriák nevét megjeleníteni!"
            ],
            "metadata": {
                "azdata_cell_guid": "f95ad665-a807-4099-bf06-64ed974f866f"
            },
            "attachments": {}
        },
        {
            "cell_type": "code",
            "source": [
                "-- NOT EXIST\r\n",
                "SELECT tk.KAT_NEV\r\n",
                "FROM Termekkategoria tk\r\n",
                "WHERE NOT EXISTS\r\n",
                "(\r\n",
                "    -- 2017 januári rendelés ugyaneből a kategóriából\r\n",
                "    SELECT *\r\n",
                "    FROM Rendeles r JOIN Rendeles_tetel rt ON r.SORSZAM = rt.SORSZAM\r\n",
                "                    JOIN Termek t ON rt.TERMEKKOD = t.TERMEKKOD\r\n",
                "    WHERE YEAR(r.REND_DATUM) = 2017 AND\r\n",
                "          MONTH(r.REND_DATUM) = 1 AND\r\n",
                "          tk.KAT_ID = t.KAT_ID \r\n",
                ")"
            ],
            "metadata": {
                "azdata_cell_guid": "74c7ec8a-ae4a-4d03-b1c4-e8f6bb1be12c",
                "language": "sql"
            },
            "outputs": [],
            "execution_count": null
        },
        {
            "cell_type": "markdown",
            "source": [
                "15. <span style=\"background-color: rgb(255, 255, 255); color: rgb(0, 0, 0); font-family: &quot;Open Sans&quot;, sans-serif; font-size: 14.44px;\">Listázzuk azon rendelési tételeket, amelynek értéke nagyobb, mint a legdrágább termék listaára azon termékek közül, amelyek szülő kategóriája a ruha!</span>"
            ],
            "metadata": {
                "azdata_cell_guid": "93552388-ffec-49ff-99e5-ae8dc8072601"
            },
            "attachments": {}
        },
        {
            "cell_type": "code",
            "source": [
                ""
            ],
            "metadata": {
                "azdata_cell_guid": "0e7f547f-7d96-4611-b1c2-0fa84a581e79",
                "language": "sql"
            },
            "outputs": [],
            "execution_count": null
        },
        {
            "cell_type": "code",
            "source": [
                "-- ZH minta 2\r\n",
                "SELECT *, YEAR(GETDATE()) - YEAR(SZUL_DAT)\r\n",
                "-- DATEDIFF(YEAR, SZUL_DAT, GETDATE()) - IIF(DATEADD(YEAR, DATEDIFF(YEAR, SZUL_DAT, GETDATE()), SZUL_DAT) > GETDATE(), 1. 0),\r\n",
                "\r\n",
                "-- előző 2, aktuális és köv. 2 vendég életkorának átlaga\r\n",
                "   AVG(DATEDIFF(YEAR, SZUL_DAT, GETDATE()) - IIF(DATEADD(YEAR, DATEDIFF(YEAR, SZUL_DAT, GETDATE()), SZUL_DAT) > GETDATE(), 1. 0) OVER(ORDER BY SZUL_DAT)\r\n",
                "   ROWS BETWEEN 2 PRECEDING AND 2 FOLLOWING\r\n",
                ")\r\n",
                "\r\n",
                "FROM Vendeg\r\n",
                "ORDER BY YEAR(GETDATE()) - YEAR(SZUL_DAT) ASC"
            ],
            "metadata": {
                "azdata_cell_guid": "ec0bb6f2-8fd3-4b54-8795-9cbc78098867",
                "language": "sql",
                "tags": []
            },
            "outputs": [
                {
                    "output_type": "display_data",
                    "data": {
                        "text/html": "(196 rows affected)"
                    },
                    "metadata": {}
                },
                {
                    "output_type": "display_data",
                    "data": {
                        "text/html": "Total execution time: 00:00:00.057"
                    },
                    "metadata": {}
                },
                {
                    "output_type": "execute_result",
                    "metadata": {},
                    "execution_count": 8,
                    "data": {
                        "application/vnd.dataresource+json": {
                            "schema": {
                                "fields": [
                                    {
                                        "name": "USERNEV"
                                    },
                                    {
                                        "name": "NEV"
                                    },
                                    {
                                        "name": "EMAIL"
                                    },
                                    {
                                        "name": "SZAML_CIM"
                                    },
                                    {
                                        "name": "SZUL_DAT"
                                    },
                                    {
                                        "name": "(No column name)"
                                    }
                                ]
                            },
                            "data": [
                                {
                                    "USERNEV": "eszter2",
                                    "NEV": "Balogh Eszter",
                                    "EMAIL": "eszter.balogh@mail.hu",
                                    "SZAML_CIM": "6760 Kistelek Kossuth utca 11.",
                                    "SZUL_DAT": "1998-01-31",
                                    "(No column name)": "27"
                                },
                                {
                                    "USERNEV": "balint2",
                                    "NEV": "Vukasinovity Bálint",
                                    "EMAIL": "balint2@gmail.com",
                                    "SZAML_CIM": "2330 Dunaharaszti Béke utca 7.",
                                    "SZUL_DAT": "1997-09-03",
                                    "(No column name)": "28"
                                },
                                {
                                    "USERNEV": "andras2",
                                    "NEV": "Tóth András",
                                    "EMAIL": "andrás.tóth@mail.hu",
                                    "SZAML_CIM": "4071 Egyek Petőfi utca 30.",
                                    "SZUL_DAT": "1997-10-31",
                                    "(No column name)": "28"
                                },
                                {
                                    "USERNEV": "andras41",
                                    "NEV": "Komjáti András",
                                    "EMAIL": "andras41@gmail.com",
                                    "SZAML_CIM": "5065 Nagykörű Kossuth út 24.",
                                    "SZUL_DAT": "1997-10-25",
                                    "(No column name)": "28"
                                },
                                {
                                    "USERNEV": "ANDRASE",
                                    "NEV": "Erdei András",
                                    "EMAIL": "ANDRASE@gmail.com",
                                    "SZAML_CIM": "5071 Besenyszög Szolnoki út 8.",
                                    "SZUL_DAT": "1997-05-29",
                                    "(No column name)": "28"
                                },
                                {
                                    "USERNEV": "istvan1",
                                    "NEV": "Vizi István",
                                    "EMAIL": "istván.vizi@mail.hu",
                                    "SZAML_CIM": "7086 Ozora Rákóczi utca 1.",
                                    "SZUL_DAT": "1997-12-01",
                                    "(No column name)": "28"
                                },
                                {
                                    "USERNEV": "JUDITH",
                                    "NEV": "Hídasi Judit",
                                    "EMAIL": "JUDITH@gmail.com",
                                    "SZAML_CIM": "2100 Gödöllő Fő út 169.",
                                    "SZUL_DAT": "1997-07-12",
                                    "(No column name)": "28"
                                },
                                {
                                    "USERNEV": "lala",
                                    "NEV": "Nagymihály Lajos",
                                    "EMAIL": "lajos.nagymihály@mail.hu",
                                    "SZAML_CIM": "8638 Balatonlelle Rákóczi út 200.",
                                    "SZUL_DAT": "1997-02-24",
                                    "(No column name)": "28"
                                },
                                {
                                    "USERNEV": "MARKH",
                                    "NEV": "Horváth Márk",
                                    "EMAIL": "márk.horváth@mail.hu",
                                    "SZAML_CIM": "4400 Nyíregyháza Badacsonyi utca 12.",
                                    "SZUL_DAT": "1997-09-23",
                                    "(No column name)": "28"
                                },
                                {
                                    "USERNEV": "MATEK",
                                    "NEV": "Koza Máté",
                                    "EMAIL": "máté.koza@mail.hu",
                                    "SZAML_CIM": "1011 Budapest Központi telep 3.",
                                    "SZUL_DAT": "1997-02-28",
                                    "(No column name)": "28"
                                },
                                {
                                    "USERNEV": "NIKOLETTAT",
                                    "NEV": "Tatár Nikoletta",
                                    "EMAIL": "nikoletta.tatár@mail.hu",
                                    "SZAML_CIM": "1067 Budapest Győri utca 12.",
                                    "SZUL_DAT": "1997-10-19",
                                    "(No column name)": "28"
                                },
                                {
                                    "USERNEV": "sandor4",
                                    "NEV": "Nagy Sándor",
                                    "EMAIL": "sandor4@gmail.com",
                                    "SZAML_CIM": "4600 Kisvárda Fő utca 47.",
                                    "SZUL_DAT": "1997-06-11",
                                    "(No column name)": "28"
                                },
                                {
                                    "USERNEV": "TAMASF",
                                    "NEV": "Fényes Tamás",
                                    "EMAIL": "TAMASF@gmail.com",
                                    "SZAML_CIM": "9023 Győr Arany János utca 1.",
                                    "SZUL_DAT": "1997-11-06",
                                    "(No column name)": "28"
                                },
                                {
                                    "USERNEV": "timea",
                                    "NEV": "Papós Tímea",
                                    "EMAIL": "timea@gmail.com",
                                    "SZAML_CIM": "1035 Budapest  Kossuth út 77.",
                                    "SZUL_DAT": "1996-01-08",
                                    "(No column name)": "29"
                                },
                                {
                                    "USERNEV": "VIKTORIAU",
                                    "NEV": "Urbán Viktoria",
                                    "EMAIL": "viktoria.urbán@mail.hu",
                                    "SZAML_CIM": "3860 Encs Népboltsor  2.",
                                    "SZUL_DAT": "1996-05-03",
                                    "(No column name)": "29"
                                },
                                {
                                    "USERNEV": "mark",
                                    "NEV": "Kispál Márk",
                                    "EMAIL": "márk.kispál@mail.hu",
                                    "SZAML_CIM": "1086 Budapest Juhászföldi út 1.",
                                    "SZUL_DAT": "1996-01-23",
                                    "(No column name)": "29"
                                },
                                {
                                    "USERNEV": "fruzsina4",
                                    "NEV": "Frank Fruzsina",
                                    "EMAIL": "fruzsina4@gmail.com",
                                    "SZAML_CIM": "9700 Szombathely Szabadság utca 95.",
                                    "SZUL_DAT": "1996-08-16",
                                    "(No column name)": "29"
                                },
                                {
                                    "USERNEV": "andrea3",
                                    "NEV": "Szomor Andrea",
                                    "EMAIL": "andrea3@gmail.com",
                                    "SZAML_CIM": "7960 Sellye Bécsi utca 82.",
                                    "SZUL_DAT": "1996-05-10",
                                    "(No column name)": "29"
                                },
                                {
                                    "USERNEV": "balint",
                                    "NEV": "Horváth Bálint",
                                    "EMAIL": "balint@gmail.com",
                                    "SZAML_CIM": "6646 Tömörkény Endrődi Sándor utca 47.",
                                    "SZUL_DAT": "1996-03-17",
                                    "(No column name)": "29"
                                },
                                {
                                    "USERNEV": "bernadett2",
                                    "NEV": "Kovács Bernadett",
                                    "EMAIL": "bernadett.kovács@mail.hu",
                                    "SZAML_CIM": "4200 Hajdúszoboszló Fő út 122.",
                                    "SZUL_DAT": "1996-08-20",
                                    "(No column name)": "29"
                                },
                                {
                                    "USERNEV": "BELAF",
                                    "NEV": "Farkas Béla",
                                    "EMAIL": "BELAF@gmail.com",
                                    "SZAML_CIM": "5530 Vésztő Petőfi Sándor utca 3.",
                                    "SZUL_DAT": "1995-02-24",
                                    "(No column name)": "30"
                                },
                                {
                                    "USERNEV": "ATTILAO",
                                    "NEV": "Opra Attila",
                                    "EMAIL": "ATTILAO@gmail.com",
                                    "SZAML_CIM": "8283 Káptalantóti Rákóczi út 200.",
                                    "SZUL_DAT": "1995-05-08",
                                    "(No column name)": "30"
                                },
                                {
                                    "USERNEV": "dora3",
                                    "NEV": "Sarodi Dóra",
                                    "EMAIL": "dóra.sarodi@mail.hu",
                                    "SZAML_CIM": "2855 Bokod Fő út 18.",
                                    "SZUL_DAT": "1995-05-18",
                                    "(No column name)": "30"
                                },
                                {
                                    "USERNEV": "kati",
                                    "NEV": "Zatykó Katalin",
                                    "EMAIL": "katalin.zatykó@mail.hu",
                                    "SZAML_CIM": "7511 Ötvöskónyi Kossuth Lajos utca 6.",
                                    "SZUL_DAT": "1995-05-01",
                                    "(No column name)": "30"
                                },
                                {
                                    "USERNEV": "miklos2",
                                    "NEV": "Gondos Miklós",
                                    "EMAIL": "miklos2@gmail.com",
                                    "SZAML_CIM": "2100 Gödöllő Árpád utca 23.",
                                    "SZUL_DAT": "1995-10-07",
                                    "(No column name)": "30"
                                },
                                {
                                    "USERNEV": "maria1",
                                    "NEV": "Baráth Mária",
                                    "EMAIL": "mária.baráth@mail.hu",
                                    "SZAML_CIM": "1047 Budapest Posta köz 2.",
                                    "SZUL_DAT": "1995-11-19",
                                    "(No column name)": "30"
                                },
                                {
                                    "USERNEV": "beata4",
                                    "NEV": "Bagi Beáta",
                                    "EMAIL": "beáta.bagi@mail.hu",
                                    "SZAML_CIM": "8477 Tüskevár Felszabadulás utca 32.",
                                    "SZUL_DAT": "1994-03-19",
                                    "(No column name)": "31"
                                },
                                {
                                    "USERNEV": "zsuzsanna",
                                    "NEV": "Barta Zsuzsanna",
                                    "EMAIL": "zsuzsanna.barta@mail.hu",
                                    "SZAML_CIM": "4172 Biharnagybajom Dózsa György utca 37.",
                                    "SZUL_DAT": "1994-10-07",
                                    "(No column name)": "31"
                                },
                                {
                                    "USERNEV": "polla",
                                    "NEV": "Palágyi Polla",
                                    "EMAIL": "polla@gmail.com",
                                    "SZAML_CIM": "2484 Agárd Fő út 18.",
                                    "SZUL_DAT": "1994-02-04",
                                    "(No column name)": "31"
                                },
                                {
                                    "USERNEV": "rajmond4",
                                    "NEV": "Rácz Rajmond",
                                    "EMAIL": "rajmond.rácz@mail.hu",
                                    "SZAML_CIM": "9155 Lébény Petőfi utca 1/2.",
                                    "SZUL_DAT": "1993-09-25",
                                    "(No column name)": "32"
                                },
                                {
                                    "USERNEV": "tibor",
                                    "NEV": "Gombos Tibor",
                                    "EMAIL": "tibor.gombos@mail.hu",
                                    "SZAML_CIM": "7100 Szekszárd Kossuth utca 77.",
                                    "SZUL_DAT": "1993-11-28",
                                    "(No column name)": "32"
                                },
                                {
                                    "USERNEV": "eszter4",
                                    "NEV": "Fülöp Eszter",
                                    "EMAIL": "eszter.fülöp@mail.hu",
                                    "SZAML_CIM": "3643 Dédestapolcsány Kossuth Lajos utca 47/b.",
                                    "SZUL_DAT": "1993-06-28",
                                    "(No column name)": "32"
                                },
                                {
                                    "USERNEV": "andrea",
                                    "NEV": "Kiss Andrea",
                                    "EMAIL": "andrea.kiss@mail.hu",
                                    "SZAML_CIM": "1113 Budapest Petőfi Sándor utca 87.",
                                    "SZUL_DAT": "1993-03-25",
                                    "(No column name)": "32"
                                },
                                {
                                    "USERNEV": "julia",
                                    "NEV": "Tóth Júlia",
                                    "EMAIL": "julia@gmail.com",
                                    "SZAML_CIM": "5310 Kisújszállás Árpád utca 4.",
                                    "SZUL_DAT": "1993-03-02",
                                    "(No column name)": "32"
                                },
                                {
                                    "USERNEV": "alexandra",
                                    "NEV": "Bagóczki Alexandra",
                                    "EMAIL": "alexandra.bagóczki@mail.hu",
                                    "SZAML_CIM": "2381 Táborfalva Petőfi utca 1/2.",
                                    "SZUL_DAT": "1992-03-25",
                                    "(No column name)": "33"
                                },
                                {
                                    "USERNEV": "balazs1",
                                    "NEV": "Bozsik Balázs",
                                    "EMAIL": "balázs.bozsik@mail.hu",
                                    "SZAML_CIM": "2300 Ráckeve Bécsi utca 82.",
                                    "SZUL_DAT": "1992-11-03",
                                    "(No column name)": "33"
                                },
                                {
                                    "USERNEV": "SEBASTIANF",
                                    "NEV": "Foltényi Sebastián",
                                    "EMAIL": "SEBASTIANF@gmail.com",
                                    "SZAML_CIM": "7960 Sellye Grassalkovich út 10.",
                                    "SZUL_DAT": "1992-09-09",
                                    "(No column name)": "33"
                                },
                                {
                                    "USERNEV": "sebestyen",
                                    "NEV": "Rab Sebestyén",
                                    "EMAIL": "sebestyen@gmail.com",
                                    "SZAML_CIM": "7130 Tolna Központi telep 3.",
                                    "SZUL_DAT": "1992-03-03",
                                    "(No column name)": "33"
                                },
                                {
                                    "USERNEV": "RENATAS",
                                    "NEV": "Szirmai Renáta",
                                    "EMAIL": "RENATAS@gmail.com",
                                    "SZAML_CIM": "2053 Herceghalom Kossuth utca 27.",
                                    "SZUL_DAT": "1991-03-26",
                                    "(No column name)": "34"
                                },
                                {
                                    "USERNEV": "tihamer",
                                    "NEV": "Kazy Tihamér",
                                    "EMAIL": "tihamér.kazy@mail.hu",
                                    "SZAML_CIM": "2370 Dabas Fő utca 60.",
                                    "SZUL_DAT": "1991-07-05",
                                    "(No column name)": "34"
                                },
                                {
                                    "USERNEV": "vivien3",
                                    "NEV": "Boros Vivien",
                                    "EMAIL": "vivien3@gmail.com",
                                    "SZAML_CIM": "2117 Isaszeg Fő út 122.",
                                    "SZUL_DAT": "1991-07-01",
                                    "(No column name)": "34"
                                },
                                {
                                    "USERNEV": "brigitta3",
                                    "NEV": "Pataki Brigitta",
                                    "EMAIL": "brigitta.pataki@mail.hu",
                                    "SZAML_CIM": "2730 Albertirsa Rendeki utca 21.",
                                    "SZUL_DAT": "1991-05-23",
                                    "(No column name)": "34"
                                },
                                {
                                    "USERNEV": "adam1",
                                    "NEV": "Kiss Ádám",
                                    "EMAIL": "ádám.kiss@mail.hu",
                                    "SZAML_CIM": "5630 Békés Szolnoki út 8.",
                                    "SZUL_DAT": "1991-12-28",
                                    "(No column name)": "34"
                                },
                                {
                                    "USERNEV": "norbert2",
                                    "NEV": "Hegedűs Norbert",
                                    "EMAIL": "norbert.hegedűs@mail.hu",
                                    "SZAML_CIM": "2081 Piliscsaba Rendeki utca 21.",
                                    "SZUL_DAT": "1991-07-17",
                                    "(No column name)": "34"
                                },
                                {
                                    "USERNEV": "julianna4",
                                    "NEV": "Szabó Julianna",
                                    "EMAIL": "julianna4@gmail.com",
                                    "SZAML_CIM": "6700 Szeged Kossuth Lajos utca 6.",
                                    "SZUL_DAT": "1990-09-29",
                                    "(No column name)": "35"
                                },
                                {
                                    "USERNEV": "GABORS",
                                    "NEV": "Szöllősi Gábor",
                                    "EMAIL": "GABORS@gmail.com",
                                    "SZAML_CIM": "3630 Putnok Kossuth utca 27.",
                                    "SZUL_DAT": "1990-05-31",
                                    "(No column name)": "35"
                                },
                                {
                                    "USERNEV": "ilona3",
                                    "NEV": "Bosnyák Ilona",
                                    "EMAIL": "ilona3@gmail.com",
                                    "SZAML_CIM": "2483 Gárdony Posta köz 2.",
                                    "SZUL_DAT": "1990-08-06",
                                    "(No column name)": "35"
                                },
                                {
                                    "USERNEV": "arpad2",
                                    "NEV": "Ötvös Árpád",
                                    "EMAIL": "árpád.ötvös@mail.hu",
                                    "SZAML_CIM": "2600 Vác Padragi út 158.",
                                    "SZUL_DAT": "1990-06-08",
                                    "(No column name)": "35"
                                },
                                {
                                    "USERNEV": "ARPADH",
                                    "NEV": "Horváth Árpád",
                                    "EMAIL": "árpád.horváth@mail.hu",
                                    "SZAML_CIM": "7349 Szászvár Dózsa György u. 1.",
                                    "SZUL_DAT": "1990-05-18",
                                    "(No column name)": "35"
                                },
                                {
                                    "USERNEV": "annamaria1",
                                    "NEV": "Szűcs Annamária",
                                    "EMAIL": "annamária.szűcs@mail.hu",
                                    "SZAML_CIM": "1191 Budapest Rendeki utca 21.",
                                    "SZUL_DAT": "1990-04-27",
                                    "(No column name)": "35"
                                },
                                {
                                    "USERNEV": "david4",
                                    "NEV": "Berta Dávid",
                                    "EMAIL": "david4@gmail.com",
                                    "SZAML_CIM": "3500 Miskolc Balatoni út 12.",
                                    "SZUL_DAT": "1990-10-08",
                                    "(No column name)": "35"
                                },
                                {
                                    "USERNEV": "szabolcs",
                                    "NEV": "Bodor Szabolcs",
                                    "EMAIL": "szabolcs.bodor@mail.hu",
                                    "SZAML_CIM": "6786 Ruzsa Ady Endre út 27.",
                                    "SZUL_DAT": "1990-07-16",
                                    "(No column name)": "35"
                                },
                                {
                                    "USERNEV": "sandor3",
                                    "NEV": "Farkas Sándor",
                                    "EMAIL": "sándor.farkas@mail.hu",
                                    "SZAML_CIM": "8640 Fonyód Tanácsköztársaság tér 1.",
                                    "SZUL_DAT": "1989-01-27",
                                    "(No column name)": "36"
                                },
                                {
                                    "USERNEV": "VIKTORK",
                                    "NEV": "Keresztúri Viktor",
                                    "EMAIL": "viktor.keresztúri@mail.hu",
                                    "SZAML_CIM": "2532 Tokodaltáró Nagy Lajos tér 4.",
                                    "SZUL_DAT": "1989-05-05",
                                    "(No column name)": "36"
                                },
                                {
                                    "USERNEV": "emese",
                                    "NEV": "Kuruc Emese",
                                    "EMAIL": "emese.kuruc@mail.hu",
                                    "SZAML_CIM": "6700 Szeged Rákóczi utca 67.",
                                    "SZUL_DAT": "1989-08-10",
                                    "(No column name)": "36"
                                },
                                {
                                    "USERNEV": "ARONK",
                                    "NEV": "Kelemen Áron",
                                    "EMAIL": "áron.kelemen@mail.hu",
                                    "SZAML_CIM": "8200 Veszprém Petőfi utca 8.",
                                    "SZUL_DAT": "1989-08-10",
                                    "(No column name)": "36"
                                },
                                {
                                    "USERNEV": "balint1",
                                    "NEV": "Molnár Bálint",
                                    "EMAIL": "balint1@gmail.com",
                                    "SZAML_CIM": "9181 Kimle Fő út 169.",
                                    "SZUL_DAT": "1989-08-24",
                                    "(No column name)": "36"
                                },
                                {
                                    "USERNEV": "ISTVANV",
                                    "NEV": "Varga István",
                                    "EMAIL": "ISTVANV@gmail.com",
                                    "SZAML_CIM": "6320 Solt Hősök tere 11.",
                                    "SZUL_DAT": "1989-04-09",
                                    "(No column name)": "36"
                                },
                                {
                                    "USERNEV": "marton",
                                    "NEV": "Kalacsi Márton",
                                    "EMAIL": "marton@gmail.com",
                                    "SZAML_CIM": "5137 Jászkisér Fő út 169.",
                                    "SZUL_DAT": "1989-06-24",
                                    "(No column name)": "36"
                                },
                                {
                                    "USERNEV": "imre",
                                    "NEV": "Búza Imre",
                                    "EMAIL": "imre.búza@mail.hu",
                                    "SZAML_CIM": "9181 Kimle Petőfi Sándor tér 1.",
                                    "SZUL_DAT": "1988-09-30",
                                    "(No column name)": "37"
                                },
                                {
                                    "USERNEV": "ANIKOS",
                                    "NEV": "Simon Anikó",
                                    "EMAIL": "ANIKOS@gmail.com",
                                    "SZAML_CIM": "5137 Jászkisér Bécsi utca 82.",
                                    "SZUL_DAT": "1988-12-14",
                                    "(No column name)": "37"
                                },
                                {
                                    "USERNEV": "AGNESK",
                                    "NEV": "Kovács Ágnes",
                                    "EMAIL": "AGNESK@gmail.com",
                                    "SZAML_CIM": "1084 Budapest Endrődi Sándor utca 47.",
                                    "SZUL_DAT": "1988-10-02",
                                    "(No column name)": "37"
                                },
                                {
                                    "USERNEV": "zsolt1",
                                    "NEV": "Pulai Zsolt",
                                    "EMAIL": "zsolt.pulai@mail.hu",
                                    "SZAML_CIM": "8391 Sármellék Fő utca 60.",
                                    "SZUL_DAT": "1988-05-27",
                                    "(No column name)": "37"
                                },
                                {
                                    "USERNEV": "RENATAK",
                                    "NEV": "Kardos Renáta",
                                    "EMAIL": "renáta.kardos@mail.hu",
                                    "SZAML_CIM": "7086 Ozora Bécsi utca 82.",
                                    "SZUL_DAT": "1988-05-17",
                                    "(No column name)": "37"
                                },
                                {
                                    "USERNEV": "roza2",
                                    "NEV": "Bucskó Róza",
                                    "EMAIL": "roza2@gmail.com",
                                    "SZAML_CIM": "5661 Újkígyós Arany János utca 3.",
                                    "SZUL_DAT": "1988-12-26",
                                    "(No column name)": "37"
                                },
                                {
                                    "USERNEV": "bence",
                                    "NEV": "Győrffy Bence",
                                    "EMAIL": "bence@gmail.com",
                                    "SZAML_CIM": "6900 Makó Árpád utca 23.",
                                    "SZUL_DAT": "1987-07-09",
                                    "(No column name)": "38"
                                },
                                {
                                    "USERNEV": "BERNADETTO",
                                    "NEV": "Orbán Bernadett",
                                    "EMAIL": "bernadett.orbán@mail.hu",
                                    "SZAML_CIM": "5085 Rákóczifalva Arany János utca 1.",
                                    "SZUL_DAT": "1987-12-07",
                                    "(No column name)": "38"
                                },
                                {
                                    "USERNEV": "eszter",
                                    "NEV": "Molnár Eszter",
                                    "EMAIL": "eszter.molnár@mail.hu",
                                    "SZAML_CIM": "6800 Hódmezővásárhely Fő út 77.",
                                    "SZUL_DAT": "1987-05-10",
                                    "(No column name)": "38"
                                },
                                {
                                    "USERNEV": "gabor4",
                                    "NEV": "Telek Gábor",
                                    "EMAIL": "gábor.telek@mail.hu",
                                    "SZAML_CIM": "9071 Görbeháza Fő út 169.",
                                    "SZUL_DAT": "1987-03-15",
                                    "(No column name)": "38"
                                },
                                {
                                    "USERNEV": "KRISZTINAG",
                                    "NEV": "Gyárfás Krisztina",
                                    "EMAIL": "KRISZTINAG@gmail.com",
                                    "SZAML_CIM": "6762 Sándorfalva Arany János utca 1.",
                                    "SZUL_DAT": "1987-09-19",
                                    "(No column name)": "38"
                                },
                                {
                                    "USERNEV": "katalin4",
                                    "NEV": "Kertész Katalin",
                                    "EMAIL": "katalin4@gmail.com",
                                    "SZAML_CIM": "2800 Tatabánya Búvár utca 4.",
                                    "SZUL_DAT": "1986-04-13",
                                    "(No column name)": "39"
                                },
                                {
                                    "USERNEV": "henrik3",
                                    "NEV": "Nádudvari Henrik",
                                    "EMAIL": "henrik.nádudvari@mail.hu",
                                    "SZAML_CIM": "1077 Budapest Tanácsköztársaság tér 1.",
                                    "SZUL_DAT": "1986-12-05",
                                    "(No column name)": "39"
                                },
                                {
                                    "USERNEV": "istvan",
                                    "NEV": "Soós István",
                                    "EMAIL": "istvan@gmail.com",
                                    "SZAML_CIM": "2370 Dabas Kossuth utca 27.",
                                    "SZUL_DAT": "1986-06-28",
                                    "(No column name)": "39"
                                },
                                {
                                    "USERNEV": "dani",
                                    "NEV": "Vörös Dániel",
                                    "EMAIL": "daniel@gmail.com",
                                    "SZAML_CIM": "7150 Bonyhád Dózsa György u. 1.",
                                    "SZUL_DAT": "1986-10-14",
                                    "(No column name)": "39"
                                },
                                {
                                    "USERNEV": "balazs3",
                                    "NEV": "Bakódy Balázs",
                                    "EMAIL": "balazs3@gmail.com",
                                    "SZAML_CIM": "2131 Göd Arany János utca 1.",
                                    "SZUL_DAT": "1986-09-09",
                                    "(No column name)": "39"
                                },
                                {
                                    "USERNEV": "ANDREAT",
                                    "NEV": "Tornyos Andrea",
                                    "EMAIL": "ANDREAT@gmail.com",
                                    "SZAML_CIM": "6131 Szank Bécsi utca 82.",
                                    "SZUL_DAT": "1986-11-14",
                                    "(No column name)": "39"
                                },
                                {
                                    "USERNEV": "ARPADM",
                                    "NEV": "Móricz Árpád",
                                    "EMAIL": "árpád.móricz@mail.hu",
                                    "SZAML_CIM": "3910 Tokaj Rákóczi utca 67.",
                                    "SZUL_DAT": "1986-04-20",
                                    "(No column name)": "39"
                                },
                                {
                                    "USERNEV": "valentin",
                                    "NEV": "Feró Valentin",
                                    "EMAIL": "valentin.feró@mail.hu",
                                    "SZAML_CIM": "3895 Gönc Búvár utca 4.",
                                    "SZUL_DAT": "1986-01-09",
                                    "(No column name)": "39"
                                },
                                {
                                    "USERNEV": "zoltan4",
                                    "NEV": "Barna Zoltán",
                                    "EMAIL": "zoltan4@gmail.com",
                                    "SZAML_CIM": "8313 Balatongyörök Jászai tér 21.",
                                    "SZUL_DAT": "1986-05-20",
                                    "(No column name)": "39"
                                },
                                {
                                    "USERNEV": "ZOLTANT",
                                    "NEV": "Tóth Zoltán",
                                    "EMAIL": "zoltán.tóth@mail.hu",
                                    "SZAML_CIM": "4244 Újfehértó Posta köz 2.",
                                    "SZUL_DAT": "1985-12-14",
                                    "(No column name)": "40"
                                },
                                {
                                    "USERNEV": "tibor2",
                                    "NEV": "Dániel Tibor",
                                    "EMAIL": "tibor2@gmail.com",
                                    "SZAML_CIM": "6646 Tömörkény Árpád utca 23.",
                                    "SZUL_DAT": "1985-02-02",
                                    "(No column name)": "40"
                                },
                                {
                                    "USERNEV": "roland1",
                                    "NEV": "Ferencz Roland",
                                    "EMAIL": "roland.ferencz@mail.hu",
                                    "SZAML_CIM": "2424 Előszállás Fő út 169.",
                                    "SZUL_DAT": "1985-12-31",
                                    "(No column name)": "40"
                                },
                                {
                                    "USERNEV": "peter4",
                                    "NEV": "Bíró Péter",
                                    "EMAIL": "péter.bíró@mail.hu",
                                    "SZAML_CIM": "5137 Jászkisér Rákóczi utca 67.",
                                    "SZUL_DAT": "1985-09-01",
                                    "(No column name)": "40"
                                },
                                {
                                    "USERNEV": "jozsef",
                                    "NEV": "Gergely József",
                                    "EMAIL": "jozsef@gmail.com",
                                    "SZAML_CIM": "6050 Lajosmizse Fő út 18.",
                                    "SZUL_DAT": "1985-11-01",
                                    "(No column name)": "40"
                                },
                                {
                                    "USERNEV": "julia4",
                                    "NEV": "Nagy Júlia",
                                    "EMAIL": "julia4@gmail.com",
                                    "SZAML_CIM": "7000 Sárbogárd Jászai tér 21.",
                                    "SZUL_DAT": "1985-08-11",
                                    "(No column name)": "40"
                                },
                                {
                                    "USERNEV": "JANOSP",
                                    "NEV": "Pálinkás János",
                                    "EMAIL": "JANOSP@gmail.com",
                                    "SZAML_CIM": "5920 Csorvás Padragi út 158.",
                                    "SZUL_DAT": "1984-10-12",
                                    "(No column name)": "41"
                                },
                                {
                                    "USERNEV": "kristof4",
                                    "NEV": "Poprádi Kristóf",
                                    "EMAIL": "kristof4@gmail.com",
                                    "SZAML_CIM": "8220 Balatonalmádi Mészáros utca 7.",
                                    "SZUL_DAT": "1984-01-15",
                                    "(No column name)": "41"
                                },
                                {
                                    "USERNEV": "andras4",
                                    "NEV": "Back András",
                                    "EMAIL": "andras4@gmail.com",
                                    "SZAML_CIM": "3783 Edelény Fő út 169.",
                                    "SZUL_DAT": "1984-04-07",
                                    "(No column name)": "41"
                                },
                                {
                                    "USERNEV": "balazs2",
                                    "NEV": "Szűcs Balázs",
                                    "EMAIL": "balázs.szűcs@mail.hu",
                                    "SZAML_CIM": "3170 Szécsény Szabadság utca 95.",
                                    "SZUL_DAT": "1984-10-31",
                                    "(No column name)": "41"
                                },
                                {
                                    "USERNEV": "bernadett1",
                                    "NEV": "Simon Bernadett",
                                    "EMAIL": "bernadett1@gmail.com",
                                    "SZAML_CIM": "2300 Ráckeve Fő utca 108.",
                                    "SZUL_DAT": "1984-10-13",
                                    "(No column name)": "41"
                                },
                                {
                                    "USERNEV": "csongor3",
                                    "NEV": "Nagymihály Csongor",
                                    "EMAIL": "csongor.nagymihály@mail.hu",
                                    "SZAML_CIM": "9181 Kimle Deák Ferenc út 5.",
                                    "SZUL_DAT": "1984-03-05",
                                    "(No column name)": "41"
                                },
                                {
                                    "USERNEV": "edit",
                                    "NEV": "Bittmann Edit",
                                    "EMAIL": "edit.bittmann@mail.hu",
                                    "SZAML_CIM": "6077 Orgovány Fő utca 60.",
                                    "SZUL_DAT": "1984-04-20",
                                    "(No column name)": "41"
                                },
                                {
                                    "USERNEV": "tamas",
                                    "NEV": "Antal Tamás",
                                    "EMAIL": "tamás.antal@mail.hu",
                                    "SZAML_CIM": "4440 Tiszavasvári Posta köz 2.",
                                    "SZUL_DAT": "1984-09-05",
                                    "(No column name)": "41"
                                },
                                {
                                    "USERNEV": "veronika4",
                                    "NEV": "Tankó Veronika",
                                    "EMAIL": "veronika4@gmail.com",
                                    "SZAML_CIM": "6412 Balotaszállás Rendeki utca 21.",
                                    "SZUL_DAT": "1983-08-28",
                                    "(No column name)": "42"
                                },
                                {
                                    "USERNEV": "peter3",
                                    "NEV": "Szalai Péter",
                                    "EMAIL": "peter3@gmail.com",
                                    "SZAML_CIM": "1155 Budapest Arany János utca 3.",
                                    "SZUL_DAT": "1983-07-18",
                                    "(No column name)": "42"
                                },
                                {
                                    "USERNEV": "zsofi1",
                                    "NEV": "Molnár Zsófi",
                                    "EMAIL": "zsofi1@gmail.com",
                                    "SZAML_CIM": "2730 Albertirsa Árpád utca 23.",
                                    "SZUL_DAT": "1983-11-17",
                                    "(No column name)": "42"
                                },
                                {
                                    "USERNEV": "ZSOLTJ",
                                    "NEV": "Józsa Zsolt",
                                    "EMAIL": "ZSOLTJ@gmail.com",
                                    "SZAML_CIM": "8315 Gyenesdiás Bajcsy-Zsilinszky utca 4.",
                                    "SZUL_DAT": "1983-09-29",
                                    "(No column name)": "42"
                                },
                                {
                                    "USERNEV": "norbert4",
                                    "NEV": "Mile Norbert",
                                    "EMAIL": "norbert4@gmail.com",
                                    "SZAML_CIM": "3973 Cigánd Bajcsy-Zsilinszky utca 4.",
                                    "SZUL_DAT": "1983-06-15",
                                    "(No column name)": "42"
                                },
                                {
                                    "USERNEV": "IBOLYAA",
                                    "NEV": "Andor Ibolya",
                                    "EMAIL": "ibolya.andor@mail.hu",
                                    "SZAML_CIM": "9023 Győr Posta köz 2.",
                                    "SZUL_DAT": "1983-11-27",
                                    "(No column name)": "42"
                                },
                                {
                                    "USERNEV": "georgij",
                                    "NEV": "Nyíri Georgij",
                                    "EMAIL": "georgij.nyíri@mail.hu",
                                    "SZAML_CIM": "8391 Sármellék Grassalkovich út 10.",
                                    "SZUL_DAT": "1983-02-23",
                                    "(No column name)": "42"
                                },
                                {
                                    "USERNEV": "ferenc1",
                                    "NEV": "Orosz Ferenc",
                                    "EMAIL": "ferenc.orosz@mail.hu",
                                    "SZAML_CIM": "5061 Tiszasüly Arany János utca 3.",
                                    "SZUL_DAT": "1983-10-08",
                                    "(No column name)": "42"
                                },
                                {
                                    "USERNEV": "gabriella1",
                                    "NEV": "Nagy Gabriella",
                                    "EMAIL": "gabriella1@gmail.com",
                                    "SZAML_CIM": "1077 Budapest Dob utca 1",
                                    "SZUL_DAT": "1982-11-01",
                                    "(No column name)": "43"
                                },
                                {
                                    "USERNEV": "klaudia2",
                                    "NEV": "Bakó Klaudia",
                                    "EMAIL": "klaudia.bakó@mail.hu",
                                    "SZAML_CIM": "8254 Kővágóörs Kossuth Lajos utca 6.",
                                    "SZUL_DAT": "1982-04-16",
                                    "(No column name)": "43"
                                },
                                {
                                    "USERNEV": "akos",
                                    "NEV": "Bíró Ákos",
                                    "EMAIL": "ákos.bíró@mail.hu",
                                    "SZAML_CIM": "9023 Győr Kossuth Lajos utca 47/b.",
                                    "SZUL_DAT": "1982-04-24",
                                    "(No column name)": "43"
                                },
                                {
                                    "USERNEV": "attila1",
                                    "NEV": "Gulyás Attila",
                                    "EMAIL": "attila.gulyás@mail.hu",
                                    "SZAML_CIM": "3881 Abaújszántó Szolnoki út 8.",
                                    "SZUL_DAT": "1982-08-16",
                                    "(No column name)": "43"
                                },
                                {
                                    "USERNEV": "andrea4",
                                    "NEV": "Neizer Andrea",
                                    "EMAIL": "andrea4@gmail.com",
                                    "SZAML_CIM": "1124 Budapest Kiss u. 8.",
                                    "SZUL_DAT": "1981-05-17",
                                    "(No column name)": "44"
                                },
                                {
                                    "USERNEV": "AGNESH",
                                    "NEV": "Horváth Ágnes",
                                    "EMAIL": "AGNESH@gmail.com",
                                    "SZAML_CIM": "8200 Veszprém Rákóczi utca 21.",
                                    "SZUL_DAT": "1981-12-24",
                                    "(No column name)": "44"
                                },
                                {
                                    "USERNEV": "BEATRIXS",
                                    "NEV": "Szekendi Beatrix",
                                    "EMAIL": "beatrix.szekendi@mail.hu",
                                    "SZAML_CIM": "4060 Balmazújváros Jászai tér 21.",
                                    "SZUL_DAT": "1981-04-06",
                                    "(No column name)": "44"
                                },
                                {
                                    "USERNEV": "nikolett3",
                                    "NEV": "Horváth Nikolett",
                                    "EMAIL": "nikolett3@gmail.com",
                                    "SZAML_CIM": "1072 Budapest Arany János utca 1.",
                                    "SZUL_DAT": "1981-09-29",
                                    "(No column name)": "44"
                                },
                                {
                                    "USERNEV": "GYORGYO",
                                    "NEV": "Oroszi György",
                                    "EMAIL": "GYORGYO@gmail.com",
                                    "SZAML_CIM": "7220 Sarkad Dózsa György u. 1.",
                                    "SZUL_DAT": "1980-03-23",
                                    "(No column name)": "45"
                                },
                                {
                                    "USERNEV": "EVAV",
                                    "NEV": "Viktor Éva",
                                    "EMAIL": "EVAV@gmail.com",
                                    "SZAML_CIM": "6913 Csanádpalota Arany János utca 3.",
                                    "SZUL_DAT": "1980-12-26",
                                    "(No column name)": "45"
                                },
                                {
                                    "USERNEV": "aladar",
                                    "NEV": "Dunai Aladár",
                                    "EMAIL": "aladár.dunai@mail.hu",
                                    "SZAML_CIM": "5931 Nagyszénás Árpád utca 23.",
                                    "SZUL_DAT": "1980-11-01",
                                    "(No column name)": "45"
                                },
                                {
                                    "USERNEV": "ANDRASN",
                                    "NEV": "Nagy András",
                                    "EMAIL": "andrás.nagy@mail.hu",
                                    "SZAML_CIM": "6500 Baja Fő út 169.",
                                    "SZUL_DAT": "1980-09-05",
                                    "(No column name)": "45"
                                },
                                {
                                    "USERNEV": "zsuzsa",
                                    "NEV": "Pusztai Zsuzsanna",
                                    "EMAIL": "zsuzsanna@gmail.com",
                                    "SZAML_CIM": "6783 Ásotthalom Badacsonyi utca 12.",
                                    "SZUL_DAT": "1980-09-17",
                                    "(No column name)": "45"
                                },
                                {
                                    "USERNEV": "tamara2",
                                    "NEV": "Miklós Tamara",
                                    "EMAIL": "tamara.miklós@mail.hu",
                                    "SZAML_CIM": "3910 Tokaj Kossuth út 39.",
                                    "SZUL_DAT": "1980-08-11",
                                    "(No column name)": "45"
                                },
                                {
                                    "USERNEV": "SZABOLCSM",
                                    "NEV": "Miklós Szabolcs",
                                    "EMAIL": "szabolcs.miklós@mail.hu",
                                    "SZAML_CIM": "1102 Budapest Fő út 169.",
                                    "SZUL_DAT": "1980-08-11",
                                    "(No column name)": "45"
                                },
                                {
                                    "USERNEV": "MIHALYJ",
                                    "NEV": "Juhász Mihály",
                                    "EMAIL": "mihály.juhász@mail.hu",
                                    "SZAML_CIM": "6786 Ruzsa Rákóczi utca 1.",
                                    "SZUL_DAT": "1979-10-12",
                                    "(No column name)": "46"
                                },
                                {
                                    "USERNEV": "zsuzsa3",
                                    "NEV": "Varsányi Zsuzsa",
                                    "EMAIL": "zsuzsa.varsányi@mail.hu",
                                    "SZAML_CIM": "8600 Siófok Árpád utca 4.",
                                    "SZUL_DAT": "1979-03-06",
                                    "(No column name)": "46"
                                },
                                {
                                    "USERNEV": "zoltan",
                                    "NEV": "Fodor Zoltán",
                                    "EMAIL": "zoltán.fodor@mail.hu",
                                    "SZAML_CIM": "3441 Mezőkeresztes Fő utca 23.",
                                    "SZUL_DAT": "1979-11-25",
                                    "(No column name)": "46"
                                },
                                {
                                    "USERNEV": "agnes",
                                    "NEV": "Lengyel Ágnes",
                                    "EMAIL": "agnes@gmail.com",
                                    "SZAML_CIM": "5200 Törökszentmiklós Deák Ferenc út 5.",
                                    "SZUL_DAT": "1979-12-10",
                                    "(No column name)": "46"
                                },
                                {
                                    "USERNEV": "attila",
                                    "NEV": "Csóti Attila",
                                    "EMAIL": "attila@gmail.com",
                                    "SZAML_CIM": "3000 Hatvan Bajcsy-Zsilinszky utca 4.",
                                    "SZUL_DAT": "1979-12-25",
                                    "(No column name)": "46"
                                },
                                {
                                    "USERNEV": "MIKLOSB",
                                    "NEV": "Balla Miklós",
                                    "EMAIL": "miklós.balla@mail.hu",
                                    "SZAML_CIM": "4060 Balmazújváros Szent István utca 2.",
                                    "SZUL_DAT": "1979-02-16",
                                    "(No column name)": "46"
                                },
                                {
                                    "USERNEV": "krisztina",
                                    "NEV": "Szedlár Krisztina",
                                    "EMAIL": "krisztina@gmail.com",
                                    "SZAML_CIM": "6646 Tömörkény Arany János utca 1.",
                                    "SZUL_DAT": "1979-05-10",
                                    "(No column name)": "46"
                                },
                                {
                                    "USERNEV": "lajos",
                                    "NEV": "Kiss Lajos",
                                    "EMAIL": "lajos.kiss@mail.hu",
                                    "SZAML_CIM": "1077 Budapest Dob utca 1",
                                    "SZUL_DAT": "1978-10-31",
                                    "(No column name)": "47"
                                },
                                {
                                    "USERNEV": "kriszti",
                                    "NEV": "Horváth Krisztina",
                                    "EMAIL": "kriszti@gmail.com",
                                    "SZAML_CIM": "6060 Tiszakécske Árpád utca 4.",
                                    "SZUL_DAT": "1978-06-12",
                                    "(No column name)": "47"
                                },
                                {
                                    "USERNEV": "brigitta",
                                    "NEV": "Székely Brigitta",
                                    "EMAIL": "brigitta.székely@mail.hu",
                                    "SZAML_CIM": "2462 Martonvásár Fő utca 47.",
                                    "SZUL_DAT": "1978-09-13",
                                    "(No column name)": "47"
                                },
                                {
                                    "USERNEV": "jozsef2",
                                    "NEV": "Vajda József",
                                    "EMAIL": "józsef.vajda@mail.hu",
                                    "SZAML_CIM": "6700 Szeged Baracsi László utca 14.",
                                    "SZUL_DAT": "1978-09-04",
                                    "(No column name)": "47"
                                },
                                {
                                    "USERNEV": "aniko4",
                                    "NEV": "Böröcz Anikó",
                                    "EMAIL": "aniko4@gmail.com",
                                    "SZAML_CIM": "2484 Agárd Petőfi Sándor tér 1.",
                                    "SZUL_DAT": "1978-03-26",
                                    "(No column name)": "47"
                                },
                                {
                                    "USERNEV": "ESZTERE",
                                    "NEV": "Érsek Eszter",
                                    "EMAIL": "eszter.érsek@mail.hu",
                                    "SZAML_CIM": "6785 Pusztamérges Kossuth Lajos utca 6.",
                                    "SZUL_DAT": "1978-08-28",
                                    "(No column name)": "47"
                                },
                                {
                                    "USERNEV": "daniel",
                                    "NEV": "Rácz Dániel",
                                    "EMAIL": "dániel.rácz@mail.hu",
                                    "SZAML_CIM": "9181 Kimle Szabadság tér 9.",
                                    "SZUL_DAT": "1978-11-28",
                                    "(No column name)": "47"
                                },
                                {
                                    "USERNEV": "bertalan",
                                    "NEV": "Csiger Bertalan",
                                    "EMAIL": "bertalan@gmail.com",
                                    "SZAML_CIM": "1192 Budapest Fő út 169.",
                                    "SZUL_DAT": "1977-10-15",
                                    "(No column name)": "48"
                                },
                                {
                                    "USERNEV": "ANNAMARIAR",
                                    "NEV": "Regős Annamária",
                                    "EMAIL": "ANNAMARIAR@gmail.com",
                                    "SZAML_CIM": "8283 Káptalantóti Petőfi Sándor tér 1.",
                                    "SZUL_DAT": "1977-09-26",
                                    "(No column name)": "48"
                                },
                                {
                                    "USERNEV": "andras21",
                                    "NEV": "Molnár András",
                                    "EMAIL": "andrás.molnár@mail.hu",
                                    "SZAML_CIM": "7900 Szigetvár Rákóczi utca 67.",
                                    "SZUL_DAT": "1977-11-16",
                                    "(No column name)": "48"
                                },
                                {
                                    "USERNEV": "ZOLTANP",
                                    "NEV": "Pintér Zoltán",
                                    "EMAIL": "zoltán.pintér@mail.hu",
                                    "SZAML_CIM": "6050 Lajosmizse Fő út 18.",
                                    "SZUL_DAT": "1977-06-07",
                                    "(No column name)": "48"
                                },
                                {
                                    "USERNEV": "robert2",
                                    "NEV": "Patay Róbert",
                                    "EMAIL": "robert2@gmail.com",
                                    "SZAML_CIM": "2370 Dabas Rákóczi utca 21.",
                                    "SZUL_DAT": "1977-01-08",
                                    "(No column name)": "48"
                                },
                                {
                                    "USERNEV": "peter1",
                                    "NEV": "Kozma Péter",
                                    "EMAIL": "peter1@gmail.com",
                                    "SZAML_CIM": "6913 Csanádpalota Központi telep 3.",
                                    "SZUL_DAT": "1976-03-18",
                                    "(No column name)": "49"
                                },
                                {
                                    "USERNEV": "peter2",
                                    "NEV": "Bozsó Péter",
                                    "EMAIL": "peter2@gmail.com",
                                    "SZAML_CIM": "4800 Vásárosnamény Zombori út 2/A",
                                    "SZUL_DAT": "1976-01-26",
                                    "(No column name)": "49"
                                },
                                {
                                    "USERNEV": "ZSUZSAV",
                                    "NEV": "Vajda Zsuzsa",
                                    "EMAIL": "zsuzsa.vajda@mail.hu",
                                    "SZAML_CIM": "6786 Ruzsa Kossuth utca 77.",
                                    "SZUL_DAT": "1976-12-11",
                                    "(No column name)": "49"
                                },
                                {
                                    "USERNEV": "adam4",
                                    "NEV": "Bieniek Ádám",
                                    "EMAIL": "ádám.bieniek@mail.hu",
                                    "SZAML_CIM": "8630 Balatonboglár Juhászföldi út 1.",
                                    "SZUL_DAT": "1976-08-01",
                                    "(No column name)": "49"
                                },
                                {
                                    "USERNEV": "balu",
                                    "NEV": "Endresz Bálint",
                                    "EMAIL": "bálint.endresz@mail.hu",
                                    "SZAML_CIM": "3973 Cigánd Fő út 169.",
                                    "SZUL_DAT": "1976-08-01",
                                    "(No column name)": "49"
                                },
                                {
                                    "USERNEV": "debora",
                                    "NEV": "Barna Debóra",
                                    "EMAIL": "debóra.barna@mail.hu",
                                    "SZAML_CIM": "1155 Budapest Fő út 169.",
                                    "SZUL_DAT": "1976-10-14",
                                    "(No column name)": "49"
                                },
                                {
                                    "USERNEV": "imre1",
                                    "NEV": "Papp Imre",
                                    "EMAIL": "imre.papp@mail.hu",
                                    "SZAML_CIM": "1077 Budapest Szolnoki út 8.",
                                    "SZUL_DAT": "1976-06-25",
                                    "(No column name)": "49"
                                },
                                {
                                    "USERNEV": "JOZSEFG",
                                    "NEV": "Gyuris József",
                                    "EMAIL": "józsef.gyuris@mail.hu",
                                    "SZAML_CIM": "2660 Balassagyarmat Petőfi utca 1/2.",
                                    "SZUL_DAT": "1975-05-26",
                                    "(No column name)": "50"
                                },
                                {
                                    "USERNEV": "JANOSG",
                                    "NEV": "Giliga János",
                                    "EMAIL": "JANOSG@gmail.com",
                                    "SZAML_CIM": "3300 Eger Deák Ferenc út 5.",
                                    "SZUL_DAT": "1975-01-03",
                                    "(No column name)": "50"
                                },
                                {
                                    "USERNEV": "kornel4",
                                    "NEV": "Lukács Kornél",
                                    "EMAIL": "kornél.lukács@mail.hu",
                                    "SZAML_CIM": "2053 Herceghalom Bécsi utca 82.",
                                    "SZUL_DAT": "1975-09-30",
                                    "(No column name)": "50"
                                },
                                {
                                    "USERNEV": "katka",
                                    "NEV": "Kovács Katalin",
                                    "EMAIL": "katalin.kovács@mail.hu",
                                    "SZAML_CIM": "8254 Kővágóörs Petőfi utca 22.",
                                    "SZUL_DAT": "1975-03-31",
                                    "(No column name)": "50"
                                },
                                {
                                    "USERNEV": "laszlo2",
                                    "NEV": "Móra László",
                                    "EMAIL": "lászló.móra@mail.hu",
                                    "SZAML_CIM": "9970 Szentgotthárd Petőfi utca 1/2.",
                                    "SZUL_DAT": "1975-02-19",
                                    "(No column name)": "50"
                                },
                                {
                                    "USERNEV": "MATYASS",
                                    "NEV": "Szilágyi Mátyás",
                                    "EMAIL": "mátyás.szilágyi@mail.hu",
                                    "SZAML_CIM": "9023 Győr Kossuth Lajos utca 6.",
                                    "SZUL_DAT": "1975-03-22",
                                    "(No column name)": "50"
                                },
                                {
                                    "USERNEV": "norbert5",
                                    "NEV": "Béres Norbert",
                                    "EMAIL": "norbert5@gmail.com",
                                    "SZAML_CIM": "8640 Fonyód Bajcsy-Zsilinszky utca 4.",
                                    "SZUL_DAT": "1975-07-27",
                                    "(No column name)": "50"
                                },
                                {
                                    "USERNEV": "denes",
                                    "NEV": "Tömböly Dénes",
                                    "EMAIL": "denes@gmail.com",
                                    "SZAML_CIM": "2400 Dunaújváros Kossuth út 39.",
                                    "SZUL_DAT": "1975-03-14",
                                    "(No column name)": "50"
                                },
                                {
                                    "USERNEV": "attila4",
                                    "NEV": "Baróti Attila",
                                    "EMAIL": "attila.baróti@mail.hu",
                                    "SZAML_CIM": "7149 Báta Arany János utca 3.",
                                    "SZUL_DAT": "1975-11-06",
                                    "(No column name)": "50"
                                },
                                {
                                    "USERNEV": "timea2",
                                    "NEV": "Dusha Tímea",
                                    "EMAIL": "tímea.dusha@mail.hu",
                                    "SZAML_CIM": "5920 Csorvás Kossuth utca 8.",
                                    "SZUL_DAT": "1975-08-22",
                                    "(No column name)": "50"
                                },
                                {
                                    "USERNEV": "tunde",
                                    "NEV": "Turcsik Tünde",
                                    "EMAIL": "tunde@gmail.com",
                                    "SZAML_CIM": "7130 Tolna Fő út 122.",
                                    "SZUL_DAT": "1974-02-12",
                                    "(No column name)": "51"
                                },
                                {
                                    "USERNEV": "david",
                                    "NEV": "Ambrus Dávid",
                                    "EMAIL": "david@gmail.com",
                                    "SZAML_CIM": "1149 Budapest Fő út 18.",
                                    "SZUL_DAT": "1974-02-11",
                                    "(No column name)": "51"
                                },
                                {
                                    "USERNEV": "MONIKAM",
                                    "NEV": "Mohos Mónika",
                                    "EMAIL": "mónika.mohos@mail.hu",
                                    "SZAML_CIM": "2241 Sülysáp Baracsi László utca 14.",
                                    "SZUL_DAT": "1974-10-01",
                                    "(No column name)": "51"
                                },
                                {
                                    "USERNEV": "GYONGYIK",
                                    "NEV": "Kornseé Gyöngyi",
                                    "EMAIL": "gyöngyi.kornseé@mail.hu",
                                    "SZAML_CIM": "8800 Nagykanizsa Fő út 60.",
                                    "SZUL_DAT": "1974-06-07",
                                    "(No column name)": "51"
                                },
                                {
                                    "USERNEV": "gabor1",
                                    "NEV": "Köves Gábor",
                                    "EMAIL": "gabor1@gmail.com",
                                    "SZAML_CIM": "6762 Sándorfalva Árpád utca 23.",
                                    "SZUL_DAT": "1973-07-15",
                                    "(No column name)": "52"
                                },
                                {
                                    "USERNEV": "BENCEB",
                                    "NEV": "Bajusz Bence",
                                    "EMAIL": "bence.bajusz@mail.hu",
                                    "SZAML_CIM": "8391 Sármellék Fő utca 56.",
                                    "SZUL_DAT": "1973-06-21",
                                    "(No column name)": "52"
                                },
                                {
                                    "USERNEV": "aniko",
                                    "NEV": "Tóth Anikó",
                                    "EMAIL": "aniko@gmail.com",
                                    "SZAML_CIM": "2085 Pilisvörösvár Deák Ferenc út 5.",
                                    "SZUL_DAT": "1973-06-03",
                                    "(No column name)": "52"
                                },
                                {
                                    "USERNEV": "sara",
                                    "NEV": "Farkas Sára",
                                    "EMAIL": "sára.farkas@mail.hu",
                                    "SZAML_CIM": "5940 Tótkomlós Felszabadulás utca 32.",
                                    "SZUL_DAT": "1973-04-05",
                                    "(No column name)": "52"
                                },
                                {
                                    "USERNEV": "ROBERTP",
                                    "NEV": "Pásztor Róbert",
                                    "EMAIL": "ROBERTP@gmail.com",
                                    "SZAML_CIM": "5137 Jászkisér Ady Endre út 27.",
                                    "SZUL_DAT": "1972-05-16",
                                    "(No column name)": "53"
                                },
                                {
                                    "USERNEV": "BEATRIXK",
                                    "NEV": "Kerényi Beatrix",
                                    "EMAIL": "beatrix.kerényi@mail.hu",
                                    "SZAML_CIM": "7396 Magyarszék Kossuth Lajos utca 47/b.",
                                    "SZUL_DAT": "1972-04-06",
                                    "(No column name)": "53"
                                },
                                {
                                    "USERNEV": "matyas2",
                                    "NEV": "Botka Mátyás",
                                    "EMAIL": "matyas2@gmail.com",
                                    "SZAML_CIM": "2700 Cegléd Kossuth Lajos utca 6.",
                                    "SZUL_DAT": "1972-07-07",
                                    "(No column name)": "53"
                                },
                                {
                                    "USERNEV": "nikoletta4",
                                    "NEV": "Kő Nikoletta",
                                    "EMAIL": "nikoletta4@gmail.com",
                                    "SZAML_CIM": "5537 Zsadány Fő út 18.",
                                    "SZUL_DAT": "1972-01-10",
                                    "(No column name)": "53"
                                },
                                {
                                    "USERNEV": "eva2",
                                    "NEV": "Perlinger Éva",
                                    "EMAIL": "eva2@gmail.com",
                                    "SZAML_CIM": "9653 Répcelak Bécsi utca 82.",
                                    "SZUL_DAT": "1971-08-19",
                                    "(No column name)": "54"
                                },
                                {
                                    "USERNEV": "anita",
                                    "NEV": "Hamvay-Kovács Anita",
                                    "EMAIL": "anita.hamvay-kovács@mail.hu",
                                    "SZAML_CIM": "7220 Sarkad Táncsics utca 19.",
                                    "SZUL_DAT": "1971-03-20",
                                    "(No column name)": "54"
                                },
                                {
                                    "USERNEV": "aron2",
                                    "NEV": "Jakab Áron",
                                    "EMAIL": "aron2@gmail.com",
                                    "SZAML_CIM": "7133 Fadd Bajcsy-Zsilinszky utca 4.",
                                    "SZUL_DAT": "1971-04-26",
                                    "(No column name)": "54"
                                },
                                {
                                    "USERNEV": "andras3",
                                    "NEV": "Vígh András",
                                    "EMAIL": "andrás.vígh@mail.hu",
                                    "SZAML_CIM": "1118 Budapest Arany János utca 1.",
                                    "SZUL_DAT": "1971-04-02",
                                    "(No column name)": "54"
                                },
                                {
                                    "USERNEV": "szilvia1",
                                    "NEV": "Tari Szilvia",
                                    "EMAIL": "szilvia.tari@mail.hu",
                                    "SZAML_CIM": "6080 Szabadszállás Bécsi utca 82.",
                                    "SZUL_DAT": "1971-03-09",
                                    "(No column name)": "54"
                                },
                                {
                                    "USERNEV": "sandor",
                                    "NEV": "Karasz Sándor",
                                    "EMAIL": "sandor@gmail.com",
                                    "SZAML_CIM": "8283 Káptalantóti Kossuth Lajos utca 1/a.",
                                    "SZUL_DAT": "1970-01-27",
                                    "(No column name)": "55"
                                },
                                {
                                    "USERNEV": "adam3",
                                    "NEV": "Barkóci Ádám",
                                    "EMAIL": "adam3@gmail.com",
                                    "SZAML_CIM": "3910 Tokaj Dózsa György utca 37.",
                                    "SZUL_DAT": "1970-06-07",
                                    "(No column name)": "55"
                                },
                                {
                                    "USERNEV": "david1",
                                    "NEV": "Sobják Dávid",
                                    "EMAIL": "david1@gmail.com",
                                    "SZAML_CIM": "5083 Kengyel Arany János utca 3.",
                                    "SZUL_DAT": "1970-08-16",
                                    "(No column name)": "55"
                                },
                                {
                                    "USERNEV": "krisztian4",
                                    "NEV": "Czérna Krisztián",
                                    "EMAIL": "krisztián.czérna@mail.hu",
                                    "SZAML_CIM": "1107 Budapest Dózsa György utca 37.",
                                    "SZUL_DAT": "1970-08-01",
                                    "(No column name)": "55"
                                },
                                {
                                    "USERNEV": "krisztina1",
                                    "NEV": "Bori Krisztina",
                                    "EMAIL": "krisztina.bori@mail.hu",
                                    "SZAML_CIM": "2115 Vácszentlászló Fő utca 47.",
                                    "SZUL_DAT": "1969-10-13",
                                    "(No column name)": "56"
                                },
                                {
                                    "USERNEV": "LASZLOA",
                                    "NEV": "Antal László",
                                    "EMAIL": "lászló.antal@mail.hu",
                                    "SZAML_CIM": "2484 Agárd Bécsi utca 82.",
                                    "SZUL_DAT": "1969-06-29",
                                    "(No column name)": "56"
                                },
                                {
                                    "USERNEV": "LASZLON",
                                    "NEV": "Nagy László",
                                    "EMAIL": "lászló.nagy@mail.hu",
                                    "SZAML_CIM": "1173 Budapest Jászai tér 21.",
                                    "SZUL_DAT": "1969-04-12",
                                    "(No column name)": "56"
                                },
                                {
                                    "USERNEV": "norbert",
                                    "NEV": "Szűcs Norbert",
                                    "EMAIL": "norbert@gmail.com",
                                    "SZAML_CIM": "5071 Besenyszög Győri utca 12.",
                                    "SZUL_DAT": "1969-07-17",
                                    "(No column name)": "56"
                                },
                                {
                                    "USERNEV": "gabriella10",
                                    "NEV": "Vida Gabriella",
                                    "EMAIL": "gabriella10@gmail.com",
                                    "SZAML_CIM": "2484 Agárd Arany János utca 3.",
                                    "SZUL_DAT": "1969-06-18",
                                    "(No column name)": "56"
                                },
                                {
                                    "USERNEV": "daniel1",
                                    "NEV": "Keszler Dániel",
                                    "EMAIL": "dániel.keszler@mail.hu",
                                    "SZAML_CIM": "3580 Tiszaújváros Kossuth Lajos utca 6.",
                                    "SZUL_DAT": "1969-07-16",
                                    "(No column name)": "56"
                                },
                                {
                                    "USERNEV": "PETERB",
                                    "NEV": "Berendi Péter",
                                    "EMAIL": "péter.berendi@mail.hu",
                                    "SZAML_CIM": "3980 Sátoraljaújhely Vasút utca 4/10.",
                                    "SZUL_DAT": "1969-01-01",
                                    "(No column name)": "56"
                                },
                                {
                                    "USERNEV": "reka4",
                                    "NEV": "Szikszai Réka",
                                    "EMAIL": "réka.szikszai@mail.hu",
                                    "SZAML_CIM": "8254 Kővágóörs Templom utca 73.",
                                    "SZUL_DAT": "1969-11-27",
                                    "(No column name)": "56"
                                },
                                {
                                    "USERNEV": "roland",
                                    "NEV": "Tóth Roland",
                                    "EMAIL": "roland@gmail.com",
                                    "SZAML_CIM": "2000 Szentendre Fő út 169.",
                                    "SZUL_DAT": "1968-03-21",
                                    "(No column name)": "57"
                                },
                                {
                                    "USERNEV": "andi",
                                    "NEV": "Maródi Andrea",
                                    "EMAIL": "andrea.maródi@mail.hu",
                                    "SZAML_CIM": "5465 Cserkeszőlő Árpád utca 4.",
                                    "SZUL_DAT": "1968-05-07",
                                    "(No column name)": "57"
                                },
                                {
                                    "USERNEV": "kata",
                                    "NEV": "Gondos Katalin",
                                    "EMAIL": "katalin.gondos@mail.hu",
                                    "SZAML_CIM": "8237 Tihany Kossuth Lajos utca 6.",
                                    "SZUL_DAT": "1968-06-22",
                                    "(No column name)": "57"
                                },
                                {
                                    "USERNEV": "katalin",
                                    "NEV": "Horváth Katalin",
                                    "EMAIL": "katalin.horváth@mail.hu",
                                    "SZAML_CIM": "2424 Előszállás Rákóczi út 200.",
                                    "SZUL_DAT": "1968-01-01",
                                    "(No column name)": "57"
                                },
                                {
                                    "USERNEV": "pal",
                                    "NEV": "Barabás Pál",
                                    "EMAIL": "pál.barabás@mail.hu",
                                    "SZAML_CIM": "1183 Budapest Szolnoki út 8.",
                                    "SZUL_DAT": "1968-02-06",
                                    "(No column name)": "57"
                                },
                                {
                                    "USERNEV": "NANDORF",
                                    "NEV": "Fő Nándor",
                                    "EMAIL": "nándor.fő@mail.hu",
                                    "SZAML_CIM": "5920 Csorvás Bécsi utca 82.",
                                    "SZUL_DAT": "1968-11-12",
                                    "(No column name)": "57"
                                },
                                {
                                    "USERNEV": "KRISZTIANM",
                                    "NEV": "Mogyródi Krisztián",
                                    "EMAIL": "KRISZTIANM@gmail.com",
                                    "SZAML_CIM": "9155 Lébény Jászai tér 21.",
                                    "SZUL_DAT": "1968-05-27",
                                    "(No column name)": "57"
                                },
                                {
                                    "USERNEV": "laszlo1",
                                    "NEV": "Farkas László",
                                    "EMAIL": "lászló.farkas@mail.hu",
                                    "SZAML_CIM": "5200 Törökszentmiklós Rendeki utca 21.",
                                    "SZUL_DAT": "1967-10-30",
                                    "(No column name)": "58"
                                },
                                {
                                    "USERNEV": "janos3",
                                    "NEV": "Harangozó János",
                                    "EMAIL": "janos3@gmail.com",
                                    "SZAML_CIM": "8700 Marcali Petőfi Sándor tér 1.",
                                    "SZUL_DAT": "1967-11-02",
                                    "(No column name)": "58"
                                },
                                {
                                    "USERNEV": "gusztav",
                                    "NEV": "Bárci Gusztáv",
                                    "EMAIL": "gusztav@gmail.com",
                                    "SZAML_CIM": "3643 Dédestapolcsány Endrődi Sándor utca 47.",
                                    "SZUL_DAT": "1967-02-25",
                                    "(No column name)": "58"
                                },
                                {
                                    "USERNEV": "agnes3",
                                    "NEV": "Hartyánszky Ágnes",
                                    "EMAIL": "agnes3@gmail.com",
                                    "SZAML_CIM": "6430 Bácsalmás Posta köz 2.",
                                    "SZUL_DAT": "1967-04-11",
                                    "(No column name)": "58"
                                },
                                {
                                    "USERNEV": "anett3",
                                    "NEV": "Pivarcsi Anett",
                                    "EMAIL": "anett.pivarcsi@mail.hu",
                                    "SZAML_CIM": "1149 Budapest Fő út 60.",
                                    "SZUL_DAT": "1967-01-03",
                                    "(No column name)": "58"
                                },
                                {
                                    "USERNEV": "eva",
                                    "NEV": "Enyedi Éva",
                                    "EMAIL": "eva@gmail.com",
                                    "SZAML_CIM": "4231 Bököny Petőfi utca 8.",
                                    "SZUL_DAT": "1967-06-30",
                                    "(No column name)": "58"
                                },
                                {
                                    "USERNEV": "ROBERTI",
                                    "NEV": "Iván Róbert",
                                    "EMAIL": "róbert.iván@mail.hu",
                                    "SZAML_CIM": "2377 Örkény Petőfi Sándor utca 3.",
                                    "SZUL_DAT": "1967-07-02",
                                    "(No column name)": "58"
                                },
                                {
                                    "USERNEV": "SZILARDS",
                                    "NEV": "Szalai Szilárd",
                                    "EMAIL": "szilárd.szalai@mail.hu",
                                    "SZAML_CIM": "1077 Budapest Fő út 18.",
                                    "SZUL_DAT": "1967-09-28",
                                    "(No column name)": "58"
                                }
                            ]
                        },
                        "text/html": [
                            "<table>",
                            "<tr><th>USERNEV</th><th>NEV</th><th>EMAIL</th><th>SZAML_CIM</th><th>SZUL_DAT</th><th>(No column name)</th></tr>",
                            "<tr><td>eszter2</td><td>Balogh Eszter</td><td>eszter.balogh@mail.hu</td><td>6760 Kistelek Kossuth utca 11.</td><td>1998-01-31</td><td>27</td></tr>",
                            "<tr><td>balint2</td><td>Vukasinovity Bálint</td><td>balint2@gmail.com</td><td>2330 Dunaharaszti Béke utca 7.</td><td>1997-09-03</td><td>28</td></tr>",
                            "<tr><td>andras2</td><td>Tóth András</td><td>andrás.tóth@mail.hu</td><td>4071 Egyek Petőfi utca 30.</td><td>1997-10-31</td><td>28</td></tr>",
                            "<tr><td>andras41</td><td>Komjáti András</td><td>andras41@gmail.com</td><td>5065 Nagykörű Kossuth út 24.</td><td>1997-10-25</td><td>28</td></tr>",
                            "<tr><td>ANDRASE</td><td>Erdei András</td><td>ANDRASE@gmail.com</td><td>5071 Besenyszög Szolnoki út 8.</td><td>1997-05-29</td><td>28</td></tr>",
                            "<tr><td>istvan1</td><td>Vizi István</td><td>istván.vizi@mail.hu</td><td>7086 Ozora Rákóczi utca 1.</td><td>1997-12-01</td><td>28</td></tr>",
                            "<tr><td>JUDITH</td><td>Hídasi Judit</td><td>JUDITH@gmail.com</td><td>2100 Gödöllő Fő út 169.</td><td>1997-07-12</td><td>28</td></tr>",
                            "<tr><td>lala</td><td>Nagymihály Lajos</td><td>lajos.nagymihály@mail.hu</td><td>8638 Balatonlelle Rákóczi út 200.</td><td>1997-02-24</td><td>28</td></tr>",
                            "<tr><td>MARKH</td><td>Horváth Márk</td><td>márk.horváth@mail.hu</td><td>4400 Nyíregyháza Badacsonyi utca 12.</td><td>1997-09-23</td><td>28</td></tr>",
                            "<tr><td>MATEK</td><td>Koza Máté</td><td>máté.koza@mail.hu</td><td>1011 Budapest Központi telep 3.</td><td>1997-02-28</td><td>28</td></tr>",
                            "<tr><td>NIKOLETTAT</td><td>Tatár Nikoletta</td><td>nikoletta.tatár@mail.hu</td><td>1067 Budapest Győri utca 12.</td><td>1997-10-19</td><td>28</td></tr>",
                            "<tr><td>sandor4</td><td>Nagy Sándor</td><td>sandor4@gmail.com</td><td>4600 Kisvárda Fő utca 47.</td><td>1997-06-11</td><td>28</td></tr>",
                            "<tr><td>TAMASF</td><td>Fényes Tamás</td><td>TAMASF@gmail.com</td><td>9023 Győr Arany János utca 1.</td><td>1997-11-06</td><td>28</td></tr>",
                            "<tr><td>timea</td><td>Papós Tímea</td><td>timea@gmail.com</td><td>1035 Budapest  Kossuth út 77.</td><td>1996-01-08</td><td>29</td></tr>",
                            "<tr><td>VIKTORIAU</td><td>Urbán Viktoria</td><td>viktoria.urbán@mail.hu</td><td>3860 Encs Népboltsor  2.</td><td>1996-05-03</td><td>29</td></tr>",
                            "<tr><td>mark</td><td>Kispál Márk</td><td>márk.kispál@mail.hu</td><td>1086 Budapest Juhászföldi út 1.</td><td>1996-01-23</td><td>29</td></tr>",
                            "<tr><td>fruzsina4</td><td>Frank Fruzsina</td><td>fruzsina4@gmail.com</td><td>9700 Szombathely Szabadság utca 95.</td><td>1996-08-16</td><td>29</td></tr>",
                            "<tr><td>andrea3</td><td>Szomor Andrea</td><td>andrea3@gmail.com</td><td>7960 Sellye Bécsi utca 82.</td><td>1996-05-10</td><td>29</td></tr>",
                            "<tr><td>balint</td><td>Horváth Bálint</td><td>balint@gmail.com</td><td>6646 Tömörkény Endrődi Sándor utca 47.</td><td>1996-03-17</td><td>29</td></tr>",
                            "<tr><td>bernadett2</td><td>Kovács Bernadett</td><td>bernadett.kovács@mail.hu</td><td>4200 Hajdúszoboszló Fő út 122.</td><td>1996-08-20</td><td>29</td></tr>",
                            "<tr><td>BELAF</td><td>Farkas Béla</td><td>BELAF@gmail.com</td><td>5530 Vésztő Petőfi Sándor utca 3.</td><td>1995-02-24</td><td>30</td></tr>",
                            "<tr><td>ATTILAO</td><td>Opra Attila</td><td>ATTILAO@gmail.com</td><td>8283 Káptalantóti Rákóczi út 200.</td><td>1995-05-08</td><td>30</td></tr>",
                            "<tr><td>dora3</td><td>Sarodi Dóra</td><td>dóra.sarodi@mail.hu</td><td>2855 Bokod Fő út 18.</td><td>1995-05-18</td><td>30</td></tr>",
                            "<tr><td>kati</td><td>Zatykó Katalin</td><td>katalin.zatykó@mail.hu</td><td>7511 Ötvöskónyi Kossuth Lajos utca 6.</td><td>1995-05-01</td><td>30</td></tr>",
                            "<tr><td>miklos2</td><td>Gondos Miklós</td><td>miklos2@gmail.com</td><td>2100 Gödöllő Árpád utca 23.</td><td>1995-10-07</td><td>30</td></tr>",
                            "<tr><td>maria1</td><td>Baráth Mária</td><td>mária.baráth@mail.hu</td><td>1047 Budapest Posta köz 2.</td><td>1995-11-19</td><td>30</td></tr>",
                            "<tr><td>beata4</td><td>Bagi Beáta</td><td>beáta.bagi@mail.hu</td><td>8477 Tüskevár Felszabadulás utca 32.</td><td>1994-03-19</td><td>31</td></tr>",
                            "<tr><td>zsuzsanna</td><td>Barta Zsuzsanna</td><td>zsuzsanna.barta@mail.hu</td><td>4172 Biharnagybajom Dózsa György utca 37.</td><td>1994-10-07</td><td>31</td></tr>",
                            "<tr><td>polla</td><td>Palágyi Polla</td><td>polla@gmail.com</td><td>2484 Agárd Fő út 18.</td><td>1994-02-04</td><td>31</td></tr>",
                            "<tr><td>rajmond4</td><td>Rácz Rajmond</td><td>rajmond.rácz@mail.hu</td><td>9155 Lébény Petőfi utca 1/2.</td><td>1993-09-25</td><td>32</td></tr>",
                            "<tr><td>tibor</td><td>Gombos Tibor</td><td>tibor.gombos@mail.hu</td><td>7100 Szekszárd Kossuth utca 77.</td><td>1993-11-28</td><td>32</td></tr>",
                            "<tr><td>eszter4</td><td>Fülöp Eszter</td><td>eszter.fülöp@mail.hu</td><td>3643 Dédestapolcsány Kossuth Lajos utca 47/b.</td><td>1993-06-28</td><td>32</td></tr>",
                            "<tr><td>andrea</td><td>Kiss Andrea</td><td>andrea.kiss@mail.hu</td><td>1113 Budapest Petőfi Sándor utca 87.</td><td>1993-03-25</td><td>32</td></tr>",
                            "<tr><td>julia</td><td>Tóth Júlia</td><td>julia@gmail.com</td><td>5310 Kisújszállás Árpád utca 4.</td><td>1993-03-02</td><td>32</td></tr>",
                            "<tr><td>alexandra</td><td>Bagóczki Alexandra</td><td>alexandra.bagóczki@mail.hu</td><td>2381 Táborfalva Petőfi utca 1/2.</td><td>1992-03-25</td><td>33</td></tr>",
                            "<tr><td>balazs1</td><td>Bozsik Balázs</td><td>balázs.bozsik@mail.hu</td><td>2300 Ráckeve Bécsi utca 82.</td><td>1992-11-03</td><td>33</td></tr>",
                            "<tr><td>SEBASTIANF</td><td>Foltényi Sebastián</td><td>SEBASTIANF@gmail.com</td><td>7960 Sellye Grassalkovich út 10.</td><td>1992-09-09</td><td>33</td></tr>",
                            "<tr><td>sebestyen</td><td>Rab Sebestyén</td><td>sebestyen@gmail.com</td><td>7130 Tolna Központi telep 3.</td><td>1992-03-03</td><td>33</td></tr>",
                            "<tr><td>RENATAS</td><td>Szirmai Renáta</td><td>RENATAS@gmail.com</td><td>2053 Herceghalom Kossuth utca 27.</td><td>1991-03-26</td><td>34</td></tr>",
                            "<tr><td>tihamer</td><td>Kazy Tihamér</td><td>tihamér.kazy@mail.hu</td><td>2370 Dabas Fő utca 60.</td><td>1991-07-05</td><td>34</td></tr>",
                            "<tr><td>vivien3</td><td>Boros Vivien</td><td>vivien3@gmail.com</td><td>2117 Isaszeg Fő út 122.</td><td>1991-07-01</td><td>34</td></tr>",
                            "<tr><td>brigitta3</td><td>Pataki Brigitta</td><td>brigitta.pataki@mail.hu</td><td>2730 Albertirsa Rendeki utca 21.</td><td>1991-05-23</td><td>34</td></tr>",
                            "<tr><td>adam1</td><td>Kiss Ádám</td><td>ádám.kiss@mail.hu</td><td>5630 Békés Szolnoki út 8.</td><td>1991-12-28</td><td>34</td></tr>",
                            "<tr><td>norbert2</td><td>Hegedűs Norbert</td><td>norbert.hegedűs@mail.hu</td><td>2081 Piliscsaba Rendeki utca 21.</td><td>1991-07-17</td><td>34</td></tr>",
                            "<tr><td>julianna4</td><td>Szabó Julianna</td><td>julianna4@gmail.com</td><td>6700 Szeged Kossuth Lajos utca 6.</td><td>1990-09-29</td><td>35</td></tr>",
                            "<tr><td>GABORS</td><td>Szöllősi Gábor</td><td>GABORS@gmail.com</td><td>3630 Putnok Kossuth utca 27.</td><td>1990-05-31</td><td>35</td></tr>",
                            "<tr><td>ilona3</td><td>Bosnyák Ilona</td><td>ilona3@gmail.com</td><td>2483 Gárdony Posta köz 2.</td><td>1990-08-06</td><td>35</td></tr>",
                            "<tr><td>arpad2</td><td>Ötvös Árpád</td><td>árpád.ötvös@mail.hu</td><td>2600 Vác Padragi út 158.</td><td>1990-06-08</td><td>35</td></tr>",
                            "<tr><td>ARPADH</td><td>Horváth Árpád</td><td>árpád.horváth@mail.hu</td><td>7349 Szászvár Dózsa György u. 1.</td><td>1990-05-18</td><td>35</td></tr>",
                            "<tr><td>annamaria1</td><td>Szűcs Annamária</td><td>annamária.szűcs@mail.hu</td><td>1191 Budapest Rendeki utca 21.</td><td>1990-04-27</td><td>35</td></tr>",
                            "<tr><td>david4</td><td>Berta Dávid</td><td>david4@gmail.com</td><td>3500 Miskolc Balatoni út 12.</td><td>1990-10-08</td><td>35</td></tr>",
                            "<tr><td>szabolcs</td><td>Bodor Szabolcs</td><td>szabolcs.bodor@mail.hu</td><td>6786 Ruzsa Ady Endre út 27.</td><td>1990-07-16</td><td>35</td></tr>",
                            "<tr><td>sandor3</td><td>Farkas Sándor</td><td>sándor.farkas@mail.hu</td><td>8640 Fonyód Tanácsköztársaság tér 1.</td><td>1989-01-27</td><td>36</td></tr>",
                            "<tr><td>VIKTORK</td><td>Keresztúri Viktor</td><td>viktor.keresztúri@mail.hu</td><td>2532 Tokodaltáró Nagy Lajos tér 4.</td><td>1989-05-05</td><td>36</td></tr>",
                            "<tr><td>emese</td><td>Kuruc Emese</td><td>emese.kuruc@mail.hu</td><td>6700 Szeged Rákóczi utca 67.</td><td>1989-08-10</td><td>36</td></tr>",
                            "<tr><td>ARONK</td><td>Kelemen Áron</td><td>áron.kelemen@mail.hu</td><td>8200 Veszprém Petőfi utca 8.</td><td>1989-08-10</td><td>36</td></tr>",
                            "<tr><td>balint1</td><td>Molnár Bálint</td><td>balint1@gmail.com</td><td>9181 Kimle Fő út 169.</td><td>1989-08-24</td><td>36</td></tr>",
                            "<tr><td>ISTVANV</td><td>Varga István</td><td>ISTVANV@gmail.com</td><td>6320 Solt Hősök tere 11.</td><td>1989-04-09</td><td>36</td></tr>",
                            "<tr><td>marton</td><td>Kalacsi Márton</td><td>marton@gmail.com</td><td>5137 Jászkisér Fő út 169.</td><td>1989-06-24</td><td>36</td></tr>",
                            "<tr><td>imre</td><td>Búza Imre</td><td>imre.búza@mail.hu</td><td>9181 Kimle Petőfi Sándor tér 1.</td><td>1988-09-30</td><td>37</td></tr>",
                            "<tr><td>ANIKOS</td><td>Simon Anikó</td><td>ANIKOS@gmail.com</td><td>5137 Jászkisér Bécsi utca 82.</td><td>1988-12-14</td><td>37</td></tr>",
                            "<tr><td>AGNESK</td><td>Kovács Ágnes</td><td>AGNESK@gmail.com</td><td>1084 Budapest Endrődi Sándor utca 47.</td><td>1988-10-02</td><td>37</td></tr>",
                            "<tr><td>zsolt1</td><td>Pulai Zsolt</td><td>zsolt.pulai@mail.hu</td><td>8391 Sármellék Fő utca 60.</td><td>1988-05-27</td><td>37</td></tr>",
                            "<tr><td>RENATAK</td><td>Kardos Renáta</td><td>renáta.kardos@mail.hu</td><td>7086 Ozora Bécsi utca 82.</td><td>1988-05-17</td><td>37</td></tr>",
                            "<tr><td>roza2</td><td>Bucskó Róza</td><td>roza2@gmail.com</td><td>5661 Újkígyós Arany János utca 3.</td><td>1988-12-26</td><td>37</td></tr>",
                            "<tr><td>bence</td><td>Győrffy Bence</td><td>bence@gmail.com</td><td>6900 Makó Árpád utca 23.</td><td>1987-07-09</td><td>38</td></tr>",
                            "<tr><td>BERNADETTO</td><td>Orbán Bernadett</td><td>bernadett.orbán@mail.hu</td><td>5085 Rákóczifalva Arany János utca 1.</td><td>1987-12-07</td><td>38</td></tr>",
                            "<tr><td>eszter</td><td>Molnár Eszter</td><td>eszter.molnár@mail.hu</td><td>6800 Hódmezővásárhely Fő út 77.</td><td>1987-05-10</td><td>38</td></tr>",
                            "<tr><td>gabor4</td><td>Telek Gábor</td><td>gábor.telek@mail.hu</td><td>9071 Görbeháza Fő út 169.</td><td>1987-03-15</td><td>38</td></tr>",
                            "<tr><td>KRISZTINAG</td><td>Gyárfás Krisztina</td><td>KRISZTINAG@gmail.com</td><td>6762 Sándorfalva Arany János utca 1.</td><td>1987-09-19</td><td>38</td></tr>",
                            "<tr><td>katalin4</td><td>Kertész Katalin</td><td>katalin4@gmail.com</td><td>2800 Tatabánya Búvár utca 4.</td><td>1986-04-13</td><td>39</td></tr>",
                            "<tr><td>henrik3</td><td>Nádudvari Henrik</td><td>henrik.nádudvari@mail.hu</td><td>1077 Budapest Tanácsköztársaság tér 1.</td><td>1986-12-05</td><td>39</td></tr>",
                            "<tr><td>istvan</td><td>Soós István</td><td>istvan@gmail.com</td><td>2370 Dabas Kossuth utca 27.</td><td>1986-06-28</td><td>39</td></tr>",
                            "<tr><td>dani</td><td>Vörös Dániel</td><td>daniel@gmail.com</td><td>7150 Bonyhád Dózsa György u. 1.</td><td>1986-10-14</td><td>39</td></tr>",
                            "<tr><td>balazs3</td><td>Bakódy Balázs</td><td>balazs3@gmail.com</td><td>2131 Göd Arany János utca 1.</td><td>1986-09-09</td><td>39</td></tr>",
                            "<tr><td>ANDREAT</td><td>Tornyos Andrea</td><td>ANDREAT@gmail.com</td><td>6131 Szank Bécsi utca 82.</td><td>1986-11-14</td><td>39</td></tr>",
                            "<tr><td>ARPADM</td><td>Móricz Árpád</td><td>árpád.móricz@mail.hu</td><td>3910 Tokaj Rákóczi utca 67.</td><td>1986-04-20</td><td>39</td></tr>",
                            "<tr><td>valentin</td><td>Feró Valentin</td><td>valentin.feró@mail.hu</td><td>3895 Gönc Búvár utca 4.</td><td>1986-01-09</td><td>39</td></tr>",
                            "<tr><td>zoltan4</td><td>Barna Zoltán</td><td>zoltan4@gmail.com</td><td>8313 Balatongyörök Jászai tér 21.</td><td>1986-05-20</td><td>39</td></tr>",
                            "<tr><td>ZOLTANT</td><td>Tóth Zoltán</td><td>zoltán.tóth@mail.hu</td><td>4244 Újfehértó Posta köz 2.</td><td>1985-12-14</td><td>40</td></tr>",
                            "<tr><td>tibor2</td><td>Dániel Tibor</td><td>tibor2@gmail.com</td><td>6646 Tömörkény Árpád utca 23.</td><td>1985-02-02</td><td>40</td></tr>",
                            "<tr><td>roland1</td><td>Ferencz Roland</td><td>roland.ferencz@mail.hu</td><td>2424 Előszállás Fő út 169.</td><td>1985-12-31</td><td>40</td></tr>",
                            "<tr><td>peter4</td><td>Bíró Péter</td><td>péter.bíró@mail.hu</td><td>5137 Jászkisér Rákóczi utca 67.</td><td>1985-09-01</td><td>40</td></tr>",
                            "<tr><td>jozsef</td><td>Gergely József</td><td>jozsef@gmail.com</td><td>6050 Lajosmizse Fő út 18.</td><td>1985-11-01</td><td>40</td></tr>",
                            "<tr><td>julia4</td><td>Nagy Júlia</td><td>julia4@gmail.com</td><td>7000 Sárbogárd Jászai tér 21.</td><td>1985-08-11</td><td>40</td></tr>",
                            "<tr><td>JANOSP</td><td>Pálinkás János</td><td>JANOSP@gmail.com</td><td>5920 Csorvás Padragi út 158.</td><td>1984-10-12</td><td>41</td></tr>",
                            "<tr><td>kristof4</td><td>Poprádi Kristóf</td><td>kristof4@gmail.com</td><td>8220 Balatonalmádi Mészáros utca 7.</td><td>1984-01-15</td><td>41</td></tr>",
                            "<tr><td>andras4</td><td>Back András</td><td>andras4@gmail.com</td><td>3783 Edelény Fő út 169.</td><td>1984-04-07</td><td>41</td></tr>",
                            "<tr><td>balazs2</td><td>Szűcs Balázs</td><td>balázs.szűcs@mail.hu</td><td>3170 Szécsény Szabadság utca 95.</td><td>1984-10-31</td><td>41</td></tr>",
                            "<tr><td>bernadett1</td><td>Simon Bernadett</td><td>bernadett1@gmail.com</td><td>2300 Ráckeve Fő utca 108.</td><td>1984-10-13</td><td>41</td></tr>",
                            "<tr><td>csongor3</td><td>Nagymihály Csongor</td><td>csongor.nagymihály@mail.hu</td><td>9181 Kimle Deák Ferenc út 5.</td><td>1984-03-05</td><td>41</td></tr>",
                            "<tr><td>edit</td><td>Bittmann Edit</td><td>edit.bittmann@mail.hu</td><td>6077 Orgovány Fő utca 60.</td><td>1984-04-20</td><td>41</td></tr>",
                            "<tr><td>tamas</td><td>Antal Tamás</td><td>tamás.antal@mail.hu</td><td>4440 Tiszavasvári Posta köz 2.</td><td>1984-09-05</td><td>41</td></tr>",
                            "<tr><td>veronika4</td><td>Tankó Veronika</td><td>veronika4@gmail.com</td><td>6412 Balotaszállás Rendeki utca 21.</td><td>1983-08-28</td><td>42</td></tr>",
                            "<tr><td>peter3</td><td>Szalai Péter</td><td>peter3@gmail.com</td><td>1155 Budapest Arany János utca 3.</td><td>1983-07-18</td><td>42</td></tr>",
                            "<tr><td>zsofi1</td><td>Molnár Zsófi</td><td>zsofi1@gmail.com</td><td>2730 Albertirsa Árpád utca 23.</td><td>1983-11-17</td><td>42</td></tr>",
                            "<tr><td>ZSOLTJ</td><td>Józsa Zsolt</td><td>ZSOLTJ@gmail.com</td><td>8315 Gyenesdiás Bajcsy-Zsilinszky utca 4.</td><td>1983-09-29</td><td>42</td></tr>",
                            "<tr><td>norbert4</td><td>Mile Norbert</td><td>norbert4@gmail.com</td><td>3973 Cigánd Bajcsy-Zsilinszky utca 4.</td><td>1983-06-15</td><td>42</td></tr>",
                            "<tr><td>IBOLYAA</td><td>Andor Ibolya</td><td>ibolya.andor@mail.hu</td><td>9023 Győr Posta köz 2.</td><td>1983-11-27</td><td>42</td></tr>",
                            "<tr><td>georgij</td><td>Nyíri Georgij</td><td>georgij.nyíri@mail.hu</td><td>8391 Sármellék Grassalkovich út 10.</td><td>1983-02-23</td><td>42</td></tr>",
                            "<tr><td>ferenc1</td><td>Orosz Ferenc</td><td>ferenc.orosz@mail.hu</td><td>5061 Tiszasüly Arany János utca 3.</td><td>1983-10-08</td><td>42</td></tr>",
                            "<tr><td>gabriella1</td><td>Nagy Gabriella</td><td>gabriella1@gmail.com</td><td>1077 Budapest Dob utca 1</td><td>1982-11-01</td><td>43</td></tr>",
                            "<tr><td>klaudia2</td><td>Bakó Klaudia</td><td>klaudia.bakó@mail.hu</td><td>8254 Kővágóörs Kossuth Lajos utca 6.</td><td>1982-04-16</td><td>43</td></tr>",
                            "<tr><td>akos</td><td>Bíró Ákos</td><td>ákos.bíró@mail.hu</td><td>9023 Győr Kossuth Lajos utca 47/b.</td><td>1982-04-24</td><td>43</td></tr>",
                            "<tr><td>attila1</td><td>Gulyás Attila</td><td>attila.gulyás@mail.hu</td><td>3881 Abaújszántó Szolnoki út 8.</td><td>1982-08-16</td><td>43</td></tr>",
                            "<tr><td>andrea4</td><td>Neizer Andrea</td><td>andrea4@gmail.com</td><td>1124 Budapest Kiss u. 8.</td><td>1981-05-17</td><td>44</td></tr>",
                            "<tr><td>AGNESH</td><td>Horváth Ágnes</td><td>AGNESH@gmail.com</td><td>8200 Veszprém Rákóczi utca 21.</td><td>1981-12-24</td><td>44</td></tr>",
                            "<tr><td>BEATRIXS</td><td>Szekendi Beatrix</td><td>beatrix.szekendi@mail.hu</td><td>4060 Balmazújváros Jászai tér 21.</td><td>1981-04-06</td><td>44</td></tr>",
                            "<tr><td>nikolett3</td><td>Horváth Nikolett</td><td>nikolett3@gmail.com</td><td>1072 Budapest Arany János utca 1.</td><td>1981-09-29</td><td>44</td></tr>",
                            "<tr><td>GYORGYO</td><td>Oroszi György</td><td>GYORGYO@gmail.com</td><td>7220 Sarkad Dózsa György u. 1.</td><td>1980-03-23</td><td>45</td></tr>",
                            "<tr><td>EVAV</td><td>Viktor Éva</td><td>EVAV@gmail.com</td><td>6913 Csanádpalota Arany János utca 3.</td><td>1980-12-26</td><td>45</td></tr>",
                            "<tr><td>aladar</td><td>Dunai Aladár</td><td>aladár.dunai@mail.hu</td><td>5931 Nagyszénás Árpád utca 23.</td><td>1980-11-01</td><td>45</td></tr>",
                            "<tr><td>ANDRASN</td><td>Nagy András</td><td>andrás.nagy@mail.hu</td><td>6500 Baja Fő út 169.</td><td>1980-09-05</td><td>45</td></tr>",
                            "<tr><td>zsuzsa</td><td>Pusztai Zsuzsanna</td><td>zsuzsanna@gmail.com</td><td>6783 Ásotthalom Badacsonyi utca 12.</td><td>1980-09-17</td><td>45</td></tr>",
                            "<tr><td>tamara2</td><td>Miklós Tamara</td><td>tamara.miklós@mail.hu</td><td>3910 Tokaj Kossuth út 39.</td><td>1980-08-11</td><td>45</td></tr>",
                            "<tr><td>SZABOLCSM</td><td>Miklós Szabolcs</td><td>szabolcs.miklós@mail.hu</td><td>1102 Budapest Fő út 169.</td><td>1980-08-11</td><td>45</td></tr>",
                            "<tr><td>MIHALYJ</td><td>Juhász Mihály</td><td>mihály.juhász@mail.hu</td><td>6786 Ruzsa Rákóczi utca 1.</td><td>1979-10-12</td><td>46</td></tr>",
                            "<tr><td>zsuzsa3</td><td>Varsányi Zsuzsa</td><td>zsuzsa.varsányi@mail.hu</td><td>8600 Siófok Árpád utca 4.</td><td>1979-03-06</td><td>46</td></tr>",
                            "<tr><td>zoltan</td><td>Fodor Zoltán</td><td>zoltán.fodor@mail.hu</td><td>3441 Mezőkeresztes Fő utca 23.</td><td>1979-11-25</td><td>46</td></tr>",
                            "<tr><td>agnes</td><td>Lengyel Ágnes</td><td>agnes@gmail.com</td><td>5200 Törökszentmiklós Deák Ferenc út 5.</td><td>1979-12-10</td><td>46</td></tr>",
                            "<tr><td>attila</td><td>Csóti Attila</td><td>attila@gmail.com</td><td>3000 Hatvan Bajcsy-Zsilinszky utca 4.</td><td>1979-12-25</td><td>46</td></tr>",
                            "<tr><td>MIKLOSB</td><td>Balla Miklós</td><td>miklós.balla@mail.hu</td><td>4060 Balmazújváros Szent István utca 2.</td><td>1979-02-16</td><td>46</td></tr>",
                            "<tr><td>krisztina</td><td>Szedlár Krisztina</td><td>krisztina@gmail.com</td><td>6646 Tömörkény Arany János utca 1.</td><td>1979-05-10</td><td>46</td></tr>",
                            "<tr><td>lajos</td><td>Kiss Lajos</td><td>lajos.kiss@mail.hu</td><td>1077 Budapest Dob utca 1</td><td>1978-10-31</td><td>47</td></tr>",
                            "<tr><td>kriszti</td><td>Horváth Krisztina</td><td>kriszti@gmail.com</td><td>6060 Tiszakécske Árpád utca 4.</td><td>1978-06-12</td><td>47</td></tr>",
                            "<tr><td>brigitta</td><td>Székely Brigitta</td><td>brigitta.székely@mail.hu</td><td>2462 Martonvásár Fő utca 47.</td><td>1978-09-13</td><td>47</td></tr>",
                            "<tr><td>jozsef2</td><td>Vajda József</td><td>józsef.vajda@mail.hu</td><td>6700 Szeged Baracsi László utca 14.</td><td>1978-09-04</td><td>47</td></tr>",
                            "<tr><td>aniko4</td><td>Böröcz Anikó</td><td>aniko4@gmail.com</td><td>2484 Agárd Petőfi Sándor tér 1.</td><td>1978-03-26</td><td>47</td></tr>",
                            "<tr><td>ESZTERE</td><td>Érsek Eszter</td><td>eszter.érsek@mail.hu</td><td>6785 Pusztamérges Kossuth Lajos utca 6.</td><td>1978-08-28</td><td>47</td></tr>",
                            "<tr><td>daniel</td><td>Rácz Dániel</td><td>dániel.rácz@mail.hu</td><td>9181 Kimle Szabadság tér 9.</td><td>1978-11-28</td><td>47</td></tr>",
                            "<tr><td>bertalan</td><td>Csiger Bertalan</td><td>bertalan@gmail.com</td><td>1192 Budapest Fő út 169.</td><td>1977-10-15</td><td>48</td></tr>",
                            "<tr><td>ANNAMARIAR</td><td>Regős Annamária</td><td>ANNAMARIAR@gmail.com</td><td>8283 Káptalantóti Petőfi Sándor tér 1.</td><td>1977-09-26</td><td>48</td></tr>",
                            "<tr><td>andras21</td><td>Molnár András</td><td>andrás.molnár@mail.hu</td><td>7900 Szigetvár Rákóczi utca 67.</td><td>1977-11-16</td><td>48</td></tr>",
                            "<tr><td>ZOLTANP</td><td>Pintér Zoltán</td><td>zoltán.pintér@mail.hu</td><td>6050 Lajosmizse Fő út 18.</td><td>1977-06-07</td><td>48</td></tr>",
                            "<tr><td>robert2</td><td>Patay Róbert</td><td>robert2@gmail.com</td><td>2370 Dabas Rákóczi utca 21.</td><td>1977-01-08</td><td>48</td></tr>",
                            "<tr><td>peter1</td><td>Kozma Péter</td><td>peter1@gmail.com</td><td>6913 Csanádpalota Központi telep 3.</td><td>1976-03-18</td><td>49</td></tr>",
                            "<tr><td>peter2</td><td>Bozsó Péter</td><td>peter2@gmail.com</td><td>4800 Vásárosnamény Zombori út 2/A</td><td>1976-01-26</td><td>49</td></tr>",
                            "<tr><td>ZSUZSAV</td><td>Vajda Zsuzsa</td><td>zsuzsa.vajda@mail.hu</td><td>6786 Ruzsa Kossuth utca 77.</td><td>1976-12-11</td><td>49</td></tr>",
                            "<tr><td>adam4</td><td>Bieniek Ádám</td><td>ádám.bieniek@mail.hu</td><td>8630 Balatonboglár Juhászföldi út 1.</td><td>1976-08-01</td><td>49</td></tr>",
                            "<tr><td>balu</td><td>Endresz Bálint</td><td>bálint.endresz@mail.hu</td><td>3973 Cigánd Fő út 169.</td><td>1976-08-01</td><td>49</td></tr>",
                            "<tr><td>debora</td><td>Barna Debóra</td><td>debóra.barna@mail.hu</td><td>1155 Budapest Fő út 169.</td><td>1976-10-14</td><td>49</td></tr>",
                            "<tr><td>imre1</td><td>Papp Imre</td><td>imre.papp@mail.hu</td><td>1077 Budapest Szolnoki út 8.</td><td>1976-06-25</td><td>49</td></tr>",
                            "<tr><td>JOZSEFG</td><td>Gyuris József</td><td>józsef.gyuris@mail.hu</td><td>2660 Balassagyarmat Petőfi utca 1/2.</td><td>1975-05-26</td><td>50</td></tr>",
                            "<tr><td>JANOSG</td><td>Giliga János</td><td>JANOSG@gmail.com</td><td>3300 Eger Deák Ferenc út 5.</td><td>1975-01-03</td><td>50</td></tr>",
                            "<tr><td>kornel4</td><td>Lukács Kornél</td><td>kornél.lukács@mail.hu</td><td>2053 Herceghalom Bécsi utca 82.</td><td>1975-09-30</td><td>50</td></tr>",
                            "<tr><td>katka</td><td>Kovács Katalin</td><td>katalin.kovács@mail.hu</td><td>8254 Kővágóörs Petőfi utca 22.</td><td>1975-03-31</td><td>50</td></tr>",
                            "<tr><td>laszlo2</td><td>Móra László</td><td>lászló.móra@mail.hu</td><td>9970 Szentgotthárd Petőfi utca 1/2.</td><td>1975-02-19</td><td>50</td></tr>",
                            "<tr><td>MATYASS</td><td>Szilágyi Mátyás</td><td>mátyás.szilágyi@mail.hu</td><td>9023 Győr Kossuth Lajos utca 6.</td><td>1975-03-22</td><td>50</td></tr>",
                            "<tr><td>norbert5</td><td>Béres Norbert</td><td>norbert5@gmail.com</td><td>8640 Fonyód Bajcsy-Zsilinszky utca 4.</td><td>1975-07-27</td><td>50</td></tr>",
                            "<tr><td>denes</td><td>Tömböly Dénes</td><td>denes@gmail.com</td><td>2400 Dunaújváros Kossuth út 39.</td><td>1975-03-14</td><td>50</td></tr>",
                            "<tr><td>attila4</td><td>Baróti Attila</td><td>attila.baróti@mail.hu</td><td>7149 Báta Arany János utca 3.</td><td>1975-11-06</td><td>50</td></tr>",
                            "<tr><td>timea2</td><td>Dusha Tímea</td><td>tímea.dusha@mail.hu</td><td>5920 Csorvás Kossuth utca 8.</td><td>1975-08-22</td><td>50</td></tr>",
                            "<tr><td>tunde</td><td>Turcsik Tünde</td><td>tunde@gmail.com</td><td>7130 Tolna Fő út 122.</td><td>1974-02-12</td><td>51</td></tr>",
                            "<tr><td>david</td><td>Ambrus Dávid</td><td>david@gmail.com</td><td>1149 Budapest Fő út 18.</td><td>1974-02-11</td><td>51</td></tr>",
                            "<tr><td>MONIKAM</td><td>Mohos Mónika</td><td>mónika.mohos@mail.hu</td><td>2241 Sülysáp Baracsi László utca 14.</td><td>1974-10-01</td><td>51</td></tr>",
                            "<tr><td>GYONGYIK</td><td>Kornseé Gyöngyi</td><td>gyöngyi.kornseé@mail.hu</td><td>8800 Nagykanizsa Fő út 60.</td><td>1974-06-07</td><td>51</td></tr>",
                            "<tr><td>gabor1</td><td>Köves Gábor</td><td>gabor1@gmail.com</td><td>6762 Sándorfalva Árpád utca 23.</td><td>1973-07-15</td><td>52</td></tr>",
                            "<tr><td>BENCEB</td><td>Bajusz Bence</td><td>bence.bajusz@mail.hu</td><td>8391 Sármellék Fő utca 56.</td><td>1973-06-21</td><td>52</td></tr>",
                            "<tr><td>aniko</td><td>Tóth Anikó</td><td>aniko@gmail.com</td><td>2085 Pilisvörösvár Deák Ferenc út 5.</td><td>1973-06-03</td><td>52</td></tr>",
                            "<tr><td>sara</td><td>Farkas Sára</td><td>sára.farkas@mail.hu</td><td>5940 Tótkomlós Felszabadulás utca 32.</td><td>1973-04-05</td><td>52</td></tr>",
                            "<tr><td>ROBERTP</td><td>Pásztor Róbert</td><td>ROBERTP@gmail.com</td><td>5137 Jászkisér Ady Endre út 27.</td><td>1972-05-16</td><td>53</td></tr>",
                            "<tr><td>BEATRIXK</td><td>Kerényi Beatrix</td><td>beatrix.kerényi@mail.hu</td><td>7396 Magyarszék Kossuth Lajos utca 47/b.</td><td>1972-04-06</td><td>53</td></tr>",
                            "<tr><td>matyas2</td><td>Botka Mátyás</td><td>matyas2@gmail.com</td><td>2700 Cegléd Kossuth Lajos utca 6.</td><td>1972-07-07</td><td>53</td></tr>",
                            "<tr><td>nikoletta4</td><td>Kő Nikoletta</td><td>nikoletta4@gmail.com</td><td>5537 Zsadány Fő út 18.</td><td>1972-01-10</td><td>53</td></tr>",
                            "<tr><td>eva2</td><td>Perlinger Éva</td><td>eva2@gmail.com</td><td>9653 Répcelak Bécsi utca 82.</td><td>1971-08-19</td><td>54</td></tr>",
                            "<tr><td>anita</td><td>Hamvay-Kovács Anita</td><td>anita.hamvay-kovács@mail.hu</td><td>7220 Sarkad Táncsics utca 19.</td><td>1971-03-20</td><td>54</td></tr>",
                            "<tr><td>aron2</td><td>Jakab Áron</td><td>aron2@gmail.com</td><td>7133 Fadd Bajcsy-Zsilinszky utca 4.</td><td>1971-04-26</td><td>54</td></tr>",
                            "<tr><td>andras3</td><td>Vígh András</td><td>andrás.vígh@mail.hu</td><td>1118 Budapest Arany János utca 1.</td><td>1971-04-02</td><td>54</td></tr>",
                            "<tr><td>szilvia1</td><td>Tari Szilvia</td><td>szilvia.tari@mail.hu</td><td>6080 Szabadszállás Bécsi utca 82.</td><td>1971-03-09</td><td>54</td></tr>",
                            "<tr><td>sandor</td><td>Karasz Sándor</td><td>sandor@gmail.com</td><td>8283 Káptalantóti Kossuth Lajos utca 1/a.</td><td>1970-01-27</td><td>55</td></tr>",
                            "<tr><td>adam3</td><td>Barkóci Ádám</td><td>adam3@gmail.com</td><td>3910 Tokaj Dózsa György utca 37.</td><td>1970-06-07</td><td>55</td></tr>",
                            "<tr><td>david1</td><td>Sobják Dávid</td><td>david1@gmail.com</td><td>5083 Kengyel Arany János utca 3.</td><td>1970-08-16</td><td>55</td></tr>",
                            "<tr><td>krisztian4</td><td>Czérna Krisztián</td><td>krisztián.czérna@mail.hu</td><td>1107 Budapest Dózsa György utca 37.</td><td>1970-08-01</td><td>55</td></tr>",
                            "<tr><td>krisztina1</td><td>Bori Krisztina</td><td>krisztina.bori@mail.hu</td><td>2115 Vácszentlászló Fő utca 47.</td><td>1969-10-13</td><td>56</td></tr>",
                            "<tr><td>LASZLOA</td><td>Antal László</td><td>lászló.antal@mail.hu</td><td>2484 Agárd Bécsi utca 82.</td><td>1969-06-29</td><td>56</td></tr>",
                            "<tr><td>LASZLON</td><td>Nagy László</td><td>lászló.nagy@mail.hu</td><td>1173 Budapest Jászai tér 21.</td><td>1969-04-12</td><td>56</td></tr>",
                            "<tr><td>norbert</td><td>Szűcs Norbert</td><td>norbert@gmail.com</td><td>5071 Besenyszög Győri utca 12.</td><td>1969-07-17</td><td>56</td></tr>",
                            "<tr><td>gabriella10</td><td>Vida Gabriella</td><td>gabriella10@gmail.com</td><td>2484 Agárd Arany János utca 3.</td><td>1969-06-18</td><td>56</td></tr>",
                            "<tr><td>daniel1</td><td>Keszler Dániel</td><td>dániel.keszler@mail.hu</td><td>3580 Tiszaújváros Kossuth Lajos utca 6.</td><td>1969-07-16</td><td>56</td></tr>",
                            "<tr><td>PETERB</td><td>Berendi Péter</td><td>péter.berendi@mail.hu</td><td>3980 Sátoraljaújhely Vasút utca 4/10.</td><td>1969-01-01</td><td>56</td></tr>",
                            "<tr><td>reka4</td><td>Szikszai Réka</td><td>réka.szikszai@mail.hu</td><td>8254 Kővágóörs Templom utca 73.</td><td>1969-11-27</td><td>56</td></tr>",
                            "<tr><td>roland</td><td>Tóth Roland</td><td>roland@gmail.com</td><td>2000 Szentendre Fő út 169.</td><td>1968-03-21</td><td>57</td></tr>",
                            "<tr><td>andi</td><td>Maródi Andrea</td><td>andrea.maródi@mail.hu</td><td>5465 Cserkeszőlő Árpád utca 4.</td><td>1968-05-07</td><td>57</td></tr>",
                            "<tr><td>kata</td><td>Gondos Katalin</td><td>katalin.gondos@mail.hu</td><td>8237 Tihany Kossuth Lajos utca 6.</td><td>1968-06-22</td><td>57</td></tr>",
                            "<tr><td>katalin</td><td>Horváth Katalin</td><td>katalin.horváth@mail.hu</td><td>2424 Előszállás Rákóczi út 200.</td><td>1968-01-01</td><td>57</td></tr>",
                            "<tr><td>pal</td><td>Barabás Pál</td><td>pál.barabás@mail.hu</td><td>1183 Budapest Szolnoki út 8.</td><td>1968-02-06</td><td>57</td></tr>",
                            "<tr><td>NANDORF</td><td>Fő Nándor</td><td>nándor.fő@mail.hu</td><td>5920 Csorvás Bécsi utca 82.</td><td>1968-11-12</td><td>57</td></tr>",
                            "<tr><td>KRISZTIANM</td><td>Mogyródi Krisztián</td><td>KRISZTIANM@gmail.com</td><td>9155 Lébény Jászai tér 21.</td><td>1968-05-27</td><td>57</td></tr>",
                            "<tr><td>laszlo1</td><td>Farkas László</td><td>lászló.farkas@mail.hu</td><td>5200 Törökszentmiklós Rendeki utca 21.</td><td>1967-10-30</td><td>58</td></tr>",
                            "<tr><td>janos3</td><td>Harangozó János</td><td>janos3@gmail.com</td><td>8700 Marcali Petőfi Sándor tér 1.</td><td>1967-11-02</td><td>58</td></tr>",
                            "<tr><td>gusztav</td><td>Bárci Gusztáv</td><td>gusztav@gmail.com</td><td>3643 Dédestapolcsány Endrődi Sándor utca 47.</td><td>1967-02-25</td><td>58</td></tr>",
                            "<tr><td>agnes3</td><td>Hartyánszky Ágnes</td><td>agnes3@gmail.com</td><td>6430 Bácsalmás Posta köz 2.</td><td>1967-04-11</td><td>58</td></tr>",
                            "<tr><td>anett3</td><td>Pivarcsi Anett</td><td>anett.pivarcsi@mail.hu</td><td>1149 Budapest Fő út 60.</td><td>1967-01-03</td><td>58</td></tr>",
                            "<tr><td>eva</td><td>Enyedi Éva</td><td>eva@gmail.com</td><td>4231 Bököny Petőfi utca 8.</td><td>1967-06-30</td><td>58</td></tr>",
                            "<tr><td>ROBERTI</td><td>Iván Róbert</td><td>róbert.iván@mail.hu</td><td>2377 Örkény Petőfi Sándor utca 3.</td><td>1967-07-02</td><td>58</td></tr>",
                            "<tr><td>SZILARDS</td><td>Szalai Szilárd</td><td>szilárd.szalai@mail.hu</td><td>1077 Budapest Fő út 18.</td><td>1967-09-28</td><td>58</td></tr>",
                            "</table>"
                        ]
                    }
                }
            ],
            "execution_count": 8
        }
    ]
}