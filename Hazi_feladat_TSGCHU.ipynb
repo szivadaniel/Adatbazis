{
    "metadata": {
        "kernelspec": {
            "name": "SQL",
            "display_name": "SQL",
            "language": "sql"
        },
        "language_info": {
            "name": "sql",
            "version": ""
        }
    },
    "nbformat_minor": 2,
    "nbformat": 4,
    "cells": [
        {
            "cell_type": "markdown",
            "source": [
                "Házi Feladat - Sziva Dániel (TSGCHU)\n",
                "\n",
                "**1\\. Lekérdezés:** A tábla sorainak megszámolása"
            ],
            "metadata": {
                "azdata_cell_guid": "a1be2f14-e385-48a5-ba32-cf4377003761"
            },
            "attachments": {}
        },
        {
            "cell_type": "code",
            "source": [
                "SELECT COUNT(*) As 'Sorok száma a Termék táblázatban'\r\n",
                "FROM Termek"
            ],
            "metadata": {
                "azdata_cell_guid": "2dc6993d-52b9-45aa-9c87-5000110f0f1b",
                "language": "sql",
                "tags": [
                    "hide_input"
                ]
            },
            "outputs": [
                {
                    "output_type": "display_data",
                    "data": {
                        "text/html": "(1 row affected)"
                    },
                    "metadata": {}
                },
                {
                    "output_type": "display_data",
                    "data": {
                        "text/html": "Total execution time: 00:00:00.152"
                    },
                    "metadata": {}
                },
                {
                    "output_type": "execute_result",
                    "metadata": {},
                    "execution_count": 74,
                    "data": {
                        "application/vnd.dataresource+json": {
                            "schema": {
                                "fields": [
                                    {
                                        "name": "Sorok száma a Termék táblázatban"
                                    }
                                ]
                            },
                            "data": [
                                {
                                    "Sorok száma a Termék táblázatban": "551"
                                }
                            ]
                        },
                        "text/html": [
                            "<table>",
                            "<tr><th>Sorok száma a Termék táblázatban</th></tr>",
                            "<tr><td>551</td></tr>",
                            "</table>"
                        ]
                    }
                }
            ],
            "execution_count": 74
        },
        {
            "cell_type": "markdown",
            "source": [
                "**2\\. Lekérdezés**: Maximum, Minimum, Átlag, Szórás meghatározása"
            ],
            "metadata": {
                "azdata_cell_guid": "af516da7-2426-4558-b65f-151d8bd5e2c1"
            },
            "attachments": {}
        },
        {
            "cell_type": "code",
            "source": [
                "SELECT MAX(listaar) AS 'Legmagasabb ár (Ft)',\r\n",
                "       MIN(listaar) AS 'Legalacsonybb ár (Ft)',\r\n",
                "       ROUND(AVG(listaar), 2) AS 'Átlagos ár (Ft)',\r\n",
                "       ROUND(STDEV(listaar), 2) AS 'Szórás'\r\n",
                "FROM Termek\r\n",
                "WHERE listaar is NOT NULL"
            ],
            "metadata": {
                "azdata_cell_guid": "8584fd42-f9a2-401e-9f4f-783849d59853",
                "language": "sql"
            },
            "outputs": [
                {
                    "output_type": "display_data",
                    "data": {
                        "text/html": "(1 row affected)"
                    },
                    "metadata": {}
                },
                {
                    "output_type": "display_data",
                    "data": {
                        "text/html": "Total execution time: 00:00:00.381"
                    },
                    "metadata": {}
                },
                {
                    "output_type": "execute_result",
                    "metadata": {},
                    "execution_count": 78,
                    "data": {
                        "application/vnd.dataresource+json": {
                            "schema": {
                                "fields": [
                                    {
                                        "name": "Legmagasabb ár (Ft)"
                                    },
                                    {
                                        "name": "Legalacsonybb ár (Ft)"
                                    },
                                    {
                                        "name": "Átlagos ár (Ft)"
                                    },
                                    {
                                        "name": "Szórás"
                                    }
                                ]
                            },
                            "data": [
                                {
                                    "Legmagasabb ár (Ft)": "46000",
                                    "Legalacsonybb ár (Ft)": "0",
                                    "Átlagos ár (Ft)": "786,28",
                                    "Szórás": "3602,48"
                                }
                            ]
                        },
                        "text/html": [
                            "<table>",
                            "<tr><th>Legmagasabb ár (Ft)</th><th>Legalacsonybb ár (Ft)</th><th>Átlagos ár (Ft)</th><th>Szórás</th></tr>",
                            "<tr><td>46000</td><td>0</td><td>786,28</td><td>3602,48</td></tr>",
                            "</table>"
                        ]
                    }
                }
            ],
            "execution_count": 78
        },
        {
            "cell_type": "markdown",
            "source": [
                "**3\\. Lekérdezés**: Karakterhossz meghatározása"
            ],
            "metadata": {
                "azdata_cell_guid": "2af6ed0f-6535-47b4-b1c7-ddbd9e3f44b6"
            },
            "attachments": {}
        },
        {
            "cell_type": "code",
            "source": [
                "SELECT TOP 20 megnevezes, \r\n",
                "       LEN(megnevezes) AS 'Karakterhossz',\r\n",
                "       LISTAAR As 'Ár (Ft)'\r\n",
                "FROM termek\r\n",
                "GROUP BY megnevezes, listaar\r\n",
                "ORDER BY LEN(megnevezes) DESC"
            ],
            "metadata": {
                "azdata_cell_guid": "cebd027e-cf6a-4c0c-b0e6-b1fa4b034a23",
                "language": "sql"
            },
            "outputs": [
                {
                    "output_type": "display_data",
                    "data": {
                        "text/html": "(20 rows affected)"
                    },
                    "metadata": {}
                },
                {
                    "output_type": "display_data",
                    "data": {
                        "text/html": "Total execution time: 00:00:01.739"
                    },
                    "metadata": {}
                },
                {
                    "output_type": "execute_result",
                    "metadata": {},
                    "execution_count": 130,
                    "data": {
                        "application/vnd.dataresource+json": {
                            "schema": {
                                "fields": [
                                    {
                                        "name": "megnevezes"
                                    },
                                    {
                                        "name": "Karakterhossz"
                                    },
                                    {
                                        "name": "Ár (Ft)"
                                    }
                                ]
                            },
                            "data": [
                                {
                                    "megnevezes": "A föld amelyen élünk - Távoli földrészek",
                                    "Karakterhossz": "40",
                                    "Ár (Ft)": "1089"
                                },
                                {
                                    "megnevezes": "Összefoglaló feladatgyüjtemény számtech.",
                                    "Karakterhossz": "40",
                                    "Ár (Ft)": "785"
                                },
                                {
                                    "megnevezes": "A föld amelyen élünk - Hazánk földrajza",
                                    "Karakterhossz": "39",
                                    "Ár (Ft)": "1089"
                                },
                                {
                                    "megnevezes": "A föld amelyen élünk - Európa földrajza",
                                    "Karakterhossz": "39",
                                    "Ár (Ft)": "1089"
                                },
                                {
                                    "megnevezes": "G. toll betét UNI lachnok Fine SA-7C",
                                    "Karakterhossz": "36",
                                    "Ár (Ft)": "85"
                                },
                                {
                                    "megnevezes": "Ragasztószalag 19 mm-es SCOTCH+ tépő",
                                    "Karakterhossz": "36",
                                    "Ár (Ft)": "426"
                                },
                                {
                                    "megnevezes": "A föld amelyen élünk - munkafüzet",
                                    "Karakterhossz": "33",
                                    "Ár (Ft)": "440"
                                },
                                {
                                    "megnevezes": "Díszdoboz tollnak 2 db-os keskeny",
                                    "Karakterhossz": "33",
                                    "Ár (Ft)": "44"
                                },
                                {
                                    "megnevezes": "Golyóstoll + ceruza Twister 2in1",
                                    "Karakterhossz": "32",
                                    "Ár (Ft)": "390"
                                },
                                {
                                    "megnevezes": "Ajándék cs. tasak italos, fólia",
                                    "Karakterhossz": "31",
                                    "Ár (Ft)": "19"
                                },
                                {
                                    "megnevezes": "Ajándék csomagoló tasak lézeres",
                                    "Karakterhossz": "31",
                                    "Ár (Ft)": "214"
                                },
                                {
                                    "megnevezes": "Érettségi felv. fel. Matematika",
                                    "Karakterhossz": "31",
                                    "Ár (Ft)": "720"
                                },
                                {
                                    "megnevezes": "félfamentes rajzlap A4 (10 lap)",
                                    "Karakterhossz": "31",
                                    "Ár (Ft)": "342"
                                },
                                {
                                    "megnevezes": "Pénztárgépszalag 2pl SC 57.5/60",
                                    "Karakterhossz": "31",
                                    "Ár (Ft)": "93"
                                },
                                {
                                    "megnevezes": "Ajándék cs. tasak mintás kicsi",
                                    "Karakterhossz": "30",
                                    "Ár (Ft)": "26"
                                },
                                {
                                    "megnevezes": "Ajándék cs. tasak virágos nagy",
                                    "Karakterhossz": "30",
                                    "Ár (Ft)": "290"
                                },
                                {
                                    "megnevezes": "Bevételi pénztárbizonylat 3×25",
                                    "Karakterhossz": "30",
                                    "Ár (Ft)": "144"
                                },
                                {
                                    "megnevezes": "Dekorációs karton arany, ezüst",
                                    "Karakterhossz": "30",
                                    "Ár (Ft)": "89"
                                },
                                {
                                    "megnevezes": "Fizikai feladatok és tévedések",
                                    "Karakterhossz": "30",
                                    "Ár (Ft)": "324"
                                },
                                {
                                    "megnevezes": "Füzetborító öntapadó tekercses",
                                    "Karakterhossz": "30",
                                    "Ár (Ft)": "195"
                                }
                            ]
                        },
                        "text/html": [
                            "<table>",
                            "<tr><th>megnevezes</th><th>Karakterhossz</th><th>Ár (Ft)</th></tr>",
                            "<tr><td>A föld amelyen élünk - Távoli földrészek</td><td>40</td><td>1089</td></tr>",
                            "<tr><td>Összefoglaló feladatgyüjtemény számtech.</td><td>40</td><td>785</td></tr>",
                            "<tr><td>A föld amelyen élünk - Hazánk földrajza</td><td>39</td><td>1089</td></tr>",
                            "<tr><td>A föld amelyen élünk - Európa földrajza</td><td>39</td><td>1089</td></tr>",
                            "<tr><td>G. toll betét UNI lachnok Fine SA-7C</td><td>36</td><td>85</td></tr>",
                            "<tr><td>Ragasztószalag 19 mm-es SCOTCH+ tépő</td><td>36</td><td>426</td></tr>",
                            "<tr><td>A föld amelyen élünk - munkafüzet</td><td>33</td><td>440</td></tr>",
                            "<tr><td>Díszdoboz tollnak 2 db-os keskeny</td><td>33</td><td>44</td></tr>",
                            "<tr><td>Golyóstoll + ceruza Twister 2in1</td><td>32</td><td>390</td></tr>",
                            "<tr><td>Ajándék cs. tasak italos, fólia</td><td>31</td><td>19</td></tr>",
                            "<tr><td>Ajándék csomagoló tasak lézeres</td><td>31</td><td>214</td></tr>",
                            "<tr><td>Érettségi felv. fel. Matematika</td><td>31</td><td>720</td></tr>",
                            "<tr><td>félfamentes rajzlap A4 (10 lap)</td><td>31</td><td>342</td></tr>",
                            "<tr><td>Pénztárgépszalag 2pl SC 57.5/60</td><td>31</td><td>93</td></tr>",
                            "<tr><td>Ajándék cs. tasak mintás kicsi</td><td>30</td><td>26</td></tr>",
                            "<tr><td>Ajándék cs. tasak virágos nagy</td><td>30</td><td>290</td></tr>",
                            "<tr><td>Bevételi pénztárbizonylat 3×25</td><td>30</td><td>144</td></tr>",
                            "<tr><td>Dekorációs karton arany, ezüst</td><td>30</td><td>89</td></tr>",
                            "<tr><td>Fizikai feladatok és tévedések</td><td>30</td><td>324</td></tr>",
                            "<tr><td>Füzetborító öntapadó tekercses</td><td>30</td><td>195</td></tr>",
                            "</table>"
                        ]
                    }
                }
            ],
            "execution_count": 130
        },
        {
            "cell_type": "markdown",
            "source": [
                "**4\\. Lekérdezés**: Minimum, Maximum, Átlagos karakterhossz, Szórás, Variancia meghatározása"
            ],
            "metadata": {
                "azdata_cell_guid": "2f985f02-0752-4108-bc9c-bd3390524b19"
            },
            "attachments": {}
        },
        {
            "cell_type": "code",
            "source": [
                "SELECT MIN(LEN(megnevezes)) AS 'Minimum karakterhossz', \r\n",
                "       MAX(LEN(megnevezes)) AS 'Maximum karakterhossz', \r\n",
                "       AVG(LEN(megnevezes)) AS 'Átlagos karakterhossz', \r\n",
                "       ROUND(STDEV(LEN(megnevezes)), 3) AS 'Szórás', \r\n",
                "       ROUND(VAR(LEN(megnevezes)), 3) AS 'Variancia'\r\n",
                "FROM Termek\r\n",
                "WHERE LEN(megnevezes) > 0\r\n",
                ""
            ],
            "metadata": {
                "azdata_cell_guid": "a3855472-282f-44fe-a46c-86e1a3ceeed1",
                "language": "sql"
            },
            "outputs": [
                {
                    "output_type": "display_data",
                    "data": {
                        "text/html": "(1 row affected)"
                    },
                    "metadata": {}
                },
                {
                    "output_type": "display_data",
                    "data": {
                        "text/html": "Total execution time: 00:00:00.100"
                    },
                    "metadata": {}
                },
                {
                    "output_type": "execute_result",
                    "metadata": {},
                    "execution_count": 88,
                    "data": {
                        "application/vnd.dataresource+json": {
                            "schema": {
                                "fields": [
                                    {
                                        "name": "Minimum karakterhossz"
                                    },
                                    {
                                        "name": "Maximum karakterhossz"
                                    },
                                    {
                                        "name": "Átlagos karakterhossz"
                                    },
                                    {
                                        "name": "Szórás"
                                    },
                                    {
                                        "name": "Variancia"
                                    }
                                ]
                            },
                            "data": [
                                {
                                    "Minimum karakterhossz": "3",
                                    "Maximum karakterhossz": "40",
                                    "Átlagos karakterhossz": "18",
                                    "Szórás": "5,892",
                                    "Variancia": "34,711"
                                }
                            ]
                        },
                        "text/html": [
                            "<table>",
                            "<tr><th>Minimum karakterhossz</th><th>Maximum karakterhossz</th><th>Átlagos karakterhossz</th><th>Szórás</th><th>Variancia</th></tr>",
                            "<tr><td>3</td><td>40</td><td>18</td><td>5,892</td><td>34,711</td></tr>",
                            "</table>"
                        ]
                    }
                }
            ],
            "execution_count": 88
        },
        {
            "cell_type": "markdown",
            "source": [
                "**5\\. Lekérdezés**: Karakterhossz és darabszámok meghatározása"
            ],
            "metadata": {
                "azdata_cell_guid": "dde7f5bf-3e57-48a1-9463-6be0a93f8036"
            },
            "attachments": {}
        },
        {
            "cell_type": "code",
            "source": [
                "SELECT  LEN(megnevezes) AS 'Karakterhossz',\r\n",
                "       COUNT(*) AS 'Darabszám'\r\n",
                "FROM Termek \r\n",
                "GROUP BY LEN(megnevezes)"
            ],
            "metadata": {
                "azdata_cell_guid": "c70303f0-102c-4e30-ba71-7f290af4ddff",
                "language": "sql"
            },
            "outputs": [
                {
                    "output_type": "display_data",
                    "data": {
                        "text/html": "(33 rows affected)"
                    },
                    "metadata": {}
                },
                {
                    "output_type": "display_data",
                    "data": {
                        "text/html": "Total execution time: 00:00:00.070"
                    },
                    "metadata": {}
                },
                {
                    "output_type": "execute_result",
                    "metadata": {},
                    "execution_count": 129,
                    "data": {
                        "application/vnd.dataresource+json": {
                            "schema": {
                                "fields": [
                                    {
                                        "name": "Karakterhossz"
                                    },
                                    {
                                        "name": "Darabszám"
                                    }
                                ]
                            },
                            "data": [
                                {
                                    "Karakterhossz": "3",
                                    "Darabszám": "2"
                                },
                                {
                                    "Karakterhossz": "5",
                                    "Darabszám": "2"
                                },
                                {
                                    "Karakterhossz": "6",
                                    "Darabszám": "1"
                                },
                                {
                                    "Karakterhossz": "7",
                                    "Darabszám": "2"
                                },
                                {
                                    "Karakterhossz": "8",
                                    "Darabszám": "5"
                                },
                                {
                                    "Karakterhossz": "9",
                                    "Darabszám": "8"
                                },
                                {
                                    "Karakterhossz": "10",
                                    "Darabszám": "15"
                                },
                                {
                                    "Karakterhossz": "11",
                                    "Darabszám": "18"
                                },
                                {
                                    "Karakterhossz": "12",
                                    "Darabszám": "23"
                                },
                                {
                                    "Karakterhossz": "13",
                                    "Darabszám": "30"
                                },
                                {
                                    "Karakterhossz": "14",
                                    "Darabszám": "35"
                                },
                                {
                                    "Karakterhossz": "15",
                                    "Darabszám": "32"
                                },
                                {
                                    "Karakterhossz": "16",
                                    "Darabszám": "42"
                                },
                                {
                                    "Karakterhossz": "17",
                                    "Darabszám": "32"
                                },
                                {
                                    "Karakterhossz": "18",
                                    "Darabszám": "38"
                                },
                                {
                                    "Karakterhossz": "19",
                                    "Darabszám": "37"
                                },
                                {
                                    "Karakterhossz": "20",
                                    "Darabszám": "35"
                                },
                                {
                                    "Karakterhossz": "21",
                                    "Darabszám": "37"
                                },
                                {
                                    "Karakterhossz": "22",
                                    "Darabszám": "26"
                                },
                                {
                                    "Karakterhossz": "23",
                                    "Darabszám": "20"
                                },
                                {
                                    "Karakterhossz": "24",
                                    "Darabszám": "29"
                                },
                                {
                                    "Karakterhossz": "25",
                                    "Darabszám": "16"
                                },
                                {
                                    "Karakterhossz": "26",
                                    "Darabszám": "12"
                                },
                                {
                                    "Karakterhossz": "27",
                                    "Darabszám": "10"
                                },
                                {
                                    "Karakterhossz": "28",
                                    "Darabszám": "8"
                                },
                                {
                                    "Karakterhossz": "29",
                                    "Darabszám": "11"
                                },
                                {
                                    "Karakterhossz": "30",
                                    "Darabszám": "11"
                                },
                                {
                                    "Karakterhossz": "31",
                                    "Darabszám": "5"
                                },
                                {
                                    "Karakterhossz": "32",
                                    "Darabszám": "1"
                                },
                                {
                                    "Karakterhossz": "33",
                                    "Darabszám": "2"
                                },
                                {
                                    "Karakterhossz": "36",
                                    "Darabszám": "2"
                                },
                                {
                                    "Karakterhossz": "39",
                                    "Darabszám": "2"
                                },
                                {
                                    "Karakterhossz": "40",
                                    "Darabszám": "2"
                                }
                            ]
                        },
                        "text/html": [
                            "<table>",
                            "<tr><th>Karakterhossz</th><th>Darabszám</th></tr>",
                            "<tr><td>3</td><td>2</td></tr>",
                            "<tr><td>5</td><td>2</td></tr>",
                            "<tr><td>6</td><td>1</td></tr>",
                            "<tr><td>7</td><td>2</td></tr>",
                            "<tr><td>8</td><td>5</td></tr>",
                            "<tr><td>9</td><td>8</td></tr>",
                            "<tr><td>10</td><td>15</td></tr>",
                            "<tr><td>11</td><td>18</td></tr>",
                            "<tr><td>12</td><td>23</td></tr>",
                            "<tr><td>13</td><td>30</td></tr>",
                            "<tr><td>14</td><td>35</td></tr>",
                            "<tr><td>15</td><td>32</td></tr>",
                            "<tr><td>16</td><td>42</td></tr>",
                            "<tr><td>17</td><td>32</td></tr>",
                            "<tr><td>18</td><td>38</td></tr>",
                            "<tr><td>19</td><td>37</td></tr>",
                            "<tr><td>20</td><td>35</td></tr>",
                            "<tr><td>21</td><td>37</td></tr>",
                            "<tr><td>22</td><td>26</td></tr>",
                            "<tr><td>23</td><td>20</td></tr>",
                            "<tr><td>24</td><td>29</td></tr>",
                            "<tr><td>25</td><td>16</td></tr>",
                            "<tr><td>26</td><td>12</td></tr>",
                            "<tr><td>27</td><td>10</td></tr>",
                            "<tr><td>28</td><td>8</td></tr>",
                            "<tr><td>29</td><td>11</td></tr>",
                            "<tr><td>30</td><td>11</td></tr>",
                            "<tr><td>31</td><td>5</td></tr>",
                            "<tr><td>32</td><td>1</td></tr>",
                            "<tr><td>33</td><td>2</td></tr>",
                            "<tr><td>36</td><td>2</td></tr>",
                            "<tr><td>39</td><td>2</td></tr>",
                            "<tr><td>40</td><td>2</td></tr>",
                            "</table>"
                        ]
                    }
                }
            ],
            "execution_count": 129
        },
        {
            "cell_type": "markdown",
            "source": [
                "**6\\. Lekérdezés:** Termékek darabszáma típusonként"
            ],
            "metadata": {
                "azdata_cell_guid": "3bc6dbe6-e5be-4854-b517-dea2767d588a"
            },
            "attachments": {}
        },
        {
            "cell_type": "code",
            "source": [
                "SELECT MEGYS AS 'Típus',\r\n",
                "       COUNT(*) AS 'Darabszám'\r\n",
                "FROM Termek\r\n",
                "GROUP BY MEGYS\r\n",
                "ORDER BY COUNT(*) DESC "
            ],
            "metadata": {
                "azdata_cell_guid": "79d22d82-0d73-40d1-a03a-18903e95d251",
                "language": "sql",
                "tags": []
            },
            "outputs": [
                {
                    "output_type": "display_data",
                    "data": {
                        "text/html": "(6 rows affected)"
                    },
                    "metadata": {}
                },
                {
                    "output_type": "display_data",
                    "data": {
                        "text/html": "Total execution time: 00:00:00.144"
                    },
                    "metadata": {}
                },
                {
                    "output_type": "execute_result",
                    "metadata": {},
                    "execution_count": 103,
                    "data": {
                        "application/vnd.dataresource+json": {
                            "schema": {
                                "fields": [
                                    {
                                        "name": "Típus"
                                    },
                                    {
                                        "name": "Darabszám"
                                    }
                                ]
                            },
                            "data": [
                                {
                                    "Típus": "db",
                                    "Darabszám": "483"
                                },
                                {
                                    "Típus": "csomag",
                                    "Darabszám": "44"
                                },
                                {
                                    "Típus": "ív",
                                    "Darabszám": "21"
                                },
                                {
                                    "Típus": "tekercs",
                                    "Darabszám": "1"
                                },
                                {
                                    "Típus": "üveg",
                                    "Darabszám": "1"
                                },
                                {
                                    "Típus": "doboz",
                                    "Darabszám": "1"
                                }
                            ]
                        },
                        "text/html": [
                            "<table>",
                            "<tr><th>Típus</th><th>Darabszám</th></tr>",
                            "<tr><td>db</td><td>483</td></tr>",
                            "<tr><td>csomag</td><td>44</td></tr>",
                            "<tr><td>ív</td><td>21</td></tr>",
                            "<tr><td>tekercs</td><td>1</td></tr>",
                            "<tr><td>üveg</td><td>1</td></tr>",
                            "<tr><td>doboz</td><td>1</td></tr>",
                            "</table>"
                        ]
                    }
                }
            ],
            "execution_count": 103
        },
        {
            "cell_type": "markdown",
            "source": [
                "**7\\. Lekérdezés**: Legdrágább termék meghatározása"
            ],
            "metadata": {
                "azdata_cell_guid": "6a5cc92a-7b7a-4b34-9570-8138f7e74b56"
            },
            "attachments": {}
        },
        {
            "cell_type": "code",
            "source": [
                "SELECT TOP 1 MEGNEVEZES AS 'Termék neve',\r\n",
                "       LISTAAR AS 'Ár',\r\n",
                "       Termekkod\r\n",
                "FROM Termek\r\n",
                "ORDER BY LISTAAR DESC"
            ],
            "metadata": {
                "azdata_cell_guid": "fb491fbf-8ea6-4276-bbaf-a61b192b68d6",
                "language": "sql"
            },
            "outputs": [
                {
                    "output_type": "display_data",
                    "data": {
                        "text/html": "(1 row affected)"
                    },
                    "metadata": {}
                },
                {
                    "output_type": "display_data",
                    "data": {
                        "text/html": "Total execution time: 00:00:01.702"
                    },
                    "metadata": {}
                },
                {
                    "output_type": "execute_result",
                    "metadata": {},
                    "execution_count": 125,
                    "data": {
                        "application/vnd.dataresource+json": {
                            "schema": {
                                "fields": [
                                    {
                                        "name": "Termék neve"
                                    },
                                    {
                                        "name": "Ár"
                                    },
                                    {
                                        "name": "Termekkod"
                                    }
                                ]
                            },
                            "data": [
                                {
                                    "Termék neve": "kosztüm (hosszú)",
                                    "Ár": "46000",
                                    "Termekkod": "N039-AL222"
                                }
                            ]
                        },
                        "text/html": [
                            "<table>",
                            "<tr><th>Termék neve</th><th>Ár</th><th>Termekkod</th></tr>",
                            "<tr><td>kosztüm (hosszú)</td><td>46000</td><td>N039-AL222</td></tr>",
                            "</table>"
                        ]
                    }
                }
            ],
            "execution_count": 125
        },
        {
            "cell_type": "markdown",
            "source": [
                "**8\\. Lekérdezés**: Azoknak a termékeknek a kódja és ára, amelyeket Sára vagy Béla rögzített"
            ],
            "metadata": {
                "azdata_cell_guid": "7e82ed24-56f3-4df0-959e-4d33366a0c22"
            },
            "attachments": {}
        },
        {
            "cell_type": "code",
            "source": [
                "SELECT DISTINCT termekkod AS 'Termékkód', \r\n",
                "                listaar AS 'Ár', \r\n",
                "                felvitte As 'Felvitte'\r\n",
                "FROM Termek\r\n",
                "Where Felvitte IN ('Sára', 'Béla')"
            ],
            "metadata": {
                "azdata_cell_guid": "d3cf0294-8055-4366-8f37-869ff1e409c5",
                "language": "sql"
            },
            "outputs": [
                {
                    "output_type": "display_data",
                    "data": {
                        "text/html": "(377 rows affected)"
                    },
                    "metadata": {}
                },
                {
                    "output_type": "display_data",
                    "data": {
                        "text/html": "Total execution time: 00:00:05.598"
                    },
                    "metadata": {}
                },
                {
                    "output_type": "execute_result",
                    "metadata": {},
                    "execution_count": 124,
                    "data": {
                        "application/vnd.dataresource+json": {
                            "schema": {
                                "fields": [
                                    {
                                        "name": "Termékkód"
                                    },
                                    {
                                        "name": "Listaár"
                                    },
                                    {
                                        "name": "Felvitte"
                                    }
                                ]
                            },
                            "data": [
                                {
                                    "Termékkód": "01010001T",
                                    "Listaár": "342",
                                    "Felvitte": "Béla"
                                },
                                {
                                    "Termékkód": "01010110T",
                                    "Listaár": "30",
                                    "Felvitte": "Béla"
                                },
                                {
                                    "Termékkód": "01010304T",
                                    "Listaár": "59",
                                    "Felvitte": "Sára"
                                },
                                {
                                    "Termékkód": "01020299T",
                                    "Listaár": "48",
                                    "Felvitte": "Béla"
                                },
                                {
                                    "Termékkód": "01020300T",
                                    "Listaár": "55",
                                    "Felvitte": "Béla"
                                },
                                {
                                    "Termékkód": "01030091T",
                                    "Listaár": "26",
                                    "Felvitte": "Béla"
                                },
                                {
                                    "Termékkód": "01030092T",
                                    "Listaár": "59",
                                    "Felvitte": "Sára"
                                },
                                {
                                    "Termékkód": "01040307T",
                                    "Listaár": "15",
                                    "Felvitte": "Sára"
                                },
                                {
                                    "Termékkód": "01040502T",
                                    "Listaár": "25",
                                    "Felvitte": "Sára"
                                },
                                {
                                    "Termékkód": "01080093T",
                                    "Listaár": "161",
                                    "Felvitte": "Sára"
                                },
                                {
                                    "Termékkód": "01080512T",
                                    "Listaár": "4575",
                                    "Felvitte": "Sára"
                                },
                                {
                                    "Termékkód": "01080513T",
                                    "Listaár": "38",
                                    "Felvitte": "Sára"
                                },
                                {
                                    "Termékkód": "01090499T",
                                    "Listaár": "15",
                                    "Felvitte": "Sára"
                                },
                                {
                                    "Termékkód": "01090500T",
                                    "Listaár": "14",
                                    "Felvitte": "Béla"
                                },
                                {
                                    "Termékkód": "01090501T",
                                    "Listaár": "4",
                                    "Felvitte": "Béla"
                                },
                                {
                                    "Termékkód": "01090515T",
                                    "Listaár": "11",
                                    "Felvitte": "Béla"
                                },
                                {
                                    "Termékkód": "01090516T",
                                    "Listaár": "25",
                                    "Felvitte": "Béla"
                                },
                                {
                                    "Termékkód": "01090517T",
                                    "Listaár": "4",
                                    "Felvitte": "Béla"
                                },
                                {
                                    "Termékkód": "01100070T",
                                    "Listaár": "73",
                                    "Felvitte": "Béla"
                                },
                                {
                                    "Termékkód": "01100071T",
                                    "Listaár": "89",
                                    "Felvitte": "Sára"
                                },
                                {
                                    "Termékkód": "01100072T",
                                    "Listaár": "9",
                                    "Felvitte": "Sára"
                                },
                                {
                                    "Termékkód": "01100094T",
                                    "Listaár": "845",
                                    "Felvitte": "Sára"
                                },
                                {
                                    "Termékkód": "01100095T",
                                    "Listaár": "728",
                                    "Felvitte": "Sára"
                                },
                                {
                                    "Termékkód": "01100096T",
                                    "Listaár": "728",
                                    "Felvitte": "Sára"
                                },
                                {
                                    "Termékkód": "01100496T",
                                    "Listaár": "1500",
                                    "Felvitte": "Sára"
                                },
                                {
                                    "Termékkód": "01100497T",
                                    "Listaár": "14",
                                    "Felvitte": "Béla"
                                },
                                {
                                    "Termékkód": "01100503T",
                                    "Listaár": "10",
                                    "Felvitte": "Béla"
                                },
                                {
                                    "Termékkód": "01100504T",
                                    "Listaár": "1488",
                                    "Felvitte": "Sára"
                                },
                                {
                                    "Termékkód": "01100505T",
                                    "Listaár": "686",
                                    "Felvitte": "Sára"
                                },
                                {
                                    "Termékkód": "01100509T",
                                    "Listaár": "40",
                                    "Felvitte": "Sára"
                                },
                                {
                                    "Termékkód": "01100510T",
                                    "Listaár": "13",
                                    "Felvitte": "Sára"
                                },
                                {
                                    "Termékkód": "02010028T",
                                    "Listaár": "106",
                                    "Felvitte": "Sára"
                                },
                                {
                                    "Termékkód": "02020029T",
                                    "Listaár": "115",
                                    "Felvitte": "Sára"
                                },
                                {
                                    "Termékkód": "02020032T",
                                    "Listaár": "133",
                                    "Felvitte": "Sára"
                                },
                                {
                                    "Termékkód": "02020033T",
                                    "Listaár": "328",
                                    "Felvitte": "Sára"
                                },
                                {
                                    "Termékkód": "02020037T",
                                    "Listaár": "144",
                                    "Felvitte": "Sára"
                                },
                                {
                                    "Termékkód": "02020245T",
                                    "Listaár": "103",
                                    "Felvitte": "Sára"
                                },
                                {
                                    "Termékkód": "02020444T",
                                    "Listaár": "464",
                                    "Felvitte": "Sára"
                                },
                                {
                                    "Termékkód": "02030040T",
                                    "Listaár": "6",
                                    "Felvitte": "Sára"
                                },
                                {
                                    "Termékkód": "02030043T",
                                    "Listaár": "39",
                                    "Felvitte": "Sára"
                                },
                                {
                                    "Termékkód": "02030044T",
                                    "Listaár": "15",
                                    "Felvitte": "Béla"
                                },
                                {
                                    "Termékkód": "02040002T",
                                    "Listaár": "2100",
                                    "Felvitte": "Béla"
                                },
                                {
                                    "Termékkód": "02040025T",
                                    "Listaár": "133",
                                    "Felvitte": "Béla"
                                },
                                {
                                    "Termékkód": "02040145T",
                                    "Listaár": "30",
                                    "Felvitte": "Béla"
                                },
                                {
                                    "Termékkód": "02040146T",
                                    "Listaár": "48",
                                    "Felvitte": "Béla"
                                },
                                {
                                    "Termékkód": "02040147T",
                                    "Listaár": "8",
                                    "Felvitte": "Béla"
                                },
                                {
                                    "Termékkód": "02040148T",
                                    "Listaár": "63",
                                    "Felvitte": "Béla"
                                },
                                {
                                    "Termékkód": "02040149T",
                                    "Listaár": "110",
                                    "Felvitte": "Béla"
                                },
                                {
                                    "Termékkód": "02040176T",
                                    "Listaár": "18",
                                    "Felvitte": "Sára"
                                },
                                {
                                    "Termékkód": "02040177T",
                                    "Listaár": "30",
                                    "Felvitte": "Béla"
                                },
                                {
                                    "Termékkód": "02040178T",
                                    "Listaár": "35",
                                    "Felvitte": "Béla"
                                },
                                {
                                    "Termékkód": "02040194T",
                                    "Listaár": "794",
                                    "Felvitte": "Béla"
                                },
                                {
                                    "Termékkód": "02040195T",
                                    "Listaár": "185",
                                    "Felvitte": "Béla"
                                },
                                {
                                    "Termékkód": "02040196T",
                                    "Listaár": "273",
                                    "Felvitte": "Béla"
                                },
                                {
                                    "Termékkód": "02040197T",
                                    "Listaár": "81",
                                    "Felvitte": "Béla"
                                },
                                {
                                    "Termékkód": "02040198T",
                                    "Listaár": "133",
                                    "Felvitte": "Béla"
                                },
                                {
                                    "Termékkód": "02040199T",
                                    "Listaár": "286",
                                    "Felvitte": "Béla"
                                },
                                {
                                    "Termékkód": "02040211T",
                                    "Listaár": "243",
                                    "Felvitte": "Béla"
                                },
                                {
                                    "Termékkód": "02040292T",
                                    "Listaár": "78",
                                    "Felvitte": "Sára"
                                },
                                {
                                    "Termékkód": "02040293T",
                                    "Listaár": "310",
                                    "Felvitte": "Sára"
                                },
                                {
                                    "Termékkód": "02040294T",
                                    "Listaár": "103",
                                    "Felvitte": "Béla"
                                },
                                {
                                    "Termékkód": "02040508T",
                                    "Listaár": "44",
                                    "Felvitte": "Sára"
                                },
                                {
                                    "Termékkód": "02050461T",
                                    "Listaár": "18",
                                    "Felvitte": "Béla"
                                },
                                {
                                    "Termékkód": "02060034T",
                                    "Listaár": "297",
                                    "Felvitte": "Béla"
                                },
                                {
                                    "Termékkód": "02060038T",
                                    "Listaár": "780",
                                    "Felvitte": "Béla"
                                },
                                {
                                    "Termékkód": "02060039T",
                                    "Listaár": "650",
                                    "Felvitte": "Béla"
                                },
                                {
                                    "Termékkód": "02060448T",
                                    "Listaár": "1147",
                                    "Felvitte": "Sára"
                                },
                                {
                                    "Termékkód": "02080069T",
                                    "Listaár": "30",
                                    "Felvitte": "Sára"
                                },
                                {
                                    "Termékkód": "02080081T",
                                    "Listaár": "133",
                                    "Felvitte": "Sára"
                                },
                                {
                                    "Termékkód": "02080226T",
                                    "Listaár": "106",
                                    "Felvitte": "Béla"
                                },
                                {
                                    "Termékkód": "02080431T",
                                    "Listaár": "214",
                                    "Felvitte": "Sára"
                                },
                                {
                                    "Termékkód": "02080432T",
                                    "Listaár": "259",
                                    "Felvitte": "Sára"
                                },
                                {
                                    "Termékkód": "02080433T",
                                    "Listaár": "55",
                                    "Felvitte": "Sára"
                                },
                                {
                                    "Termékkód": "02080435T",
                                    "Listaár": "184",
                                    "Felvitte": "Sára"
                                },
                                {
                                    "Termékkód": "02080454T",
                                    "Listaár": "765",
                                    "Felvitte": "Sára"
                                },
                                {
                                    "Termékkód": "02080456T",
                                    "Listaár": "89",
                                    "Felvitte": "Béla"
                                },
                                {
                                    "Termékkód": "02080511T",
                                    "Listaár": "14250",
                                    "Felvitte": "Béla"
                                },
                                {
                                    "Termékkód": "02080514T",
                                    "Listaár": "45",
                                    "Felvitte": "Béla"
                                },
                                {
                                    "Termékkód": "03010342T",
                                    "Listaár": "15",
                                    "Felvitte": "Béla"
                                },
                                {
                                    "Termékkód": "03010344T",
                                    "Listaár": "63",
                                    "Felvitte": "Béla"
                                },
                                {
                                    "Termékkód": "03010345T",
                                    "Listaár": "166",
                                    "Felvitte": "Béla"
                                },
                                {
                                    "Termékkód": "03050076T",
                                    "Listaár": "26",
                                    "Felvitte": "Béla"
                                },
                                {
                                    "Termékkód": "03050080T",
                                    "Listaár": "81",
                                    "Felvitte": "Béla"
                                },
                                {
                                    "Termékkód": "03050457T",
                                    "Listaár": "26",
                                    "Felvitte": "Béla"
                                },
                                {
                                    "Termékkód": "03050458T",
                                    "Listaár": "148",
                                    "Felvitte": "Sára"
                                },
                                {
                                    "Termékkód": "03050459T",
                                    "Listaár": "40",
                                    "Felvitte": "Sára"
                                },
                                {
                                    "Termékkód": "03080003T",
                                    "Listaár": "185",
                                    "Felvitte": "Sára"
                                },
                                {
                                    "Termékkód": "03080004T",
                                    "Listaár": "19",
                                    "Felvitte": "Sára"
                                },
                                {
                                    "Termékkód": "03080005T",
                                    "Listaár": "290",
                                    "Felvitte": "Sára"
                                },
                                {
                                    "Termékkód": "03080013T",
                                    "Listaár": "64",
                                    "Felvitte": "Béla"
                                },
                                {
                                    "Termékkód": "03080014T",
                                    "Listaár": "81",
                                    "Felvitte": "Béla"
                                },
                                {
                                    "Termékkód": "03080015T",
                                    "Listaár": "169",
                                    "Felvitte": "Béla"
                                },
                                {
                                    "Termékkód": "03080016T",
                                    "Listaár": "110",
                                    "Felvitte": "Béla"
                                },
                                {
                                    "Termékkód": "03080017T",
                                    "Listaár": "148",
                                    "Felvitte": "Sára"
                                },
                                {
                                    "Termékkód": "03080018T",
                                    "Listaár": "121",
                                    "Felvitte": "Sára"
                                },
                                {
                                    "Termékkód": "03080019T",
                                    "Listaár": "56",
                                    "Felvitte": "Béla"
                                },
                                {
                                    "Termékkód": "03080020T",
                                    "Listaár": "44",
                                    "Felvitte": "Sára"
                                },
                                {
                                    "Termékkód": "03080021T",
                                    "Listaár": "23",
                                    "Felvitte": "Béla"
                                },
                                {
                                    "Termékkód": "03080031T",
                                    "Listaár": "106",
                                    "Felvitte": "Sára"
                                },
                                {
                                    "Termékkód": "03080437T",
                                    "Listaár": "185",
                                    "Felvitte": "Sára"
                                },
                                {
                                    "Termékkód": "03080438T",
                                    "Listaár": "214",
                                    "Felvitte": "Sára"
                                },
                                {
                                    "Termékkód": "03080439T",
                                    "Listaár": "114",
                                    "Felvitte": "Sára"
                                },
                                {
                                    "Termékkód": "04020445T",
                                    "Listaár": "728",
                                    "Felvitte": "Sára"
                                },
                                {
                                    "Termékkód": "04030234T",
                                    "Listaár": "30",
                                    "Felvitte": "Béla"
                                },
                                {
                                    "Termékkód": "04030235T",
                                    "Listaár": "73",
                                    "Felvitte": "Béla"
                                },
                                {
                                    "Termékkód": "04030236T",
                                    "Listaár": "15",
                                    "Felvitte": "Béla"
                                },
                                {
                                    "Termékkód": "04030237T",
                                    "Listaár": "36",
                                    "Felvitte": "Béla"
                                },
                                {
                                    "Termékkód": "04030238T",
                                    "Listaár": "59",
                                    "Felvitte": "Sára"
                                },
                                {
                                    "Termékkód": "04030239T",
                                    "Listaár": "48",
                                    "Felvitte": "Béla"
                                },
                                {
                                    "Termékkód": "04030240T",
                                    "Listaár": "14",
                                    "Felvitte": "Sára"
                                },
                                {
                                    "Termékkód": "04030260T",
                                    "Listaár": "15",
                                    "Felvitte": "Béla"
                                },
                                {
                                    "Termékkód": "04030261T",
                                    "Listaár": "140",
                                    "Felvitte": "Béla"
                                },
                                {
                                    "Termékkód": "04030262T",
                                    "Listaár": "56",
                                    "Felvitte": "Sára"
                                },
                                {
                                    "Termékkód": "04030263T",
                                    "Listaár": "89",
                                    "Felvitte": "Sára"
                                },
                                {
                                    "Termékkód": "04030287T",
                                    "Listaár": "23",
                                    "Felvitte": "Béla"
                                },
                                {
                                    "Termékkód": "04030288T",
                                    "Listaár": "3",
                                    "Felvitte": "Béla"
                                },
                                {
                                    "Termékkód": "04030289T",
                                    "Listaár": "15",
                                    "Felvitte": "Béla"
                                },
                                {
                                    "Termékkód": "04040090T",
                                    "Listaár": "526",
                                    "Felvitte": "Béla"
                                },
                                {
                                    "Termékkód": "04040387T",
                                    "Listaár": "81",
                                    "Felvitte": "Béla"
                                },
                                {
                                    "Termékkód": "04050022T",
                                    "Listaár": "89",
                                    "Felvitte": "Béla"
                                },
                                {
                                    "Termékkód": "04050023T",
                                    "Listaár": "144",
                                    "Felvitte": "Sára"
                                },
                                {
                                    "Termékkód": "04050024T",
                                    "Listaár": "144",
                                    "Felvitte": "Sára"
                                },
                                {
                                    "Termékkód": "04050035T",
                                    "Listaár": "24",
                                    "Felvitte": "Sára"
                                },
                                {
                                    "Termékkód": "04050073T",
                                    "Listaár": "61",
                                    "Felvitte": "Béla"
                                },
                                {
                                    "Termékkód": "04050075T",
                                    "Listaár": "44",
                                    "Felvitte": "Béla"
                                },
                                {
                                    "Termékkód": "04050171T",
                                    "Listaár": "110",
                                    "Felvitte": "Béla"
                                },
                                {
                                    "Termékkód": "04050187T",
                                    "Listaár": "66",
                                    "Felvitte": "Béla"
                                },
                                {
                                    "Termékkód": "04050223T",
                                    "Listaár": "73",
                                    "Felvitte": "Sára"
                                },
                                {
                                    "Termékkód": "04050224T",
                                    "Listaár": "48",
                                    "Felvitte": "Sára"
                                },
                                {
                                    "Termékkód": "04050225T",
                                    "Listaár": "131",
                                    "Felvitte": "Sára"
                                },
                                {
                                    "Termékkód": "04050250T",
                                    "Listaár": "115",
                                    "Felvitte": "Béla"
                                },
                                {
                                    "Termékkód": "04050251T",
                                    "Listaár": "148",
                                    "Felvitte": "Béla"
                                },
                                {
                                    "Termékkód": "04050252T",
                                    "Listaár": "124",
                                    "Felvitte": "Béla"
                                },
                                {
                                    "Termékkód": "04050268T",
                                    "Listaár": "15",
                                    "Felvitte": "Béla"
                                },
                                {
                                    "Termékkód": "04050269T",
                                    "Listaár": "11",
                                    "Felvitte": "Béla"
                                },
                                {
                                    "Termékkód": "04050320T",
                                    "Listaár": "173",
                                    "Felvitte": "Sára"
                                },
                                {
                                    "Termékkód": "04050321T",
                                    "Listaár": "161",
                                    "Felvitte": "Sára"
                                },
                                {
                                    "Termékkód": "04050322T",
                                    "Listaár": "314",
                                    "Felvitte": "Sára"
                                },
                                {
                                    "Termékkód": "04050358T",
                                    "Listaár": "356",
                                    "Felvitte": "Sára"
                                },
                                {
                                    "Termékkód": "04080270T",
                                    "Listaár": "1765",
                                    "Felvitte": "Sára"
                                },
                                {
                                    "Termékkód": "04080271T",
                                    "Listaár": "264",
                                    "Felvitte": "Sára"
                                },
                                {
                                    "Termékkód": "04080443T",
                                    "Listaár": "449",
                                    "Felvitte": "Sára"
                                },
                                {
                                    "Termékkód": "04110066T",
                                    "Listaár": "26",
                                    "Felvitte": "Sára"
                                },
                                {
                                    "Termékkód": "04110067T",
                                    "Listaár": "31",
                                    "Felvitte": "Sára"
                                },
                                {
                                    "Termékkód": "04110068T",
                                    "Listaár": "20",
                                    "Felvitte": "Béla"
                                },
                                {
                                    "Termékkód": "04110228T",
                                    "Listaár": "184",
                                    "Felvitte": "Béla"
                                },
                                {
                                    "Termékkód": "04110229T",
                                    "Listaár": "33",
                                    "Felvitte": "Béla"
                                },
                                {
                                    "Termékkód": "04110233T",
                                    "Listaár": "89",
                                    "Felvitte": "Béla"
                                },
                                {
                                    "Termékkód": "04110274T",
                                    "Listaár": "49",
                                    "Felvitte": "Béla"
                                },
                                {
                                    "Termékkód": "04110277T",
                                    "Listaár": "93",
                                    "Felvitte": "Béla"
                                },
                                {
                                    "Termékkód": "04110278T",
                                    "Listaár": "161",
                                    "Felvitte": "Béla"
                                },
                                {
                                    "Termékkód": "04110279T",
                                    "Listaár": "168",
                                    "Felvitte": "Béla"
                                },
                                {
                                    "Termékkód": "04110281T",
                                    "Listaár": "175",
                                    "Felvitte": "Sára"
                                },
                                {
                                    "Termékkód": "04110282T",
                                    "Listaár": "56",
                                    "Felvitte": "Sára"
                                },
                                {
                                    "Termékkód": "04110283T",
                                    "Listaár": "155",
                                    "Felvitte": "Sára"
                                },
                                {
                                    "Termékkód": "04110284T",
                                    "Listaár": "169",
                                    "Felvitte": "Sára"
                                },
                                {
                                    "Termékkód": "04110362T",
                                    "Listaár": "183",
                                    "Felvitte": "Sára"
                                },
                                {
                                    "Termékkód": "05010026T",
                                    "Listaár": "118",
                                    "Felvitte": "Sára"
                                },
                                {
                                    "Termékkód": "05010306T",
                                    "Listaár": "20",
                                    "Felvitte": "Sára"
                                },
                                {
                                    "Termékkód": "05010369T",
                                    "Listaár": "129",
                                    "Felvitte": "Sára"
                                },
                                {
                                    "Termékkód": "05010370T",
                                    "Listaár": "89",
                                    "Felvitte": "Sára"
                                },
                                {
                                    "Termékkód": "05040310T",
                                    "Listaár": "103",
                                    "Felvitte": "Béla"
                                },
                                {
                                    "Termékkód": "05040348T",
                                    "Listaár": "106",
                                    "Felvitte": "Béla"
                                },
                                {
                                    "Termékkód": "05040349T",
                                    "Listaár": "63",
                                    "Felvitte": "Béla"
                                },
                                {
                                    "Termékkód": "05050045T",
                                    "Listaár": "46",
                                    "Felvitte": "Béla"
                                },
                                {
                                    "Termékkód": "05050046T",
                                    "Listaár": "73",
                                    "Felvitte": "Béla"
                                },
                                {
                                    "Termékkód": "05050170T",
                                    "Listaár": "19",
                                    "Felvitte": "Béla"
                                },
                                {
                                    "Termékkód": "05050346T",
                                    "Listaár": "89",
                                    "Felvitte": "Béla"
                                },
                                {
                                    "Termékkód": "05110360T",
                                    "Listaár": "118",
                                    "Felvitte": "Béla"
                                },
                                {
                                    "Termékkód": "05110361T",
                                    "Listaár": "175",
                                    "Felvitte": "Béla"
                                },
                                {
                                    "Termékkód": "05110363T",
                                    "Listaár": "133",
                                    "Felvitte": "Béla"
                                },
                                {
                                    "Termékkód": "06010036T",
                                    "Listaár": "33",
                                    "Felvitte": "Béla"
                                },
                                {
                                    "Termékkód": "06010082T",
                                    "Listaár": "40",
                                    "Felvitte": "Béla"
                                },
                                {
                                    "Termékkód": "06010083T",
                                    "Listaár": "33",
                                    "Felvitte": "Sára"
                                },
                                {
                                    "Termékkód": "06010084T",
                                    "Listaár": "60",
                                    "Felvitte": "Sára"
                                },
                                {
                                    "Termékkód": "06010085T",
                                    "Listaár": "65",
                                    "Felvitte": "Sára"
                                },
                                {
                                    "Termékkód": "06010113T",
                                    "Listaár": "34",
                                    "Felvitte": "Sára"
                                },
                                {
                                    "Termékkód": "06010114T",
                                    "Listaár": "30",
                                    "Felvitte": "Béla"
                                },
                                {
                                    "Termékkód": "06010115T",
                                    "Listaár": "48",
                                    "Felvitte": "Béla"
                                },
                                {
                                    "Termékkód": "06010202T",
                                    "Listaár": "23",
                                    "Felvitte": "Béla"
                                },
                                {
                                    "Termékkód": "06010305T",
                                    "Listaár": "9",
                                    "Felvitte": "Béla"
                                },
                                {
                                    "Termékkód": "06010343T",
                                    "Listaár": "426",
                                    "Felvitte": "Béla"
                                },
                                {
                                    "Termékkód": "06010365T",
                                    "Listaár": "36",
                                    "Felvitte": "Béla"
                                },
                                {
                                    "Termékkód": "06010366T",
                                    "Listaár": "508",
                                    "Felvitte": "Béla"
                                },
                                {
                                    "Termékkód": "06010367T",
                                    "Listaár": "35",
                                    "Felvitte": "Béla"
                                },
                                {
                                    "Termékkód": "06010368T",
                                    "Listaár": "61",
                                    "Felvitte": "Sára"
                                },
                                {
                                    "Termékkód": "06010373T",
                                    "Listaár": "43",
                                    "Felvitte": "Sára"
                                },
                                {
                                    "Termékkód": "06010374T",
                                    "Listaár": "45",
                                    "Felvitte": "Béla"
                                },
                                {
                                    "Termékkód": "06010375T",
                                    "Listaár": "24",
                                    "Felvitte": "Béla"
                                },
                                {
                                    "Termékkód": "06010376T",
                                    "Listaár": "11",
                                    "Felvitte": "Béla"
                                },
                                {
                                    "Termékkód": "06040088T",
                                    "Listaár": "51",
                                    "Felvitte": "Sára"
                                },
                                {
                                    "Termékkód": "06040089T",
                                    "Listaár": "5",
                                    "Felvitte": "Sára"
                                },
                                {
                                    "Termékkód": "06040174T",
                                    "Listaár": "148",
                                    "Felvitte": "Sára"
                                },
                                {
                                    "Termékkód": "06040175T",
                                    "Listaár": "191",
                                    "Felvitte": "Sára"
                                },
                                {
                                    "Termékkód": "06040179T",
                                    "Listaár": "180",
                                    "Felvitte": "Sára"
                                },
                                {
                                    "Termékkód": "06040186T",
                                    "Listaár": "699",
                                    "Felvitte": "Sára"
                                },
                                {
                                    "Termékkód": "06040205T",
                                    "Listaár": "15",
                                    "Felvitte": "Sára"
                                },
                                {
                                    "Termékkód": "06040206T",
                                    "Listaár": "12",
                                    "Felvitte": "Sára"
                                },
                                {
                                    "Termékkód": "06040212T",
                                    "Listaár": "29",
                                    "Felvitte": "Sára"
                                },
                                {
                                    "Termékkód": "06040213T",
                                    "Listaár": "34",
                                    "Felvitte": "Sára"
                                },
                                {
                                    "Termékkód": "06040246T",
                                    "Listaár": "161",
                                    "Felvitte": "Béla"
                                },
                                {
                                    "Termékkód": "06040247T",
                                    "Listaár": "30",
                                    "Felvitte": "Béla"
                                },
                                {
                                    "Termékkód": "06040248T",
                                    "Listaár": "243",
                                    "Felvitte": "Béla"
                                },
                                {
                                    "Termékkód": "06040323T",
                                    "Listaár": "36",
                                    "Felvitte": "Béla"
                                },
                                {
                                    "Termékkód": "06040324T",
                                    "Listaár": "89",
                                    "Felvitte": "Sára"
                                },
                                {
                                    "Termékkód": "06040325T",
                                    "Listaár": "40",
                                    "Felvitte": "Béla"
                                },
                                {
                                    "Termékkód": "06040326T",
                                    "Listaár": "19",
                                    "Felvitte": "Béla"
                                },
                                {
                                    "Termékkód": "06040327T",
                                    "Listaár": "36",
                                    "Felvitte": "Béla"
                                },
                                {
                                    "Termékkód": "06040328T",
                                    "Listaár": "44",
                                    "Felvitte": "Béla"
                                },
                                {
                                    "Termékkód": "06040329T",
                                    "Listaár": "44",
                                    "Felvitte": "Béla"
                                },
                                {
                                    "Termékkód": "06040330T",
                                    "Listaár": "50",
                                    "Felvitte": "Sára"
                                },
                                {
                                    "Termékkód": "06040331T",
                                    "Listaár": "49",
                                    "Felvitte": "Sára"
                                },
                                {
                                    "Termékkód": "06040347T",
                                    "Listaár": "28",
                                    "Felvitte": "Sára"
                                },
                                {
                                    "Termékkód": "06040350T",
                                    "Listaár": "256",
                                    "Felvitte": "Béla"
                                },
                                {
                                    "Termékkód": "06040351T",
                                    "Listaár": "203",
                                    "Felvitte": "Sára"
                                },
                                {
                                    "Termékkód": "06040353T",
                                    "Listaár": "8",
                                    "Felvitte": "Béla"
                                },
                                {
                                    "Termékkód": "06040354T",
                                    "Listaár": "206",
                                    "Felvitte": "Sára"
                                },
                                {
                                    "Termékkód": "06040355T",
                                    "Listaár": "155",
                                    "Felvitte": "Béla"
                                },
                                {
                                    "Termékkód": "06040379T",
                                    "Listaár": "93",
                                    "Felvitte": "Béla"
                                },
                                {
                                    "Termékkód": "06040380T",
                                    "Listaár": "78",
                                    "Felvitte": "Sára"
                                },
                                {
                                    "Termékkód": "06040381T",
                                    "Listaár": "103",
                                    "Felvitte": "Béla"
                                },
                                {
                                    "Termékkód": "06040382T",
                                    "Listaár": "633",
                                    "Felvitte": "Béla"
                                },
                                {
                                    "Termékkód": "06040383T",
                                    "Listaár": "19",
                                    "Felvitte": "Béla"
                                },
                                {
                                    "Termékkód": "06040384T",
                                    "Listaár": "58",
                                    "Felvitte": "Béla"
                                },
                                {
                                    "Termékkód": "06040385T",
                                    "Listaár": "96",
                                    "Felvitte": "Sára"
                                },
                                {
                                    "Termékkód": "06040392T",
                                    "Listaár": "728",
                                    "Felvitte": "Sára"
                                },
                                {
                                    "Termékkód": "06040393T",
                                    "Listaár": "765",
                                    "Felvitte": "Sára"
                                },
                                {
                                    "Termékkód": "06040394T",
                                    "Listaár": "324",
                                    "Felvitte": "Béla"
                                },
                                {
                                    "Termékkód": "06040395T",
                                    "Listaár": "728",
                                    "Felvitte": "Béla"
                                },
                                {
                                    "Termékkód": "06040396T",
                                    "Listaár": "410",
                                    "Felvitte": "Béla"
                                },
                                {
                                    "Termékkód": "06040397T",
                                    "Listaár": "655",
                                    "Felvitte": "Sára"
                                },
                                {
                                    "Termékkód": "06040398T",
                                    "Listaár": "411",
                                    "Felvitte": "Sára"
                                },
                                {
                                    "Termékkód": "06040399T",
                                    "Listaár": "125",
                                    "Felvitte": "Sára"
                                },
                                {
                                    "Termékkód": "06040400T",
                                    "Listaár": "511",
                                    "Felvitte": "Sára"
                                },
                                {
                                    "Termékkód": "06040446T",
                                    "Listaár": "1173",
                                    "Felvitte": "Sára"
                                },
                                {
                                    "Termékkód": "06050303T",
                                    "Listaár": "161",
                                    "Felvitte": "Sára"
                                },
                                {
                                    "Termékkód": "06080116T",
                                    "Listaár": "34",
                                    "Felvitte": "Béla"
                                },
                                {
                                    "Termékkód": "06080120T",
                                    "Listaár": "23",
                                    "Felvitte": "Béla"
                                },
                                {
                                    "Termékkód": "06080121T",
                                    "Listaár": "195",
                                    "Felvitte": "Béla"
                                },
                                {
                                    "Termékkód": "06080122T",
                                    "Listaár": "19",
                                    "Felvitte": "Béla"
                                },
                                {
                                    "Termékkód": "06080123T",
                                    "Listaár": "551",
                                    "Felvitte": "Sára"
                                },
                                {
                                    "Termékkód": "06080188T",
                                    "Listaár": "875",
                                    "Felvitte": "Sára"
                                },
                                {
                                    "Termékkód": "06080189T",
                                    "Listaár": "30",
                                    "Felvitte": "Sára"
                                },
                                {
                                    "Termékkód": "06080190T",
                                    "Listaár": "23",
                                    "Felvitte": "Sára"
                                },
                                {
                                    "Termékkód": "06080191T",
                                    "Listaár": "30",
                                    "Felvitte": "Sára"
                                },
                                {
                                    "Termékkód": "06080192T",
                                    "Listaár": "70",
                                    "Felvitte": "Sára"
                                },
                                {
                                    "Termékkód": "06080193T",
                                    "Listaár": "180",
                                    "Felvitte": "Sára"
                                },
                                {
                                    "Termékkód": "06080333T",
                                    "Listaár": "119",
                                    "Felvitte": "Béla"
                                },
                                {
                                    "Termékkód": "06080337T",
                                    "Listaár": "293",
                                    "Felvitte": "Sára"
                                },
                                {
                                    "Termékkód": "06080407T",
                                    "Listaár": "249",
                                    "Felvitte": "Sára"
                                },
                                {
                                    "Termékkód": "06080408T",
                                    "Listaár": "210",
                                    "Felvitte": "Sára"
                                },
                                {
                                    "Termékkód": "06080409T",
                                    "Listaár": "180",
                                    "Felvitte": "Sára"
                                },
                                {
                                    "Termékkód": "06080410T",
                                    "Listaár": "176",
                                    "Felvitte": "Béla"
                                },
                                {
                                    "Termékkód": "06080411T",
                                    "Listaár": "58",
                                    "Felvitte": "Sára"
                                },
                                {
                                    "Termékkód": "06080412T",
                                    "Listaár": "30",
                                    "Felvitte": "Sára"
                                },
                                {
                                    "Termékkód": "06080413T",
                                    "Listaár": "30",
                                    "Felvitte": "Sára"
                                },
                                {
                                    "Termékkód": "06080424T",
                                    "Listaár": "24",
                                    "Felvitte": "Béla"
                                },
                                {
                                    "Termékkód": "06080425T",
                                    "Listaár": "8",
                                    "Felvitte": "Sára"
                                },
                                {
                                    "Termékkód": "06080427T",
                                    "Listaár": "161",
                                    "Felvitte": "Sára"
                                },
                                {
                                    "Termékkód": "06080428T",
                                    "Listaár": "180",
                                    "Felvitte": "Sára"
                                },
                                {
                                    "Termékkód": "06080429T",
                                    "Listaár": "63",
                                    "Felvitte": "Sára"
                                },
                                {
                                    "Termékkód": "06080430T",
                                    "Listaár": "74",
                                    "Felvitte": "Béla"
                                },
                                {
                                    "Termékkód": "06080440T",
                                    "Listaár": "161",
                                    "Felvitte": "Béla"
                                },
                                {
                                    "Termékkód": "06080441T",
                                    "Listaár": "121",
                                    "Felvitte": "Béla"
                                },
                                {
                                    "Termékkód": "07010136T",
                                    "Listaár": "123",
                                    "Felvitte": "Béla"
                                },
                                {
                                    "Termékkód": "07010137T",
                                    "Listaár": "48",
                                    "Felvitte": "Sára"
                                },
                                {
                                    "Termékkód": "07010140T",
                                    "Listaár": "23",
                                    "Felvitte": "Béla"
                                },
                                {
                                    "Termékkód": "07010141T",
                                    "Listaár": "15",
                                    "Felvitte": "Béla"
                                },
                                {
                                    "Termékkód": "07010144T",
                                    "Listaár": "89",
                                    "Felvitte": "Béla"
                                },
                                {
                                    "Termékkód": "07010244T",
                                    "Listaár": "74",
                                    "Felvitte": "Béla"
                                },
                                {
                                    "Termékkód": "07010371T",
                                    "Listaár": "99",
                                    "Felvitte": "Sára"
                                },
                                {
                                    "Termékkód": "07010372T",
                                    "Listaár": "161",
                                    "Felvitte": "Sára"
                                },
                                {
                                    "Termékkód": "07030103T",
                                    "Listaár": "53",
                                    "Felvitte": "Béla"
                                },
                                {
                                    "Termékkód": "07030104T",
                                    "Listaár": "76",
                                    "Felvitte": "Sára"
                                },
                                {
                                    "Termékkód": "07030105T",
                                    "Listaár": "114",
                                    "Felvitte": "Sára"
                                },
                                {
                                    "Termékkód": "07040052T",
                                    "Listaár": "53",
                                    "Felvitte": "Sára"
                                },
                                {
                                    "Termékkód": "07040053T",
                                    "Listaár": "23",
                                    "Felvitte": "Sára"
                                },
                                {
                                    "Termékkód": "07040055T",
                                    "Listaár": "59",
                                    "Felvitte": "Sára"
                                },
                                {
                                    "Termékkód": "07040056T",
                                    "Listaár": "40",
                                    "Felvitte": "Sára"
                                },
                                {
                                    "Termékkód": "07040057T",
                                    "Listaár": "106",
                                    "Felvitte": "Sára"
                                },
                                {
                                    "Termékkód": "07040058T",
                                    "Listaár": "11",
                                    "Felvitte": "Sára"
                                },
                                {
                                    "Termékkód": "07040059T",
                                    "Listaár": "58",
                                    "Felvitte": "Sára"
                                },
                                {
                                    "Termékkód": "07040060T",
                                    "Listaár": "36",
                                    "Felvitte": "Sára"
                                },
                                {
                                    "Termékkód": "07040061T",
                                    "Listaár": "44",
                                    "Felvitte": "Sára"
                                },
                                {
                                    "Termékkód": "07040097T",
                                    "Listaár": "26",
                                    "Felvitte": "Béla"
                                },
                                {
                                    "Termékkód": "07040098T",
                                    "Listaár": "278",
                                    "Felvitte": "Béla"
                                },
                                {
                                    "Termékkód": "07040099T",
                                    "Listaár": "434",
                                    "Felvitte": "Sára"
                                },
                                {
                                    "Termékkód": "07040100T",
                                    "Listaár": "390",
                                    "Felvitte": "Sára"
                                },
                                {
                                    "Termékkód": "07040101T",
                                    "Listaár": "140",
                                    "Felvitte": "Sára"
                                },
                                {
                                    "Termékkód": "07040102T",
                                    "Listaár": "46",
                                    "Felvitte": "Sára"
                                },
                                {
                                    "Termékkód": "07040127T",
                                    "Listaár": "30",
                                    "Felvitte": "Sára"
                                },
                                {
                                    "Termékkód": "07040128T",
                                    "Listaár": "55",
                                    "Felvitte": "Béla"
                                },
                                {
                                    "Termékkód": "07040129T",
                                    "Listaár": "30",
                                    "Felvitte": "Béla"
                                },
                                {
                                    "Termékkód": "07040130T",
                                    "Listaár": "80",
                                    "Felvitte": "Béla"
                                },
                                {
                                    "Termékkód": "07040133T",
                                    "Listaár": "39",
                                    "Felvitte": "Sára"
                                },
                                {
                                    "Termékkód": "07040134T",
                                    "Listaár": "44",
                                    "Felvitte": "Béla"
                                },
                                {
                                    "Termékkód": "07040165T",
                                    "Listaár": "218",
                                    "Felvitte": "Sára"
                                },
                                {
                                    "Termékkód": "07040166T",
                                    "Listaár": "455",
                                    "Felvitte": "Béla"
                                },
                                {
                                    "Termékkód": "07040167T",
                                    "Listaár": "655",
                                    "Felvitte": "Béla"
                                },
                                {
                                    "Termékkód": "07040168T",
                                    "Listaár": "189",
                                    "Felvitte": "Béla"
                                },
                                {
                                    "Termékkód": "07040169T",
                                    "Listaár": "94",
                                    "Felvitte": "Béla"
                                },
                                {
                                    "Termékkód": "07040215T",
                                    "Listaár": "74",
                                    "Felvitte": "Béla"
                                },
                                {
                                    "Termékkód": "07040217T",
                                    "Listaár": "59",
                                    "Felvitte": "Béla"
                                },
                                {
                                    "Termékkód": "07040218T",
                                    "Listaár": "23",
                                    "Felvitte": "Béla"
                                },
                                {
                                    "Termékkód": "07040219T",
                                    "Listaár": "78",
                                    "Felvitte": "Béla"
                                },
                                {
                                    "Termékkód": "07050463T",
                                    "Listaár": "36",
                                    "Felvitte": "Sára"
                                },
                                {
                                    "Termékkód": "07050464T",
                                    "Listaár": "140",
                                    "Felvitte": "Sára"
                                },
                                {
                                    "Termékkód": "07080062T",
                                    "Listaár": "146",
                                    "Felvitte": "Sára"
                                },
                                {
                                    "Termékkód": "07080063T",
                                    "Listaár": "35",
                                    "Felvitte": "Sára"
                                },
                                {
                                    "Termékkód": "07080064T",
                                    "Listaár": "40",
                                    "Felvitte": "Béla"
                                },
                                {
                                    "Termékkód": "07080065T",
                                    "Listaár": "11",
                                    "Felvitte": "Béla"
                                },
                                {
                                    "Termékkód": "07080150T",
                                    "Listaár": "51",
                                    "Felvitte": "Béla"
                                },
                                {
                                    "Termékkód": "07080151T",
                                    "Listaár": "390",
                                    "Felvitte": "Béla"
                                },
                                {
                                    "Termékkód": "07080152T",
                                    "Listaár": "1019",
                                    "Felvitte": "Béla"
                                },
                                {
                                    "Termékkód": "07080153T",
                                    "Listaár": "41",
                                    "Felvitte": "Béla"
                                },
                                {
                                    "Termékkód": "07080154T",
                                    "Listaár": "401",
                                    "Felvitte": "Béla"
                                },
                                {
                                    "Termékkód": "07080155T",
                                    "Listaár": "33",
                                    "Felvitte": "Béla"
                                },
                                {
                                    "Termékkód": "07080156T",
                                    "Listaár": "23",
                                    "Felvitte": "Béla"
                                },
                                {
                                    "Termékkód": "07080157T",
                                    "Listaár": "93",
                                    "Felvitte": "Béla"
                                },
                                {
                                    "Termékkód": "07080158T",
                                    "Listaár": "773",
                                    "Felvitte": "Béla"
                                },
                                {
                                    "Termékkód": "07080159T",
                                    "Listaár": "63",
                                    "Felvitte": "Béla"
                                },
                                {
                                    "Termékkód": "07080160T",
                                    "Listaár": "239",
                                    "Felvitte": "Béla"
                                },
                                {
                                    "Termékkód": "07080161T",
                                    "Listaár": "44",
                                    "Felvitte": "Béla"
                                },
                                {
                                    "Termékkód": "07080316T",
                                    "Listaár": "468",
                                    "Felvitte": "Sára"
                                },
                                {
                                    "Termékkód": "07080317T",
                                    "Listaár": "59",
                                    "Felvitte": "Béla"
                                },
                                {
                                    "Termékkód": "07080318T",
                                    "Listaár": "235",
                                    "Felvitte": "Béla"
                                },
                                {
                                    "Termékkód": "07080319T",
                                    "Listaár": "299",
                                    "Felvitte": "Béla"
                                },
                                {
                                    "Termékkód": "07080418T",
                                    "Listaár": "95",
                                    "Felvitte": "Béla"
                                },
                                {
                                    "Termékkód": "07080419T",
                                    "Listaár": "66",
                                    "Felvitte": "Sára"
                                },
                                {
                                    "Termékkód": "07080466T",
                                    "Listaár": "81",
                                    "Felvitte": "Sára"
                                },
                                {
                                    "Termékkód": "07080467T",
                                    "Listaár": "273",
                                    "Felvitte": "Sára"
                                },
                                {
                                    "Termékkód": "07080468T",
                                    "Listaár": "110",
                                    "Felvitte": "Sára"
                                },
                                {
                                    "Termékkód": "07080469T",
                                    "Listaár": "364",
                                    "Felvitte": "Sára"
                                },
                                {
                                    "Termékkód": "07080470T",
                                    "Listaár": "188",
                                    "Felvitte": "Sára"
                                },
                                {
                                    "Termékkód": "07080471T",
                                    "Listaár": "294",
                                    "Felvitte": "Béla"
                                },
                                {
                                    "Termékkód": "08070472T",
                                    "Listaár": "1089",
                                    "Felvitte": "Béla"
                                },
                                {
                                    "Termékkód": "08070474T",
                                    "Listaár": "1089",
                                    "Felvitte": "Béla"
                                },
                                {
                                    "Termékkód": "08070475T",
                                    "Listaár": "440",
                                    "Felvitte": "Béla"
                                },
                                {
                                    "Termékkód": "08070476T",
                                    "Listaár": "293",
                                    "Felvitte": "Béla"
                                },
                                {
                                    "Termékkód": "08070477T",
                                    "Listaár": "353",
                                    "Felvitte": "Sára"
                                },
                                {
                                    "Termékkód": "08070478T",
                                    "Listaár": "785",
                                    "Felvitte": "Béla"
                                },
                                {
                                    "Termékkód": "08070479T",
                                    "Listaár": "674",
                                    "Felvitte": "Béla"
                                },
                                {
                                    "Termékkód": "08070480T",
                                    "Listaár": "308",
                                    "Felvitte": "Béla"
                                },
                                {
                                    "Termékkód": "08070481T",
                                    "Listaár": "198",
                                    "Felvitte": "Béla"
                                },
                                {
                                    "Termékkód": "08070483T",
                                    "Listaár": "324",
                                    "Felvitte": "Béla"
                                },
                                {
                                    "Termékkód": "08070484T",
                                    "Listaár": "345",
                                    "Felvitte": "Béla"
                                },
                                {
                                    "Termékkód": "08070485T",
                                    "Listaár": "291",
                                    "Felvitte": "Béla"
                                },
                                {
                                    "Termékkód": "08070486T",
                                    "Listaár": "403",
                                    "Felvitte": "Béla"
                                },
                                {
                                    "Termékkód": "08070490T",
                                    "Listaár": "691",
                                    "Felvitte": "Sára"
                                },
                                {
                                    "Termékkód": "08070491T",
                                    "Listaár": "214",
                                    "Felvitte": "Sára"
                                },
                                {
                                    "Termékkód": "08070492T",
                                    "Listaár": "735",
                                    "Felvitte": "Sára"
                                },
                                {
                                    "Termékkód": "08070493T",
                                    "Listaár": "720",
                                    "Felvitte": "Sára"
                                },
                                {
                                    "Termékkód": "08070494T",
                                    "Listaár": "440",
                                    "Felvitte": "Sára"
                                },
                                {
                                    "Termékkód": "08070495T",
                                    "Listaár": "440",
                                    "Felvitte": "Sára"
                                },
                                {
                                    "Termékkód": "F001-KB101",
                                    "Listaár": "22000",
                                    "Felvitte": "Sára"
                                },
                                {
                                    "Termékkód": "F007-NA201",
                                    "Listaár": "7890",
                                    "Felvitte": "Sára"
                                },
                                {
                                    "Termékkód": "F013-NA207",
                                    "Listaár": "11900",
                                    "Felvitte": "Sára"
                                },
                                {
                                    "Termékkód": "G001-KB101",
                                    "Listaár": "8900",
                                    "Felvitte": "Sára"
                                },
                                {
                                    "Termékkód": "G013-NA201",
                                    "Listaár": "4990",
                                    "Felvitte": "Sára"
                                },
                                {
                                    "Termékkód": "G019-NA207",
                                    "Listaár": "1290",
                                    "Felvitte": "Sára"
                                },
                                {
                                    "Termékkód": "G023-FE301",
                                    "Listaár": "390",
                                    "Felvitte": "Sára"
                                },
                                {
                                    "Termékkód": "G029-FE307",
                                    "Listaár": "240",
                                    "Felvitte": "Sára"
                                },
                                {
                                    "Termékkód": "G038-FE316",
                                    "Listaár": "990",
                                    "Felvitte": "Sára"
                                },
                                {
                                    "Termékkód": "G064-CI401",
                                    "Listaár": "6900",
                                    "Felvitte": "Sára"
                                },
                                {
                                    "Termékkód": "G073-CI410",
                                    "Listaár": "7900",
                                    "Felvitte": "Sára"
                                },
                                {
                                    "Termékkód": "G082-CI419",
                                    "Listaár": "8000",
                                    "Felvitte": "Sára"
                                },
                                {
                                    "Termékkód": "L001-KB101",
                                    "Listaár": "8900",
                                    "Felvitte": "Sára"
                                },
                                {
                                    "Termékkód": "L013-NA201",
                                    "Listaár": "4990",
                                    "Felvitte": "Béla"
                                },
                                {
                                    "Termékkód": "L023-FE301",
                                    "Listaár": "390",
                                    "Felvitte": "Béla"
                                },
                                {
                                    "Termékkód": "L029-FE307",
                                    "Listaár": "240",
                                    "Felvitte": "Béla"
                                },
                                {
                                    "Termékkód": "L033-FE311",
                                    "Listaár": "990",
                                    "Felvitte": "Sára"
                                },
                                {
                                    "Termékkód": "L041-AL211",
                                    "Listaár": "16900",
                                    "Felvitte": "Sára"
                                },
                                {
                                    "Termékkód": "L048-PO218",
                                    "Listaár": "3900",
                                    "Felvitte": "Sára"
                                },
                                {
                                    "Termékkód": "L073-CI410",
                                    "Listaár": "7900",
                                    "Felvitte": "Sára"
                                },
                                {
                                    "Termékkód": "L082-CI419",
                                    "Listaár": "8000",
                                    "Felvitte": "Sára"
                                },
                                {
                                    "Termékkód": "N001-KB101",
                                    "Listaár": "24000",
                                    "Felvitte": "Béla"
                                },
                                {
                                    "Termékkód": "N035-AL218",
                                    "Listaár": "39000",
                                    "Felvitte": "Sára"
                                }
                            ]
                        },
                        "text/html": [
                            "<table>",
                            "<tr><th>Termékkód</th><th>Listaár</th><th>Felvitte</th></tr>",
                            "<tr><td>01010001T</td><td>342</td><td>Béla</td></tr>",
                            "<tr><td>01010110T</td><td>30</td><td>Béla</td></tr>",
                            "<tr><td>01010304T</td><td>59</td><td>Sára</td></tr>",
                            "<tr><td>01020299T</td><td>48</td><td>Béla</td></tr>",
                            "<tr><td>01020300T</td><td>55</td><td>Béla</td></tr>",
                            "<tr><td>01030091T</td><td>26</td><td>Béla</td></tr>",
                            "<tr><td>01030092T</td><td>59</td><td>Sára</td></tr>",
                            "<tr><td>01040307T</td><td>15</td><td>Sára</td></tr>",
                            "<tr><td>01040502T</td><td>25</td><td>Sára</td></tr>",
                            "<tr><td>01080093T</td><td>161</td><td>Sára</td></tr>",
                            "<tr><td>01080512T</td><td>4575</td><td>Sára</td></tr>",
                            "<tr><td>01080513T</td><td>38</td><td>Sára</td></tr>",
                            "<tr><td>01090499T</td><td>15</td><td>Sára</td></tr>",
                            "<tr><td>01090500T</td><td>14</td><td>Béla</td></tr>",
                            "<tr><td>01090501T</td><td>4</td><td>Béla</td></tr>",
                            "<tr><td>01090515T</td><td>11</td><td>Béla</td></tr>",
                            "<tr><td>01090516T</td><td>25</td><td>Béla</td></tr>",
                            "<tr><td>01090517T</td><td>4</td><td>Béla</td></tr>",
                            "<tr><td>01100070T</td><td>73</td><td>Béla</td></tr>",
                            "<tr><td>01100071T</td><td>89</td><td>Sára</td></tr>",
                            "<tr><td>01100072T</td><td>9</td><td>Sára</td></tr>",
                            "<tr><td>01100094T</td><td>845</td><td>Sára</td></tr>",
                            "<tr><td>01100095T</td><td>728</td><td>Sára</td></tr>",
                            "<tr><td>01100096T</td><td>728</td><td>Sára</td></tr>",
                            "<tr><td>01100496T</td><td>1500</td><td>Sára</td></tr>",
                            "<tr><td>01100497T</td><td>14</td><td>Béla</td></tr>",
                            "<tr><td>01100503T</td><td>10</td><td>Béla</td></tr>",
                            "<tr><td>01100504T</td><td>1488</td><td>Sára</td></tr>",
                            "<tr><td>01100505T</td><td>686</td><td>Sára</td></tr>",
                            "<tr><td>01100509T</td><td>40</td><td>Sára</td></tr>",
                            "<tr><td>01100510T</td><td>13</td><td>Sára</td></tr>",
                            "<tr><td>02010028T</td><td>106</td><td>Sára</td></tr>",
                            "<tr><td>02020029T</td><td>115</td><td>Sára</td></tr>",
                            "<tr><td>02020032T</td><td>133</td><td>Sára</td></tr>",
                            "<tr><td>02020033T</td><td>328</td><td>Sára</td></tr>",
                            "<tr><td>02020037T</td><td>144</td><td>Sára</td></tr>",
                            "<tr><td>02020245T</td><td>103</td><td>Sára</td></tr>",
                            "<tr><td>02020444T</td><td>464</td><td>Sára</td></tr>",
                            "<tr><td>02030040T</td><td>6</td><td>Sára</td></tr>",
                            "<tr><td>02030043T</td><td>39</td><td>Sára</td></tr>",
                            "<tr><td>02030044T</td><td>15</td><td>Béla</td></tr>",
                            "<tr><td>02040002T</td><td>2100</td><td>Béla</td></tr>",
                            "<tr><td>02040025T</td><td>133</td><td>Béla</td></tr>",
                            "<tr><td>02040145T</td><td>30</td><td>Béla</td></tr>",
                            "<tr><td>02040146T</td><td>48</td><td>Béla</td></tr>",
                            "<tr><td>02040147T</td><td>8</td><td>Béla</td></tr>",
                            "<tr><td>02040148T</td><td>63</td><td>Béla</td></tr>",
                            "<tr><td>02040149T</td><td>110</td><td>Béla</td></tr>",
                            "<tr><td>02040176T</td><td>18</td><td>Sára</td></tr>",
                            "<tr><td>02040177T</td><td>30</td><td>Béla</td></tr>",
                            "<tr><td>02040178T</td><td>35</td><td>Béla</td></tr>",
                            "<tr><td>02040194T</td><td>794</td><td>Béla</td></tr>",
                            "<tr><td>02040195T</td><td>185</td><td>Béla</td></tr>",
                            "<tr><td>02040196T</td><td>273</td><td>Béla</td></tr>",
                            "<tr><td>02040197T</td><td>81</td><td>Béla</td></tr>",
                            "<tr><td>02040198T</td><td>133</td><td>Béla</td></tr>",
                            "<tr><td>02040199T</td><td>286</td><td>Béla</td></tr>",
                            "<tr><td>02040211T</td><td>243</td><td>Béla</td></tr>",
                            "<tr><td>02040292T</td><td>78</td><td>Sára</td></tr>",
                            "<tr><td>02040293T</td><td>310</td><td>Sára</td></tr>",
                            "<tr><td>02040294T</td><td>103</td><td>Béla</td></tr>",
                            "<tr><td>02040508T</td><td>44</td><td>Sára</td></tr>",
                            "<tr><td>02050461T</td><td>18</td><td>Béla</td></tr>",
                            "<tr><td>02060034T</td><td>297</td><td>Béla</td></tr>",
                            "<tr><td>02060038T</td><td>780</td><td>Béla</td></tr>",
                            "<tr><td>02060039T</td><td>650</td><td>Béla</td></tr>",
                            "<tr><td>02060448T</td><td>1147</td><td>Sára</td></tr>",
                            "<tr><td>02080069T</td><td>30</td><td>Sára</td></tr>",
                            "<tr><td>02080081T</td><td>133</td><td>Sára</td></tr>",
                            "<tr><td>02080226T</td><td>106</td><td>Béla</td></tr>",
                            "<tr><td>02080431T</td><td>214</td><td>Sára</td></tr>",
                            "<tr><td>02080432T</td><td>259</td><td>Sára</td></tr>",
                            "<tr><td>02080433T</td><td>55</td><td>Sára</td></tr>",
                            "<tr><td>02080435T</td><td>184</td><td>Sára</td></tr>",
                            "<tr><td>02080454T</td><td>765</td><td>Sára</td></tr>",
                            "<tr><td>02080456T</td><td>89</td><td>Béla</td></tr>",
                            "<tr><td>02080511T</td><td>14250</td><td>Béla</td></tr>",
                            "<tr><td>02080514T</td><td>45</td><td>Béla</td></tr>",
                            "<tr><td>03010342T</td><td>15</td><td>Béla</td></tr>",
                            "<tr><td>03010344T</td><td>63</td><td>Béla</td></tr>",
                            "<tr><td>03010345T</td><td>166</td><td>Béla</td></tr>",
                            "<tr><td>03050076T</td><td>26</td><td>Béla</td></tr>",
                            "<tr><td>03050080T</td><td>81</td><td>Béla</td></tr>",
                            "<tr><td>03050457T</td><td>26</td><td>Béla</td></tr>",
                            "<tr><td>03050458T</td><td>148</td><td>Sára</td></tr>",
                            "<tr><td>03050459T</td><td>40</td><td>Sára</td></tr>",
                            "<tr><td>03080003T</td><td>185</td><td>Sára</td></tr>",
                            "<tr><td>03080004T</td><td>19</td><td>Sára</td></tr>",
                            "<tr><td>03080005T</td><td>290</td><td>Sára</td></tr>",
                            "<tr><td>03080013T</td><td>64</td><td>Béla</td></tr>",
                            "<tr><td>03080014T</td><td>81</td><td>Béla</td></tr>",
                            "<tr><td>03080015T</td><td>169</td><td>Béla</td></tr>",
                            "<tr><td>03080016T</td><td>110</td><td>Béla</td></tr>",
                            "<tr><td>03080017T</td><td>148</td><td>Sára</td></tr>",
                            "<tr><td>03080018T</td><td>121</td><td>Sára</td></tr>",
                            "<tr><td>03080019T</td><td>56</td><td>Béla</td></tr>",
                            "<tr><td>03080020T</td><td>44</td><td>Sára</td></tr>",
                            "<tr><td>03080021T</td><td>23</td><td>Béla</td></tr>",
                            "<tr><td>03080031T</td><td>106</td><td>Sára</td></tr>",
                            "<tr><td>03080437T</td><td>185</td><td>Sára</td></tr>",
                            "<tr><td>03080438T</td><td>214</td><td>Sára</td></tr>",
                            "<tr><td>03080439T</td><td>114</td><td>Sára</td></tr>",
                            "<tr><td>04020445T</td><td>728</td><td>Sára</td></tr>",
                            "<tr><td>04030234T</td><td>30</td><td>Béla</td></tr>",
                            "<tr><td>04030235T</td><td>73</td><td>Béla</td></tr>",
                            "<tr><td>04030236T</td><td>15</td><td>Béla</td></tr>",
                            "<tr><td>04030237T</td><td>36</td><td>Béla</td></tr>",
                            "<tr><td>04030238T</td><td>59</td><td>Sára</td></tr>",
                            "<tr><td>04030239T</td><td>48</td><td>Béla</td></tr>",
                            "<tr><td>04030240T</td><td>14</td><td>Sára</td></tr>",
                            "<tr><td>04030260T</td><td>15</td><td>Béla</td></tr>",
                            "<tr><td>04030261T</td><td>140</td><td>Béla</td></tr>",
                            "<tr><td>04030262T</td><td>56</td><td>Sára</td></tr>",
                            "<tr><td>04030263T</td><td>89</td><td>Sára</td></tr>",
                            "<tr><td>04030287T</td><td>23</td><td>Béla</td></tr>",
                            "<tr><td>04030288T</td><td>3</td><td>Béla</td></tr>",
                            "<tr><td>04030289T</td><td>15</td><td>Béla</td></tr>",
                            "<tr><td>04040090T</td><td>526</td><td>Béla</td></tr>",
                            "<tr><td>04040387T</td><td>81</td><td>Béla</td></tr>",
                            "<tr><td>04050022T</td><td>89</td><td>Béla</td></tr>",
                            "<tr><td>04050023T</td><td>144</td><td>Sára</td></tr>",
                            "<tr><td>04050024T</td><td>144</td><td>Sára</td></tr>",
                            "<tr><td>04050035T</td><td>24</td><td>Sára</td></tr>",
                            "<tr><td>04050073T</td><td>61</td><td>Béla</td></tr>",
                            "<tr><td>04050075T</td><td>44</td><td>Béla</td></tr>",
                            "<tr><td>04050171T</td><td>110</td><td>Béla</td></tr>",
                            "<tr><td>04050187T</td><td>66</td><td>Béla</td></tr>",
                            "<tr><td>04050223T</td><td>73</td><td>Sára</td></tr>",
                            "<tr><td>04050224T</td><td>48</td><td>Sára</td></tr>",
                            "<tr><td>04050225T</td><td>131</td><td>Sára</td></tr>",
                            "<tr><td>04050250T</td><td>115</td><td>Béla</td></tr>",
                            "<tr><td>04050251T</td><td>148</td><td>Béla</td></tr>",
                            "<tr><td>04050252T</td><td>124</td><td>Béla</td></tr>",
                            "<tr><td>04050268T</td><td>15</td><td>Béla</td></tr>",
                            "<tr><td>04050269T</td><td>11</td><td>Béla</td></tr>",
                            "<tr><td>04050320T</td><td>173</td><td>Sára</td></tr>",
                            "<tr><td>04050321T</td><td>161</td><td>Sára</td></tr>",
                            "<tr><td>04050322T</td><td>314</td><td>Sára</td></tr>",
                            "<tr><td>04050358T</td><td>356</td><td>Sára</td></tr>",
                            "<tr><td>04080270T</td><td>1765</td><td>Sára</td></tr>",
                            "<tr><td>04080271T</td><td>264</td><td>Sára</td></tr>",
                            "<tr><td>04080443T</td><td>449</td><td>Sára</td></tr>",
                            "<tr><td>04110066T</td><td>26</td><td>Sára</td></tr>",
                            "<tr><td>04110067T</td><td>31</td><td>Sára</td></tr>",
                            "<tr><td>04110068T</td><td>20</td><td>Béla</td></tr>",
                            "<tr><td>04110228T</td><td>184</td><td>Béla</td></tr>",
                            "<tr><td>04110229T</td><td>33</td><td>Béla</td></tr>",
                            "<tr><td>04110233T</td><td>89</td><td>Béla</td></tr>",
                            "<tr><td>04110274T</td><td>49</td><td>Béla</td></tr>",
                            "<tr><td>04110277T</td><td>93</td><td>Béla</td></tr>",
                            "<tr><td>04110278T</td><td>161</td><td>Béla</td></tr>",
                            "<tr><td>04110279T</td><td>168</td><td>Béla</td></tr>",
                            "<tr><td>04110281T</td><td>175</td><td>Sára</td></tr>",
                            "<tr><td>04110282T</td><td>56</td><td>Sára</td></tr>",
                            "<tr><td>04110283T</td><td>155</td><td>Sára</td></tr>",
                            "<tr><td>04110284T</td><td>169</td><td>Sára</td></tr>",
                            "<tr><td>04110362T</td><td>183</td><td>Sára</td></tr>",
                            "<tr><td>05010026T</td><td>118</td><td>Sára</td></tr>",
                            "<tr><td>05010306T</td><td>20</td><td>Sára</td></tr>",
                            "<tr><td>05010369T</td><td>129</td><td>Sára</td></tr>",
                            "<tr><td>05010370T</td><td>89</td><td>Sára</td></tr>",
                            "<tr><td>05040310T</td><td>103</td><td>Béla</td></tr>",
                            "<tr><td>05040348T</td><td>106</td><td>Béla</td></tr>",
                            "<tr><td>05040349T</td><td>63</td><td>Béla</td></tr>",
                            "<tr><td>05050045T</td><td>46</td><td>Béla</td></tr>",
                            "<tr><td>05050046T</td><td>73</td><td>Béla</td></tr>",
                            "<tr><td>05050170T</td><td>19</td><td>Béla</td></tr>",
                            "<tr><td>05050346T</td><td>89</td><td>Béla</td></tr>",
                            "<tr><td>05110360T</td><td>118</td><td>Béla</td></tr>",
                            "<tr><td>05110361T</td><td>175</td><td>Béla</td></tr>",
                            "<tr><td>05110363T</td><td>133</td><td>Béla</td></tr>",
                            "<tr><td>06010036T</td><td>33</td><td>Béla</td></tr>",
                            "<tr><td>06010082T</td><td>40</td><td>Béla</td></tr>",
                            "<tr><td>06010083T</td><td>33</td><td>Sára</td></tr>",
                            "<tr><td>06010084T</td><td>60</td><td>Sára</td></tr>",
                            "<tr><td>06010085T</td><td>65</td><td>Sára</td></tr>",
                            "<tr><td>06010113T</td><td>34</td><td>Sára</td></tr>",
                            "<tr><td>06010114T</td><td>30</td><td>Béla</td></tr>",
                            "<tr><td>06010115T</td><td>48</td><td>Béla</td></tr>",
                            "<tr><td>06010202T</td><td>23</td><td>Béla</td></tr>",
                            "<tr><td>06010305T</td><td>9</td><td>Béla</td></tr>",
                            "<tr><td>06010343T</td><td>426</td><td>Béla</td></tr>",
                            "<tr><td>06010365T</td><td>36</td><td>Béla</td></tr>",
                            "<tr><td>06010366T</td><td>508</td><td>Béla</td></tr>",
                            "<tr><td>06010367T</td><td>35</td><td>Béla</td></tr>",
                            "<tr><td>06010368T</td><td>61</td><td>Sára</td></tr>",
                            "<tr><td>06010373T</td><td>43</td><td>Sára</td></tr>",
                            "<tr><td>06010374T</td><td>45</td><td>Béla</td></tr>",
                            "<tr><td>06010375T</td><td>24</td><td>Béla</td></tr>",
                            "<tr><td>06010376T</td><td>11</td><td>Béla</td></tr>",
                            "<tr><td>06040088T</td><td>51</td><td>Sára</td></tr>",
                            "<tr><td>06040089T</td><td>5</td><td>Sára</td></tr>",
                            "<tr><td>06040174T</td><td>148</td><td>Sára</td></tr>",
                            "<tr><td>06040175T</td><td>191</td><td>Sára</td></tr>",
                            "<tr><td>06040179T</td><td>180</td><td>Sára</td></tr>",
                            "<tr><td>06040186T</td><td>699</td><td>Sára</td></tr>",
                            "<tr><td>06040205T</td><td>15</td><td>Sára</td></tr>",
                            "<tr><td>06040206T</td><td>12</td><td>Sára</td></tr>",
                            "<tr><td>06040212T</td><td>29</td><td>Sára</td></tr>",
                            "<tr><td>06040213T</td><td>34</td><td>Sára</td></tr>",
                            "<tr><td>06040246T</td><td>161</td><td>Béla</td></tr>",
                            "<tr><td>06040247T</td><td>30</td><td>Béla</td></tr>",
                            "<tr><td>06040248T</td><td>243</td><td>Béla</td></tr>",
                            "<tr><td>06040323T</td><td>36</td><td>Béla</td></tr>",
                            "<tr><td>06040324T</td><td>89</td><td>Sára</td></tr>",
                            "<tr><td>06040325T</td><td>40</td><td>Béla</td></tr>",
                            "<tr><td>06040326T</td><td>19</td><td>Béla</td></tr>",
                            "<tr><td>06040327T</td><td>36</td><td>Béla</td></tr>",
                            "<tr><td>06040328T</td><td>44</td><td>Béla</td></tr>",
                            "<tr><td>06040329T</td><td>44</td><td>Béla</td></tr>",
                            "<tr><td>06040330T</td><td>50</td><td>Sára</td></tr>",
                            "<tr><td>06040331T</td><td>49</td><td>Sára</td></tr>",
                            "<tr><td>06040347T</td><td>28</td><td>Sára</td></tr>",
                            "<tr><td>06040350T</td><td>256</td><td>Béla</td></tr>",
                            "<tr><td>06040351T</td><td>203</td><td>Sára</td></tr>",
                            "<tr><td>06040353T</td><td>8</td><td>Béla</td></tr>",
                            "<tr><td>06040354T</td><td>206</td><td>Sára</td></tr>",
                            "<tr><td>06040355T</td><td>155</td><td>Béla</td></tr>",
                            "<tr><td>06040379T</td><td>93</td><td>Béla</td></tr>",
                            "<tr><td>06040380T</td><td>78</td><td>Sára</td></tr>",
                            "<tr><td>06040381T</td><td>103</td><td>Béla</td></tr>",
                            "<tr><td>06040382T</td><td>633</td><td>Béla</td></tr>",
                            "<tr><td>06040383T</td><td>19</td><td>Béla</td></tr>",
                            "<tr><td>06040384T</td><td>58</td><td>Béla</td></tr>",
                            "<tr><td>06040385T</td><td>96</td><td>Sára</td></tr>",
                            "<tr><td>06040392T</td><td>728</td><td>Sára</td></tr>",
                            "<tr><td>06040393T</td><td>765</td><td>Sára</td></tr>",
                            "<tr><td>06040394T</td><td>324</td><td>Béla</td></tr>",
                            "<tr><td>06040395T</td><td>728</td><td>Béla</td></tr>",
                            "<tr><td>06040396T</td><td>410</td><td>Béla</td></tr>",
                            "<tr><td>06040397T</td><td>655</td><td>Sára</td></tr>",
                            "<tr><td>06040398T</td><td>411</td><td>Sára</td></tr>",
                            "<tr><td>06040399T</td><td>125</td><td>Sára</td></tr>",
                            "<tr><td>06040400T</td><td>511</td><td>Sára</td></tr>",
                            "<tr><td>06040446T</td><td>1173</td><td>Sára</td></tr>",
                            "<tr><td>06050303T</td><td>161</td><td>Sára</td></tr>",
                            "<tr><td>06080116T</td><td>34</td><td>Béla</td></tr>",
                            "<tr><td>06080120T</td><td>23</td><td>Béla</td></tr>",
                            "<tr><td>06080121T</td><td>195</td><td>Béla</td></tr>",
                            "<tr><td>06080122T</td><td>19</td><td>Béla</td></tr>",
                            "<tr><td>06080123T</td><td>551</td><td>Sára</td></tr>",
                            "<tr><td>06080188T</td><td>875</td><td>Sára</td></tr>",
                            "<tr><td>06080189T</td><td>30</td><td>Sára</td></tr>",
                            "<tr><td>06080190T</td><td>23</td><td>Sára</td></tr>",
                            "<tr><td>06080191T</td><td>30</td><td>Sára</td></tr>",
                            "<tr><td>06080192T</td><td>70</td><td>Sára</td></tr>",
                            "<tr><td>06080193T</td><td>180</td><td>Sára</td></tr>",
                            "<tr><td>06080333T</td><td>119</td><td>Béla</td></tr>",
                            "<tr><td>06080337T</td><td>293</td><td>Sára</td></tr>",
                            "<tr><td>06080407T</td><td>249</td><td>Sára</td></tr>",
                            "<tr><td>06080408T</td><td>210</td><td>Sára</td></tr>",
                            "<tr><td>06080409T</td><td>180</td><td>Sára</td></tr>",
                            "<tr><td>06080410T</td><td>176</td><td>Béla</td></tr>",
                            "<tr><td>06080411T</td><td>58</td><td>Sára</td></tr>",
                            "<tr><td>06080412T</td><td>30</td><td>Sára</td></tr>",
                            "<tr><td>06080413T</td><td>30</td><td>Sára</td></tr>",
                            "<tr><td>06080424T</td><td>24</td><td>Béla</td></tr>",
                            "<tr><td>06080425T</td><td>8</td><td>Sára</td></tr>",
                            "<tr><td>06080427T</td><td>161</td><td>Sára</td></tr>",
                            "<tr><td>06080428T</td><td>180</td><td>Sára</td></tr>",
                            "<tr><td>06080429T</td><td>63</td><td>Sára</td></tr>",
                            "<tr><td>06080430T</td><td>74</td><td>Béla</td></tr>",
                            "<tr><td>06080440T</td><td>161</td><td>Béla</td></tr>",
                            "<tr><td>06080441T</td><td>121</td><td>Béla</td></tr>",
                            "<tr><td>07010136T</td><td>123</td><td>Béla</td></tr>",
                            "<tr><td>07010137T</td><td>48</td><td>Sára</td></tr>",
                            "<tr><td>07010140T</td><td>23</td><td>Béla</td></tr>",
                            "<tr><td>07010141T</td><td>15</td><td>Béla</td></tr>",
                            "<tr><td>07010144T</td><td>89</td><td>Béla</td></tr>",
                            "<tr><td>07010244T</td><td>74</td><td>Béla</td></tr>",
                            "<tr><td>07010371T</td><td>99</td><td>Sára</td></tr>",
                            "<tr><td>07010372T</td><td>161</td><td>Sára</td></tr>",
                            "<tr><td>07030103T</td><td>53</td><td>Béla</td></tr>",
                            "<tr><td>07030104T</td><td>76</td><td>Sára</td></tr>",
                            "<tr><td>07030105T</td><td>114</td><td>Sára</td></tr>",
                            "<tr><td>07040052T</td><td>53</td><td>Sára</td></tr>",
                            "<tr><td>07040053T</td><td>23</td><td>Sára</td></tr>",
                            "<tr><td>07040055T</td><td>59</td><td>Sára</td></tr>",
                            "<tr><td>07040056T</td><td>40</td><td>Sára</td></tr>",
                            "<tr><td>07040057T</td><td>106</td><td>Sára</td></tr>",
                            "<tr><td>07040058T</td><td>11</td><td>Sára</td></tr>",
                            "<tr><td>07040059T</td><td>58</td><td>Sára</td></tr>",
                            "<tr><td>07040060T</td><td>36</td><td>Sára</td></tr>",
                            "<tr><td>07040061T</td><td>44</td><td>Sára</td></tr>",
                            "<tr><td>07040097T</td><td>26</td><td>Béla</td></tr>",
                            "<tr><td>07040098T</td><td>278</td><td>Béla</td></tr>",
                            "<tr><td>07040099T</td><td>434</td><td>Sára</td></tr>",
                            "<tr><td>07040100T</td><td>390</td><td>Sára</td></tr>",
                            "<tr><td>07040101T</td><td>140</td><td>Sára</td></tr>",
                            "<tr><td>07040102T</td><td>46</td><td>Sára</td></tr>",
                            "<tr><td>07040127T</td><td>30</td><td>Sára</td></tr>",
                            "<tr><td>07040128T</td><td>55</td><td>Béla</td></tr>",
                            "<tr><td>07040129T</td><td>30</td><td>Béla</td></tr>",
                            "<tr><td>07040130T</td><td>80</td><td>Béla</td></tr>",
                            "<tr><td>07040133T</td><td>39</td><td>Sára</td></tr>",
                            "<tr><td>07040134T</td><td>44</td><td>Béla</td></tr>",
                            "<tr><td>07040165T</td><td>218</td><td>Sára</td></tr>",
                            "<tr><td>07040166T</td><td>455</td><td>Béla</td></tr>",
                            "<tr><td>07040167T</td><td>655</td><td>Béla</td></tr>",
                            "<tr><td>07040168T</td><td>189</td><td>Béla</td></tr>",
                            "<tr><td>07040169T</td><td>94</td><td>Béla</td></tr>",
                            "<tr><td>07040215T</td><td>74</td><td>Béla</td></tr>",
                            "<tr><td>07040217T</td><td>59</td><td>Béla</td></tr>",
                            "<tr><td>07040218T</td><td>23</td><td>Béla</td></tr>",
                            "<tr><td>07040219T</td><td>78</td><td>Béla</td></tr>",
                            "<tr><td>07050463T</td><td>36</td><td>Sára</td></tr>",
                            "<tr><td>07050464T</td><td>140</td><td>Sára</td></tr>",
                            "<tr><td>07080062T</td><td>146</td><td>Sára</td></tr>",
                            "<tr><td>07080063T</td><td>35</td><td>Sára</td></tr>",
                            "<tr><td>07080064T</td><td>40</td><td>Béla</td></tr>",
                            "<tr><td>07080065T</td><td>11</td><td>Béla</td></tr>",
                            "<tr><td>07080150T</td><td>51</td><td>Béla</td></tr>",
                            "<tr><td>07080151T</td><td>390</td><td>Béla</td></tr>",
                            "<tr><td>07080152T</td><td>1019</td><td>Béla</td></tr>",
                            "<tr><td>07080153T</td><td>41</td><td>Béla</td></tr>",
                            "<tr><td>07080154T</td><td>401</td><td>Béla</td></tr>",
                            "<tr><td>07080155T</td><td>33</td><td>Béla</td></tr>",
                            "<tr><td>07080156T</td><td>23</td><td>Béla</td></tr>",
                            "<tr><td>07080157T</td><td>93</td><td>Béla</td></tr>",
                            "<tr><td>07080158T</td><td>773</td><td>Béla</td></tr>",
                            "<tr><td>07080159T</td><td>63</td><td>Béla</td></tr>",
                            "<tr><td>07080160T</td><td>239</td><td>Béla</td></tr>",
                            "<tr><td>07080161T</td><td>44</td><td>Béla</td></tr>",
                            "<tr><td>07080316T</td><td>468</td><td>Sára</td></tr>",
                            "<tr><td>07080317T</td><td>59</td><td>Béla</td></tr>",
                            "<tr><td>07080318T</td><td>235</td><td>Béla</td></tr>",
                            "<tr><td>07080319T</td><td>299</td><td>Béla</td></tr>",
                            "<tr><td>07080418T</td><td>95</td><td>Béla</td></tr>",
                            "<tr><td>07080419T</td><td>66</td><td>Sára</td></tr>",
                            "<tr><td>07080466T</td><td>81</td><td>Sára</td></tr>",
                            "<tr><td>07080467T</td><td>273</td><td>Sára</td></tr>",
                            "<tr><td>07080468T</td><td>110</td><td>Sára</td></tr>",
                            "<tr><td>07080469T</td><td>364</td><td>Sára</td></tr>",
                            "<tr><td>07080470T</td><td>188</td><td>Sára</td></tr>",
                            "<tr><td>07080471T</td><td>294</td><td>Béla</td></tr>",
                            "<tr><td>08070472T</td><td>1089</td><td>Béla</td></tr>",
                            "<tr><td>08070474T</td><td>1089</td><td>Béla</td></tr>",
                            "<tr><td>08070475T</td><td>440</td><td>Béla</td></tr>",
                            "<tr><td>08070476T</td><td>293</td><td>Béla</td></tr>",
                            "<tr><td>08070477T</td><td>353</td><td>Sára</td></tr>",
                            "<tr><td>08070478T</td><td>785</td><td>Béla</td></tr>",
                            "<tr><td>08070479T</td><td>674</td><td>Béla</td></tr>",
                            "<tr><td>08070480T</td><td>308</td><td>Béla</td></tr>",
                            "<tr><td>08070481T</td><td>198</td><td>Béla</td></tr>",
                            "<tr><td>08070483T</td><td>324</td><td>Béla</td></tr>",
                            "<tr><td>08070484T</td><td>345</td><td>Béla</td></tr>",
                            "<tr><td>08070485T</td><td>291</td><td>Béla</td></tr>",
                            "<tr><td>08070486T</td><td>403</td><td>Béla</td></tr>",
                            "<tr><td>08070490T</td><td>691</td><td>Sára</td></tr>",
                            "<tr><td>08070491T</td><td>214</td><td>Sára</td></tr>",
                            "<tr><td>08070492T</td><td>735</td><td>Sára</td></tr>",
                            "<tr><td>08070493T</td><td>720</td><td>Sára</td></tr>",
                            "<tr><td>08070494T</td><td>440</td><td>Sára</td></tr>",
                            "<tr><td>08070495T</td><td>440</td><td>Sára</td></tr>",
                            "<tr><td>F001-KB101</td><td>22000</td><td>Sára</td></tr>",
                            "<tr><td>F007-NA201</td><td>7890</td><td>Sára</td></tr>",
                            "<tr><td>F013-NA207</td><td>11900</td><td>Sára</td></tr>",
                            "<tr><td>G001-KB101</td><td>8900</td><td>Sára</td></tr>",
                            "<tr><td>G013-NA201</td><td>4990</td><td>Sára</td></tr>",
                            "<tr><td>G019-NA207</td><td>1290</td><td>Sára</td></tr>",
                            "<tr><td>G023-FE301</td><td>390</td><td>Sára</td></tr>",
                            "<tr><td>G029-FE307</td><td>240</td><td>Sára</td></tr>",
                            "<tr><td>G038-FE316</td><td>990</td><td>Sára</td></tr>",
                            "<tr><td>G064-CI401</td><td>6900</td><td>Sára</td></tr>",
                            "<tr><td>G073-CI410</td><td>7900</td><td>Sára</td></tr>",
                            "<tr><td>G082-CI419</td><td>8000</td><td>Sára</td></tr>",
                            "<tr><td>L001-KB101</td><td>8900</td><td>Sára</td></tr>",
                            "<tr><td>L013-NA201</td><td>4990</td><td>Béla</td></tr>",
                            "<tr><td>L023-FE301</td><td>390</td><td>Béla</td></tr>",
                            "<tr><td>L029-FE307</td><td>240</td><td>Béla</td></tr>",
                            "<tr><td>L033-FE311</td><td>990</td><td>Sára</td></tr>",
                            "<tr><td>L041-AL211</td><td>16900</td><td>Sára</td></tr>",
                            "<tr><td>L048-PO218</td><td>3900</td><td>Sára</td></tr>",
                            "<tr><td>L073-CI410</td><td>7900</td><td>Sára</td></tr>",
                            "<tr><td>L082-CI419</td><td>8000</td><td>Sára</td></tr>",
                            "<tr><td>N001-KB101</td><td>24000</td><td>Béla</td></tr>",
                            "<tr><td>N035-AL218</td><td>39000</td><td>Sára</td></tr>",
                            "</table>"
                        ]
                    }
                }
            ],
            "execution_count": 124
        },
        {
            "cell_type": "markdown",
            "source": [
                "**9\\. Lekérdezés**: Termékek száma, átlagos ár meghatározása hónapokra lebontva"
            ],
            "metadata": {
                "azdata_cell_guid": "aea9b495-04c1-45e6-b98b-f305c4b0ca99"
            },
            "attachments": {}
        },
        {
            "cell_type": "code",
            "source": [
                "SELECT MONTH(FELVITEL) AS 'Hónap száma', \r\n",
                "       COUNT(*) AS 'Termékek száma', \r\n",
                "       ROUND(AVG(LISTAAR), 1) As 'Termékek átlagos ára (Ft)'\r\n",
                "FROM Termek\r\n",
                "GROUP BY MONTH(FELVITEL)\r\n",
                "ORDER BY MONTH(FELVITEL) ASC"
            ],
            "metadata": {
                "azdata_cell_guid": "b7fe3577-b0df-4dca-b63d-ccad186919ec",
                "language": "sql"
            },
            "outputs": [
                {
                    "output_type": "display_data",
                    "data": {
                        "text/html": "(4 rows affected)"
                    },
                    "metadata": {}
                },
                {
                    "output_type": "display_data",
                    "data": {
                        "text/html": "Total execution time: 00:00:00.720"
                    },
                    "metadata": {}
                },
                {
                    "output_type": "execute_result",
                    "metadata": {},
                    "execution_count": 117,
                    "data": {
                        "application/vnd.dataresource+json": {
                            "schema": {
                                "fields": [
                                    {
                                        "name": "Hónap száma"
                                    },
                                    {
                                        "name": "Termékek száma"
                                    },
                                    {
                                        "name": "Termékek átlagos ára (Ft)"
                                    }
                                ]
                            },
                            "data": [
                                {
                                    "Hónap száma": "7",
                                    "Termékek száma": "355",
                                    "Termékek átlagos ára (Ft)": "773,2"
                                },
                                {
                                    "Hónap száma": "8",
                                    "Termékek száma": "194",
                                    "Termékek átlagos ára (Ft)": "816,4"
                                },
                                {
                                    "Hónap száma": "9",
                                    "Termékek száma": "1",
                                    "Termékek átlagos ára (Ft)": "353"
                                },
                                {
                                    "Hónap száma": "12",
                                    "Termékek száma": "1",
                                    "Termékek átlagos ára (Ft)": "12"
                                }
                            ]
                        },
                        "text/html": [
                            "<table>",
                            "<tr><th>Hónap száma</th><th>Termékek száma</th><th>Termékek átlagos ára (Ft)</th></tr>",
                            "<tr><td>7</td><td>355</td><td>773,2</td></tr>",
                            "<tr><td>8</td><td>194</td><td>816,4</td></tr>",
                            "<tr><td>9</td><td>1</td><td>353</td></tr>",
                            "<tr><td>12</td><td>1</td><td>12</td></tr>",
                            "</table>"
                        ]
                    }
                }
            ],
            "execution_count": 117
        },
        {
            "cell_type": "markdown",
            "source": [
                "**10\\. Lekérdezés**: Termékek csoportosítása leírás szerint"
            ],
            "metadata": {
                "azdata_cell_guid": "a07e8f4a-08ce-4c33-83ec-b588f51c2eea"
            },
            "attachments": {}
        },
        {
            "cell_type": "code",
            "source": [
                "SELECT\r\n",
                "CASE WHEN LEIRAS IS NULL THEN 'Nincs leírás'\r\n",
                "ELSE 'Van leírás'\r\n",
                "END AS 'LEIRAS',\r\n",
                "COUNT(*) AS 'Darabszám',\r\n",
                "ROUND((COUNT(*) * 100.0 / (SELECT COUNT(*) FROM Termek)), 1) As '%-ban kifejezve'\r\n",
                "FROM Termek\r\n",
                "GROUP BY CASE WHEN LEIRAS IS NULL THEN 'Nincs leírás' ELSE 'Van leírás' END;"
            ],
            "metadata": {
                "azdata_cell_guid": "9b2911ea-75b5-48cb-8715-297344c7e19d",
                "language": "sql",
                "tags": []
            },
            "outputs": [
                {
                    "output_type": "display_data",
                    "data": {
                        "text/html": "(2 rows affected)"
                    },
                    "metadata": {}
                },
                {
                    "output_type": "display_data",
                    "data": {
                        "text/html": "Total execution time: 00:00:00.048"
                    },
                    "metadata": {}
                },
                {
                    "output_type": "execute_result",
                    "metadata": {},
                    "execution_count": 132,
                    "data": {
                        "application/vnd.dataresource+json": {
                            "schema": {
                                "fields": [
                                    {
                                        "name": "LEIRAS"
                                    },
                                    {
                                        "name": "Darabszám"
                                    },
                                    {
                                        "name": "%-ban kifejezve"
                                    }
                                ]
                            },
                            "data": [
                                {
                                    "LEIRAS": "Nincs leírás",
                                    "Darabszám": "527",
                                    "%-ban kifejezve": "95.600000000000"
                                },
                                {
                                    "LEIRAS": "Van leírás",
                                    "Darabszám": "24",
                                    "%-ban kifejezve": "4.400000000000"
                                }
                            ]
                        },
                        "text/html": [
                            "<table>",
                            "<tr><th>LEIRAS</th><th>Darabszám</th><th>%-ban kifejezve</th></tr>",
                            "<tr><td>Nincs leírás</td><td>527</td><td>95.600000000000</td></tr>",
                            "<tr><td>Van leírás</td><td>24</td><td>4.400000000000</td></tr>",
                            "</table>"
                        ]
                    }
                }
            ],
            "execution_count": 132
        }
    ]
}