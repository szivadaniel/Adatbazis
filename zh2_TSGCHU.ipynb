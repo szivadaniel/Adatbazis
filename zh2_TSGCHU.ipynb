{
    "metadata": {
        "kernelspec": {
            "name": "SQL",
            "display_name": "SQL",
            "language": "sql"
        },
        "language_info": {
            "name": "sql",
            "version": ""
        }
    },
    "nbformat_minor": 2,
    "nbformat": 4,
    "cells": [
        {
            "cell_type": "code",
            "source": [
                "SELECT IIF(GROUPING(sz.SZOBA_SZAMA), 'Részösszeg', 0),\r\n",
                "       YEAR(Mettol),\r\n",
                "       COUNT(*)\r\n",
                "FROM FOGLALAS f LEFT JOIN SZOBA sz ON f.SZOBA_FK = sz.Szoba_ID\r\n",
                "GROUP BY ROLLUP(sz.SZOBA_SZAMA, YEAR(Mettol))\r\n",
                ""
            ],
            "metadata": {
                "azdata_cell_guid": "abee08fa-5d66-42f8-aa10-6e4560023f77",
                "language": "sql"
            },
            "outputs": [],
            "execution_count": null
        },
        {
            "cell_type": "code",
            "source": [
                "SELECT  v.NEV\r\n",
                "FROM Vendeg v JOIN Foglalas f ON v.USERNEV = f.UGYFEL_FK\r\n",
                "WHERE AVG(FELNOTT_SZAM + GYERMEK_SZAM) <\r\n",
                "(\r\n",
                "    SELECT *\r\n",
                "    FROM Vendeg v JOIN Foglalas f ON v.USERNEV = f.UGYFEL_FK \r\n",
                "    LAG(f.FOGLALAS_PK, 3, 0) OVER(ORDER BY F:FOGLALAS_PK, ORDER BY Mettol)\r\n",
                "\r\n",
                ")"
            ],
            "metadata": {
                "azdata_cell_guid": "ef11fd89-8d81-4045-96f5-2c039f901410",
                "language": "sql"
            },
            "outputs": [],
            "execution_count": null
        }
    ]
}