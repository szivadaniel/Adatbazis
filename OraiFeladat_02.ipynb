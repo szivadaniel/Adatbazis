{
    "metadata": {
        "kernelspec": {
            "name": "SQL",
            "display_name": "SQL",
            "language": "sql"
        },
        "language_info": {
            "name": "sql",
            "version": ""
        }
    },
    "nbformat_minor": 2,
    "nbformat": 4,
    "cells": [
        {
            "cell_type": "code",
            "source": [
                "SELECT USERNEV,\r\n",
                "        UPPER(LEFT(Nev, 1) + RIGHT(Nev, 1))  'Monogram'\r\n",
                "FROM Vendeg\r\n",
                "WHERE RIGHT(EMAIL, 3) =  '.hu'\r\n",
                ""
            ],
            "metadata": {
                "azdata_cell_guid": "5327f10f-1578-462a-b533-a5fe04ff6fb3",
                "language": "sql",
                "tags": []
            },
            "outputs": [
                {
                    "output_type": "display_data",
                    "data": {
                        "text/html": "(107 rows affected)"
                    },
                    "metadata": {}
                },
                {
                    "output_type": "display_data",
                    "data": {
                        "text/html": "Total execution time: 00:00:00.004"
                    },
                    "metadata": {}
                },
                {
                    "output_type": "execute_result",
                    "metadata": {},
                    "execution_count": 15,
                    "data": {
                        "application/vnd.dataresource+json": {
                            "schema": {
                                "fields": [
                                    {
                                        "name": "USERNEV"
                                    },
                                    {
                                        "name": "Monogram"
                                    }
                                ]
                            },
                            "data": [
                                {
                                    "USERNEV": "adam1",
                                    "Monogram": "KM"
                                },
                                {
                                    "USERNEV": "adam4",
                                    "Monogram": "BM"
                                },
                                {
                                    "USERNEV": "akos",
                                    "Monogram": "BS"
                                },
                                {
                                    "USERNEV": "aladar",
                                    "Monogram": "DR"
                                },
                                {
                                    "USERNEV": "alexandra",
                                    "Monogram": "BA"
                                },
                                {
                                    "USERNEV": "andi",
                                    "Monogram": "MA"
                                },
                                {
                                    "USERNEV": "andras2",
                                    "Monogram": "TS"
                                },
                                {
                                    "USERNEV": "andras21",
                                    "Monogram": "MS"
                                },
                                {
                                    "USERNEV": "andras3",
                                    "Monogram": "VS"
                                },
                                {
                                    "USERNEV": "ANDRASN",
                                    "Monogram": "NS"
                                },
                                {
                                    "USERNEV": "andrea",
                                    "Monogram": "KA"
                                },
                                {
                                    "USERNEV": "anett3",
                                    "Monogram": "PT"
                                },
                                {
                                    "USERNEV": "anita",
                                    "Monogram": "HA"
                                },
                                {
                                    "USERNEV": "annamaria1",
                                    "Monogram": "SA"
                                },
                                {
                                    "USERNEV": "ARONK",
                                    "Monogram": "KN"
                                },
                                {
                                    "USERNEV": "arpad2",
                                    "Monogram": "ÖD"
                                },
                                {
                                    "USERNEV": "ARPADH",
                                    "Monogram": "HD"
                                },
                                {
                                    "USERNEV": "ARPADM",
                                    "Monogram": "MD"
                                },
                                {
                                    "USERNEV": "attila1",
                                    "Monogram": "GA"
                                },
                                {
                                    "USERNEV": "attila4",
                                    "Monogram": "BA"
                                },
                                {
                                    "USERNEV": "balazs1",
                                    "Monogram": "BS"
                                },
                                {
                                    "USERNEV": "balazs2",
                                    "Monogram": "SS"
                                },
                                {
                                    "USERNEV": "balu",
                                    "Monogram": "ET"
                                },
                                {
                                    "USERNEV": "beata4",
                                    "Monogram": "BA"
                                },
                                {
                                    "USERNEV": "BEATRIXK",
                                    "Monogram": "KX"
                                },
                                {
                                    "USERNEV": "BEATRIXS",
                                    "Monogram": "SX"
                                },
                                {
                                    "USERNEV": "BENCEB",
                                    "Monogram": "BE"
                                },
                                {
                                    "USERNEV": "bernadett2",
                                    "Monogram": "KT"
                                },
                                {
                                    "USERNEV": "BERNADETTO",
                                    "Monogram": "OT"
                                },
                                {
                                    "USERNEV": "brigitta",
                                    "Monogram": "SA"
                                },
                                {
                                    "USERNEV": "brigitta3",
                                    "Monogram": "PA"
                                },
                                {
                                    "USERNEV": "csongor3",
                                    "Monogram": "NR"
                                },
                                {
                                    "USERNEV": "daniel",
                                    "Monogram": "RL"
                                },
                                {
                                    "USERNEV": "daniel1",
                                    "Monogram": "KL"
                                },
                                {
                                    "USERNEV": "debora",
                                    "Monogram": "BA"
                                },
                                {
                                    "USERNEV": "dora3",
                                    "Monogram": "SA"
                                },
                                {
                                    "USERNEV": "edit",
                                    "Monogram": "BT"
                                },
                                {
                                    "USERNEV": "emese",
                                    "Monogram": "KE"
                                },
                                {
                                    "USERNEV": "eszter",
                                    "Monogram": "MR"
                                },
                                {
                                    "USERNEV": "eszter2",
                                    "Monogram": "BR"
                                },
                                {
                                    "USERNEV": "eszter4",
                                    "Monogram": "FR"
                                },
                                {
                                    "USERNEV": "ESZTERE",
                                    "Monogram": "ÉR"
                                },
                                {
                                    "USERNEV": "ferenc1",
                                    "Monogram": "OC"
                                },
                                {
                                    "USERNEV": "gabor4",
                                    "Monogram": "TR"
                                },
                                {
                                    "USERNEV": "georgij",
                                    "Monogram": "NJ"
                                },
                                {
                                    "USERNEV": "GYONGYIK",
                                    "Monogram": "KI"
                                },
                                {
                                    "USERNEV": "henrik3",
                                    "Monogram": "NK"
                                },
                                {
                                    "USERNEV": "IBOLYAA",
                                    "Monogram": "AA"
                                },
                                {
                                    "USERNEV": "imre",
                                    "Monogram": "BE"
                                },
                                {
                                    "USERNEV": "imre1",
                                    "Monogram": "PE"
                                },
                                {
                                    "USERNEV": "istvan1",
                                    "Monogram": "VN"
                                },
                                {
                                    "USERNEV": "jozsef2",
                                    "Monogram": "VF"
                                },
                                {
                                    "USERNEV": "JOZSEFG",
                                    "Monogram": "GF"
                                },
                                {
                                    "USERNEV": "kata",
                                    "Monogram": "GN"
                                },
                                {
                                    "USERNEV": "katalin",
                                    "Monogram": "HN"
                                },
                                {
                                    "USERNEV": "kati",
                                    "Monogram": "ZN"
                                },
                                {
                                    "USERNEV": "katka",
                                    "Monogram": "KN"
                                },
                                {
                                    "USERNEV": "klaudia2",
                                    "Monogram": "BA"
                                },
                                {
                                    "USERNEV": "kornel4",
                                    "Monogram": "LL"
                                },
                                {
                                    "USERNEV": "krisztian4",
                                    "Monogram": "CN"
                                },
                                {
                                    "USERNEV": "krisztina1",
                                    "Monogram": "BA"
                                },
                                {
                                    "USERNEV": "lajos",
                                    "Monogram": "KS"
                                },
                                {
                                    "USERNEV": "lala",
                                    "Monogram": "NS"
                                },
                                {
                                    "USERNEV": "laszlo1",
                                    "Monogram": "FÓ"
                                },
                                {
                                    "USERNEV": "laszlo2",
                                    "Monogram": "MÓ"
                                },
                                {
                                    "USERNEV": "LASZLOA",
                                    "Monogram": "AÓ"
                                },
                                {
                                    "USERNEV": "LASZLON",
                                    "Monogram": "NÓ"
                                },
                                {
                                    "USERNEV": "maria1",
                                    "Monogram": "BA"
                                },
                                {
                                    "USERNEV": "mark",
                                    "Monogram": "KK"
                                },
                                {
                                    "USERNEV": "MARKH",
                                    "Monogram": "HK"
                                },
                                {
                                    "USERNEV": "MATEK",
                                    "Monogram": "KÉ"
                                },
                                {
                                    "USERNEV": "MATYASS",
                                    "Monogram": "SS"
                                },
                                {
                                    "USERNEV": "MIHALYJ",
                                    "Monogram": "JY"
                                },
                                {
                                    "USERNEV": "MIKLOSB",
                                    "Monogram": "BS"
                                },
                                {
                                    "USERNEV": "MONIKAM",
                                    "Monogram": "MA"
                                },
                                {
                                    "USERNEV": "NANDORF",
                                    "Monogram": "FR"
                                },
                                {
                                    "USERNEV": "NIKOLETTAT",
                                    "Monogram": "TA"
                                },
                                {
                                    "USERNEV": "norbert2",
                                    "Monogram": "HT"
                                },
                                {
                                    "USERNEV": "pal",
                                    "Monogram": "BL"
                                },
                                {
                                    "USERNEV": "peter4",
                                    "Monogram": "BR"
                                },
                                {
                                    "USERNEV": "PETERB",
                                    "Monogram": "BR"
                                },
                                {
                                    "USERNEV": "rajmond4",
                                    "Monogram": "RD"
                                },
                                {
                                    "USERNEV": "reka4",
                                    "Monogram": "SA"
                                },
                                {
                                    "USERNEV": "RENATAK",
                                    "Monogram": "KA"
                                },
                                {
                                    "USERNEV": "ROBERTI",
                                    "Monogram": "IT"
                                },
                                {
                                    "USERNEV": "roland1",
                                    "Monogram": "FD"
                                },
                                {
                                    "USERNEV": "sandor3",
                                    "Monogram": "FR"
                                },
                                {
                                    "USERNEV": "sara",
                                    "Monogram": "FA"
                                },
                                {
                                    "USERNEV": "szabolcs",
                                    "Monogram": "BS"
                                },
                                {
                                    "USERNEV": "SZABOLCSM",
                                    "Monogram": "MS"
                                },
                                {
                                    "USERNEV": "SZILARDS",
                                    "Monogram": "SD"
                                },
                                {
                                    "USERNEV": "szilvia1",
                                    "Monogram": "TA"
                                },
                                {
                                    "USERNEV": "tamara2",
                                    "Monogram": "MA"
                                },
                                {
                                    "USERNEV": "tamas",
                                    "Monogram": "AS"
                                },
                                {
                                    "USERNEV": "tibor",
                                    "Monogram": "GR"
                                },
                                {
                                    "USERNEV": "tihamer",
                                    "Monogram": "KR"
                                },
                                {
                                    "USERNEV": "timea2",
                                    "Monogram": "DA"
                                },
                                {
                                    "USERNEV": "valentin",
                                    "Monogram": "FN"
                                },
                                {
                                    "USERNEV": "VIKTORIAU",
                                    "Monogram": "UA"
                                },
                                {
                                    "USERNEV": "VIKTORK",
                                    "Monogram": "KR"
                                },
                                {
                                    "USERNEV": "zoltan",
                                    "Monogram": "FN"
                                },
                                {
                                    "USERNEV": "ZOLTANP",
                                    "Monogram": "PN"
                                },
                                {
                                    "USERNEV": "ZOLTANT",
                                    "Monogram": "TN"
                                },
                                {
                                    "USERNEV": "zsolt1",
                                    "Monogram": "PT"
                                },
                                {
                                    "USERNEV": "zsuzsa3",
                                    "Monogram": "VA"
                                },
                                {
                                    "USERNEV": "zsuzsanna",
                                    "Monogram": "BA"
                                },
                                {
                                    "USERNEV": "ZSUZSAV",
                                    "Monogram": "VA"
                                }
                            ]
                        },
                        "text/html": [
                            "<table>",
                            "<tr><th>USERNEV</th><th>Monogram</th></tr>",
                            "<tr><td>adam1</td><td>KM</td></tr>",
                            "<tr><td>adam4</td><td>BM</td></tr>",
                            "<tr><td>akos</td><td>BS</td></tr>",
                            "<tr><td>aladar</td><td>DR</td></tr>",
                            "<tr><td>alexandra</td><td>BA</td></tr>",
                            "<tr><td>andi</td><td>MA</td></tr>",
                            "<tr><td>andras2</td><td>TS</td></tr>",
                            "<tr><td>andras21</td><td>MS</td></tr>",
                            "<tr><td>andras3</td><td>VS</td></tr>",
                            "<tr><td>ANDRASN</td><td>NS</td></tr>",
                            "<tr><td>andrea</td><td>KA</td></tr>",
                            "<tr><td>anett3</td><td>PT</td></tr>",
                            "<tr><td>anita</td><td>HA</td></tr>",
                            "<tr><td>annamaria1</td><td>SA</td></tr>",
                            "<tr><td>ARONK</td><td>KN</td></tr>",
                            "<tr><td>arpad2</td><td>ÖD</td></tr>",
                            "<tr><td>ARPADH</td><td>HD</td></tr>",
                            "<tr><td>ARPADM</td><td>MD</td></tr>",
                            "<tr><td>attila1</td><td>GA</td></tr>",
                            "<tr><td>attila4</td><td>BA</td></tr>",
                            "<tr><td>balazs1</td><td>BS</td></tr>",
                            "<tr><td>balazs2</td><td>SS</td></tr>",
                            "<tr><td>balu</td><td>ET</td></tr>",
                            "<tr><td>beata4</td><td>BA</td></tr>",
                            "<tr><td>BEATRIXK</td><td>KX</td></tr>",
                            "<tr><td>BEATRIXS</td><td>SX</td></tr>",
                            "<tr><td>BENCEB</td><td>BE</td></tr>",
                            "<tr><td>bernadett2</td><td>KT</td></tr>",
                            "<tr><td>BERNADETTO</td><td>OT</td></tr>",
                            "<tr><td>brigitta</td><td>SA</td></tr>",
                            "<tr><td>brigitta3</td><td>PA</td></tr>",
                            "<tr><td>csongor3</td><td>NR</td></tr>",
                            "<tr><td>daniel</td><td>RL</td></tr>",
                            "<tr><td>daniel1</td><td>KL</td></tr>",
                            "<tr><td>debora</td><td>BA</td></tr>",
                            "<tr><td>dora3</td><td>SA</td></tr>",
                            "<tr><td>edit</td><td>BT</td></tr>",
                            "<tr><td>emese</td><td>KE</td></tr>",
                            "<tr><td>eszter</td><td>MR</td></tr>",
                            "<tr><td>eszter2</td><td>BR</td></tr>",
                            "<tr><td>eszter4</td><td>FR</td></tr>",
                            "<tr><td>ESZTERE</td><td>ÉR</td></tr>",
                            "<tr><td>ferenc1</td><td>OC</td></tr>",
                            "<tr><td>gabor4</td><td>TR</td></tr>",
                            "<tr><td>georgij</td><td>NJ</td></tr>",
                            "<tr><td>GYONGYIK</td><td>KI</td></tr>",
                            "<tr><td>henrik3</td><td>NK</td></tr>",
                            "<tr><td>IBOLYAA</td><td>AA</td></tr>",
                            "<tr><td>imre</td><td>BE</td></tr>",
                            "<tr><td>imre1</td><td>PE</td></tr>",
                            "<tr><td>istvan1</td><td>VN</td></tr>",
                            "<tr><td>jozsef2</td><td>VF</td></tr>",
                            "<tr><td>JOZSEFG</td><td>GF</td></tr>",
                            "<tr><td>kata</td><td>GN</td></tr>",
                            "<tr><td>katalin</td><td>HN</td></tr>",
                            "<tr><td>kati</td><td>ZN</td></tr>",
                            "<tr><td>katka</td><td>KN</td></tr>",
                            "<tr><td>klaudia2</td><td>BA</td></tr>",
                            "<tr><td>kornel4</td><td>LL</td></tr>",
                            "<tr><td>krisztian4</td><td>CN</td></tr>",
                            "<tr><td>krisztina1</td><td>BA</td></tr>",
                            "<tr><td>lajos</td><td>KS</td></tr>",
                            "<tr><td>lala</td><td>NS</td></tr>",
                            "<tr><td>laszlo1</td><td>FÓ</td></tr>",
                            "<tr><td>laszlo2</td><td>MÓ</td></tr>",
                            "<tr><td>LASZLOA</td><td>AÓ</td></tr>",
                            "<tr><td>LASZLON</td><td>NÓ</td></tr>",
                            "<tr><td>maria1</td><td>BA</td></tr>",
                            "<tr><td>mark</td><td>KK</td></tr>",
                            "<tr><td>MARKH</td><td>HK</td></tr>",
                            "<tr><td>MATEK</td><td>KÉ</td></tr>",
                            "<tr><td>MATYASS</td><td>SS</td></tr>",
                            "<tr><td>MIHALYJ</td><td>JY</td></tr>",
                            "<tr><td>MIKLOSB</td><td>BS</td></tr>",
                            "<tr><td>MONIKAM</td><td>MA</td></tr>",
                            "<tr><td>NANDORF</td><td>FR</td></tr>",
                            "<tr><td>NIKOLETTAT</td><td>TA</td></tr>",
                            "<tr><td>norbert2</td><td>HT</td></tr>",
                            "<tr><td>pal</td><td>BL</td></tr>",
                            "<tr><td>peter4</td><td>BR</td></tr>",
                            "<tr><td>PETERB</td><td>BR</td></tr>",
                            "<tr><td>rajmond4</td><td>RD</td></tr>",
                            "<tr><td>reka4</td><td>SA</td></tr>",
                            "<tr><td>RENATAK</td><td>KA</td></tr>",
                            "<tr><td>ROBERTI</td><td>IT</td></tr>",
                            "<tr><td>roland1</td><td>FD</td></tr>",
                            "<tr><td>sandor3</td><td>FR</td></tr>",
                            "<tr><td>sara</td><td>FA</td></tr>",
                            "<tr><td>szabolcs</td><td>BS</td></tr>",
                            "<tr><td>SZABOLCSM</td><td>MS</td></tr>",
                            "<tr><td>SZILARDS</td><td>SD</td></tr>",
                            "<tr><td>szilvia1</td><td>TA</td></tr>",
                            "<tr><td>tamara2</td><td>MA</td></tr>",
                            "<tr><td>tamas</td><td>AS</td></tr>",
                            "<tr><td>tibor</td><td>GR</td></tr>",
                            "<tr><td>tihamer</td><td>KR</td></tr>",
                            "<tr><td>timea2</td><td>DA</td></tr>",
                            "<tr><td>valentin</td><td>FN</td></tr>",
                            "<tr><td>VIKTORIAU</td><td>UA</td></tr>",
                            "<tr><td>VIKTORK</td><td>KR</td></tr>",
                            "<tr><td>zoltan</td><td>FN</td></tr>",
                            "<tr><td>ZOLTANP</td><td>PN</td></tr>",
                            "<tr><td>ZOLTANT</td><td>TN</td></tr>",
                            "<tr><td>zsolt1</td><td>PT</td></tr>",
                            "<tr><td>zsuzsa3</td><td>VA</td></tr>",
                            "<tr><td>zsuzsanna</td><td>BA</td></tr>",
                            "<tr><td>ZSUZSAV</td><td>VA</td></tr>",
                            "</table>"
                        ]
                    }
                }
            ],
            "execution_count": 15
        },
        {
            "cell_type": "code",
            "source": [
                "SELECT SZALLAS_ID,\r\n",
                "       SZALLAS_NEV,\r\n",
                "       HELY,\r\n",
                "       DATEDIFF(DAY, ROGZ_IDO. GETDATE() )\r\n",
                "FROM szallashely\r\n",
                "WHERE TIPUS <> 'panzió' AND\r\n",
                "      TIPUS <> 'vendégház'"
            ],
            "metadata": {
                "azdata_cell_guid": "1d064cc2-6142-45c9-bbc6-d8fa1bcdbd45",
                "language": "sql"
            },
            "outputs": [
                {
                    "output_type": "error",
                    "evalue": "Msg 174, Level 15, State 1, Line 4\r\nThe datediff function requires 3 argument(s).",
                    "ename": "",
                    "traceback": []
                },
                {
                    "output_type": "display_data",
                    "data": {
                        "text/html": "Total execution time: 00:00:00.005"
                    },
                    "metadata": {}
                }
            ],
            "execution_count": 16
        }
    ]
}